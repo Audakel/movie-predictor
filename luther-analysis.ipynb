{
 "cells": [
  {
   "cell_type": "markdown",
   "metadata": {},
   "source": [
    "**Question/need:** Can we predict the success (gross revenues, revenues per budget dollar, and/or oscar nominations) of proposed low-budget films (< $10 million) based on its characteristics? Are there different predictive characteristics for success in terms of gross revenues vs. oscar nominations? \n",
    "\n",
    "**Movie data:** I'm planning on using all movies (1980 - 2016) from boxofficemojo to investigate the impact of various characteristics on success. If I have time, I would also like to incorporate other variables, such as google searches and wikipedia page views, as well as critic and general public rating information from rottentomatoes. \n",
    "\n",
    "**Characteristics of each movie and/or other entities:** I'd like to investigate as many characteristics as possible during my first pass to determine which ones have the greatest predictive impact, and then dig in deeper to these characteristics. The features I'm most interested in are: genre, release date (month, if before a holiday weekend, if during Christmas holiday, if during summer), star power (a score that accounts for actors, director, and producers), production budget, and if there the movie has some preexisting popularity, either through a novel/play adaptation or if there's a prequel. I'll also investigate other features such as runtime, rating, and franchise, but I have a hunch that these will have a smaller impact. "
   ]
  },
  {
   "cell_type": "code",
   "execution_count": 542,
   "metadata": {
    "collapsed": false
   },
   "outputs": [
    {
     "data": {
      "text/plain": [
       "'TO DOS:\\n- clean up genres and rating\\n- adjust budget for inflation'"
      ]
     },
     "execution_count": 542,
     "metadata": {},
     "output_type": "execute_result"
    }
   ],
   "source": [
    "'''TO DOS:\n",
    "- oscars 3 model is the best w/ rsquared = 0.3\n",
    "features = ['r_rating', 'recat_genre', 'hw_season', 'theaters3', 'runtime_mins', 'dom_roi_log']\n",
    "ind = 'oscar_noms_log'\n",
    "\n",
    "- get actor and director nominated for oscars up to date of movie release\n",
    "- investigate interaction effects?\n",
    "'''"
   ]
  },
  {
   "cell_type": "code",
   "execution_count": 123,
   "metadata": {
    "collapsed": false
   },
   "outputs": [],
   "source": [
    "# storing\n",
    "import pickle\n",
    "\n",
    "# exploratory analysis\n",
    "import pandas as pd\n",
    "import numpy as np\n",
    "import matplotlib.pyplot as plt\n",
    "import seaborn as sns\n",
    "from datetime import datetime\n",
    "import re\n",
    "from pandas.tools.plotting import scatter_matrix\n",
    "import math\n",
    "\n",
    "# regression\n",
    "from patsy import dmatrices\n",
    "import statsmodels.api as sm\n",
    "import statsmodels.formula.api as smf\n",
    "from sklearn import linear_model\n",
    "from sklearn.linear_model import LinearRegression\n",
    "from sklearn import cross_validation\n",
    "from sklearn.metrics import mean_squared_error\n",
    "import scipy.stats as stats\n",
    "from sklearn.preprocessing import PolynomialFeatures\n",
    "\n",
    "from pprint import pprint\n",
    "\n",
    "%matplotlib inline"
   ]
  },
  {
   "cell_type": "markdown",
   "metadata": {},
   "source": [
    "### parse data"
   ]
  },
  {
   "cell_type": "markdown",
   "metadata": {},
   "source": [
    "First, let's load the movie data into a dataframe and check the quality of our data."
   ]
  },
  {
   "cell_type": "code",
   "execution_count": 39,
   "metadata": {
    "collapsed": false
   },
   "outputs": [],
   "source": [
    "with open('pickled_data/all-movies-data3.pkl', 'r') as picklefile:\n",
    "    all_movies_data = pickle.load(picklefile)"
   ]
  },
  {
   "cell_type": "code",
   "execution_count": 40,
   "metadata": {
    "collapsed": true
   },
   "outputs": [],
   "source": [
    "movies = pd.DataFrame(all_movies_data)"
   ]
  },
  {
   "cell_type": "markdown",
   "metadata": {},
   "source": [
    "Time to do some cleaning..."
   ]
  },
  {
   "cell_type": "code",
   "execution_count": 41,
   "metadata": {
    "collapsed": true
   },
   "outputs": [],
   "source": [
    "# rename cols\n",
    "movies.rename(columns = {'1-title': 'title', \n",
    "                         '2-release_date': 'release_date', \n",
    "                         '3-closing_date': 'closing_date'}, inplace = True)"
   ]
  },
  {
   "cell_type": "code",
   "execution_count": 42,
   "metadata": {
    "collapsed": true
   },
   "outputs": [
    {
     "data": {
      "text/html": [
       "<div>\n",
       "<table border=\"1\" class=\"dataframe\">\n",
       "  <thead>\n",
       "    <tr style=\"text-align: right;\">\n",
       "      <th></th>\n",
       "      <th>title</th>\n",
       "      <th>release_date</th>\n",
       "      <th>closing_date</th>\n",
       "      <th>actors</th>\n",
       "      <th>budget</th>\n",
       "      <th>director</th>\n",
       "      <th>distributor</th>\n",
       "      <th>dom_total_gross</th>\n",
       "      <th>domestic_total_adj_gross</th>\n",
       "      <th>genre</th>\n",
       "      <th>intl_total_gross</th>\n",
       "      <th>oscar_noms</th>\n",
       "      <th>oscar_wins</th>\n",
       "      <th>producers</th>\n",
       "      <th>rating</th>\n",
       "      <th>runtime_mins</th>\n",
       "      <th>theaters</th>\n",
       "      <th>url</th>\n",
       "      <th>writers</th>\n",
       "    </tr>\n",
       "  </thead>\n",
       "  <tbody>\n",
       "    <tr>\n",
       "      <th>0</th>\n",
       "      <td>The A-Team</td>\n",
       "      <td>2010-06-11</td>\n",
       "      <td>2010-09-16</td>\n",
       "      <td>[Liam Neeson, Bradley Cooper, Sharlto Copley, ...</td>\n",
       "      <td>110000000</td>\n",
       "      <td>[Joe Carnahan]</td>\n",
       "      <td>Fox</td>\n",
       "      <td>77222099</td>\n",
       "      <td>81884600</td>\n",
       "      <td>Action</td>\n",
       "      <td>177238796</td>\n",
       "      <td>0</td>\n",
       "      <td>0</td>\n",
       "      <td>[Ridley Scott, Tony Scott, Alex Young]</td>\n",
       "      <td>PG-13</td>\n",
       "      <td>117</td>\n",
       "      <td>3544</td>\n",
       "      <td>ateam.htm</td>\n",
       "      <td>[Skip Woods]</td>\n",
       "    </tr>\n",
       "    <tr>\n",
       "      <th>1</th>\n",
       "      <td>A.C.O.D.</td>\n",
       "      <td>2013-10-04</td>\n",
       "      <td>2013-11-07</td>\n",
       "      <td>[Adam Scott, Catherine O'Hara, Richard Jenkins...</td>\n",
       "      <td>NaN</td>\n",
       "      <td></td>\n",
       "      <td>The Film Arcade</td>\n",
       "      <td>175705</td>\n",
       "      <td>177400</td>\n",
       "      <td>Comedy</td>\n",
       "      <td>NaN</td>\n",
       "      <td>0</td>\n",
       "      <td>0</td>\n",
       "      <td>[Teddy Schwarzman]</td>\n",
       "      <td>PG-13</td>\n",
       "      <td>88</td>\n",
       "      <td>42</td>\n",
       "      <td>acod.htm</td>\n",
       "      <td></td>\n",
       "    </tr>\n",
       "    <tr>\n",
       "      <th>2</th>\n",
       "      <td>A.I. Artificial Intelligence</td>\n",
       "      <td>2001-06-29</td>\n",
       "      <td>NaT</td>\n",
       "      <td>[Haley Joel Osment, Frances O'Connor, Jude Law...</td>\n",
       "      <td>100000000</td>\n",
       "      <td>[Steven Spielberg]</td>\n",
       "      <td>Warner Bros.</td>\n",
       "      <td>78616689</td>\n",
       "      <td>117091600</td>\n",
       "      <td>Sci-Fi</td>\n",
       "      <td>235926552</td>\n",
       "      <td>2</td>\n",
       "      <td>0</td>\n",
       "      <td>[Kathleen Kennedy, Steven Spielberg]</td>\n",
       "      <td>PG-13</td>\n",
       "      <td>145</td>\n",
       "      <td>3242</td>\n",
       "      <td>ai.htm</td>\n",
       "      <td></td>\n",
       "    </tr>\n",
       "    <tr>\n",
       "      <th>3</th>\n",
       "      <td>Aaja Nachle</td>\n",
       "      <td>2007-11-30</td>\n",
       "      <td>2007-12-20</td>\n",
       "      <td></td>\n",
       "      <td>NaN</td>\n",
       "      <td></td>\n",
       "      <td>Yash Raj</td>\n",
       "      <td>484108</td>\n",
       "      <td>593200</td>\n",
       "      <td>Foreign</td>\n",
       "      <td>6773493</td>\n",
       "      <td>0</td>\n",
       "      <td>0</td>\n",
       "      <td></td>\n",
       "      <td>Unrated</td>\n",
       "      <td>145</td>\n",
       "      <td>66</td>\n",
       "      <td>aajanachle.htm</td>\n",
       "      <td></td>\n",
       "    </tr>\n",
       "    <tr>\n",
       "      <th>4</th>\n",
       "      <td>Aarakshan</td>\n",
       "      <td>2011-08-12</td>\n",
       "      <td>2011-09-22</td>\n",
       "      <td></td>\n",
       "      <td>NaN</td>\n",
       "      <td></td>\n",
       "      <td>Reliance Big Pictures</td>\n",
       "      <td>651096</td>\n",
       "      <td>691300</td>\n",
       "      <td>Foreign</td>\n",
       "      <td>651096</td>\n",
       "      <td>0</td>\n",
       "      <td>0</td>\n",
       "      <td></td>\n",
       "      <td>Unrated</td>\n",
       "      <td>NaN</td>\n",
       "      <td>91</td>\n",
       "      <td>aarakshan.htm</td>\n",
       "      <td></td>\n",
       "    </tr>\n",
       "  </tbody>\n",
       "</table>\n",
       "</div>"
      ],
      "text/plain": [
       "                          title release_date closing_date  \\\n",
       "0                    The A-Team   2010-06-11   2010-09-16   \n",
       "1                      A.C.O.D.   2013-10-04   2013-11-07   \n",
       "2  A.I. Artificial Intelligence   2001-06-29          NaT   \n",
       "3                   Aaja Nachle   2007-11-30   2007-12-20   \n",
       "4                     Aarakshan   2011-08-12   2011-09-22   \n",
       "\n",
       "                                              actors     budget  \\\n",
       "0  [Liam Neeson, Bradley Cooper, Sharlto Copley, ...  110000000   \n",
       "1  [Adam Scott, Catherine O'Hara, Richard Jenkins...        NaN   \n",
       "2  [Haley Joel Osment, Frances O'Connor, Jude Law...  100000000   \n",
       "3                                                           NaN   \n",
       "4                                                           NaN   \n",
       "\n",
       "             director            distributor  dom_total_gross  \\\n",
       "0      [Joe Carnahan]                    Fox         77222099   \n",
       "1                            The Film Arcade           175705   \n",
       "2  [Steven Spielberg]           Warner Bros.         78616689   \n",
       "3                                   Yash Raj           484108   \n",
       "4                      Reliance Big Pictures           651096   \n",
       "\n",
       "   domestic_total_adj_gross    genre  intl_total_gross  oscar_noms  \\\n",
       "0                  81884600   Action         177238796           0   \n",
       "1                    177400   Comedy               NaN           0   \n",
       "2                 117091600   Sci-Fi         235926552           2   \n",
       "3                    593200  Foreign           6773493           0   \n",
       "4                    691300  Foreign            651096           0   \n",
       "\n",
       "   oscar_wins                               producers   rating  runtime_mins  \\\n",
       "0           0  [Ridley Scott, Tony Scott, Alex Young]    PG-13           117   \n",
       "1           0                      [Teddy Schwarzman]    PG-13            88   \n",
       "2           0    [Kathleen Kennedy, Steven Spielberg]    PG-13           145   \n",
       "3           0                                          Unrated           145   \n",
       "4           0                                          Unrated           NaN   \n",
       "\n",
       "   theaters             url       writers  \n",
       "0      3544       ateam.htm  [Skip Woods]  \n",
       "1        42        acod.htm                \n",
       "2      3242          ai.htm                \n",
       "3        66  aajanachle.htm                \n",
       "4        91   aarakshan.htm                "
      ]
     },
     "execution_count": 42,
     "metadata": {},
     "output_type": "execute_result"
    }
   ],
   "source": [
    "movies.head()"
   ]
  },
  {
   "cell_type": "code",
   "execution_count": 43,
   "metadata": {
    "collapsed": true
   },
   "outputs": [],
   "source": [
    "by_genre = movies.groupby('genre')"
   ]
  },
  {
   "cell_type": "code",
   "execution_count": 44,
   "metadata": {
    "collapsed": false
   },
   "outputs": [],
   "source": [
    "# split actor, director, producer, writer columns\n",
    "def get_person(peoplelist, i):\n",
    "    '''Take a list of people and inde; return person at that index. Return blank if no list present.'''\n",
    "    try:\n",
    "        return peoplelist[i]\n",
    "    except:\n",
    "        return ''\n",
    "\n",
    "def sep_people(df, person_type, num_people):\n",
    "    '''For each column with list of people, split into n columns with one person in each column.\n",
    "    Name new columns as person_type + n.\n",
    "    \n",
    "    Args:\n",
    "    df -- name of dataframe\n",
    "    person_type -- name of column (str)\n",
    "    num_people -- number of columns to generate\n",
    "    '''\n",
    "    for n in range(num_people):\n",
    "        df.loc[:, person_type + str(n+1)] = df.loc[:, person_type].apply(get_person, args=(n,))\n",
    "\n",
    "# add seasons; rationale from http://www.boxofficemojo.com/seasonal/?chart=byseason\n",
    "def get_season(date):\n",
    "    '''Return season given month as int.'''\n",
    "    months = (range(1, 13))\n",
    "    seasons = ['winter', 'winter', 'spring', 'spring', \n",
    "           'summer', 'summer', 'summer', 'summer', \n",
    "           'fall', 'fall', 'holiday', 'holiday']\n",
    "    seasons = dict(zip(months, seasons))\n",
    "    try:\n",
    "        return seasons[date.month]\n",
    "    except:\n",
    "        return ''\n",
    "       \n",
    "def recat(df, func, new_col, old_col):\n",
    "    '''Recategorize variable in new column based on data in old col\n",
    "    and provided function. \n",
    "    Args: \n",
    "    df -- data frame\n",
    "    func -- function to apply\n",
    "    new_col (str) -- name of new column (to store result of function)\n",
    "    old_col (str) -- name of old column (on which to apply function)\n",
    "    '''\n",
    "    df[new_col] = df.loc[:, old_col].apply(func) \n",
    "\n",
    "# map raw genres to simple genres\n",
    "def get_simple_genre(g):\n",
    "    '''Recategorize raw genre into simple genre.'''\n",
    "    raw_genres = tuple(by_genre.count().index)\n",
    "    simple_genres = ['Act_Adven', 'Act_Adven', 'Act_Adven', 'Act_Adven', 'Act_Adven', 'Act_Adven', \n",
    "                 'Act_Adven', 'Act_Adven', 'Act_Adven', 'Act_Adven', \n",
    "                 'Animation', 'Comedy', 'Comedy', 'Comedy', 'Other', \n",
    "                 'Crime_Thriller', 'Crime_Thriller', 'Crime_Thriller', 'Crime_Thriller', \n",
    "                 'Documentary', 'Drama', 'Drama', 'Family', 'Family', 'Family', 'Fantasy_Scifi', 'Fantasy_Scifi', \n",
    "                 'Fantasy_Scifi', 'Foreign', 'Foreign', 'Foreign', 'Historical', 'Historical', \n",
    "                 'Horror', 'Horror', 'Horror', 'Other', 'Musical', 'Musical', 'None', \n",
    "                 'Historical', 'Historical', 'Historical', 'Historical', 'Historical', \n",
    "                 'Romance', 'Romance', 'Romance', 'Romance', 'Fantasy_Scifi', 'Fantasy_Scifi', \n",
    "                 'Fantasy_Scifi', 'Fantasy_Scifi', 'Fantasy_Scifi', 'Fantasy_Scifi', \n",
    "                 'Fantasy_Scifi', 'Sports', 'Sports', 'Sports', 'Sports',  'Crime_Thriller', \n",
    "                 'None', 'War', 'War', 'War', 'Western', 'Western']\n",
    "    genres = dict(zip(raw_genres, simple_genres))\n",
    "    try:\n",
    "        return genres[g]\n",
    "    except:\n",
    "        return ''\n",
    "\n",
    "def add_simple_genre(df):\n",
    "    df['new_genre'] = df.loc[:, 'genre'].apply(get_simple_genre)\n",
    "    \n",
    "# clean up ratings\n",
    "def get_clean_rating(r):\n",
    "    rm_ratings = ['Unknown', 'Unrated', 'None', 'Not Yet Rated']\n",
    "    return '' if r in rm_ratings else r\n",
    "\n",
    "def clean_rating(df, func, new_col):\n",
    "    '''Add new column to df with cleaned up rating. \n",
    "    Args:\n",
    "    df -- df to work on\n",
    "    func -- function to apply\n",
    "    new col (str) -- name of new column to create for cleaned up rating\n",
    "    '''\n",
    "    df[new_col] = df.loc[:, 'rating'].apply(func)\n",
    "    \n",
    "# add roi\n",
    "def add_roi(df):\n",
    "    df['dom_roi'] = df.loc[:, 'dom_total_gross'] / df.loc[:, 'budget']\n",
    "    df['intl_roi'] = df.loc[:, 'intl_total_gross'] / df.loc[:, 'budget']\n",
    "    \n",
    "# add total time in theaters - not necessary if we have theaters?\n",
    "def add_in_theaters_time(df):\n",
    "    try:\n",
    "        df['time_in_theaters'] = df.loc[:, 'closing_date'] - df.loc[:, 'release_date']\n",
    "    except:\n",
    "        df['time_in_theaters'] = ''"
   ]
  },
  {
   "cell_type": "code",
   "execution_count": 46,
   "metadata": {
    "collapsed": false
   },
   "outputs": [],
   "source": [
    "sep_people(movies, 'director', 3)\n",
    "sep_people(movies, 'actors', 5)\n",
    "sep_people(movies, 'writers', 2)\n",
    "sep_people(movies, 'producers', 3)\n",
    "recat(movies, get_season, 'season', 'release_date')\n",
    "clean_rating(movies, get_clean_rating, 'clean_rating')"
   ]
  },
  {
   "cell_type": "code",
   "execution_count": 45,
   "metadata": {
    "collapsed": false
   },
   "outputs": [],
   "source": [
    "add_simple_genre(movies) # try not to rerun this guy, takes a while"
   ]
  },
  {
   "cell_type": "code",
   "execution_count": 47,
   "metadata": {
    "collapsed": true
   },
   "outputs": [],
   "source": [
    "# pickle the parsed df\n",
    "with open('pickled_data/parsed-data3.pkl', 'w') as picklefile:\n",
    "    pickle.dump(movies, picklefile)"
   ]
  },
  {
   "cell_type": "code",
   "execution_count": 124,
   "metadata": {
    "collapsed": true
   },
   "outputs": [],
   "source": [
    "with open('pickled_data/parsed-data3.pkl', 'r') as picklefile:\n",
    "    movies = pickle.load(picklefile)"
   ]
  },
  {
   "cell_type": "code",
   "execution_count": 125,
   "metadata": {
    "collapsed": false
   },
   "outputs": [
    {
     "data": {
      "text/plain": [
       "Index([u'title', u'release_date', u'closing_date', u'actors', u'budget',\n",
       "       u'director', u'distributor', u'dom_total_gross',\n",
       "       u'domestic_total_adj_gross', u'genre', u'intl_total_gross',\n",
       "       u'oscar_noms', u'oscar_wins', u'producers', u'rating', u'runtime_mins',\n",
       "       u'theaters', u'url', u'writers', u'new_genre', u'director1',\n",
       "       u'director2', u'director3', u'actors1', u'actors2', u'actors3',\n",
       "       u'actors4', u'actors5', u'writers1', u'writers2', u'producers1',\n",
       "       u'producers2', u'producers3', u'season', u'clean_rating'],\n",
       "      dtype='object')"
      ]
     },
     "execution_count": 125,
     "metadata": {},
     "output_type": "execute_result"
    }
   ],
   "source": [
    "movies.columns"
   ]
  },
  {
   "cell_type": "markdown",
   "metadata": {},
   "source": [
    "Since we're interested in budget data, let's check to see how many movies of the 16,100 total movies have budget data."
   ]
  },
  {
   "cell_type": "code",
   "execution_count": 126,
   "metadata": {
    "collapsed": false
   },
   "outputs": [
    {
     "data": {
      "text/plain": [
       "2875"
      ]
     },
     "execution_count": 126,
     "metadata": {},
     "output_type": "execute_result"
    }
   ],
   "source": [
    "movies.budget.count()"
   ]
  },
  {
   "cell_type": "markdown",
   "metadata": {},
   "source": [
    "Only 2,874 out of 16,100 movies have budget data. That's only 17.9% of the entire dataset! Let's take a closer look at movies with budget data."
   ]
  },
  {
   "cell_type": "code",
   "execution_count": 127,
   "metadata": {
    "collapsed": true
   },
   "outputs": [],
   "source": [
    "# drop movies without budget data \n",
    "only_budget = movies[pd.notnull(movies['budget'])]"
   ]
  },
  {
   "cell_type": "code",
   "execution_count": 128,
   "metadata": {
    "collapsed": true
   },
   "outputs": [],
   "source": [
    "### ONLY APPLICABLE TO MOVIES WITH BUDGETS\n",
    "\n",
    "# adjust to 2015 dollars \n",
    "def get_infl_rate(startyear, endyear):\n",
    "    '''Return inflation rate to 2015 dollars. \n",
    "    Args:\n",
    "    startyear (float) -- start year\n",
    "    endyear (int) -- end year\n",
    "    Returns:\n",
    "    infl (float) -- inflation rate\n",
    "    '''\n",
    "    cpi = pd.read_csv('cpi-data.csv')\n",
    "    cpi.set_index('YEAR', inplace = True)\n",
    "    if endyear > 2015:\n",
    "        return float('NaN')\n",
    "    else:\n",
    "        try:\n",
    "            cpiend = float(cpi.loc[endyear, 'AVE.'])\n",
    "            cpistart = float(cpi.loc[int(startyear), 'AVE.'])\n",
    "            infl = ((cpiend - cpistart) / cpistart) \n",
    "            return (1.0 + infl)\n",
    "        except:\n",
    "            return float('NaN')\n",
    "    \n",
    "def add_infl_rate(df):\n",
    "    # add release year\n",
    "    try:\n",
    "        df['release_year'] = df['release_date'].apply(lambda x: x.year)\n",
    "    except:\n",
    "        df['release_year'] = None\n",
    "    df['infl_rate'] = df['release_year'].apply(get_infl_rate, args=(2015,))\n",
    "    \n",
    "def add_adj_budget(df):\n",
    "    df['budget_adj'] = df.loc[:, 'budget'] * df.loc[:, 'infl_rate']\n",
    "    df['budget_adj'] = df['budget_adj'].fillna(0.0).astype(int)\n",
    "\n",
    "# add roi calculations\n",
    "def get_dom_roi(df):\n",
    "    df['dom_roi'] = (df.loc[:,'dom_total_gross'] - df.loc[:,'budget'])/ df.loc[:,'budget']\n",
    "\n",
    "def get_intl_roi(df):\n",
    "    df['intl_roi'] = (df.loc[:,'intl_total_gross'] - df.loc[:,'budget'])/ df.loc[:,'budget']"
   ]
  },
  {
   "cell_type": "code",
   "execution_count": 129,
   "metadata": {
    "collapsed": false
   },
   "outputs": [
    {
     "name": "stderr",
     "output_type": "stream",
     "text": [
      "/anaconda/lib/python2.7/site-packages/ipykernel/__main__.py:28: SettingWithCopyWarning: \n",
      "A value is trying to be set on a copy of a slice from a DataFrame.\n",
      "Try using .loc[row_indexer,col_indexer] = value instead\n",
      "\n",
      "See the caveats in the documentation: http://pandas.pydata.org/pandas-docs/stable/indexing.html#indexing-view-versus-copy\n",
      "/anaconda/lib/python2.7/site-packages/ipykernel/__main__.py:31: SettingWithCopyWarning: \n",
      "A value is trying to be set on a copy of a slice from a DataFrame.\n",
      "Try using .loc[row_indexer,col_indexer] = value instead\n",
      "\n",
      "See the caveats in the documentation: http://pandas.pydata.org/pandas-docs/stable/indexing.html#indexing-view-versus-copy\n",
      "/anaconda/lib/python2.7/site-packages/ipykernel/__main__.py:34: SettingWithCopyWarning: \n",
      "A value is trying to be set on a copy of a slice from a DataFrame.\n",
      "Try using .loc[row_indexer,col_indexer] = value instead\n",
      "\n",
      "See the caveats in the documentation: http://pandas.pydata.org/pandas-docs/stable/indexing.html#indexing-view-versus-copy\n",
      "/anaconda/lib/python2.7/site-packages/ipykernel/__main__.py:35: SettingWithCopyWarning: \n",
      "A value is trying to be set on a copy of a slice from a DataFrame.\n",
      "Try using .loc[row_indexer,col_indexer] = value instead\n",
      "\n",
      "See the caveats in the documentation: http://pandas.pydata.org/pandas-docs/stable/indexing.html#indexing-view-versus-copy\n",
      "/anaconda/lib/python2.7/site-packages/ipykernel/__main__.py:39: SettingWithCopyWarning: \n",
      "A value is trying to be set on a copy of a slice from a DataFrame.\n",
      "Try using .loc[row_indexer,col_indexer] = value instead\n",
      "\n",
      "See the caveats in the documentation: http://pandas.pydata.org/pandas-docs/stable/indexing.html#indexing-view-versus-copy\n"
     ]
    }
   ],
   "source": [
    "add_infl_rate(only_budget)\n",
    "add_adj_budget(only_budget)\n",
    "get_dom_roi(only_budget)"
   ]
  },
  {
   "cell_type": "markdown",
   "metadata": {},
   "source": [
    "Let's look at lower budget movies that have been released since 1980. "
   ]
  },
  {
   "cell_type": "code",
   "execution_count": 130,
   "metadata": {
    "collapsed": true
   },
   "outputs": [],
   "source": [
    "# set assumptions\n",
    "budget_threshold = 30000000\n",
    "year_threshold = '1980'"
   ]
  },
  {
   "cell_type": "code",
   "execution_count": 131,
   "metadata": {
    "collapsed": false
   },
   "outputs": [
    {
     "data": {
      "text/plain": [
       "(1158, 39)"
      ]
     },
     "execution_count": 131,
     "metadata": {},
     "output_type": "execute_result"
    }
   ],
   "source": [
    "# get only low budget (<$10m) films\n",
    "low_budget = only_budget[only_budget['budget_adj'] < budget_threshold]\n",
    "low_budget = low_budget[low_budget['budget_adj'] > 0] # find a better way to write this\n",
    "low_budget.shape"
   ]
  },
  {
   "cell_type": "code",
   "execution_count": 132,
   "metadata": {
    "collapsed": false
   },
   "outputs": [
    {
     "data": {
      "text/plain": [
       "(1128, 39)"
      ]
     },
     "execution_count": 132,
     "metadata": {},
     "output_type": "execute_result"
    }
   ],
   "source": [
    "# get only movies since 2000\n",
    "newer_movies = low_budget[low_budget['release_date'] >= datetime.strptime(year_threshold, '%Y')]\n",
    "newer_movies.shape"
   ]
  },
  {
   "cell_type": "markdown",
   "metadata": {},
   "source": [
    "### explore high-level features"
   ]
  },
  {
   "cell_type": "markdown",
   "metadata": {},
   "source": [
    "Movies with highest roi, oscar nominations, and highest revenues."
   ]
  },
  {
   "cell_type": "code",
   "execution_count": 118,
   "metadata": {
    "collapsed": true
   },
   "outputs": [],
   "source": [
    "under1m = newer_movies[newer_movies.budget_adj < 2000000]"
   ]
  },
  {
   "cell_type": "code",
   "execution_count": 119,
   "metadata": {
    "collapsed": true
   },
   "outputs": [
    {
     "data": {
      "text/html": [
       "<div>\n",
       "<table border=\"1\" class=\"dataframe\">\n",
       "  <thead>\n",
       "    <tr style=\"text-align: right;\">\n",
       "      <th></th>\n",
       "      <th>title</th>\n",
       "      <th>release_date</th>\n",
       "      <th>closing_date</th>\n",
       "      <th>actors</th>\n",
       "      <th>budget</th>\n",
       "      <th>director</th>\n",
       "      <th>distributor</th>\n",
       "      <th>dom_total_gross</th>\n",
       "      <th>domestic_total_adj_gross</th>\n",
       "      <th>genre</th>\n",
       "      <th>...</th>\n",
       "      <th>roi_rating</th>\n",
       "      <th>roi_genre</th>\n",
       "      <th>theaters_log</th>\n",
       "      <th>dom_roi_log</th>\n",
       "      <th>theaters2</th>\n",
       "      <th>theaters3</th>\n",
       "      <th>theaters4</th>\n",
       "      <th>theaters5</th>\n",
       "      <th>theaters6</th>\n",
       "      <th>dadj_gross_log</th>\n",
       "    </tr>\n",
       "  </thead>\n",
       "  <tbody>\n",
       "    <tr>\n",
       "      <th>459</th>\n",
       "      <td>Amigo</td>\n",
       "      <td>2011-08-19</td>\n",
       "      <td>2012-04-19</td>\n",
       "      <td>[Dane DeHaan, Chris Cooper, DJ Qualls]</td>\n",
       "      <td>1500000</td>\n",
       "      <td>[John Sayles]</td>\n",
       "      <td>Variance Films</td>\n",
       "      <td>184705</td>\n",
       "      <td>196800</td>\n",
       "      <td>Drama</td>\n",
       "      <td>...</td>\n",
       "      <td>other</td>\n",
       "      <td>Drama</td>\n",
       "      <td>2.302585</td>\n",
       "      <td>-2.094460</td>\n",
       "      <td>100</td>\n",
       "      <td>1000</td>\n",
       "      <td>1.000000e+04</td>\n",
       "      <td>1.000000e+05</td>\n",
       "      <td>1.000000e+06</td>\n",
       "      <td>12.189943</td>\n",
       "    </tr>\n",
       "    <tr>\n",
       "      <th>1199</th>\n",
       "      <td>The Believer</td>\n",
       "      <td>2002-05-17</td>\n",
       "      <td>2002-10-03</td>\n",
       "      <td>[Ryan Gosling]</td>\n",
       "      <td>1500000</td>\n",
       "      <td></td>\n",
       "      <td>IDP</td>\n",
       "      <td>416925</td>\n",
       "      <td>604900</td>\n",
       "      <td>Unknown</td>\n",
       "      <td>...</td>\n",
       "      <td>R</td>\n",
       "      <td>other</td>\n",
       "      <td>2.564949</td>\n",
       "      <td>-1.280314</td>\n",
       "      <td>169</td>\n",
       "      <td>2197</td>\n",
       "      <td>2.856100e+04</td>\n",
       "      <td>3.712930e+05</td>\n",
       "      <td>4.826809e+06</td>\n",
       "      <td>13.312818</td>\n",
       "    </tr>\n",
       "    <tr>\n",
       "      <th>1716</th>\n",
       "      <td>Book of Mormon Movie</td>\n",
       "      <td>2003-09-12</td>\n",
       "      <td>2004-05-13</td>\n",
       "      <td></td>\n",
       "      <td>1500000</td>\n",
       "      <td></td>\n",
       "      <td>Mormon Movies</td>\n",
       "      <td>1680020</td>\n",
       "      <td>2326200</td>\n",
       "      <td>Period Adventure</td>\n",
       "      <td>...</td>\n",
       "      <td>PG</td>\n",
       "      <td>other</td>\n",
       "      <td>3.637586</td>\n",
       "      <td>-2.120152</td>\n",
       "      <td>1444</td>\n",
       "      <td>54872</td>\n",
       "      <td>2.085136e+06</td>\n",
       "      <td>7.923517e+07</td>\n",
       "      <td>3.010936e+09</td>\n",
       "      <td>14.659747</td>\n",
       "    </tr>\n",
       "    <tr>\n",
       "      <th>1997</th>\n",
       "      <td>Bubble</td>\n",
       "      <td>2006-01-27</td>\n",
       "      <td>2006-02-23</td>\n",
       "      <td></td>\n",
       "      <td>1600000</td>\n",
       "      <td>[Steven Soderbergh]</td>\n",
       "      <td>Magnolia</td>\n",
       "      <td>145626</td>\n",
       "      <td>187400</td>\n",
       "      <td>Drama</td>\n",
       "      <td>...</td>\n",
       "      <td>R</td>\n",
       "      <td>Drama</td>\n",
       "      <td>3.465736</td>\n",
       "      <td>-2.396717</td>\n",
       "      <td>1024</td>\n",
       "      <td>32768</td>\n",
       "      <td>1.048576e+06</td>\n",
       "      <td>3.355443e+07</td>\n",
       "      <td>1.073742e+09</td>\n",
       "      <td>12.141001</td>\n",
       "    </tr>\n",
       "    <tr>\n",
       "      <th>2105</th>\n",
       "      <td>Cabin Fever</td>\n",
       "      <td>2003-09-12</td>\n",
       "      <td>2003-12-04</td>\n",
       "      <td></td>\n",
       "      <td>1500000</td>\n",
       "      <td>[Eli Roth]</td>\n",
       "      <td>Lions Gate</td>\n",
       "      <td>21158188</td>\n",
       "      <td>29579400</td>\n",
       "      <td>Horror Comedy</td>\n",
       "      <td>...</td>\n",
       "      <td>R</td>\n",
       "      <td>Horror</td>\n",
       "      <td>7.652071</td>\n",
       "      <td>2.573029</td>\n",
       "      <td>4431025</td>\n",
       "      <td>9327307625</td>\n",
       "      <td>1.963398e+13</td>\n",
       "      <td>4.132953e+16</td>\n",
       "      <td>8.699867e+19</td>\n",
       "      <td>17.202589</td>\n",
       "    </tr>\n",
       "    <tr>\n",
       "      <th>2773</th>\n",
       "      <td>Come Away Home</td>\n",
       "      <td>2005-05-06</td>\n",
       "      <td>2005-09-08</td>\n",
       "      <td></td>\n",
       "      <td>1200000</td>\n",
       "      <td></td>\n",
       "      <td>Innovation Film Group</td>\n",
       "      <td>72810</td>\n",
       "      <td>95700</td>\n",
       "      <td>Family</td>\n",
       "      <td>...</td>\n",
       "      <td>PG</td>\n",
       "      <td>Family</td>\n",
       "      <td>2.772589</td>\n",
       "      <td>-2.802224</td>\n",
       "      <td>256</td>\n",
       "      <td>4096</td>\n",
       "      <td>6.553600e+04</td>\n",
       "      <td>1.048576e+06</td>\n",
       "      <td>1.677722e+07</td>\n",
       "      <td>11.468974</td>\n",
       "    </tr>\n",
       "    <tr>\n",
       "      <th>2792</th>\n",
       "      <td>Comic-Con Episode IV: A Fan's Hope</td>\n",
       "      <td>2012-04-06</td>\n",
       "      <td>2012-04-29</td>\n",
       "      <td></td>\n",
       "      <td>1500000</td>\n",
       "      <td>[Morgan Spurlock]</td>\n",
       "      <td>Wrekin Hill</td>\n",
       "      <td>34665</td>\n",
       "      <td>36000</td>\n",
       "      <td>Documentary</td>\n",
       "      <td>...</td>\n",
       "      <td>PG-13</td>\n",
       "      <td>other</td>\n",
       "      <td>1.791759</td>\n",
       "      <td>-3.767490</td>\n",
       "      <td>36</td>\n",
       "      <td>216</td>\n",
       "      <td>1.296000e+03</td>\n",
       "      <td>7.776000e+03</td>\n",
       "      <td>4.665600e+04</td>\n",
       "      <td>10.491274</td>\n",
       "    </tr>\n",
       "    <tr>\n",
       "      <th>4899</th>\n",
       "      <td>Forty Shades of Blue</td>\n",
       "      <td>2005-09-30</td>\n",
       "      <td>2005-12-22</td>\n",
       "      <td></td>\n",
       "      <td>1500000</td>\n",
       "      <td></td>\n",
       "      <td>Vitagraph</td>\n",
       "      <td>75828</td>\n",
       "      <td>99700</td>\n",
       "      <td>Drama</td>\n",
       "      <td>...</td>\n",
       "      <td>R</td>\n",
       "      <td>Drama</td>\n",
       "      <td>1.945910</td>\n",
       "      <td>-2.984753</td>\n",
       "      <td>49</td>\n",
       "      <td>343</td>\n",
       "      <td>2.401000e+03</td>\n",
       "      <td>1.680700e+04</td>\n",
       "      <td>1.176490e+05</td>\n",
       "      <td>11.509921</td>\n",
       "    </tr>\n",
       "    <tr>\n",
       "      <th>6521</th>\n",
       "      <td>Human Error</td>\n",
       "      <td>2005-09-16</td>\n",
       "      <td>NaT</td>\n",
       "      <td></td>\n",
       "      <td>1500000</td>\n",
       "      <td></td>\n",
       "      <td>New Deal Pictures</td>\n",
       "      <td>NaN</td>\n",
       "      <td>NaN</td>\n",
       "      <td>Fantasy Comedy</td>\n",
       "      <td>...</td>\n",
       "      <td>other</td>\n",
       "      <td>other</td>\n",
       "      <td>NaN</td>\n",
       "      <td>NaN</td>\n",
       "      <td>NaN</td>\n",
       "      <td>NaN</td>\n",
       "      <td>NaN</td>\n",
       "      <td>NaN</td>\n",
       "      <td>NaN</td>\n",
       "      <td>NaN</td>\n",
       "    </tr>\n",
       "    <tr>\n",
       "      <th>6929</th>\n",
       "      <td>Insidious</td>\n",
       "      <td>2011-04-01</td>\n",
       "      <td>2011-09-08</td>\n",
       "      <td>[Patrick Wilson, Rose Byrne, Barbara Hershey]</td>\n",
       "      <td>1500000</td>\n",
       "      <td>[James Wan]</td>\n",
       "      <td>FilmDistrict</td>\n",
       "      <td>54009150</td>\n",
       "      <td>56495500</td>\n",
       "      <td>Horror</td>\n",
       "      <td>...</td>\n",
       "      <td>PG-13</td>\n",
       "      <td>Horror</td>\n",
       "      <td>7.791110</td>\n",
       "      <td>3.555522</td>\n",
       "      <td>5851561</td>\n",
       "      <td>14154926059</td>\n",
       "      <td>3.424077e+13</td>\n",
       "      <td>8.282841e+16</td>\n",
       "      <td>2.003619e+20</td>\n",
       "      <td>17.849672</td>\n",
       "    </tr>\n",
       "    <tr>\n",
       "      <th>7298</th>\n",
       "      <td>Journey from the Fall</td>\n",
       "      <td>2007-03-23</td>\n",
       "      <td>2007-09-27</td>\n",
       "      <td></td>\n",
       "      <td>1300000</td>\n",
       "      <td></td>\n",
       "      <td>ImaginAsian Pictures</td>\n",
       "      <td>641039</td>\n",
       "      <td>785500</td>\n",
       "      <td>Historical Drama</td>\n",
       "      <td>...</td>\n",
       "      <td>R</td>\n",
       "      <td>other</td>\n",
       "      <td>2.639057</td>\n",
       "      <td>-0.707029</td>\n",
       "      <td>196</td>\n",
       "      <td>2744</td>\n",
       "      <td>3.841600e+04</td>\n",
       "      <td>5.378240e+05</td>\n",
       "      <td>7.529536e+06</td>\n",
       "      <td>13.574076</td>\n",
       "    </tr>\n",
       "    <tr>\n",
       "      <th>7878</th>\n",
       "      <td>The Last Exorcism</td>\n",
       "      <td>2010-08-27</td>\n",
       "      <td>2010-10-07</td>\n",
       "      <td>[Patrick Fabian, Ashley Bell]</td>\n",
       "      <td>1800000</td>\n",
       "      <td>[Daniel Stamm]</td>\n",
       "      <td>Lionsgate</td>\n",
       "      <td>41034350</td>\n",
       "      <td>43511900</td>\n",
       "      <td>Horror</td>\n",
       "      <td>...</td>\n",
       "      <td>PG-13</td>\n",
       "      <td>Horror</td>\n",
       "      <td>7.963460</td>\n",
       "      <td>3.081766</td>\n",
       "      <td>8259876</td>\n",
       "      <td>23738883624</td>\n",
       "      <td>6.822555e+13</td>\n",
       "      <td>1.960802e+17</td>\n",
       "      <td>5.635346e+20</td>\n",
       "      <td>17.588545</td>\n",
       "    </tr>\n",
       "    <tr>\n",
       "      <th>8443</th>\n",
       "      <td>The Lords of Salem</td>\n",
       "      <td>2013-04-19</td>\n",
       "      <td>2013-05-26</td>\n",
       "      <td></td>\n",
       "      <td>1500000</td>\n",
       "      <td>[Rob Zombie]</td>\n",
       "      <td>Anchor Bay Films</td>\n",
       "      <td>1165882</td>\n",
       "      <td>1237800</td>\n",
       "      <td>Horror</td>\n",
       "      <td>...</td>\n",
       "      <td>R</td>\n",
       "      <td>Horror</td>\n",
       "      <td>5.869297</td>\n",
       "      <td>-0.251987</td>\n",
       "      <td>125316</td>\n",
       "      <td>44361864</td>\n",
       "      <td>1.570410e+10</td>\n",
       "      <td>5.559251e+12</td>\n",
       "      <td>1.967975e+15</td>\n",
       "      <td>14.028846</td>\n",
       "    </tr>\n",
       "    <tr>\n",
       "      <th>9748</th>\n",
       "      <td>N'Secure</td>\n",
       "      <td>2010-10-15</td>\n",
       "      <td>2010-11-18</td>\n",
       "      <td></td>\n",
       "      <td>1600000</td>\n",
       "      <td></td>\n",
       "      <td>Freestyle Releasing</td>\n",
       "      <td>2595644</td>\n",
       "      <td>2752400</td>\n",
       "      <td>Drama</td>\n",
       "      <td>...</td>\n",
       "      <td>R</td>\n",
       "      <td>Drama</td>\n",
       "      <td>6.186209</td>\n",
       "      <td>-0.474369</td>\n",
       "      <td>236196</td>\n",
       "      <td>114791256</td>\n",
       "      <td>5.578855e+10</td>\n",
       "      <td>2.711324e+13</td>\n",
       "      <td>1.317703e+16</td>\n",
       "      <td>14.827984</td>\n",
       "    </tr>\n",
       "    <tr>\n",
       "      <th>10117</th>\n",
       "      <td>November</td>\n",
       "      <td>2005-07-22</td>\n",
       "      <td>NaT</td>\n",
       "      <td>[Courteney Cox, Michael Ealy]</td>\n",
       "      <td>1500000</td>\n",
       "      <td></td>\n",
       "      <td>Sony Classics</td>\n",
       "      <td>192186</td>\n",
       "      <td>252700</td>\n",
       "      <td>Thriller</td>\n",
       "      <td>...</td>\n",
       "      <td>R</td>\n",
       "      <td>other</td>\n",
       "      <td>3.295837</td>\n",
       "      <td>-2.054757</td>\n",
       "      <td>729</td>\n",
       "      <td>19683</td>\n",
       "      <td>5.314410e+05</td>\n",
       "      <td>1.434891e+07</td>\n",
       "      <td>3.874205e+08</td>\n",
       "      <td>12.439958</td>\n",
       "    </tr>\n",
       "    <tr>\n",
       "      <th>11020</th>\n",
       "      <td>POM Wonderful Presents: The Greatest Movie Eve...</td>\n",
       "      <td>2011-04-22</td>\n",
       "      <td>2011-09-01</td>\n",
       "      <td>[Morgan Spurlock]</td>\n",
       "      <td>1800000</td>\n",
       "      <td>[Morgan Spurlock]</td>\n",
       "      <td>Sony Classics</td>\n",
       "      <td>638476</td>\n",
       "      <td>668000</td>\n",
       "      <td>Documentary</td>\n",
       "      <td>...</td>\n",
       "      <td>PG-13</td>\n",
       "      <td>other</td>\n",
       "      <td>4.948760</td>\n",
       "      <td>-1.036458</td>\n",
       "      <td>19881</td>\n",
       "      <td>2803221</td>\n",
       "      <td>3.952542e+08</td>\n",
       "      <td>5.573084e+10</td>\n",
       "      <td>7.858048e+12</td>\n",
       "      <td>13.412043</td>\n",
       "    </tr>\n",
       "    <tr>\n",
       "      <th>12188</th>\n",
       "      <td>Saw</td>\n",
       "      <td>2004-10-29</td>\n",
       "      <td>2004-12-30</td>\n",
       "      <td>[Cary Elwes, Danny Glover]</td>\n",
       "      <td>1200000</td>\n",
       "      <td>[James Wan]</td>\n",
       "      <td>Lions Gate</td>\n",
       "      <td>56000369</td>\n",
       "      <td>74913000</td>\n",
       "      <td>Horror</td>\n",
       "      <td>...</td>\n",
       "      <td>R</td>\n",
       "      <td>Horror</td>\n",
       "      <td>7.810758</td>\n",
       "      <td>3.821375</td>\n",
       "      <td>6086089</td>\n",
       "      <td>15014381563</td>\n",
       "      <td>3.704048e+13</td>\n",
       "      <td>9.137886e+16</td>\n",
       "      <td>2.254317e+20</td>\n",
       "      <td>18.131838</td>\n",
       "    </tr>\n",
       "    <tr>\n",
       "      <th>13151</th>\n",
       "      <td>The Squid and the Whale</td>\n",
       "      <td>2005-10-05</td>\n",
       "      <td>2006-03-23</td>\n",
       "      <td>[Jeff Daniels, Laura Linney, Jesse Eisenberg, ...</td>\n",
       "      <td>1500000</td>\n",
       "      <td>[Noah Baumbach]</td>\n",
       "      <td>IDP</td>\n",
       "      <td>7372734</td>\n",
       "      <td>9625100</td>\n",
       "      <td>Comedy / Drama</td>\n",
       "      <td>...</td>\n",
       "      <td>R</td>\n",
       "      <td>other</td>\n",
       "      <td>5.017280</td>\n",
       "      <td>1.364855</td>\n",
       "      <td>22801</td>\n",
       "      <td>3442951</td>\n",
       "      <td>5.198856e+08</td>\n",
       "      <td>7.850273e+10</td>\n",
       "      <td>1.185391e+13</td>\n",
       "      <td>16.079885</td>\n",
       "    </tr>\n",
       "    <tr>\n",
       "      <th>13768</th>\n",
       "      <td>Taxi 3</td>\n",
       "      <td>2003-05-30</td>\n",
       "      <td>NaT</td>\n",
       "      <td></td>\n",
       "      <td>1300000</td>\n",
       "      <td></td>\n",
       "      <td>Christal Films</td>\n",
       "      <td>497208</td>\n",
       "      <td>695100</td>\n",
       "      <td>Unknown</td>\n",
       "      <td>...</td>\n",
       "      <td>other</td>\n",
       "      <td>other</td>\n",
       "      <td>3.610918</td>\n",
       "      <td>-0.961111</td>\n",
       "      <td>1369</td>\n",
       "      <td>50653</td>\n",
       "      <td>1.874161e+06</td>\n",
       "      <td>6.934396e+07</td>\n",
       "      <td>2.565726e+09</td>\n",
       "      <td>13.451811</td>\n",
       "    </tr>\n",
       "    <tr>\n",
       "      <th>14163</th>\n",
       "      <td>The To-Do List</td>\n",
       "      <td>2013-07-26</td>\n",
       "      <td>2013-08-15</td>\n",
       "      <td>[Aubrey Plaza, Bill Hader, Alia Shawkat, Rache...</td>\n",
       "      <td>1500000</td>\n",
       "      <td></td>\n",
       "      <td>CBS Films</td>\n",
       "      <td>3491669</td>\n",
       "      <td>3512500</td>\n",
       "      <td>Comedy</td>\n",
       "      <td>...</td>\n",
       "      <td>R</td>\n",
       "      <td>other</td>\n",
       "      <td>6.381816</td>\n",
       "      <td>0.283508</td>\n",
       "      <td>349281</td>\n",
       "      <td>206425071</td>\n",
       "      <td>1.219972e+11</td>\n",
       "      <td>7.210036e+13</td>\n",
       "      <td>4.261131e+16</td>\n",
       "      <td>15.071839</td>\n",
       "    </tr>\n",
       "    <tr>\n",
       "      <th>15383</th>\n",
       "      <td>The Whole Wide World</td>\n",
       "      <td>1996-12-20</td>\n",
       "      <td>1997-09-11</td>\n",
       "      <td>[Renee Zellweger]</td>\n",
       "      <td>1300000</td>\n",
       "      <td>[Dan Ireland]</td>\n",
       "      <td>Sony Classics</td>\n",
       "      <td>375757</td>\n",
       "      <td>691000</td>\n",
       "      <td>Romance</td>\n",
       "      <td>...</td>\n",
       "      <td>PG</td>\n",
       "      <td>other</td>\n",
       "      <td>2.995732</td>\n",
       "      <td>-1.241177</td>\n",
       "      <td>400</td>\n",
       "      <td>8000</td>\n",
       "      <td>1.600000e+05</td>\n",
       "      <td>3.200000e+06</td>\n",
       "      <td>6.400000e+07</td>\n",
       "      <td>13.445895</td>\n",
       "    </tr>\n",
       "  </tbody>\n",
       "</table>\n",
       "<p>21 rows × 64 columns</p>\n",
       "</div>"
      ],
      "text/plain": [
       "                                                   title release_date  \\\n",
       "459                                                Amigo   2011-08-19   \n",
       "1199                                        The Believer   2002-05-17   \n",
       "1716                                Book of Mormon Movie   2003-09-12   \n",
       "1997                                              Bubble   2006-01-27   \n",
       "2105                                         Cabin Fever   2003-09-12   \n",
       "2773                                      Come Away Home   2005-05-06   \n",
       "2792                  Comic-Con Episode IV: A Fan's Hope   2012-04-06   \n",
       "4899                                Forty Shades of Blue   2005-09-30   \n",
       "6521                                         Human Error   2005-09-16   \n",
       "6929                                           Insidious   2011-04-01   \n",
       "7298                               Journey from the Fall   2007-03-23   \n",
       "7878                                   The Last Exorcism   2010-08-27   \n",
       "8443                                  The Lords of Salem   2013-04-19   \n",
       "9748                                            N'Secure   2010-10-15   \n",
       "10117                                           November   2005-07-22   \n",
       "11020  POM Wonderful Presents: The Greatest Movie Eve...   2011-04-22   \n",
       "12188                                                Saw   2004-10-29   \n",
       "13151                            The Squid and the Whale   2005-10-05   \n",
       "13768                                             Taxi 3   2003-05-30   \n",
       "14163                                     The To-Do List   2013-07-26   \n",
       "15383                               The Whole Wide World   1996-12-20   \n",
       "\n",
       "      closing_date                                             actors  \\\n",
       "459     2012-04-19             [Dane DeHaan, Chris Cooper, DJ Qualls]   \n",
       "1199    2002-10-03                                     [Ryan Gosling]   \n",
       "1716    2004-05-13                                                      \n",
       "1997    2006-02-23                                                      \n",
       "2105    2003-12-04                                                      \n",
       "2773    2005-09-08                                                      \n",
       "2792    2012-04-29                                                      \n",
       "4899    2005-12-22                                                      \n",
       "6521           NaT                                                      \n",
       "6929    2011-09-08      [Patrick Wilson, Rose Byrne, Barbara Hershey]   \n",
       "7298    2007-09-27                                                      \n",
       "7878    2010-10-07                      [Patrick Fabian, Ashley Bell]   \n",
       "8443    2013-05-26                                                      \n",
       "9748    2010-11-18                                                      \n",
       "10117          NaT                      [Courteney Cox, Michael Ealy]   \n",
       "11020   2011-09-01                                  [Morgan Spurlock]   \n",
       "12188   2004-12-30                         [Cary Elwes, Danny Glover]   \n",
       "13151   2006-03-23  [Jeff Daniels, Laura Linney, Jesse Eisenberg, ...   \n",
       "13768          NaT                                                      \n",
       "14163   2013-08-15  [Aubrey Plaza, Bill Hader, Alia Shawkat, Rache...   \n",
       "15383   1997-09-11                                  [Renee Zellweger]   \n",
       "\n",
       "        budget             director            distributor  dom_total_gross  \\\n",
       "459    1500000        [John Sayles]         Variance Films           184705   \n",
       "1199   1500000                                         IDP           416925   \n",
       "1716   1500000                               Mormon Movies          1680020   \n",
       "1997   1600000  [Steven Soderbergh]               Magnolia           145626   \n",
       "2105   1500000           [Eli Roth]             Lions Gate         21158188   \n",
       "2773   1200000                       Innovation Film Group            72810   \n",
       "2792   1500000    [Morgan Spurlock]            Wrekin Hill            34665   \n",
       "4899   1500000                                   Vitagraph            75828   \n",
       "6521   1500000                           New Deal Pictures              NaN   \n",
       "6929   1500000          [James Wan]           FilmDistrict         54009150   \n",
       "7298   1300000                        ImaginAsian Pictures           641039   \n",
       "7878   1800000       [Daniel Stamm]              Lionsgate         41034350   \n",
       "8443   1500000         [Rob Zombie]       Anchor Bay Films          1165882   \n",
       "9748   1600000                         Freestyle Releasing          2595644   \n",
       "10117  1500000                               Sony Classics           192186   \n",
       "11020  1800000    [Morgan Spurlock]          Sony Classics           638476   \n",
       "12188  1200000          [James Wan]             Lions Gate         56000369   \n",
       "13151  1500000      [Noah Baumbach]                    IDP          7372734   \n",
       "13768  1300000                              Christal Films           497208   \n",
       "14163  1500000                                   CBS Films          3491669   \n",
       "15383  1300000        [Dan Ireland]          Sony Classics           375757   \n",
       "\n",
       "       domestic_total_adj_gross             genre      ...        roi_rating  \\\n",
       "459                      196800             Drama      ...             other   \n",
       "1199                     604900           Unknown      ...                 R   \n",
       "1716                    2326200  Period Adventure      ...                PG   \n",
       "1997                     187400             Drama      ...                 R   \n",
       "2105                   29579400     Horror Comedy      ...                 R   \n",
       "2773                      95700            Family      ...                PG   \n",
       "2792                      36000       Documentary      ...             PG-13   \n",
       "4899                      99700             Drama      ...                 R   \n",
       "6521                        NaN    Fantasy Comedy      ...             other   \n",
       "6929                   56495500            Horror      ...             PG-13   \n",
       "7298                     785500  Historical Drama      ...                 R   \n",
       "7878                   43511900            Horror      ...             PG-13   \n",
       "8443                    1237800            Horror      ...                 R   \n",
       "9748                    2752400             Drama      ...                 R   \n",
       "10117                    252700          Thriller      ...                 R   \n",
       "11020                    668000       Documentary      ...             PG-13   \n",
       "12188                  74913000            Horror      ...                 R   \n",
       "13151                   9625100    Comedy / Drama      ...                 R   \n",
       "13768                    695100           Unknown      ...             other   \n",
       "14163                   3512500            Comedy      ...                 R   \n",
       "15383                    691000           Romance      ...                PG   \n",
       "\n",
       "       roi_genre  theaters_log dom_roi_log theaters2    theaters3  \\\n",
       "459        Drama      2.302585   -2.094460       100         1000   \n",
       "1199       other      2.564949   -1.280314       169         2197   \n",
       "1716       other      3.637586   -2.120152      1444        54872   \n",
       "1997       Drama      3.465736   -2.396717      1024        32768   \n",
       "2105      Horror      7.652071    2.573029   4431025   9327307625   \n",
       "2773      Family      2.772589   -2.802224       256         4096   \n",
       "2792       other      1.791759   -3.767490        36          216   \n",
       "4899       Drama      1.945910   -2.984753        49          343   \n",
       "6521       other           NaN         NaN       NaN          NaN   \n",
       "6929      Horror      7.791110    3.555522   5851561  14154926059   \n",
       "7298       other      2.639057   -0.707029       196         2744   \n",
       "7878      Horror      7.963460    3.081766   8259876  23738883624   \n",
       "8443      Horror      5.869297   -0.251987    125316     44361864   \n",
       "9748       Drama      6.186209   -0.474369    236196    114791256   \n",
       "10117      other      3.295837   -2.054757       729        19683   \n",
       "11020      other      4.948760   -1.036458     19881      2803221   \n",
       "12188     Horror      7.810758    3.821375   6086089  15014381563   \n",
       "13151      other      5.017280    1.364855     22801      3442951   \n",
       "13768      other      3.610918   -0.961111      1369        50653   \n",
       "14163      other      6.381816    0.283508    349281    206425071   \n",
       "15383      other      2.995732   -1.241177       400         8000   \n",
       "\n",
       "          theaters4     theaters5     theaters6 dadj_gross_log  \n",
       "459    1.000000e+04  1.000000e+05  1.000000e+06      12.189943  \n",
       "1199   2.856100e+04  3.712930e+05  4.826809e+06      13.312818  \n",
       "1716   2.085136e+06  7.923517e+07  3.010936e+09      14.659747  \n",
       "1997   1.048576e+06  3.355443e+07  1.073742e+09      12.141001  \n",
       "2105   1.963398e+13  4.132953e+16  8.699867e+19      17.202589  \n",
       "2773   6.553600e+04  1.048576e+06  1.677722e+07      11.468974  \n",
       "2792   1.296000e+03  7.776000e+03  4.665600e+04      10.491274  \n",
       "4899   2.401000e+03  1.680700e+04  1.176490e+05      11.509921  \n",
       "6521            NaN           NaN           NaN            NaN  \n",
       "6929   3.424077e+13  8.282841e+16  2.003619e+20      17.849672  \n",
       "7298   3.841600e+04  5.378240e+05  7.529536e+06      13.574076  \n",
       "7878   6.822555e+13  1.960802e+17  5.635346e+20      17.588545  \n",
       "8443   1.570410e+10  5.559251e+12  1.967975e+15      14.028846  \n",
       "9748   5.578855e+10  2.711324e+13  1.317703e+16      14.827984  \n",
       "10117  5.314410e+05  1.434891e+07  3.874205e+08      12.439958  \n",
       "11020  3.952542e+08  5.573084e+10  7.858048e+12      13.412043  \n",
       "12188  3.704048e+13  9.137886e+16  2.254317e+20      18.131838  \n",
       "13151  5.198856e+08  7.850273e+10  1.185391e+13      16.079885  \n",
       "13768  1.874161e+06  6.934396e+07  2.565726e+09      13.451811  \n",
       "14163  1.219972e+11  7.210036e+13  4.261131e+16      15.071839  \n",
       "15383  1.600000e+05  3.200000e+06  6.400000e+07      13.445895  \n",
       "\n",
       "[21 rows x 64 columns]"
      ]
     },
     "execution_count": 119,
     "metadata": {},
     "output_type": "execute_result"
    }
   ],
   "source": [
    "under1m"
   ]
  },
  {
   "cell_type": "code",
   "execution_count": 121,
   "metadata": {
    "collapsed": false
   },
   "outputs": [
    {
     "data": {
      "text/plain": [
       "1199     0\n",
       "15383    0\n",
       "7878     0\n",
       "1716     0\n",
       "2105     0\n",
       "11020    0\n",
       "1997     0\n",
       "13151    1\n",
       "4899     0\n",
       "6521     0\n",
       "Name: oscar_noms, dtype: int64"
      ]
     },
     "execution_count": 121,
     "metadata": {},
     "output_type": "execute_result"
    }
   ],
   "source": [
    "under1m.sort_values(by='budget_adj', ascending=False).head(10)['oscar_noms']"
   ]
  },
  {
   "cell_type": "code",
   "execution_count": 58,
   "metadata": {
    "collapsed": false
   },
   "outputs": [],
   "source": [
    "peek = newer_movies[['title', 'release_year', 'oscar_noms', \n",
    "                      'oscar_wins', 'dom_roi', 'domestic_total_adj_gross', 'intl_total_gross',\n",
    "                     'budget', 'budget_adj']]"
   ]
  },
  {
   "cell_type": "code",
   "execution_count": 59,
   "metadata": {
    "collapsed": false,
    "scrolled": true
   },
   "outputs": [
    {
     "data": {
      "text/html": [
       "<div>\n",
       "<table border=\"1\" class=\"dataframe\">\n",
       "  <thead>\n",
       "    <tr style=\"text-align: right;\">\n",
       "      <th></th>\n",
       "      <th>title</th>\n",
       "      <th>release_year</th>\n",
       "      <th>oscar_noms</th>\n",
       "      <th>oscar_wins</th>\n",
       "      <th>dom_roi</th>\n",
       "      <th>domestic_total_adj_gross</th>\n",
       "      <th>intl_total_gross</th>\n",
       "      <th>budget</th>\n",
       "      <th>budget_adj</th>\n",
       "    </tr>\n",
       "  </thead>\n",
       "  <tbody>\n",
       "    <tr>\n",
       "      <th>9635</th>\n",
       "      <td>My Big Fat Greek Wedding</td>\n",
       "      <td>2002</td>\n",
       "      <td>1</td>\n",
       "      <td>0</td>\n",
       "      <td>47.287642</td>\n",
       "      <td>349166200</td>\n",
       "      <td>368744044</td>\n",
       "      <td>5000000</td>\n",
       "      <td>6588197</td>\n",
       "    </tr>\n",
       "    <tr>\n",
       "      <th>12188</th>\n",
       "      <td>Saw</td>\n",
       "      <td>2004</td>\n",
       "      <td>0</td>\n",
       "      <td>0</td>\n",
       "      <td>45.666974</td>\n",
       "      <td>74913000</td>\n",
       "      <td>103911669</td>\n",
       "      <td>1200000</td>\n",
       "      <td>1505666</td>\n",
       "    </tr>\n",
       "    <tr>\n",
       "      <th>3931</th>\n",
       "      <td>E.T.: The Extra-Terrestrial</td>\n",
       "      <td>1982</td>\n",
       "      <td>9</td>\n",
       "      <td>4</td>\n",
       "      <td>40.439100</td>\n",
       "      <td>1048176400</td>\n",
       "      <td>792910554</td>\n",
       "      <td>10500000</td>\n",
       "      <td>25789414</td>\n",
       "    </tr>\n",
       "    <tr>\n",
       "      <th>7363</th>\n",
       "      <td>Jurassic Park 3D</td>\n",
       "      <td>2013</td>\n",
       "      <td>0</td>\n",
       "      <td>0</td>\n",
       "      <td>39.245388</td>\n",
       "      <td>48186800</td>\n",
       "      <td>473553882</td>\n",
       "      <td>10000000</td>\n",
       "      <td>10174281</td>\n",
       "    </tr>\n",
       "    <tr>\n",
       "      <th>14137</th>\n",
       "      <td>Titanic 3D</td>\n",
       "      <td>2012</td>\n",
       "      <td>0</td>\n",
       "      <td>0</td>\n",
       "      <td>35.592906</td>\n",
       "      <td>60094000</td>\n",
       "      <td>944338958</td>\n",
       "      <td>18000000</td>\n",
       "      <td>18581957</td>\n",
       "    </tr>\n",
       "    <tr>\n",
       "      <th>6929</th>\n",
       "      <td>Insidious</td>\n",
       "      <td>2011</td>\n",
       "      <td>0</td>\n",
       "      <td>0</td>\n",
       "      <td>35.006100</td>\n",
       "      <td>56495500</td>\n",
       "      <td>97009150</td>\n",
       "      <td>1500000</td>\n",
       "      <td>1580541</td>\n",
       "    </tr>\n",
       "    <tr>\n",
       "      <th>5411</th>\n",
       "      <td>God's Not Dead</td>\n",
       "      <td>2014</td>\n",
       "      <td>0</td>\n",
       "      <td>0</td>\n",
       "      <td>29.377866</td>\n",
       "      <td>62101000</td>\n",
       "      <td>62630732</td>\n",
       "      <td>2000000</td>\n",
       "      <td>2002373</td>\n",
       "    </tr>\n",
       "    <tr>\n",
       "      <th>10611</th>\n",
       "      <td>Paranormal Activity 2</td>\n",
       "      <td>2010</td>\n",
       "      <td>0</td>\n",
       "      <td>0</td>\n",
       "      <td>27.250969</td>\n",
       "      <td>89196900</td>\n",
       "      <td>177512032</td>\n",
       "      <td>3000000</td>\n",
       "      <td>3260864</td>\n",
       "    </tr>\n",
       "    <tr>\n",
       "      <th>200</th>\n",
       "      <td>Airplane!</td>\n",
       "      <td>1980</td>\n",
       "      <td>0</td>\n",
       "      <td>0</td>\n",
       "      <td>22.843868</td>\n",
       "      <td>261529100</td>\n",
       "      <td>NaN</td>\n",
       "      <td>3500000</td>\n",
       "      <td>10067469</td>\n",
       "    </tr>\n",
       "    <tr>\n",
       "      <th>10942</th>\n",
       "      <td>Platoon</td>\n",
       "      <td>1986</td>\n",
       "      <td>8</td>\n",
       "      <td>4</td>\n",
       "      <td>22.088428</td>\n",
       "      <td>298725500</td>\n",
       "      <td>NaN</td>\n",
       "      <td>6000000</td>\n",
       "      <td>12975383</td>\n",
       "    </tr>\n",
       "  </tbody>\n",
       "</table>\n",
       "</div>"
      ],
      "text/plain": [
       "                             title  release_year  oscar_noms  oscar_wins  \\\n",
       "9635      My Big Fat Greek Wedding          2002           1           0   \n",
       "12188                          Saw          2004           0           0   \n",
       "3931   E.T.: The Extra-Terrestrial          1982           9           4   \n",
       "7363              Jurassic Park 3D          2013           0           0   \n",
       "14137                   Titanic 3D          2012           0           0   \n",
       "6929                     Insidious          2011           0           0   \n",
       "5411                God's Not Dead          2014           0           0   \n",
       "10611        Paranormal Activity 2          2010           0           0   \n",
       "200                      Airplane!          1980           0           0   \n",
       "10942                      Platoon          1986           8           4   \n",
       "\n",
       "         dom_roi  domestic_total_adj_gross  intl_total_gross    budget  \\\n",
       "9635   47.287642                 349166200         368744044   5000000   \n",
       "12188  45.666974                  74913000         103911669   1200000   \n",
       "3931   40.439100                1048176400         792910554  10500000   \n",
       "7363   39.245388                  48186800         473553882  10000000   \n",
       "14137  35.592906                  60094000         944338958  18000000   \n",
       "6929   35.006100                  56495500          97009150   1500000   \n",
       "5411   29.377866                  62101000          62630732   2000000   \n",
       "10611  27.250969                  89196900         177512032   3000000   \n",
       "200    22.843868                 261529100               NaN   3500000   \n",
       "10942  22.088428                 298725500               NaN   6000000   \n",
       "\n",
       "       budget_adj  \n",
       "9635      6588197  \n",
       "12188     1505666  \n",
       "3931     25789414  \n",
       "7363     10174281  \n",
       "14137    18581957  \n",
       "6929      1580541  \n",
       "5411      2002373  \n",
       "10611     3260864  \n",
       "200      10067469  \n",
       "10942    12975383  "
      ]
     },
     "execution_count": 59,
     "metadata": {},
     "output_type": "execute_result"
    }
   ],
   "source": [
    "peek.sort_values(by='budget_adj', ascending=False).head(10)"
   ]
  },
  {
   "cell_type": "code",
   "execution_count": 2316,
   "metadata": {
    "collapsed": false,
    "scrolled": true
   },
   "outputs": [
    {
     "data": {
      "text/html": [
       "<div>\n",
       "<table border=\"1\" class=\"dataframe\">\n",
       "  <thead>\n",
       "    <tr style=\"text-align: right;\">\n",
       "      <th></th>\n",
       "      <th>title</th>\n",
       "      <th>release_year</th>\n",
       "      <th>oscar_noms</th>\n",
       "      <th>oscar_wins</th>\n",
       "      <th>dom_roi</th>\n",
       "      <th>domestic_total_adj_gross</th>\n",
       "      <th>intl_total_gross</th>\n",
       "      <th>budget</th>\n",
       "      <th>budget_adj</th>\n",
       "    </tr>\n",
       "  </thead>\n",
       "  <tbody>\n",
       "    <tr>\n",
       "      <th>3931</th>\n",
       "      <td>E.T.: The Extra-Terrestrial</td>\n",
       "      <td>1982</td>\n",
       "      <td>9</td>\n",
       "      <td>4</td>\n",
       "      <td>40.439100</td>\n",
       "      <td>1048176400</td>\n",
       "      <td>792910554</td>\n",
       "      <td>10500000</td>\n",
       "      <td>25789414</td>\n",
       "    </tr>\n",
       "    <tr>\n",
       "      <th>11113</th>\n",
       "      <td>Pretty Woman</td>\n",
       "      <td>1990</td>\n",
       "      <td>1</td>\n",
       "      <td>0</td>\n",
       "      <td>11.743305</td>\n",
       "      <td>355547200</td>\n",
       "      <td>463406268</td>\n",
       "      <td>14000000</td>\n",
       "      <td>25388201</td>\n",
       "    </tr>\n",
       "    <tr>\n",
       "      <th>14030</th>\n",
       "      <td>Three Men and a Baby</td>\n",
       "      <td>1987</td>\n",
       "      <td>0</td>\n",
       "      <td>0</td>\n",
       "      <td>14.252815</td>\n",
       "      <td>351562900</td>\n",
       "      <td>NaN</td>\n",
       "      <td>11000000</td>\n",
       "      <td>22950589</td>\n",
       "    </tr>\n",
       "    <tr>\n",
       "      <th>9635</th>\n",
       "      <td>My Big Fat Greek Wedding</td>\n",
       "      <td>2002</td>\n",
       "      <td>1</td>\n",
       "      <td>0</td>\n",
       "      <td>47.287642</td>\n",
       "      <td>349166200</td>\n",
       "      <td>368744044</td>\n",
       "      <td>5000000</td>\n",
       "      <td>6588197</td>\n",
       "    </tr>\n",
       "    <tr>\n",
       "      <th>10942</th>\n",
       "      <td>Platoon</td>\n",
       "      <td>1986</td>\n",
       "      <td>8</td>\n",
       "      <td>4</td>\n",
       "      <td>22.088428</td>\n",
       "      <td>298725500</td>\n",
       "      <td>NaN</td>\n",
       "      <td>6000000</td>\n",
       "      <td>12975383</td>\n",
       "    </tr>\n",
       "    <tr>\n",
       "      <th>13851</th>\n",
       "      <td>Terms of Endearment</td>\n",
       "      <td>1983</td>\n",
       "      <td>0</td>\n",
       "      <td>5</td>\n",
       "      <td>12.552936</td>\n",
       "      <td>277165700</td>\n",
       "      <td>NaN</td>\n",
       "      <td>8000000</td>\n",
       "      <td>19037510</td>\n",
       "    </tr>\n",
       "    <tr>\n",
       "      <th>13795</th>\n",
       "      <td>Teenage Mutant Ninja Turtles</td>\n",
       "      <td>1990</td>\n",
       "      <td>0</td>\n",
       "      <td>0</td>\n",
       "      <td>9.019697</td>\n",
       "      <td>269572500</td>\n",
       "      <td>201965915</td>\n",
       "      <td>13500000</td>\n",
       "      <td>24481480</td>\n",
       "    </tr>\n",
       "    <tr>\n",
       "      <th>200</th>\n",
       "      <td>Airplane!</td>\n",
       "      <td>1980</td>\n",
       "      <td>0</td>\n",
       "      <td>0</td>\n",
       "      <td>22.843868</td>\n",
       "      <td>261529100</td>\n",
       "      <td>NaN</td>\n",
       "      <td>3500000</td>\n",
       "      <td>10067469</td>\n",
       "    </tr>\n",
       "    <tr>\n",
       "      <th>3906</th>\n",
       "      <td>Dumb and Dumber</td>\n",
       "      <td>1994</td>\n",
       "      <td>0</td>\n",
       "      <td>0</td>\n",
       "      <td>6.480904</td>\n",
       "      <td>250519200</td>\n",
       "      <td>247275374</td>\n",
       "      <td>17000000</td>\n",
       "      <td>27188184</td>\n",
       "    </tr>\n",
       "    <tr>\n",
       "      <th>12212</th>\n",
       "      <td>Scary Movie</td>\n",
       "      <td>2000</td>\n",
       "      <td>0</td>\n",
       "      <td>0</td>\n",
       "      <td>7.264198</td>\n",
       "      <td>245580100</td>\n",
       "      <td>278019771</td>\n",
       "      <td>19000000</td>\n",
       "      <td>26151701</td>\n",
       "    </tr>\n",
       "  </tbody>\n",
       "</table>\n",
       "</div>"
      ],
      "text/plain": [
       "                              title  release_year  oscar_noms  oscar_wins  \\\n",
       "3931    E.T.: The Extra-Terrestrial          1982           9           4   \n",
       "11113                  Pretty Woman          1990           1           0   \n",
       "14030          Three Men and a Baby          1987           0           0   \n",
       "9635       My Big Fat Greek Wedding          2002           1           0   \n",
       "10942                       Platoon          1986           8           4   \n",
       "13851           Terms of Endearment          1983           0           5   \n",
       "13795  Teenage Mutant Ninja Turtles          1990           0           0   \n",
       "200                       Airplane!          1980           0           0   \n",
       "3906                Dumb and Dumber          1994           0           0   \n",
       "12212                   Scary Movie          2000           0           0   \n",
       "\n",
       "         dom_roi  domestic_total_adj_gross  intl_total_gross    budget  \\\n",
       "3931   40.439100                1048176400         792910554  10500000   \n",
       "11113  11.743305                 355547200         463406268  14000000   \n",
       "14030  14.252815                 351562900               NaN  11000000   \n",
       "9635   47.287642                 349166200         368744044   5000000   \n",
       "10942  22.088428                 298725500               NaN   6000000   \n",
       "13851  12.552936                 277165700               NaN   8000000   \n",
       "13795   9.019697                 269572500         201965915  13500000   \n",
       "200    22.843868                 261529100               NaN   3500000   \n",
       "3906    6.480904                 250519200         247275374  17000000   \n",
       "12212   7.264198                 245580100         278019771  19000000   \n",
       "\n",
       "       budget_adj  \n",
       "3931     25789414  \n",
       "11113    25388201  \n",
       "14030    22950589  \n",
       "9635      6588197  \n",
       "10942    12975383  \n",
       "13851    19037510  \n",
       "13795    24481480  \n",
       "200      10067469  \n",
       "3906     27188184  \n",
       "12212    26151701  "
      ]
     },
     "execution_count": 2316,
     "metadata": {},
     "output_type": "execute_result"
    }
   ],
   "source": [
    "peek.sort_values(by='domestic_total_adj_gross', ascending=False).head(10)"
   ]
  },
  {
   "cell_type": "code",
   "execution_count": 2317,
   "metadata": {
    "collapsed": false
   },
   "outputs": [
    {
     "data": {
      "text/html": [
       "<div>\n",
       "<table border=\"1\" class=\"dataframe\">\n",
       "  <thead>\n",
       "    <tr style=\"text-align: right;\">\n",
       "      <th></th>\n",
       "      <th>title</th>\n",
       "      <th>release_year</th>\n",
       "      <th>oscar_noms</th>\n",
       "      <th>oscar_wins</th>\n",
       "      <th>dom_roi</th>\n",
       "      <th>domestic_total_adj_gross</th>\n",
       "      <th>intl_total_gross</th>\n",
       "      <th>budget</th>\n",
       "      <th>budget_adj</th>\n",
       "    </tr>\n",
       "  </thead>\n",
       "  <tbody>\n",
       "    <tr>\n",
       "      <th>713</th>\n",
       "      <td>The Artist</td>\n",
       "      <td>2011</td>\n",
       "      <td>10</td>\n",
       "      <td>5</td>\n",
       "      <td>1.978112</td>\n",
       "      <td>47557100</td>\n",
       "      <td>133432856</td>\n",
       "      <td>15000000</td>\n",
       "      <td>15805418</td>\n",
       "    </tr>\n",
       "    <tr>\n",
       "      <th>12817</th>\n",
       "      <td>Slumdog Millionaire</td>\n",
       "      <td>2008</td>\n",
       "      <td>10</td>\n",
       "      <td>8</td>\n",
       "      <td>8.421329</td>\n",
       "      <td>165923000</td>\n",
       "      <td>377910544</td>\n",
       "      <td>15000000</td>\n",
       "      <td>16512798</td>\n",
       "    </tr>\n",
       "    <tr>\n",
       "      <th>3048</th>\n",
       "      <td>Crouching Tiger, Hidden Dragon</td>\n",
       "      <td>2000</td>\n",
       "      <td>10</td>\n",
       "      <td>4</td>\n",
       "      <td>6.534051</td>\n",
       "      <td>191426400</td>\n",
       "      <td>213525736</td>\n",
       "      <td>17000000</td>\n",
       "      <td>23398890</td>\n",
       "    </tr>\n",
       "    <tr>\n",
       "      <th>3931</th>\n",
       "      <td>E.T.: The Extra-Terrestrial</td>\n",
       "      <td>1982</td>\n",
       "      <td>9</td>\n",
       "      <td>4</td>\n",
       "      <td>40.439100</td>\n",
       "      <td>1048176400</td>\n",
       "      <td>792910554</td>\n",
       "      <td>10500000</td>\n",
       "      <td>25789414</td>\n",
       "    </tr>\n",
       "    <tr>\n",
       "      <th>6563</th>\n",
       "      <td>The Hurt Locker</td>\n",
       "      <td>2009</td>\n",
       "      <td>9</td>\n",
       "      <td>6</td>\n",
       "      <td>0.134521</td>\n",
       "      <td>18921500</td>\n",
       "      <td>49230772</td>\n",
       "      <td>15000000</td>\n",
       "      <td>16571756</td>\n",
       "    </tr>\n",
       "    <tr>\n",
       "      <th>1455</th>\n",
       "      <td>Birdman</td>\n",
       "      <td>2014</td>\n",
       "      <td>9</td>\n",
       "      <td>4</td>\n",
       "      <td>1.352255</td>\n",
       "      <td>43434200</td>\n",
       "      <td>103215094</td>\n",
       "      <td>18000000</td>\n",
       "      <td>18021365</td>\n",
       "    </tr>\n",
       "    <tr>\n",
       "      <th>15894</th>\n",
       "      <td>12 Years a Slave</td>\n",
       "      <td>2013</td>\n",
       "      <td>9</td>\n",
       "      <td>3</td>\n",
       "      <td>1.833600</td>\n",
       "      <td>58146800</td>\n",
       "      <td>187733202</td>\n",
       "      <td>20000000</td>\n",
       "      <td>20348562</td>\n",
       "    </tr>\n",
       "    <tr>\n",
       "      <th>9215</th>\n",
       "      <td>Milk</td>\n",
       "      <td>2008</td>\n",
       "      <td>8</td>\n",
       "      <td>2</td>\n",
       "      <td>0.592065</td>\n",
       "      <td>37384700</td>\n",
       "      <td>54586584</td>\n",
       "      <td>20000000</td>\n",
       "      <td>22017064</td>\n",
       "    </tr>\n",
       "    <tr>\n",
       "      <th>13920</th>\n",
       "      <td>There Will Be Blood</td>\n",
       "      <td>2007</td>\n",
       "      <td>8</td>\n",
       "      <td>2</td>\n",
       "      <td>0.608901</td>\n",
       "      <td>47231400</td>\n",
       "      <td>76181545</td>\n",
       "      <td>25000000</td>\n",
       "      <td>28578025</td>\n",
       "    </tr>\n",
       "    <tr>\n",
       "      <th>4482</th>\n",
       "      <td>Fargo</td>\n",
       "      <td>1996</td>\n",
       "      <td>8</td>\n",
       "      <td>2</td>\n",
       "      <td>2.515996</td>\n",
       "      <td>46523900</td>\n",
       "      <td>60611975</td>\n",
       "      <td>7000000</td>\n",
       "      <td>10574372</td>\n",
       "    </tr>\n",
       "  </tbody>\n",
       "</table>\n",
       "</div>"
      ],
      "text/plain": [
       "                                title  release_year  oscar_noms  oscar_wins  \\\n",
       "713                        The Artist          2011          10           5   \n",
       "12817             Slumdog Millionaire          2008          10           8   \n",
       "3048   Crouching Tiger, Hidden Dragon          2000          10           4   \n",
       "3931      E.T.: The Extra-Terrestrial          1982           9           4   \n",
       "6563                  The Hurt Locker          2009           9           6   \n",
       "1455                          Birdman          2014           9           4   \n",
       "15894                12 Years a Slave          2013           9           3   \n",
       "9215                             Milk          2008           8           2   \n",
       "13920             There Will Be Blood          2007           8           2   \n",
       "4482                            Fargo          1996           8           2   \n",
       "\n",
       "         dom_roi  domestic_total_adj_gross  intl_total_gross    budget  \\\n",
       "713     1.978112                  47557100         133432856  15000000   \n",
       "12817   8.421329                 165923000         377910544  15000000   \n",
       "3048    6.534051                 191426400         213525736  17000000   \n",
       "3931   40.439100                1048176400         792910554  10500000   \n",
       "6563    0.134521                  18921500          49230772  15000000   \n",
       "1455    1.352255                  43434200         103215094  18000000   \n",
       "15894   1.833600                  58146800         187733202  20000000   \n",
       "9215    0.592065                  37384700          54586584  20000000   \n",
       "13920   0.608901                  47231400          76181545  25000000   \n",
       "4482    2.515996                  46523900          60611975   7000000   \n",
       "\n",
       "       budget_adj  \n",
       "713      15805418  \n",
       "12817    16512798  \n",
       "3048     23398890  \n",
       "3931     25789414  \n",
       "6563     16571756  \n",
       "1455     18021365  \n",
       "15894    20348562  \n",
       "9215     22017064  \n",
       "13920    28578025  \n",
       "4482     10574372  "
      ]
     },
     "execution_count": 2317,
     "metadata": {},
     "output_type": "execute_result"
    }
   ],
   "source": [
    "peek.sort_values(by='oscar_noms', ascending=False).head(10)"
   ]
  },
  {
   "cell_type": "markdown",
   "metadata": {},
   "source": [
    "Season of release vs. mean adjusted domestic total gross. "
   ]
  },
  {
   "cell_type": "code",
   "execution_count": 133,
   "metadata": {
    "collapsed": false
   },
   "outputs": [],
   "source": [
    "def plot_category(cat, y, df):\n",
    "    '''Make bar plot of categorical features.\n",
    "    Args: \n",
    "    y (str) -- name of column of independent variable\n",
    "    cat (str) -- name of categorical feature\n",
    "    df (var) -- name of df'''\n",
    "    grouped = df.groupby(cat)\n",
    "    grouped[y].mean().plot(kind = 'bar')\n",
    "    plt.ylabel('mean %s' %y)\n",
    "    plt.title('%s vs. %s' %(cat, y))\n",
    "    plt.show()\n",
    "\n",
    "def plot_continuous(cat, y, df):\n",
    "    '''Make scatter plot of continuous features. \n",
    "    Args: \n",
    "    y (str) -- name of column of independent variable\n",
    "    cat (str) -- name of categorical feature\n",
    "    df (var) -- name of df'''\n",
    "    df.plot(kind = 'scatter', \n",
    "             x = cat, \n",
    "             y = y, \n",
    "             figsize = (8, 5), \n",
    "             alpha = 0.5)\n",
    "    plt.title('%s vs. %s' %(cat, y))\n",
    "    plt.show()"
   ]
  },
  {
   "cell_type": "code",
   "execution_count": 102,
   "metadata": {
    "collapsed": false
   },
   "outputs": [
    {
     "data": {
      "image/png": "[encoded data removed]",
      "text/plain": [
       "<matplotlib.figure.Figure at 0x10e4760d0>"
      ]
     },
     "metadata": {},
     "output_type": "display_data"
    }
   ],
   "source": [
    "sns.lmplot('theaters', 'dadj_gross_log', newer_movies, size=5, aspect=1.5)\n",
    "plt.title('Theaters vs. Domestic Total Gross (2015$)', fontsize=16)\n",
    "plt.xlabel('Theaters (Widest Release)', fontsize=14)\n",
    "plt.ylabel('Domestic Total Gross (2015$)', fontsize=14)\n",
    "plt.savefig('presentation/lmplot-theaters.png')\n",
    "plt.show()"
   ]
  },
  {
   "cell_type": "code",
   "execution_count": 108,
   "metadata": {
    "collapsed": false
   },
   "outputs": [
    {
     "data": {
      "image/png": "[encoded data removed]",
      "text/plain": [
       "<matplotlib.figure.Figure at 0x110585f50>"
      ]
     },
     "metadata": {},
     "output_type": "display_data"
    }
   ],
   "source": [
    "sns.lmplot('actor_noms_log', 'oscar_noms_log', newer_movies, size=5, aspect=1.5)\n",
    "plt.title('Theaters vs. Domestic Total Gross (2015$)', fontsize=16)\n",
    "plt.xlabel('Theaters (Widest Release)', fontsize=14)\n",
    "plt.ylabel('Domestic Total Gross (2015$)', fontsize=14)\n",
    "#plt.savefig('presentation/lmplot-theaters.png')\n",
    "plt.show()"
   ]
  },
  {
   "cell_type": "code",
   "execution_count": 88,
   "metadata": {
    "collapsed": false
   },
   "outputs": [
    {
     "data": {
      "image/png": "[encoded data removed]",
      "text/plain": [
       "<matplotlib.figure.Figure at 0x10e49f9d0>"
      ]
     },
     "metadata": {},
     "output_type": "display_data"
    }
   ],
   "source": [
    "sns.lmplot('theaters', 'domestic_total_adj_gross', newer_movies)\n",
    "plt.show()"
   ]
  },
  {
   "cell_type": "markdown",
   "metadata": {},
   "source": [
    "Budget vs. domestic total gross."
   ]
  },
  {
   "cell_type": "code",
   "execution_count": 2289,
   "metadata": {
    "collapsed": true
   },
   "outputs": [],
   "source": [
    "# plot dom total adj gross vs features \n",
    "features = ['dom_roi_log', 'dom_roi', 'domestic_total_adj_gross', 'clean_rating', \n",
    "            'theaters', 'theaters2', 'new_genre', 'runtime_mins', 'season', 'oscar_noms', 'oscar_noms_log']\n",
    "\n",
    "# scatter_matrix(train[features], figsize = (10, 10), alpha = 0.5, diagonal='hist')\n",
    "# plt.show()"
   ]
  },
  {
   "cell_type": "code",
   "execution_count": 2290,
   "metadata": {
    "collapsed": true
   },
   "outputs": [],
   "source": [
    "# plot oscar noms vs. theaters\n",
    "features = ['oscar_noms_log', 'oscar_noms', \n",
    "            'oscar_noms_sq', 'theaters3', 'dom_roi', 'runtime_mins', 'dom_roi_log']\n",
    "\n",
    "# scatter_matrix(train[features], figsize = (10, 10), alpha = 0.5, diagonal='hist')\n",
    "# plt.show()"
   ]
  },
  {
   "cell_type": "code",
   "execution_count": 2495,
   "metadata": {
    "collapsed": false
   },
   "outputs": [
    {
     "data": {
      "image/png": "[encoded data removed]",
      "text/plain": [
       "<matplotlib.figure.Figure at 0x12536e610>"
      ]
     },
     "metadata": {},
     "output_type": "display_data"
    }
   ],
   "source": [
    "features2 = ['oscar_noms_log', 'dom_roi', 'theaters', 'theaters2', 'runtime_mins']\n",
    "\n",
    "tired = ['dadj_gross_log', 'budget_adj', \\\n",
    "            'theaters', \n",
    "            'runtime_mins', \n",
    "            'actdir_noms']\n",
    "\n",
    "plot = sns.PairGrid(cvtrain[tired])\n",
    "plot.map_diag(plt.hist)\n",
    "plot.map_upper(plt.scatter, alpha = 0.5)\n",
    "plot.map_lower(plt.scatter, alpha = 0.5);"
   ]
  },
  {
   "cell_type": "markdown",
   "metadata": {},
   "source": [
    "### parse actor, director, writer, producer data..."
   ]
  },
  {
   "cell_type": "code",
   "execution_count": 134,
   "metadata": {
    "collapsed": true
   },
   "outputs": [],
   "source": [
    "def get_critical_people(person_type, n, threshold, data):\n",
    "    '''Parse people across multiple columns and returns df\n",
    "    of actors and their appearances in movies if appearances\n",
    "    in entire dataset > threshold.\n",
    "    Args:\n",
    "    n (int) -- number of columns for that person type\n",
    "    threshold (int) -- cutoff for number of appearances\n",
    "    data (df) -- dataframe\n",
    "    '''\n",
    "    cols = [person_type + str(i) for i in range(1, n+1)] # get list of columns\n",
    "    dflist = []\n",
    "    for col in cols:\n",
    "        dflist.append(pd.DataFrame(data[col].value_counts()))\n",
    "    alldf = dflist[0]\n",
    "    for i in range(1, len(dflist)):\n",
    "         alldf = pd.merge(alldf, dflist[i], left_index=True, right_index=True, how = 'inner')\n",
    "    alldf['total'] = alldf.sum(axis=1)\n",
    "    keepdf = alldf.where(alldf['total'] > threshold).dropna()\n",
    "    return keepdf"
   ]
  },
  {
   "cell_type": "code",
   "execution_count": null,
   "metadata": {
    "collapsed": true
   },
   "outputs": [],
   "source": [
    "# only keep people above apperance threshold \n",
    "crit_actors = get_critical_people('actors', 3, 3, train)\n",
    "crit_dirs = get_critical_people('director', 1, 3, train) \n",
    "crit_producers = get_critical_people('producers', 3, 3, train)\n",
    "crit_writers = get_critical_people('writers', 2, 3, train)"
   ]
  },
  {
   "cell_type": "code",
   "execution_count": 1385,
   "metadata": {
    "collapsed": false
   },
   "outputs": [],
   "source": [
    "# get list of actors \n",
    "actors_list = [index for index in crit_actors.index if index != '']\n",
    "dir_list = [index for index in crit_dirs.index if index != '']\n",
    "prod_list = [index for index in crit_producers.index if index != '']\n",
    "wri_list = [index for index in crit_writers.index if index != '']"
   ]
  },
  {
   "cell_type": "markdown",
   "metadata": {},
   "source": [
    "#### get number of oscar nominations by director and actor"
   ]
  },
  {
   "cell_type": "code",
   "execution_count": 135,
   "metadata": {
    "collapsed": false
   },
   "outputs": [],
   "source": [
    "with open('pickled_data/oscars-data.pkl', 'r') as picklefile:\n",
    "     oscars = pickle.load(picklefile)\n",
    "        \n",
    "oscars = pd.DataFrame(oscars)\n",
    "\n",
    "# get actors\n",
    "actors = oscars[oscars.category.str.contains('Act')]\n",
    "actors.year = actors.year.apply(int)\n",
    "\n",
    "# get directors \n",
    "dirs = oscars[oscars.category == 'Best Director']\n",
    "dirs.year = dirs.year.apply(int)"
   ]
  },
  {
   "cell_type": "code",
   "execution_count": 136,
   "metadata": {
    "collapsed": false
   },
   "outputs": [],
   "source": [
    "def count_nominations(df, person, year):\n",
    "    \"\"\"Total nominations before a given year for an actor or director.\n",
    "    args:\n",
    "        df (dataframe): data frame\n",
    "        person (string): director or actor name name\n",
    "        year (int): cutoff year\n",
    "    returns:\n",
    "        (int) number of nominations\n",
    "    \"\"\"\n",
    "    return df[df.person == person][df.year < year].shape[0]"
   ]
  },
  {
   "cell_type": "markdown",
   "metadata": {},
   "source": [
    "### clean up features - oscars"
   ]
  },
  {
   "cell_type": "code",
   "execution_count": 137,
   "metadata": {
    "collapsed": true
   },
   "outputs": [],
   "source": [
    "# clean up oscars model a bit\n",
    "'''things to clean:\n",
    "- rating: R vs. not R \n",
    "- seasons: holiday, winter, other \n",
    "- genres: drama, foreign, historical + need to split other back out...'''\n",
    "\n",
    "# ratings: split into R and not R\n",
    "def split_r_rating(r):\n",
    "    return r if r == 'R' else 'other'\n",
    "\n",
    "# seasons: split into holiday, winter, and other\n",
    "def recat_seasons(season):\n",
    "    rm_seasons = ['spring', 'summer', 'fall']\n",
    "    return 'other' if season in rm_seasons else season\n",
    "\n",
    "# genres: split into drama, foreign, historical, war, western, other\n",
    "def recat_genre(genre):\n",
    "    keep_genres = ['Drama', 'Foreign', 'Historical', 'War']\n",
    "    return genre if genre in keep_genres else 'other'\n",
    "\n",
    "# log transform\n",
    "def log_transform(stat):\n",
    "    if stat > 0:\n",
    "        return math.log(stat)\n",
    "    elif stat == 0:\n",
    "        return math.log(stat + .001)\n",
    "    else:\n",
    "        return math.log(1 + stat)"
   ]
  },
  {
   "cell_type": "code",
   "execution_count": 138,
   "metadata": {
    "collapsed": false
   },
   "outputs": [
    {
     "name": "stderr",
     "output_type": "stream",
     "text": [
      "/anaconda/lib/python2.7/site-packages/ipykernel/__main__.py:3: SettingWithCopyWarning: \n",
      "A value is trying to be set on a copy of a slice from a DataFrame.\n",
      "Try using .loc[row_indexer,col_indexer] = value instead\n",
      "\n",
      "See the caveats in the documentation: http://pandas.pydata.org/pandas-docs/stable/indexing.html#indexing-view-versus-copy\n",
      "  app.launch_new_instance()\n"
     ]
    }
   ],
   "source": [
    "# add actor oscar nominations up to movie release year\n",
    "newer_movies['actor_noms'] = newer_movies.apply(\n",
    "    lambda row: sum(map(lambda a: count_nominations(actors, a, row.release_year), row.actors)), axis=1)"
   ]
  },
  {
   "cell_type": "code",
   "execution_count": 139,
   "metadata": {
    "collapsed": false
   },
   "outputs": [
    {
     "name": "stderr",
     "output_type": "stream",
     "text": [
      "/anaconda/lib/python2.7/site-packages/ipykernel/__main__.py:3: SettingWithCopyWarning: \n",
      "A value is trying to be set on a copy of a slice from a DataFrame.\n",
      "Try using .loc[row_indexer,col_indexer] = value instead\n",
      "\n",
      "See the caveats in the documentation: http://pandas.pydata.org/pandas-docs/stable/indexing.html#indexing-view-versus-copy\n",
      "  app.launch_new_instance()\n"
     ]
    }
   ],
   "source": [
    "# add director oscar nominations up to movie release year\n",
    "newer_movies['dir_noms'] = newer_movies.apply(\n",
    "    lambda row: sum(map(lambda d: count_nominations(dirs, d, row.release_year), row.director)), axis=1)"
   ]
  },
  {
   "cell_type": "code",
   "execution_count": 140,
   "metadata": {
    "collapsed": false
   },
   "outputs": [
    {
     "name": "stderr",
     "output_type": "stream",
     "text": [
      "/anaconda/lib/python2.7/site-packages/ipykernel/__main__.py:82: SettingWithCopyWarning: \n",
      "A value is trying to be set on a copy of a slice from a DataFrame.\n",
      "Try using .loc[row_indexer,col_indexer] = value instead\n",
      "\n",
      "See the caveats in the documentation: http://pandas.pydata.org/pandas-docs/stable/indexing.html#indexing-view-versus-copy\n",
      "/anaconda/lib/python2.7/site-packages/ipykernel/__main__.py:43: SettingWithCopyWarning: \n",
      "A value is trying to be set on a copy of a slice from a DataFrame.\n",
      "Try using .loc[row_indexer,col_indexer] = value instead\n",
      "\n",
      "See the caveats in the documentation: http://pandas.pydata.org/pandas-docs/stable/indexing.html#indexing-view-versus-copy\n"
     ]
    }
   ],
   "source": [
    "clean_rating(newer_movies, split_r_rating, 'r_rating')\n",
    "recat(newer_movies, recat_seasons, 'hw_season', 'season')\n",
    "recat(newer_movies, recat_genre, 'recat_genre', 'new_genre')\n",
    "recat(newer_movies, log_transform, 'oscar_noms_log', 'oscar_noms')\n",
    "recat(newer_movies, lambda x: x**2, 'oscar_noms_sq', 'oscar_noms')\n",
    "recat(newer_movies, lambda x: x**2, 'runtime_sq', 'runtime_mins')\n",
    "recat(newer_movies, lambda x: x**3, 'runtime3', 'runtime_mins')\n",
    "recat(newer_movies, lambda x: x**4, 'runtime4', 'runtime_mins')"
   ]
  },
  {
   "cell_type": "code",
   "execution_count": 141,
   "metadata": {
    "collapsed": false
   },
   "outputs": [
    {
     "name": "stderr",
     "output_type": "stream",
     "text": [
      "/anaconda/lib/python2.7/site-packages/ipykernel/__main__.py:43: SettingWithCopyWarning: \n",
      "A value is trying to be set on a copy of a slice from a DataFrame.\n",
      "Try using .loc[row_indexer,col_indexer] = value instead\n",
      "\n",
      "See the caveats in the documentation: http://pandas.pydata.org/pandas-docs/stable/indexing.html#indexing-view-versus-copy\n"
     ]
    }
   ],
   "source": [
    "recat(newer_movies, log_transform, 'actor_noms_log', 'actor_noms')\n",
    "recat(newer_movies, log_transform, 'dir_noms_log', 'dir_noms')"
   ]
  },
  {
   "cell_type": "code",
   "execution_count": 142,
   "metadata": {
    "collapsed": false
   },
   "outputs": [
    {
     "name": "stderr",
     "output_type": "stream",
     "text": [
      "/anaconda/lib/python2.7/site-packages/ipykernel/__main__.py:1: SettingWithCopyWarning: \n",
      "A value is trying to be set on a copy of a slice from a DataFrame.\n",
      "Try using .loc[row_indexer,col_indexer] = value instead\n",
      "\n",
      "See the caveats in the documentation: http://pandas.pydata.org/pandas-docs/stable/indexing.html#indexing-view-versus-copy\n",
      "  if __name__ == '__main__':\n",
      "/anaconda/lib/python2.7/site-packages/ipykernel/__main__.py:2: SettingWithCopyWarning: \n",
      "A value is trying to be set on a copy of a slice from a DataFrame.\n",
      "Try using .loc[row_indexer,col_indexer] = value instead\n",
      "\n",
      "See the caveats in the documentation: http://pandas.pydata.org/pandas-docs/stable/indexing.html#indexing-view-versus-copy\n",
      "  from ipykernel import kernelapp as app\n",
      "/anaconda/lib/python2.7/site-packages/ipykernel/__main__.py:43: SettingWithCopyWarning: \n",
      "A value is trying to be set on a copy of a slice from a DataFrame.\n",
      "Try using .loc[row_indexer,col_indexer] = value instead\n",
      "\n",
      "See the caveats in the documentation: http://pandas.pydata.org/pandas-docs/stable/indexing.html#indexing-view-versus-copy\n"
     ]
    }
   ],
   "source": [
    "newer_movies['actdir_noms'] = newer_movies.actor_noms + newer_movies.dir_noms\n",
    "newer_movies['actxdir_noms'] = newer_movies.actor_noms * newer_movies.dir_noms\n",
    "recat(newer_movies, log_transform, 'actdir_noms_log', 'actdir_noms')"
   ]
  },
  {
   "cell_type": "markdown",
   "metadata": {},
   "source": [
    "### clean up features - roi"
   ]
  },
  {
   "cell_type": "code",
   "execution_count": 144,
   "metadata": {
    "collapsed": true
   },
   "outputs": [],
   "source": [
    "'''Notes:\n",
    "- theaters have significant correlation, but colinear?\n",
    "- oscar noms predictive but colinear?\n",
    "- rating - signficant for everything except nc-17\n",
    "- genre - significant for horror; maybe romance? keep horror, act_adven, romance, then others\n",
    "\n",
    "not predictive:\n",
    "- season\n",
    "- runtime'''\n",
    "\n",
    "'''Plot scatter matrix between all variables?'''\n",
    "\n",
    "def roi_rating(rating):\n",
    "    rm_rating = ['', 'NC-17']\n",
    "    return 'other' if rating in rm_rating else rating\n",
    "\n",
    "def roi_genres(genre):\n",
    "    keep_genres = ['Horror', 'Drama', 'Foreign', 'Family']\n",
    "    return genre if genre in keep_genres else 'other'\n",
    "\n",
    "# recat lead actor, dir, etc. - can probably simply to one function but need to figure out how to call\n",
    "# args when implementing these functions in recat()\n",
    "def crit_actor(person):\n",
    "    return person if person in actors_list else 'other'\n",
    "\n",
    "def crit_dir(person):\n",
    "    return person if person in dir_list else 'other'\n",
    "\n",
    "def crit_prod(person):\n",
    "    return person if person in prod_list else 'other'\n",
    "\n",
    "def crit_wri(person):\n",
    "    return person if person in wri_list else 'other'\n",
    "    \n",
    "    \n",
    "# actors_list = [index for index in crit_actors.index if index != '']\n",
    "# dir_list = [index for index in crit_dirs.index if index != '']\n",
    "# prod_list = [index for index in crit_producers.index if index != '']\n",
    "# wri_list = [index for index in crit_writers.index if index != '']"
   ]
  },
  {
   "cell_type": "code",
   "execution_count": 150,
   "metadata": {
    "collapsed": false
   },
   "outputs": [
    {
     "name": "stderr",
     "output_type": "stream",
     "text": [
      "/anaconda/lib/python2.7/site-packages/ipykernel/__main__.py:43: SettingWithCopyWarning: \n",
      "A value is trying to be set on a copy of a slice from a DataFrame.\n",
      "Try using .loc[row_indexer,col_indexer] = value instead\n",
      "\n",
      "See the caveats in the documentation: http://pandas.pydata.org/pandas-docs/stable/indexing.html#indexing-view-versus-copy\n"
     ]
    }
   ],
   "source": [
    "recat(newer_movies, roi_rating, 'roi_rating', 'clean_rating')\n",
    "recat(newer_movies, roi_genres, 'roi_genre', 'new_genre')\n",
    "recat(newer_movies, log_transform, 'theaters_log', 'theaters')\n",
    "recat(newer_movies, log_transform, 'dom_roi_log', 'dom_roi')\n",
    "recat(newer_movies, lambda x: x**2, 'theaters2', 'theaters')\n",
    "recat(newer_movies, lambda x: x**3, 'theaters3', 'theaters')\n",
    "recat(newer_movies, lambda x: x**4, 'theaters4', 'theaters')\n",
    "recat(newer_movies, lambda x: x**5, 'theaters5', 'theaters')\n",
    "recat(newer_movies, lambda x: x**6, 'theaters6', 'theaters')"
   ]
  },
  {
   "cell_type": "code",
   "execution_count": 145,
   "metadata": {
    "collapsed": true
   },
   "outputs": [
    {
     "ename": "NameError",
     "evalue": "global name 'actors_list' is not defined",
     "output_type": "error",
     "traceback": [
      "\u001b[0;31m---------------------------------------------------------------------------\u001b[0m",
      "\u001b[0;31mNameError\u001b[0m                                 Traceback (most recent call last)",
      "\u001b[0;32m<ipython-input-145-62de017fc693>\u001b[0m in \u001b[0;36m<module>\u001b[0;34m()\u001b[0m\n\u001b[0;32m----> 1\u001b[0;31m \u001b[0mrecat\u001b[0m\u001b[0;34m(\u001b[0m\u001b[0mnewer_movies\u001b[0m\u001b[0;34m,\u001b[0m \u001b[0mcrit_actor\u001b[0m\u001b[0;34m,\u001b[0m \u001b[0;34m'crit_actor1'\u001b[0m\u001b[0;34m,\u001b[0m \u001b[0;34m'actors1'\u001b[0m\u001b[0;34m)\u001b[0m\u001b[0;34m\u001b[0m\u001b[0m\n\u001b[0m\u001b[1;32m      2\u001b[0m \u001b[0mrecat\u001b[0m\u001b[0;34m(\u001b[0m\u001b[0mnewer_movies\u001b[0m\u001b[0;34m,\u001b[0m \u001b[0mcrit_dir\u001b[0m\u001b[0;34m,\u001b[0m \u001b[0;34m'crit_dir1'\u001b[0m\u001b[0;34m,\u001b[0m \u001b[0;34m'director1'\u001b[0m\u001b[0;34m)\u001b[0m\u001b[0;34m\u001b[0m\u001b[0m\n\u001b[1;32m      3\u001b[0m \u001b[0mrecat\u001b[0m\u001b[0;34m(\u001b[0m\u001b[0mnewer_movies\u001b[0m\u001b[0;34m,\u001b[0m \u001b[0mcrit_prod\u001b[0m\u001b[0;34m,\u001b[0m \u001b[0;34m'crit_prod1'\u001b[0m\u001b[0;34m,\u001b[0m \u001b[0;34m'producers1'\u001b[0m\u001b[0;34m)\u001b[0m\u001b[0;34m\u001b[0m\u001b[0m\n\u001b[1;32m      4\u001b[0m \u001b[0mrecat\u001b[0m\u001b[0;34m(\u001b[0m\u001b[0mnewer_movies\u001b[0m\u001b[0;34m,\u001b[0m \u001b[0mcrit_wri\u001b[0m\u001b[0;34m,\u001b[0m \u001b[0;34m'crit_wri1'\u001b[0m\u001b[0;34m,\u001b[0m \u001b[0;34m'writers1'\u001b[0m\u001b[0;34m)\u001b[0m\u001b[0;34m\u001b[0m\u001b[0m\n",
      "\u001b[0;32m<ipython-input-44-f046a7c07001>\u001b[0m in \u001b[0;36mrecat\u001b[0;34m(df, func, new_col, old_col)\u001b[0m\n\u001b[1;32m     41\u001b[0m     \u001b[0mold_col\u001b[0m \u001b[0;34m(\u001b[0m\u001b[0mstr\u001b[0m\u001b[0;34m)\u001b[0m \u001b[0;34m-\u001b[0m\u001b[0;34m-\u001b[0m \u001b[0mname\u001b[0m \u001b[0mof\u001b[0m \u001b[0mold\u001b[0m \u001b[0mcolumn\u001b[0m \u001b[0;34m(\u001b[0m\u001b[0mon\u001b[0m \u001b[0mwhich\u001b[0m \u001b[0mto\u001b[0m \u001b[0mapply\u001b[0m \u001b[0mfunction\u001b[0m\u001b[0;34m)\u001b[0m\u001b[0;34m\u001b[0m\u001b[0m\n\u001b[1;32m     42\u001b[0m     '''\n\u001b[0;32m---> 43\u001b[0;31m     \u001b[0mdf\u001b[0m\u001b[0;34m[\u001b[0m\u001b[0mnew_col\u001b[0m\u001b[0;34m]\u001b[0m \u001b[0;34m=\u001b[0m \u001b[0mdf\u001b[0m\u001b[0;34m.\u001b[0m\u001b[0mloc\u001b[0m\u001b[0;34m[\u001b[0m\u001b[0;34m:\u001b[0m\u001b[0;34m,\u001b[0m \u001b[0mold_col\u001b[0m\u001b[0;34m]\u001b[0m\u001b[0;34m.\u001b[0m\u001b[0mapply\u001b[0m\u001b[0;34m(\u001b[0m\u001b[0mfunc\u001b[0m\u001b[0;34m)\u001b[0m\u001b[0;34m\u001b[0m\u001b[0m\n\u001b[0m\u001b[1;32m     44\u001b[0m \u001b[0;34m\u001b[0m\u001b[0m\n\u001b[1;32m     45\u001b[0m \u001b[0;31m# map raw genres to simple genres\u001b[0m\u001b[0;34m\u001b[0m\u001b[0;34m\u001b[0m\u001b[0m\n",
      "\u001b[0;32m//anaconda/lib/python2.7/site-packages/pandas/core/series.pyc\u001b[0m in \u001b[0;36mapply\u001b[0;34m(self, func, convert_dtype, args, **kwds)\u001b[0m\n\u001b[1;32m   2167\u001b[0m             \u001b[0mvalues\u001b[0m \u001b[0;34m=\u001b[0m \u001b[0mlib\u001b[0m\u001b[0;34m.\u001b[0m\u001b[0mmap_infer\u001b[0m\u001b[0;34m(\u001b[0m\u001b[0mvalues\u001b[0m\u001b[0;34m,\u001b[0m \u001b[0mlib\u001b[0m\u001b[0;34m.\u001b[0m\u001b[0mTimestamp\u001b[0m\u001b[0;34m)\u001b[0m\u001b[0;34m\u001b[0m\u001b[0m\n\u001b[1;32m   2168\u001b[0m \u001b[0;34m\u001b[0m\u001b[0m\n\u001b[0;32m-> 2169\u001b[0;31m         \u001b[0mmapped\u001b[0m \u001b[0;34m=\u001b[0m \u001b[0mlib\u001b[0m\u001b[0;34m.\u001b[0m\u001b[0mmap_infer\u001b[0m\u001b[0;34m(\u001b[0m\u001b[0mvalues\u001b[0m\u001b[0;34m,\u001b[0m \u001b[0mf\u001b[0m\u001b[0;34m,\u001b[0m \u001b[0mconvert\u001b[0m\u001b[0;34m=\u001b[0m\u001b[0mconvert_dtype\u001b[0m\u001b[0;34m)\u001b[0m\u001b[0;34m\u001b[0m\u001b[0m\n\u001b[0m\u001b[1;32m   2170\u001b[0m         \u001b[0;32mif\u001b[0m \u001b[0mlen\u001b[0m\u001b[0;34m(\u001b[0m\u001b[0mmapped\u001b[0m\u001b[0;34m)\u001b[0m \u001b[0;32mand\u001b[0m \u001b[0misinstance\u001b[0m\u001b[0;34m(\u001b[0m\u001b[0mmapped\u001b[0m\u001b[0;34m[\u001b[0m\u001b[0;36m0\u001b[0m\u001b[0;34m]\u001b[0m\u001b[0;34m,\u001b[0m \u001b[0mSeries\u001b[0m\u001b[0;34m)\u001b[0m\u001b[0;34m:\u001b[0m\u001b[0;34m\u001b[0m\u001b[0m\n\u001b[1;32m   2171\u001b[0m             \u001b[0;32mfrom\u001b[0m \u001b[0mpandas\u001b[0m\u001b[0;34m.\u001b[0m\u001b[0mcore\u001b[0m\u001b[0;34m.\u001b[0m\u001b[0mframe\u001b[0m \u001b[0;32mimport\u001b[0m \u001b[0mDataFrame\u001b[0m\u001b[0;34m\u001b[0m\u001b[0m\n",
      "\u001b[0;32mpandas/src/inference.pyx\u001b[0m in \u001b[0;36mpandas.lib.map_infer (pandas/lib.c:62578)\u001b[0;34m()\u001b[0m\n",
      "\u001b[0;32m<ipython-input-144-bb5cba6fd649>\u001b[0m in \u001b[0;36mcrit_actor\u001b[0;34m(person)\u001b[0m\n\u001b[1;32m     22\u001b[0m \u001b[0;31m# args when implementing these functions in recat()\u001b[0m\u001b[0;34m\u001b[0m\u001b[0;34m\u001b[0m\u001b[0m\n\u001b[1;32m     23\u001b[0m \u001b[0;32mdef\u001b[0m \u001b[0mcrit_actor\u001b[0m\u001b[0;34m(\u001b[0m\u001b[0mperson\u001b[0m\u001b[0;34m)\u001b[0m\u001b[0;34m:\u001b[0m\u001b[0;34m\u001b[0m\u001b[0m\n\u001b[0;32m---> 24\u001b[0;31m     \u001b[0;32mreturn\u001b[0m \u001b[0mperson\u001b[0m \u001b[0;32mif\u001b[0m \u001b[0mperson\u001b[0m \u001b[0;32min\u001b[0m \u001b[0mactors_list\u001b[0m \u001b[0;32melse\u001b[0m \u001b[0;34m'other'\u001b[0m\u001b[0;34m\u001b[0m\u001b[0m\n\u001b[0m\u001b[1;32m     25\u001b[0m \u001b[0;34m\u001b[0m\u001b[0m\n\u001b[1;32m     26\u001b[0m \u001b[0;32mdef\u001b[0m \u001b[0mcrit_dir\u001b[0m\u001b[0;34m(\u001b[0m\u001b[0mperson\u001b[0m\u001b[0;34m)\u001b[0m\u001b[0;34m:\u001b[0m\u001b[0;34m\u001b[0m\u001b[0m\n",
      "\u001b[0;31mNameError\u001b[0m: global name 'actors_list' is not defined"
     ]
    }
   ],
   "source": [
    "recat(newer_movies, crit_actor, 'crit_actor1', 'actors1')\n",
    "recat(newer_movies, crit_dir, 'crit_dir1', 'director1')\n",
    "recat(newer_movies, crit_prod, 'crit_prod1', 'producers1')\n",
    "recat(newer_movies, crit_wri, 'crit_wri1', 'writers1')"
   ]
  },
  {
   "cell_type": "code",
   "execution_count": 146,
   "metadata": {
    "collapsed": false
   },
   "outputs": [
    {
     "name": "stderr",
     "output_type": "stream",
     "text": [
      "/anaconda/lib/python2.7/site-packages/ipykernel/__main__.py:43: SettingWithCopyWarning: \n",
      "A value is trying to be set on a copy of a slice from a DataFrame.\n",
      "Try using .loc[row_indexer,col_indexer] = value instead\n",
      "\n",
      "See the caveats in the documentation: http://pandas.pydata.org/pandas-docs/stable/indexing.html#indexing-view-versus-copy\n"
     ]
    }
   ],
   "source": [
    "recat(newer_movies, log_transform, 'dadj_gross_log', 'domestic_total_adj_gross')"
   ]
  },
  {
   "cell_type": "markdown",
   "metadata": {},
   "source": [
    "### interaction effects"
   ]
  },
  {
   "cell_type": "markdown",
   "metadata": {},
   "source": [
    "### cross-validation set up"
   ]
  },
  {
   "cell_type": "code",
   "execution_count": 147,
   "metadata": {
    "collapsed": true
   },
   "outputs": [],
   "source": [
    "# assumptions\n",
    "trainyr_max = 2009.0\n",
    "trainandcv_max = 2012.0\n",
    "cvyr = [2010.0, 2011.0, 2012.0]\n",
    "testyr = [2013.0, 2014.0, 2015.0]"
   ]
  },
  {
   "cell_type": "code",
   "execution_count": 148,
   "metadata": {
    "collapsed": true
   },
   "outputs": [],
   "source": [
    "# update keep list with values so that they are included in training and test set \n",
    "keep = ['release_year', 'budget', 'budget_adj', 'oscar_noms', 'oscar_noms_sq', 'oscar_noms_log', 'runtime_mins', \n",
    "        'theaters', 'r_rating', 'hw_season', 'recat_genre', 'theaters_log', 'runtime_sq', 'runtime3', 'runtime4',\n",
    "        'theaters2', 'theaters3', 'theaters4', 'dom_roi', 'dom_roi_log', 'actor_noms', 'dir_noms', 'actor_noms_log',\n",
    "       'dir_noms_log', 'actxdir_noms', 'actdir_noms_log', 'actdir_noms', 'domestic_total_adj_gross',\n",
    "        'dadj_gross_log', 'roi_genre', 'roi_rating']"
   ]
  },
  {
   "cell_type": "code",
   "execution_count": 151,
   "metadata": {
    "collapsed": false
   },
   "outputs": [
    {
     "name": "stderr",
     "output_type": "stream",
     "text": [
      "/anaconda/lib/python2.7/site-packages/ipykernel/__main__.py:4: SettingWithCopyWarning: \n",
      "A value is trying to be set on a copy of a slice from a DataFrame\n",
      "\n",
      "See the caveats in the documentation: http://pandas.pydata.org/pandas-docs/stable/indexing.html#indexing-view-versus-copy\n"
     ]
    }
   ],
   "source": [
    "# get dummies and drop \"other\" dummies\n",
    "# rerun this if keep list is updated \n",
    "temp = newer_movies[keep]\n",
    "temp.dropna(inplace = True)\n",
    "dummies = pd.get_dummies(temp)\n",
    "# keep_dummy = [c for c in dummies.columns if 'other' not in c.lower()]\n",
    "# formodel = dummies[keep_dummy]\n",
    "formodel = sm.add_constant(dummies)"
   ]
  },
  {
   "cell_type": "code",
   "execution_count": 2245,
   "metadata": {
    "collapsed": false
   },
   "outputs": [],
   "source": [
    "# testing interaction effects - rating x genre \n",
    "formodel['horror_R'] = formodel.roi_rating_R * formodel.roi_genre_Horror"
   ]
  },
  {
   "cell_type": "code",
   "execution_count": 1891,
   "metadata": {
    "collapsed": false
   },
   "outputs": [
    {
     "data": {
      "text/plain": [
       "array([], dtype=int64)"
      ]
     },
     "execution_count": 1891,
     "metadata": {},
     "output_type": "execute_result"
    }
   ],
   "source": [
    "#pd.isnull(temp).any().nonzero()[0]"
   ]
  },
  {
   "cell_type": "code",
   "execution_count": 80,
   "metadata": {
    "collapsed": false
   },
   "outputs": [
    {
     "data": {
      "text/plain": [
       "(1103, 47)"
      ]
     },
     "execution_count": 80,
     "metadata": {},
     "output_type": "execute_result"
    }
   ],
   "source": [
    "formodel.shape"
   ]
  },
  {
   "cell_type": "code",
   "execution_count": 84,
   "metadata": {
    "collapsed": false
   },
   "outputs": [
    {
     "data": {
      "text/plain": [
       "(743, 47)"
      ]
     },
     "execution_count": 84,
     "metadata": {},
     "output_type": "execute_result"
    }
   ],
   "source": [
    "train.shape"
   ]
  },
  {
   "cell_type": "code",
   "execution_count": 83,
   "metadata": {
    "collapsed": false
   },
   "outputs": [
    {
     "data": {
      "text/plain": [
       "(961, 47)"
      ]
     },
     "execution_count": 83,
     "metadata": {},
     "output_type": "execute_result"
    }
   ],
   "source": [
    "cvtrain.shape"
   ]
  },
  {
   "cell_type": "code",
   "execution_count": 152,
   "metadata": {
    "collapsed": false
   },
   "outputs": [],
   "source": [
    "# split into train, val, test\n",
    "train = formodel[formodel['release_year'] <= trainyr_max]\n",
    "cvtrain = formodel[formodel['release_year'] <= trainandcv_max]\n",
    "val = formodel[formodel['release_year'].isin(cvyr)]\n",
    "test = formodel[formodel['release_year'].isin(testyr)]"
   ]
  },
  {
   "cell_type": "code",
   "execution_count": 153,
   "metadata": {
    "collapsed": false
   },
   "outputs": [
    {
     "name": "stdout",
     "output_type": "stream",
     "text": [
      "True\n",
      "743 218 142\n",
      "train as % of total:  0.673617407072\n",
      "cv as % of total:  0.197642792384\n",
      "test as % of total:  0.128739800544\n"
     ]
    }
   ],
   "source": [
    "# check if they add up\n",
    "print train.shape[0] + val.shape[0] + test.shape[0] == formodel.shape[0]\n",
    "print train.shape[0], val.shape[0], test.shape[0] \n",
    "\n",
    "# check percentages\n",
    "print 'train as % of total: ', float(train.shape[0]) / float(formodel.shape[0])\n",
    "print 'cv as % of total: ', float(val.shape[0]) / float(formodel.shape[0])\n",
    "print 'test as % of total: ', float(test.shape[0]) / float(formodel.shape[0])"
   ]
  },
  {
   "cell_type": "code",
   "execution_count": 1585,
   "metadata": {
    "collapsed": true
   },
   "outputs": [],
   "source": [
    "# # get model using skl\n",
    "# def format_df(features, ind, data):\n",
    "#     '''Format df for use in skl linear regression.\n",
    "#     Args:\n",
    "#     cat_features (list) -- list of column names of categorical features\n",
    "#     cont_features (list) -- list of column names of continuous features\n",
    "#     ind (str) - name of dependent var to predict\n",
    "#     data (df) - dataset to use\n",
    "#     '''\n",
    "#     vals = features + [ind] + ['release_year'] # get list of all columns being used in model\n",
    "#     data.dropna(subset = vals, inplace = True) # drop rows with NaN in any column \n",
    "#     dummies = pd.get_dummies(data[vals])\n",
    "#     # need to drop one dummy for each cat -- automatically drops anything with \"other\" \n",
    "#     keep_dummy = [c for c in dummies.columns if 'other' not in c.lower()] \n",
    "#     dummies = dummies[keep_dummy] # full df with dummy variables\n",
    "    \n",
    "#     # split data for train, val, test\n",
    "#     train = dummies[dummies['release_year'] <= trainyr_max]\n",
    "#     val = dummies[dummies['release_year'].isin(cvyr)]\n",
    "#     test = dummies[dummies['release_year'].isin(testyr)]\n",
    "#     return train, val, test \n",
    "\n",
    "# def get_Xy(features, ind, data):\n",
    "#     X = data[features]\n",
    "#     y = data[ind]\n",
    "#     return X, y"
   ]
  },
  {
   "cell_type": "code",
   "execution_count": null,
   "metadata": {
    "collapsed": true
   },
   "outputs": [],
   "source": [
    "# # some more checks\n",
    "# train.groupby('release_year').count()\n",
    "# cv.groupby('release_year').count()\n",
    "# test.groupby('release_year').count()"
   ]
  },
  {
   "cell_type": "markdown",
   "metadata": {},
   "source": [
    "### set up functions for regression"
   ]
  },
  {
   "cell_type": "code",
   "execution_count": 154,
   "metadata": {
    "collapsed": true
   },
   "outputs": [],
   "source": [
    "# get model using skl\n",
    "def get_xy_old(features, ind, df):\n",
    "    \"\"\"Get X and y for use in skl linear regression.\n",
    "    \"\"\"\n",
    "    # match general feature category to all its dummies\n",
    "    all_features = ['const']\n",
    "    cols = list(df.columns)\n",
    "    for feature in features:\n",
    "        all_features.extend([col for col in cols if feature in col])\n",
    "    # get df with dummies for features\n",
    "    X = df[all_features]\n",
    "    y = df[ind]\n",
    "    return X, y\n",
    "\n",
    "def get_xy(features, ind, df):\n",
    "    \"\"\"Get X and y for use in skl linear regression.\n",
    "    \"\"\"\n",
    "    X = df[features]\n",
    "    y = df[ind]\n",
    "    return X, y"
   ]
  },
  {
   "cell_type": "code",
   "execution_count": 155,
   "metadata": {
    "collapsed": false
   },
   "outputs": [],
   "source": [
    "def regress_skl(X, y):  \n",
    "    '''Fit linear regression model using skl.\n",
    "    Prints rsq and intercept and returns model.'''\n",
    "    # fit model\n",
    "    m = LinearRegression()\n",
    "    m.fit(X, y)\n",
    "    coefs = zip(X.columns, m.coef_)\n",
    "    rsq = m.score(X, y)\n",
    "    intercept = m.intercept_\n",
    "    print 'rsquared: ', rsq\n",
    "    print 'intercept: ', intercept\n",
    "#     print 'coefs: ', coefs\n",
    "    return m\n",
    "\n",
    "def reg_lasso(X, y, alpha):  \n",
    "    '''Fit linear regression model using l1 regularization.'''\n",
    "    # fit model\n",
    "    m = linear_model.Lasso(alpha=alpha)\n",
    "    m.fit(X, y)\n",
    "    coefs = zip(X.columns, m.coef_)\n",
    "    rsq = m.score(X, y)\n",
    "    intercept = m.intercept_\n",
    "    print 'rsquared: ', rsq\n",
    "    print 'intercept: ', intercept\n",
    "#     print 'coefs: ', coefs\n",
    "    return m\n",
    "\n",
    "def validate(model, X_val, y_val, X, y):\n",
    "    '''Generate predicted values for validation set and compute mean squared\n",
    "    error vs. training set.\n",
    "    Returns for the validation set: residuals, mse, ypred values. \n",
    "    Args:\n",
    "    model -- fitted linear regression model to use for predictions\n",
    "    X, y -- X, y of training set\n",
    "    X_val, y_val = X, y of validation set \n",
    "    '''\n",
    "    val_ypred = model.predict(X_val)\n",
    "    val_resid = y_val - val_ypred\n",
    "    val_mse = mean_squared_error(y_val, val_ypred)\n",
    "    \n",
    "    train_ypred = model.predict(X)\n",
    "    train_resid = y - train_ypred\n",
    "    train_mse = mean_squared_error(y, train_ypred)\n",
    "    print 'train mse: ', train_mse, 'vs. val mse: ', val_mse\n",
    "    return val_resid, val_mse, val_ypred\n",
    "\n",
    "def plot_qq(resid):\n",
    "    stats.probplot(resid, dist=\"norm\", plot=plt)\n",
    "    plt.show()\n",
    "\n",
    "def cross_validate_mse(X, y, folds):\n",
    "    '''Cross validate model. Returns mean mse.'''\n",
    "    scores = cross_validation.cross_val_score(LinearRegression(), X, y, scoring='mean_squared_error', cv=folds)\n",
    "    return scores.mean()\n",
    "\n",
    "def cross_validate(X, y, folds):\n",
    "    '''Cross validate model. Returns mean r-squared.'''\n",
    "    scores = cross_validation.cross_val_score(LinearRegression(), X, y, cv=folds)\n",
    "    return scores.mean()\n",
    "    \n",
    "#     sse = sum((y_val - y_pred)**2)\n",
    "#     mse = sse / len(y_val)"
   ]
  },
  {
   "cell_type": "markdown",
   "metadata": {},
   "source": [
    "### predict dom roi"
   ]
  },
  {
   "cell_type": "code",
   "execution_count": null,
   "metadata": {
    "collapsed": true
   },
   "outputs": [],
   "source": [
    "'''Notes:\n",
    "- theaters have significant correlation, but colinear?\n",
    "- oscar noms predictive but colinear?\n",
    "- rating - signficant for everything except nc-17\n",
    "- genre - significant for horror; maybe romance? keep horror, act_adven, romance, then others\n",
    "\n",
    "not predictive:\n",
    "- season\n",
    "- runtime'''\n",
    "\n",
    "'''Plot scatter matrix between all variables?'''"
   ]
  },
  {
   "cell_type": "markdown",
   "metadata": {},
   "source": [
    "### test dom total gross models"
   ]
  },
  {
   "cell_type": "code",
   "execution_count": 1,
   "metadata": {
    "collapsed": false
   },
   "outputs": [
    {
     "ename": "NameError",
     "evalue": "name 'sns' is not defined",
     "output_type": "error",
     "traceback": [
      "\u001b[0;31m---------------------------------------------------------------------------\u001b[0m",
      "\u001b[0;31mNameError\u001b[0m                                 Traceback (most recent call last)",
      "\u001b[0;32m<ipython-input-1-7590e7465150>\u001b[0m in \u001b[0;36m<module>\u001b[0;34m()\u001b[0m\n\u001b[0;32m----> 1\u001b[0;31m \u001b[0msns\u001b[0m\u001b[0;34m.\u001b[0m\u001b[0mlmplot\u001b[0m\u001b[0;34m(\u001b[0m\u001b[0;34m'theaters'\u001b[0m\u001b[0;34m,\u001b[0m \u001b[0;34m'dadj_gross_log'\u001b[0m\u001b[0;34m,\u001b[0m \u001b[0mcvtrain\u001b[0m\u001b[0;34m)\u001b[0m\u001b[0;34m\u001b[0m\u001b[0m\n\u001b[0m",
      "\u001b[0;31mNameError\u001b[0m: name 'sns' is not defined"
     ]
    }
   ],
   "source": [
    "sns.lmplot('theaters', 'dadj_gross_log', cvtrain)"
   ]
  },
  {
   "cell_type": "code",
   "execution_count": 2186,
   "metadata": {
    "collapsed": false
   },
   "outputs": [
    {
     "data": {
      "text/plain": [
       "Index([u'const', u'release_year', u'budget', u'budget_adj', u'oscar_noms',\n",
       "       u'oscar_noms_sq', u'oscar_noms_log', u'runtime_mins', u'theaters',\n",
       "       u'theaters_log', u'runtime_sq', u'runtime3', u'runtime4', u'theaters2',\n",
       "       u'theaters3', u'theaters4', u'dom_roi', u'dom_roi_log', u'actor_noms',\n",
       "       u'dir_noms', u'actor_noms_log', u'dir_noms_log', u'actxdir_noms',\n",
       "       u'actdir_noms_log', u'actdir_noms', u'domestic_total_adj_gross',\n",
       "       u'dadj_gross_log', u'r_rating_R', u'r_rating_other',\n",
       "       u'hw_season_holiday', u'hw_season_other', u'hw_season_winter',\n",
       "       u'recat_genre_Drama', u'recat_genre_Foreign', u'recat_genre_Historical',\n",
       "       u'recat_genre_War', u'recat_genre_other', u'roi_genre_Act_Adven',\n",
       "       u'roi_genre_Documentary', u'roi_genre_Horror', u'roi_genre_other'],\n",
       "      dtype='object')"
      ]
     },
     "execution_count": 2186,
     "metadata": {},
     "output_type": "execute_result"
    }
   ],
   "source": [
    "cvtrain.columns"
   ]
  },
  {
   "cell_type": "code",
   "execution_count": 156,
   "metadata": {
    "collapsed": false
   },
   "outputs": [],
   "source": [
    "def get_rsq4plot(features, ind, df):\n",
    "    \"\"\"Gets list of adjusted rsquares based on number\n",
    "    of features included.\n",
    "    Args:\n",
    "    features (list) -- list of features\n",
    "    ind (str) -- column name of independent var\n",
    "    df (df) -- df\n",
    "    Returns:\n",
    "    list of (num features, adjusted r squared tuples)\n",
    "    \"\"\"\n",
    "    adj_rsqs = []\n",
    "    feats = []\n",
    "    for i in range(1, len(features)):\n",
    "        feats.append(features[:i+1])\n",
    "    for feat in feats:\n",
    "        X, y = get_xy(feat, ind, df)\n",
    "        model = sm.OLS(y, X)\n",
    "        model = model.fit()\n",
    "        adj_rsqs.append(model.rsquared_adj)\n",
    "    print feats\n",
    "    return (map(lambda x: len(x), feats), adj_rsqs)  \n",
    "\n",
    "def get_mse4plot(features, ind, df):\n",
    "    \"\"\"Gets list of average mse from crossvalidation based on number\n",
    "    of features included.\n",
    "    Args:\n",
    "    features (list) -- list of features\n",
    "    ind (str) -- column name of independent var\n",
    "    df (df) -- df\n",
    "    Returns:\n",
    "    list of (num features, average mse tuples); note that \n",
    "    first pair is for the intercept only \n",
    "    \"\"\"\n",
    "    avg_mse = []\n",
    "    feats = []\n",
    "    for i in range(1, len(features)):\n",
    "        feats.append(features[:i+1])\n",
    "    for feat in feats:\n",
    "        X, y = get_xy(feat, ind, df)\n",
    "        avg_mse.append(cross_validate_mse(X, y, 5))\n",
    "    return (map(lambda x: len(x), feats), map(lambda x: abs(x), avg_mse))    "
   ]
  },
  {
   "cell_type": "code",
   "execution_count": 188,
   "metadata": {
    "collapsed": false
   },
   "outputs": [
    {
     "data": {
      "text/html": [
       "<table class=\"simpletable\">\n",
       "<caption>OLS Regression Results</caption>\n",
       "<tr>\n",
       "  <th>Dep. Variable:</th>     <td>dadj_gross_log</td>  <th>  R-squared:         </th> <td>   0.586</td> \n",
       "</tr>\n",
       "<tr>\n",
       "  <th>Model:</th>                   <td>OLS</td>       <th>  Adj. R-squared:    </th> <td>   0.581</td> \n",
       "</tr>\n",
       "<tr>\n",
       "  <th>Method:</th>             <td>Least Squares</td>  <th>  F-statistic:       </th> <td>   134.3</td> \n",
       "</tr>\n",
       "<tr>\n",
       "  <th>Date:</th>             <td>Fri, 29 Jan 2016</td> <th>  Prob (F-statistic):</th> <td>4.44e-174</td>\n",
       "</tr>\n",
       "<tr>\n",
       "  <th>Time:</th>                 <td>10:38:38</td>     <th>  Log-Likelihood:    </th> <td> -1660.4</td> \n",
       "</tr>\n",
       "<tr>\n",
       "  <th>No. Observations:</th>      <td>   961</td>      <th>  AIC:               </th> <td>   3343.</td> \n",
       "</tr>\n",
       "<tr>\n",
       "  <th>Df Residuals:</th>          <td>   950</td>      <th>  BIC:               </th> <td>   3396.</td> \n",
       "</tr>\n",
       "<tr>\n",
       "  <th>Df Model:</th>              <td>    10</td>      <th>                     </th>     <td> </td>    \n",
       "</tr>\n",
       "<tr>\n",
       "  <th>Covariance Type:</th>      <td>nonrobust</td>    <th>                     </th>     <td> </td>    \n",
       "</tr>\n",
       "</table>\n",
       "<table class=\"simpletable\">\n",
       "<tr>\n",
       "          <td></td>             <th>coef</th>     <th>std err</th>      <th>t</th>      <th>P>|t|</th> <th>[95.0% Conf. Int.]</th> \n",
       "</tr>\n",
       "<tr>\n",
       "  <th>const</th>             <td>   11.5008</td> <td>    0.407</td> <td>   28.264</td> <td> 0.000</td> <td>   10.702    12.299</td>\n",
       "</tr>\n",
       "<tr>\n",
       "  <th>budget_adj</th>        <td> 1.497e-08</td> <td> 6.42e-09</td> <td>    2.333</td> <td> 0.020</td> <td> 2.38e-09  2.76e-08</td>\n",
       "</tr>\n",
       "<tr>\n",
       "  <th>theaters</th>          <td>    0.0015</td> <td>  5.3e-05</td> <td>   27.847</td> <td> 0.000</td> <td>    0.001     0.002</td>\n",
       "</tr>\n",
       "<tr>\n",
       "  <th>runtime_mins</th>      <td>    0.0121</td> <td>    0.003</td> <td>    4.455</td> <td> 0.000</td> <td>    0.007     0.017</td>\n",
       "</tr>\n",
       "<tr>\n",
       "  <th>actdir_noms</th>       <td>    0.0385</td> <td>    0.019</td> <td>    2.003</td> <td> 0.045</td> <td>    0.001     0.076</td>\n",
       "</tr>\n",
       "<tr>\n",
       "  <th>hw_season_holiday</th> <td>    0.6086</td> <td>    0.126</td> <td>    4.811</td> <td> 0.000</td> <td>    0.360     0.857</td>\n",
       "</tr>\n",
       "<tr>\n",
       "  <th>roi_genre_Horror</th>  <td>   -0.3367</td> <td>    0.156</td> <td>   -2.155</td> <td> 0.031</td> <td>   -0.643    -0.030</td>\n",
       "</tr>\n",
       "<tr>\n",
       "  <th>roi_rating_G</th>      <td>    0.9712</td> <td>    0.439</td> <td>    2.210</td> <td> 0.027</td> <td>    0.109     1.833</td>\n",
       "</tr>\n",
       "<tr>\n",
       "  <th>roi_rating_PG</th>     <td>    0.8569</td> <td>    0.294</td> <td>    2.919</td> <td> 0.004</td> <td>    0.281     1.433</td>\n",
       "</tr>\n",
       "<tr>\n",
       "  <th>roi_rating_PG-13</th>  <td>    1.0166</td> <td>    0.271</td> <td>    3.748</td> <td> 0.000</td> <td>    0.484     1.549</td>\n",
       "</tr>\n",
       "<tr>\n",
       "  <th>roi_rating_R</th>      <td>    1.1495</td> <td>    0.258</td> <td>    4.454</td> <td> 0.000</td> <td>    0.643     1.656</td>\n",
       "</tr>\n",
       "</table>\n",
       "<table class=\"simpletable\">\n",
       "<tr>\n",
       "  <th>Omnibus:</th>       <td>56.736</td> <th>  Durbin-Watson:     </th> <td>   2.062</td>\n",
       "</tr>\n",
       "<tr>\n",
       "  <th>Prob(Omnibus):</th> <td> 0.000</td> <th>  Jarque-Bera (JB):  </th> <td>  86.731</td>\n",
       "</tr>\n",
       "<tr>\n",
       "  <th>Skew:</th>          <td>-0.472</td> <th>  Prob(JB):          </th> <td>1.47e-19</td>\n",
       "</tr>\n",
       "<tr>\n",
       "  <th>Kurtosis:</th>      <td> 4.129</td> <th>  Cond. No.          </th> <td>2.57e+08</td>\n",
       "</tr>\n",
       "</table>"
      ],
      "text/plain": [
       "<class 'statsmodels.iolib.summary.Summary'>\n",
       "\"\"\"\n",
       "                            OLS Regression Results                            \n",
       "==============================================================================\n",
       "Dep. Variable:         dadj_gross_log   R-squared:                       0.586\n",
       "Model:                            OLS   Adj. R-squared:                  0.581\n",
       "Method:                 Least Squares   F-statistic:                     134.3\n",
       "Date:                Fri, 29 Jan 2016   Prob (F-statistic):          4.44e-174\n",
       "Time:                        10:38:38   Log-Likelihood:                -1660.4\n",
       "No. Observations:                 961   AIC:                             3343.\n",
       "Df Residuals:                     950   BIC:                             3396.\n",
       "Df Model:                          10                                         \n",
       "Covariance Type:            nonrobust                                         \n",
       "=====================================================================================\n",
       "                        coef    std err          t      P>|t|      [95.0% Conf. Int.]\n",
       "-------------------------------------------------------------------------------------\n",
       "const                11.5008      0.407     28.264      0.000        10.702    12.299\n",
       "budget_adj         1.497e-08   6.42e-09      2.333      0.020      2.38e-09  2.76e-08\n",
       "theaters              0.0015    5.3e-05     27.847      0.000         0.001     0.002\n",
       "runtime_mins          0.0121      0.003      4.455      0.000         0.007     0.017\n",
       "actdir_noms           0.0385      0.019      2.003      0.045         0.001     0.076\n",
       "hw_season_holiday     0.6086      0.126      4.811      0.000         0.360     0.857\n",
       "roi_genre_Horror     -0.3367      0.156     -2.155      0.031        -0.643    -0.030\n",
       "roi_rating_G          0.9712      0.439      2.210      0.027         0.109     1.833\n",
       "roi_rating_PG         0.8569      0.294      2.919      0.004         0.281     1.433\n",
       "roi_rating_PG-13      1.0166      0.271      3.748      0.000         0.484     1.549\n",
       "roi_rating_R          1.1495      0.258      4.454      0.000         0.643     1.656\n",
       "==============================================================================\n",
       "Omnibus:                       56.736   Durbin-Watson:                   2.062\n",
       "Prob(Omnibus):                  0.000   Jarque-Bera (JB):               86.731\n",
       "Skew:                          -0.472   Prob(JB):                     1.47e-19\n",
       "Kurtosis:                       4.129   Cond. No.                     2.57e+08\n",
       "==============================================================================\n",
       "\n",
       "Warnings:\n",
       "[1] Standard Errors assume that the covariance matrix of the errors is correctly specified.\n",
       "[2] The condition number is large, 2.57e+08. This might indicate that there are\n",
       "strong multicollinearity or other numerical problems.\n",
       "\"\"\""
      ]
     },
     "execution_count": 188,
     "metadata": {},
     "output_type": "execute_result"
    }
   ],
   "source": [
    "features_gross = ['const', \n",
    "            'budget_adj', \\\n",
    "            'theaters', \n",
    "            'runtime_mins', \n",
    "            'actdir_noms', \n",
    "            'hw_season_holiday',\n",
    "            'roi_genre_Horror', \n",
    "            'roi_rating_G', 'roi_rating_PG', 'roi_rating_PG-13', 'roi_rating_R']\n",
    "            \n",
    "# 'actxdir_noms', 'actdir_noms_log', 'actdir_noms'\n",
    "            \n",
    "ind = 'dadj_gross_log'\n",
    "X, y = get_xy(features_gross, ind, cvtrain)\n",
    "gross = sm.OLS(y, X)\n",
    "gross = gross.fit()\n",
    "gross.summary()"
   ]
  },
  {
   "cell_type": "code",
   "execution_count": 158,
   "metadata": {
    "collapsed": true
   },
   "outputs": [
    {
     "name": "stdout",
     "output_type": "stream",
     "text": [
      "[['const', 'budget_adj'], ['const', 'budget_adj', 'theaters'], ['const', 'budget_adj', 'theaters', 'runtime_mins'], ['const', 'budget_adj', 'theaters', 'runtime_mins', 'actdir_noms'], ['const', 'budget_adj', 'theaters', 'runtime_mins', 'actdir_noms', 'hw_season_holiday'], ['const', 'budget_adj', 'theaters', 'runtime_mins', 'actdir_noms', 'hw_season_holiday', 'roi_genre_Horror'], ['const', 'budget_adj', 'theaters', 'runtime_mins', 'actdir_noms', 'hw_season_holiday', 'roi_genre_Horror', 'roi_rating_G'], ['const', 'budget_adj', 'theaters', 'runtime_mins', 'actdir_noms', 'hw_season_holiday', 'roi_genre_Horror', 'roi_rating_G', 'roi_rating_PG'], ['const', 'budget_adj', 'theaters', 'runtime_mins', 'actdir_noms', 'hw_season_holiday', 'roi_genre_Horror', 'roi_rating_G', 'roi_rating_PG', 'roi_rating_PG-13'], ['const', 'budget_adj', 'theaters', 'runtime_mins', 'actdir_noms', 'hw_season_holiday', 'roi_genre_Horror', 'roi_rating_G', 'roi_rating_PG', 'roi_rating_PG-13', 'roi_rating_R']]\n"
     ]
    }
   ],
   "source": [
    "numfeat_gross, mses_gross = get_mse4plot(features_gross, 'dadj_gross_log', cvtrain)\n",
    "numfeat_gross2, rsqs_gross = get_rsq4plot(features_gross, 'dadj_gross_log', cvtrain)"
   ]
  },
  {
   "cell_type": "code",
   "execution_count": 161,
   "metadata": {
    "collapsed": false
   },
   "outputs": [
    {
     "data": {
      "text/plain": [
       "0.57285039559715056"
      ]
     },
     "execution_count": 161,
     "metadata": {},
     "output_type": "execute_result"
    }
   ],
   "source": [
    "cross_validate(X, y, 5)"
   ]
  },
  {
   "cell_type": "code",
   "execution_count": 175,
   "metadata": {
    "collapsed": false
   },
   "outputs": [
    {
     "data": {
      "text/plain": [
       "-1.9026246572746977"
      ]
     },
     "execution_count": 175,
     "metadata": {},
     "output_type": "execute_result"
    }
   ],
   "source": [
    "cross_validate_mse(X, y, 5)"
   ]
  },
  {
   "cell_type": "code",
   "execution_count": 189,
   "metadata": {
    "collapsed": false
   },
   "outputs": [
    {
     "name": "stdout",
     "output_type": "stream",
     "text": [
      "train mse:  1.85480725064 vs. val mse:  1.16833421733\n"
     ]
    }
   ],
   "source": [
    "# test on test set\n",
    "Xtest, ytest = get_xy(features_gross, ind, test)\n",
    "gresid, gmse, gpred = validate(gross, Xtest, ytest, X, y)"
   ]
  },
  {
   "cell_type": "code",
   "execution_count": 193,
   "metadata": {
    "collapsed": false
   },
   "outputs": [
    {
     "data": {
      "image/png": "[encoded data removed]",
      "text/plain": [
       "<matplotlib.figure.Figure at 0x10dd2df90>"
      ]
     },
     "metadata": {},
     "output_type": "display_data"
    }
   ],
   "source": [
    "plt.figure(figsize=(10, 8))\n",
    "plt.hist(gresid.values)\n",
    "plt.title('Gross Revenues Model Residuals', fontsize=20)\n",
    "plt.xlabel('Residual', fontsize=16)\n",
    "plt.ylabel('Count', fontsize=16)\n",
    "plt.savefig('presentation/gross-resid-hist.png')\n",
    "plt.show()"
   ]
  },
  {
   "cell_type": "code",
   "execution_count": 191,
   "metadata": {
    "collapsed": false
   },
   "outputs": [
    {
     "data": {
      "text/html": [
       "<div>\n",
       "<table border=\"1\" class=\"dataframe\">\n",
       "  <thead>\n",
       "    <tr style=\"text-align: right;\">\n",
       "      <th></th>\n",
       "      <th>actual</th>\n",
       "      <th>pred</th>\n",
       "    </tr>\n",
       "  </thead>\n",
       "  <tbody>\n",
       "    <tr>\n",
       "      <th>27</th>\n",
       "      <td>17.757011</td>\n",
       "      <td>17.367749</td>\n",
       "    </tr>\n",
       "    <tr>\n",
       "      <th>81</th>\n",
       "      <td>16.766172</td>\n",
       "      <td>17.353102</td>\n",
       "    </tr>\n",
       "    <tr>\n",
       "      <th>229</th>\n",
       "      <td>18.035692</td>\n",
       "      <td>18.353451</td>\n",
       "    </tr>\n",
       "    <tr>\n",
       "      <th>333</th>\n",
       "      <td>13.708816</td>\n",
       "      <td>14.017488</td>\n",
       "    </tr>\n",
       "    <tr>\n",
       "      <th>446</th>\n",
       "      <td>16.506849</td>\n",
       "      <td>18.364590</td>\n",
       "    </tr>\n",
       "    <tr>\n",
       "      <th>553</th>\n",
       "      <td>18.265123</td>\n",
       "      <td>18.339003</td>\n",
       "    </tr>\n",
       "    <tr>\n",
       "      <th>566</th>\n",
       "      <td>14.120640</td>\n",
       "      <td>14.674482</td>\n",
       "    </tr>\n",
       "    <tr>\n",
       "      <th>1063</th>\n",
       "      <td>16.049024</td>\n",
       "      <td>17.099033</td>\n",
       "    </tr>\n",
       "    <tr>\n",
       "      <th>1196</th>\n",
       "      <td>15.681310</td>\n",
       "      <td>15.669588</td>\n",
       "    </tr>\n",
       "    <tr>\n",
       "      <th>1256</th>\n",
       "      <td>18.081357</td>\n",
       "      <td>18.038726</td>\n",
       "    </tr>\n",
       "    <tr>\n",
       "      <th>1262</th>\n",
       "      <td>17.118279</td>\n",
       "      <td>18.649980</td>\n",
       "    </tr>\n",
       "    <tr>\n",
       "      <th>1325</th>\n",
       "      <td>16.513551</td>\n",
       "      <td>17.307581</td>\n",
       "    </tr>\n",
       "    <tr>\n",
       "      <th>1399</th>\n",
       "      <td>17.816282</td>\n",
       "      <td>19.400369</td>\n",
       "    </tr>\n",
       "    <tr>\n",
       "      <th>1455</th>\n",
       "      <td>17.586758</td>\n",
       "      <td>16.336886</td>\n",
       "    </tr>\n",
       "    <tr>\n",
       "      <th>1494</th>\n",
       "      <td>15.773759</td>\n",
       "      <td>16.707631</td>\n",
       "    </tr>\n",
       "    <tr>\n",
       "      <th>1496</th>\n",
       "      <td>16.923835</td>\n",
       "      <td>16.877735</td>\n",
       "    </tr>\n",
       "    <tr>\n",
       "      <th>1787</th>\n",
       "      <td>17.420348</td>\n",
       "      <td>17.665998</td>\n",
       "    </tr>\n",
       "    <tr>\n",
       "      <th>1793</th>\n",
       "      <td>17.089102</td>\n",
       "      <td>15.893262</td>\n",
       "    </tr>\n",
       "    <tr>\n",
       "      <th>1882</th>\n",
       "      <td>16.842959</td>\n",
       "      <td>17.928040</td>\n",
       "    </tr>\n",
       "    <tr>\n",
       "      <th>2059</th>\n",
       "      <td>16.395909</td>\n",
       "      <td>18.817482</td>\n",
       "    </tr>\n",
       "    <tr>\n",
       "      <th>2092</th>\n",
       "      <td>13.164848</td>\n",
       "      <td>15.281069</td>\n",
       "    </tr>\n",
       "    <tr>\n",
       "      <th>2133</th>\n",
       "      <td>17.824181</td>\n",
       "      <td>17.769932</td>\n",
       "    </tr>\n",
       "    <tr>\n",
       "      <th>2850</th>\n",
       "      <td>18.810686</td>\n",
       "      <td>18.603550</td>\n",
       "    </tr>\n",
       "    <tr>\n",
       "      <th>2936</th>\n",
       "      <td>16.656797</td>\n",
       "      <td>19.279719</td>\n",
       "    </tr>\n",
       "    <tr>\n",
       "      <th>3145</th>\n",
       "      <td>17.152635</td>\n",
       "      <td>16.383317</td>\n",
       "    </tr>\n",
       "    <tr>\n",
       "      <th>3186</th>\n",
       "      <td>15.524776</td>\n",
       "      <td>15.937866</td>\n",
       "    </tr>\n",
       "    <tr>\n",
       "      <th>3222</th>\n",
       "      <td>16.732935</td>\n",
       "      <td>17.153156</td>\n",
       "    </tr>\n",
       "    <tr>\n",
       "      <th>3442</th>\n",
       "      <td>17.249952</td>\n",
       "      <td>19.267818</td>\n",
       "    </tr>\n",
       "    <tr>\n",
       "      <th>3520</th>\n",
       "      <td>16.634243</td>\n",
       "      <td>17.245499</td>\n",
       "    </tr>\n",
       "    <tr>\n",
       "      <th>3711</th>\n",
       "      <td>17.022836</td>\n",
       "      <td>17.508878</td>\n",
       "    </tr>\n",
       "    <tr>\n",
       "      <th>...</th>\n",
       "      <td>...</td>\n",
       "      <td>...</td>\n",
       "    </tr>\n",
       "    <tr>\n",
       "      <th>12350</th>\n",
       "      <td>17.805307</td>\n",
       "      <td>18.447115</td>\n",
       "    </tr>\n",
       "    <tr>\n",
       "      <th>12709</th>\n",
       "      <td>17.159386</td>\n",
       "      <td>17.763018</td>\n",
       "    </tr>\n",
       "    <tr>\n",
       "      <th>13128</th>\n",
       "      <td>16.497593</td>\n",
       "      <td>15.932950</td>\n",
       "    </tr>\n",
       "    <tr>\n",
       "      <th>13312</th>\n",
       "      <td>16.780593</td>\n",
       "      <td>15.947004</td>\n",
       "    </tr>\n",
       "    <tr>\n",
       "      <th>13370</th>\n",
       "      <td>18.919197</td>\n",
       "      <td>19.477982</td>\n",
       "    </tr>\n",
       "    <tr>\n",
       "      <th>13733</th>\n",
       "      <td>18.294915</td>\n",
       "      <td>19.643813</td>\n",
       "    </tr>\n",
       "    <tr>\n",
       "      <th>13890</th>\n",
       "      <td>17.133518</td>\n",
       "      <td>18.048470</td>\n",
       "    </tr>\n",
       "    <tr>\n",
       "      <th>13915</th>\n",
       "      <td>17.420563</td>\n",
       "      <td>16.710673</td>\n",
       "    </tr>\n",
       "    <tr>\n",
       "      <th>13961</th>\n",
       "      <td>18.017559</td>\n",
       "      <td>17.476675</td>\n",
       "    </tr>\n",
       "    <tr>\n",
       "      <th>13992</th>\n",
       "      <td>17.378356</td>\n",
       "      <td>18.690263</td>\n",
       "    </tr>\n",
       "    <tr>\n",
       "      <th>14163</th>\n",
       "      <td>15.071839</td>\n",
       "      <td>14.750623</td>\n",
       "    </tr>\n",
       "    <tr>\n",
       "      <th>14301</th>\n",
       "      <td>14.666772</td>\n",
       "      <td>14.864545</td>\n",
       "    </tr>\n",
       "    <tr>\n",
       "      <th>14544</th>\n",
       "      <td>16.092101</td>\n",
       "      <td>16.902825</td>\n",
       "    </tr>\n",
       "    <tr>\n",
       "      <th>14586</th>\n",
       "      <td>16.040664</td>\n",
       "      <td>14.686979</td>\n",
       "    </tr>\n",
       "    <tr>\n",
       "      <th>14631</th>\n",
       "      <td>14.789693</td>\n",
       "      <td>14.399083</td>\n",
       "    </tr>\n",
       "    <tr>\n",
       "      <th>14848</th>\n",
       "      <td>15.069501</td>\n",
       "      <td>14.409082</td>\n",
       "    </tr>\n",
       "    <tr>\n",
       "      <th>14912</th>\n",
       "      <td>17.998900</td>\n",
       "      <td>18.072578</td>\n",
       "    </tr>\n",
       "    <tr>\n",
       "      <th>14982</th>\n",
       "      <td>17.127775</td>\n",
       "      <td>18.487602</td>\n",
       "    </tr>\n",
       "    <tr>\n",
       "      <th>15038</th>\n",
       "      <td>18.041177</td>\n",
       "      <td>16.719238</td>\n",
       "    </tr>\n",
       "    <tr>\n",
       "      <th>15089</th>\n",
       "      <td>15.230465</td>\n",
       "      <td>15.008663</td>\n",
       "    </tr>\n",
       "    <tr>\n",
       "      <th>15163</th>\n",
       "      <td>18.018862</td>\n",
       "      <td>18.643552</td>\n",
       "    </tr>\n",
       "    <tr>\n",
       "      <th>15278</th>\n",
       "      <td>17.262111</td>\n",
       "      <td>18.088923</td>\n",
       "    </tr>\n",
       "    <tr>\n",
       "      <th>15317</th>\n",
       "      <td>16.416198</td>\n",
       "      <td>14.814141</td>\n",
       "    </tr>\n",
       "    <tr>\n",
       "      <th>15564</th>\n",
       "      <td>17.303240</td>\n",
       "      <td>17.117435</td>\n",
       "    </tr>\n",
       "    <tr>\n",
       "      <th>15630</th>\n",
       "      <td>17.145173</td>\n",
       "      <td>16.560517</td>\n",
       "    </tr>\n",
       "    <tr>\n",
       "      <th>15894</th>\n",
       "      <td>17.878481</td>\n",
       "      <td>16.925631</td>\n",
       "    </tr>\n",
       "    <tr>\n",
       "      <th>15967</th>\n",
       "      <td>17.121199</td>\n",
       "      <td>18.058445</td>\n",
       "    </tr>\n",
       "    <tr>\n",
       "      <th>15992</th>\n",
       "      <td>17.296098</td>\n",
       "      <td>18.662478</td>\n",
       "    </tr>\n",
       "    <tr>\n",
       "      <th>16095</th>\n",
       "      <td>15.408900</td>\n",
       "      <td>15.377338</td>\n",
       "    </tr>\n",
       "    <tr>\n",
       "      <th>16098</th>\n",
       "      <td>14.128933</td>\n",
       "      <td>15.216719</td>\n",
       "    </tr>\n",
       "  </tbody>\n",
       "</table>\n",
       "<p>142 rows × 2 columns</p>\n",
       "</div>"
      ],
      "text/plain": [
       "          actual       pred\n",
       "27     17.757011  17.367749\n",
       "81     16.766172  17.353102\n",
       "229    18.035692  18.353451\n",
       "333    13.708816  14.017488\n",
       "446    16.506849  18.364590\n",
       "553    18.265123  18.339003\n",
       "566    14.120640  14.674482\n",
       "1063   16.049024  17.099033\n",
       "1196   15.681310  15.669588\n",
       "1256   18.081357  18.038726\n",
       "1262   17.118279  18.649980\n",
       "1325   16.513551  17.307581\n",
       "1399   17.816282  19.400369\n",
       "1455   17.586758  16.336886\n",
       "1494   15.773759  16.707631\n",
       "1496   16.923835  16.877735\n",
       "1787   17.420348  17.665998\n",
       "1793   17.089102  15.893262\n",
       "1882   16.842959  17.928040\n",
       "2059   16.395909  18.817482\n",
       "2092   13.164848  15.281069\n",
       "2133   17.824181  17.769932\n",
       "2850   18.810686  18.603550\n",
       "2936   16.656797  19.279719\n",
       "3145   17.152635  16.383317\n",
       "3186   15.524776  15.937866\n",
       "3222   16.732935  17.153156\n",
       "3442   17.249952  19.267818\n",
       "3520   16.634243  17.245499\n",
       "3711   17.022836  17.508878\n",
       "...          ...        ...\n",
       "12350  17.805307  18.447115\n",
       "12709  17.159386  17.763018\n",
       "13128  16.497593  15.932950\n",
       "13312  16.780593  15.947004\n",
       "13370  18.919197  19.477982\n",
       "13733  18.294915  19.643813\n",
       "13890  17.133518  18.048470\n",
       "13915  17.420563  16.710673\n",
       "13961  18.017559  17.476675\n",
       "13992  17.378356  18.690263\n",
       "14163  15.071839  14.750623\n",
       "14301  14.666772  14.864545\n",
       "14544  16.092101  16.902825\n",
       "14586  16.040664  14.686979\n",
       "14631  14.789693  14.399083\n",
       "14848  15.069501  14.409082\n",
       "14912  17.998900  18.072578\n",
       "14982  17.127775  18.487602\n",
       "15038  18.041177  16.719238\n",
       "15089  15.230465  15.008663\n",
       "15163  18.018862  18.643552\n",
       "15278  17.262111  18.088923\n",
       "15317  16.416198  14.814141\n",
       "15564  17.303240  17.117435\n",
       "15630  17.145173  16.560517\n",
       "15894  17.878481  16.925631\n",
       "15967  17.121199  18.058445\n",
       "15992  17.296098  18.662478\n",
       "16095  15.408900  15.377338\n",
       "16098  14.128933  15.216719\n",
       "\n",
       "[142 rows x 2 columns]"
      ]
     },
     "execution_count": 191,
     "metadata": {},
     "output_type": "execute_result"
    }
   ],
   "source": [
    "d_gross = {'pred': gpred, 'actual': ytest}\n",
    "pd.DataFrame(d_gross)"
   ]
  },
  {
   "cell_type": "code",
   "execution_count": 2431,
   "metadata": {
    "collapsed": false
   },
   "outputs": [
    {
     "data": {
      "image/png": "[encoded data removed]",
      "text/plain": [
       "<matplotlib.figure.Figure at 0x1288b9810>"
      ]
     },
     "metadata": {},
     "output_type": "display_data"
    }
   ],
   "source": [
    "# plot mse vs. num features\n",
    "plt.scatter(numfeat_gross, mses_gross)\n",
    "plt.title('Gross Revenues Model: No. of Features vs. Avg MSE')\n",
    "plt.xlabel('No. of Features')\n",
    "plt.ylabel('Avg MSE')\n",
    "plt.show()"
   ]
  },
  {
   "cell_type": "code",
   "execution_count": 2455,
   "metadata": {
    "collapsed": false
   },
   "outputs": [
    {
     "name": "stdout",
     "output_type": "stream",
     "text": [
      "[0.17773005002081577, 0.5469171572601863, 0.55676026442136417, 0.56093319532364005, 0.57180508724760659, 0.57298509574919976, 0.5725744822097556, 0.57309052938802452, 0.57301571639325866, 0.58131045895918509]\n"
     ]
    }
   ],
   "source": [
    "print rsqs_gross"
   ]
  },
  {
   "cell_type": "code",
   "execution_count": 2454,
   "metadata": {
    "collapsed": true
   },
   "outputs": [
    {
     "data": {
      "image/png": "[encoded data removed]",
      "text/plain": [
       "<matplotlib.figure.Figure at 0x125456110>"
      ]
     },
     "metadata": {},
     "output_type": "display_data"
    }
   ],
   "source": [
    "# plot rsq vs. num features\n",
    "plt.figure(figsize=(10, 6))\n",
    "plt.scatter(numfeat2, rsqs_gross, s=75, color='teal', marker='D', alpha=0.8)\n",
    "plt.title('Gross Revenues Model: No. of Features vs. Adj. R-squared', fontsize=20)\n",
    "plt.xlabel('No. of Features', fontsize=16)\n",
    "plt.ylabel('Adj. R-squared', fontsize=16)\n",
    "plt.savefig('presentation/gross-plot.png')\n",
    "plt.show()"
   ]
  },
  {
   "cell_type": "code",
   "execution_count": 2490,
   "metadata": {
    "collapsed": false
   },
   "outputs": [
    {
     "data": {
      "image/png": "[encoded data removed]",
      "text/plain": [
       "<matplotlib.figure.Figure at 0x1280f9210>"
      ]
     },
     "metadata": {},
     "output_type": "display_data"
    }
   ],
   "source": [
    "plt.figure(figsize=(10, 8))\n",
    "stats.probplot(resid, dist=\"norm\", plot=plt)\n",
    "plt.title('Q-Q Plot: Gross Revenues Model', fontsize=20)\n",
    "plt.xlabel('Quantiles', fontsize=16)\n",
    "plt.ylabel('Ordered Values', fontsize=16)\n",
    "plt.savefig('presentation/qq-gross.png')\n",
    "plt.show()"
   ]
  },
  {
   "cell_type": "code",
   "execution_count": 122,
   "metadata": {
    "collapsed": false
   },
   "outputs": [
    {
     "ename": "NameError",
     "evalue": "name 'resid' is not defined",
     "output_type": "error",
     "traceback": [
      "\u001b[0;31m---------------------------------------------------------------------------\u001b[0m",
      "\u001b[0;31mNameError\u001b[0m                                 Traceback (most recent call last)",
      "\u001b[0;32m<ipython-input-122-6848be3a8604>\u001b[0m in \u001b[0;36m<module>\u001b[0;34m()\u001b[0m\n\u001b[0;32m----> 1\u001b[0;31m \u001b[0mplt\u001b[0m\u001b[0;34m.\u001b[0m\u001b[0mhist\u001b[0m\u001b[0;34m(\u001b[0m\u001b[0mresid\u001b[0m\u001b[0;34m)\u001b[0m\u001b[0;34m\u001b[0m\u001b[0m\n\u001b[0m",
      "\u001b[0;31mNameError\u001b[0m: name 'resid' is not defined"
     ]
    }
   ],
   "source": [
    "plt.hist(resid)"
   ]
  },
  {
   "cell_type": "markdown",
   "metadata": {},
   "source": [
    "### investigate oscar nominations"
   ]
  },
  {
   "cell_type": "code",
   "execution_count": 1951,
   "metadata": {
    "collapsed": true
   },
   "outputs": [
    {
     "data": {
      "text/html": [
       "<div>\n",
       "<table border=\"1\" class=\"dataframe\">\n",
       "  <thead>\n",
       "    <tr style=\"text-align: right;\">\n",
       "      <th></th>\n",
       "      <th>actual</th>\n",
       "      <th>pred</th>\n",
       "    </tr>\n",
       "  </thead>\n",
       "  <tbody>\n",
       "    <tr>\n",
       "      <th>61</th>\n",
       "      <td>-6.907755</td>\n",
       "      <td>-6.389941</td>\n",
       "    </tr>\n",
       "    <tr>\n",
       "      <th>384</th>\n",
       "      <td>-6.907755</td>\n",
       "      <td>-5.373698</td>\n",
       "    </tr>\n",
       "    <tr>\n",
       "      <th>459</th>\n",
       "      <td>-6.907755</td>\n",
       "      <td>-5.542960</td>\n",
       "    </tr>\n",
       "    <tr>\n",
       "      <th>472</th>\n",
       "      <td>1.609438</td>\n",
       "      <td>-2.736416</td>\n",
       "    </tr>\n",
       "    <tr>\n",
       "      <th>580</th>\n",
       "      <td>0.000000</td>\n",
       "      <td>-3.818346</td>\n",
       "    </tr>\n",
       "    <tr>\n",
       "      <th>620</th>\n",
       "      <td>-6.907755</td>\n",
       "      <td>-7.731195</td>\n",
       "    </tr>\n",
       "    <tr>\n",
       "      <th>623</th>\n",
       "      <td>-6.907755</td>\n",
       "      <td>-7.055093</td>\n",
       "    </tr>\n",
       "    <tr>\n",
       "      <th>698</th>\n",
       "      <td>-6.907755</td>\n",
       "      <td>-8.759407</td>\n",
       "    </tr>\n",
       "    <tr>\n",
       "      <th>713</th>\n",
       "      <td>2.302585</td>\n",
       "      <td>-4.994574</td>\n",
       "    </tr>\n",
       "    <tr>\n",
       "      <th>768</th>\n",
       "      <td>-6.907755</td>\n",
       "      <td>-5.620850</td>\n",
       "    </tr>\n",
       "    <tr>\n",
       "      <th>778</th>\n",
       "      <td>-6.907755</td>\n",
       "      <td>-6.815914</td>\n",
       "    </tr>\n",
       "    <tr>\n",
       "      <th>925</th>\n",
       "      <td>-6.907755</td>\n",
       "      <td>-6.353795</td>\n",
       "    </tr>\n",
       "    <tr>\n",
       "      <th>1092</th>\n",
       "      <td>-6.907755</td>\n",
       "      <td>-6.839493</td>\n",
       "    </tr>\n",
       "    <tr>\n",
       "      <th>1134</th>\n",
       "      <td>-6.907755</td>\n",
       "      <td>-7.735731</td>\n",
       "    </tr>\n",
       "    <tr>\n",
       "      <th>1177</th>\n",
       "      <td>0.000000</td>\n",
       "      <td>-4.297837</td>\n",
       "    </tr>\n",
       "    <tr>\n",
       "      <th>1246</th>\n",
       "      <td>-6.907755</td>\n",
       "      <td>-5.466175</td>\n",
       "    </tr>\n",
       "    <tr>\n",
       "      <th>1280</th>\n",
       "      <td>0.000000</td>\n",
       "      <td>-5.813008</td>\n",
       "    </tr>\n",
       "    <tr>\n",
       "      <th>1514</th>\n",
       "      <td>1.609438</td>\n",
       "      <td>-2.815562</td>\n",
       "    </tr>\n",
       "    <tr>\n",
       "      <th>1583</th>\n",
       "      <td>-6.907755</td>\n",
       "      <td>-7.060576</td>\n",
       "    </tr>\n",
       "    <tr>\n",
       "      <th>1920</th>\n",
       "      <td>-6.907755</td>\n",
       "      <td>-5.131812</td>\n",
       "    </tr>\n",
       "    <tr>\n",
       "      <th>1960</th>\n",
       "      <td>-6.907755</td>\n",
       "      <td>-5.591731</td>\n",
       "    </tr>\n",
       "    <tr>\n",
       "      <th>2003</th>\n",
       "      <td>-6.907755</td>\n",
       "      <td>-6.330131</td>\n",
       "    </tr>\n",
       "    <tr>\n",
       "      <th>2223</th>\n",
       "      <td>-6.907755</td>\n",
       "      <td>-7.822718</td>\n",
       "    </tr>\n",
       "    <tr>\n",
       "      <th>2259</th>\n",
       "      <td>-6.907755</td>\n",
       "      <td>-6.176078</td>\n",
       "    </tr>\n",
       "    <tr>\n",
       "      <th>2266</th>\n",
       "      <td>-6.907755</td>\n",
       "      <td>-5.341748</td>\n",
       "    </tr>\n",
       "    <tr>\n",
       "      <th>2345</th>\n",
       "      <td>-6.907755</td>\n",
       "      <td>-7.610991</td>\n",
       "    </tr>\n",
       "    <tr>\n",
       "      <th>2355</th>\n",
       "      <td>-6.907755</td>\n",
       "      <td>-6.945845</td>\n",
       "    </tr>\n",
       "    <tr>\n",
       "      <th>2425</th>\n",
       "      <td>-6.907755</td>\n",
       "      <td>-6.992754</td>\n",
       "    </tr>\n",
       "    <tr>\n",
       "      <th>2511</th>\n",
       "      <td>-6.907755</td>\n",
       "      <td>-5.007511</td>\n",
       "    </tr>\n",
       "    <tr>\n",
       "      <th>2554</th>\n",
       "      <td>-6.907755</td>\n",
       "      <td>-7.375598</td>\n",
       "    </tr>\n",
       "    <tr>\n",
       "      <th>...</th>\n",
       "      <td>...</td>\n",
       "      <td>...</td>\n",
       "    </tr>\n",
       "    <tr>\n",
       "      <th>13527</th>\n",
       "      <td>-6.907755</td>\n",
       "      <td>-6.555764</td>\n",
       "    </tr>\n",
       "    <tr>\n",
       "      <th>13634</th>\n",
       "      <td>-6.907755</td>\n",
       "      <td>-6.947433</td>\n",
       "    </tr>\n",
       "    <tr>\n",
       "      <th>13681</th>\n",
       "      <td>-6.907755</td>\n",
       "      <td>-4.453643</td>\n",
       "    </tr>\n",
       "    <tr>\n",
       "      <th>13813</th>\n",
       "      <td>0.000000</td>\n",
       "      <td>-6.847963</td>\n",
       "    </tr>\n",
       "    <tr>\n",
       "      <th>13960</th>\n",
       "      <td>-6.907755</td>\n",
       "      <td>-5.441126</td>\n",
       "    </tr>\n",
       "    <tr>\n",
       "      <th>14137</th>\n",
       "      <td>-6.907755</td>\n",
       "      <td>-5.575254</td>\n",
       "    </tr>\n",
       "    <tr>\n",
       "      <th>14425</th>\n",
       "      <td>-6.907755</td>\n",
       "      <td>-5.780567</td>\n",
       "    </tr>\n",
       "    <tr>\n",
       "      <th>14474</th>\n",
       "      <td>-6.907755</td>\n",
       "      <td>-7.018667</td>\n",
       "    </tr>\n",
       "    <tr>\n",
       "      <th>14553</th>\n",
       "      <td>-6.907755</td>\n",
       "      <td>-6.109206</td>\n",
       "    </tr>\n",
       "    <tr>\n",
       "      <th>14558</th>\n",
       "      <td>-6.907755</td>\n",
       "      <td>-6.063503</td>\n",
       "    </tr>\n",
       "    <tr>\n",
       "      <th>14807</th>\n",
       "      <td>-6.907755</td>\n",
       "      <td>-8.175662</td>\n",
       "    </tr>\n",
       "    <tr>\n",
       "      <th>14859</th>\n",
       "      <td>-6.907755</td>\n",
       "      <td>-5.685113</td>\n",
       "    </tr>\n",
       "    <tr>\n",
       "      <th>14888</th>\n",
       "      <td>-6.907755</td>\n",
       "      <td>-5.193445</td>\n",
       "    </tr>\n",
       "    <tr>\n",
       "      <th>14903</th>\n",
       "      <td>-6.907755</td>\n",
       "      <td>-6.226331</td>\n",
       "    </tr>\n",
       "    <tr>\n",
       "      <th>14961</th>\n",
       "      <td>-6.907755</td>\n",
       "      <td>-9.125557</td>\n",
       "    </tr>\n",
       "    <tr>\n",
       "      <th>15057</th>\n",
       "      <td>0.000000</td>\n",
       "      <td>-6.237960</td>\n",
       "    </tr>\n",
       "    <tr>\n",
       "      <th>15066</th>\n",
       "      <td>-6.907755</td>\n",
       "      <td>-5.682072</td>\n",
       "    </tr>\n",
       "    <tr>\n",
       "      <th>15254</th>\n",
       "      <td>-6.907755</td>\n",
       "      <td>-6.853043</td>\n",
       "    </tr>\n",
       "    <tr>\n",
       "      <th>15437</th>\n",
       "      <td>-6.907755</td>\n",
       "      <td>-8.191633</td>\n",
       "    </tr>\n",
       "    <tr>\n",
       "      <th>15506</th>\n",
       "      <td>1.386294</td>\n",
       "      <td>-3.887700</td>\n",
       "    </tr>\n",
       "    <tr>\n",
       "      <th>15607</th>\n",
       "      <td>-6.907755</td>\n",
       "      <td>-6.115027</td>\n",
       "    </tr>\n",
       "    <tr>\n",
       "      <th>15705</th>\n",
       "      <td>-6.907755</td>\n",
       "      <td>-7.147987</td>\n",
       "    </tr>\n",
       "    <tr>\n",
       "      <th>15727</th>\n",
       "      <td>-6.907755</td>\n",
       "      <td>-7.488579</td>\n",
       "    </tr>\n",
       "    <tr>\n",
       "      <th>15742</th>\n",
       "      <td>-6.907755</td>\n",
       "      <td>-6.389654</td>\n",
       "    </tr>\n",
       "    <tr>\n",
       "      <th>15756</th>\n",
       "      <td>-6.907755</td>\n",
       "      <td>-4.925153</td>\n",
       "    </tr>\n",
       "    <tr>\n",
       "      <th>15790</th>\n",
       "      <td>-6.907755</td>\n",
       "      <td>-6.449039</td>\n",
       "    </tr>\n",
       "    <tr>\n",
       "      <th>15896</th>\n",
       "      <td>1.791759</td>\n",
       "      <td>-5.045934</td>\n",
       "    </tr>\n",
       "    <tr>\n",
       "      <th>16009</th>\n",
       "      <td>-6.907755</td>\n",
       "      <td>-7.383690</td>\n",
       "    </tr>\n",
       "    <tr>\n",
       "      <th>16048</th>\n",
       "      <td>-6.907755</td>\n",
       "      <td>-8.269465</td>\n",
       "    </tr>\n",
       "    <tr>\n",
       "      <th>16054</th>\n",
       "      <td>-6.907755</td>\n",
       "      <td>-5.669428</td>\n",
       "    </tr>\n",
       "  </tbody>\n",
       "</table>\n",
       "<p>218 rows × 2 columns</p>\n",
       "</div>"
      ],
      "text/plain": [
       "         actual      pred\n",
       "61    -6.907755 -6.389941\n",
       "384   -6.907755 -5.373698\n",
       "459   -6.907755 -5.542960\n",
       "472    1.609438 -2.736416\n",
       "580    0.000000 -3.818346\n",
       "620   -6.907755 -7.731195\n",
       "623   -6.907755 -7.055093\n",
       "698   -6.907755 -8.759407\n",
       "713    2.302585 -4.994574\n",
       "768   -6.907755 -5.620850\n",
       "778   -6.907755 -6.815914\n",
       "925   -6.907755 -6.353795\n",
       "1092  -6.907755 -6.839493\n",
       "1134  -6.907755 -7.735731\n",
       "1177   0.000000 -4.297837\n",
       "1246  -6.907755 -5.466175\n",
       "1280   0.000000 -5.813008\n",
       "1514   1.609438 -2.815562\n",
       "1583  -6.907755 -7.060576\n",
       "1920  -6.907755 -5.131812\n",
       "1960  -6.907755 -5.591731\n",
       "2003  -6.907755 -6.330131\n",
       "2223  -6.907755 -7.822718\n",
       "2259  -6.907755 -6.176078\n",
       "2266  -6.907755 -5.341748\n",
       "2345  -6.907755 -7.610991\n",
       "2355  -6.907755 -6.945845\n",
       "2425  -6.907755 -6.992754\n",
       "2511  -6.907755 -5.007511\n",
       "2554  -6.907755 -7.375598\n",
       "...         ...       ...\n",
       "13527 -6.907755 -6.555764\n",
       "13634 -6.907755 -6.947433\n",
       "13681 -6.907755 -4.453643\n",
       "13813  0.000000 -6.847963\n",
       "13960 -6.907755 -5.441126\n",
       "14137 -6.907755 -5.575254\n",
       "14425 -6.907755 -5.780567\n",
       "14474 -6.907755 -7.018667\n",
       "14553 -6.907755 -6.109206\n",
       "14558 -6.907755 -6.063503\n",
       "14807 -6.907755 -8.175662\n",
       "14859 -6.907755 -5.685113\n",
       "14888 -6.907755 -5.193445\n",
       "14903 -6.907755 -6.226331\n",
       "14961 -6.907755 -9.125557\n",
       "15057  0.000000 -6.237960\n",
       "15066 -6.907755 -5.682072\n",
       "15254 -6.907755 -6.853043\n",
       "15437 -6.907755 -8.191633\n",
       "15506  1.386294 -3.887700\n",
       "15607 -6.907755 -6.115027\n",
       "15705 -6.907755 -7.147987\n",
       "15727 -6.907755 -7.488579\n",
       "15742 -6.907755 -6.389654\n",
       "15756 -6.907755 -4.925153\n",
       "15790 -6.907755 -6.449039\n",
       "15896  1.791759 -5.045934\n",
       "16009 -6.907755 -7.383690\n",
       "16048 -6.907755 -8.269465\n",
       "16054 -6.907755 -5.669428\n",
       "\n",
       "[218 rows x 2 columns]"
      ]
     },
     "execution_count": 1951,
     "metadata": {},
     "output_type": "execute_result"
    }
   ],
   "source": [
    "d = {'pred': o3_ypred, 'actual': yval}\n",
    "pd.DataFrame(d)"
   ]
  },
  {
   "cell_type": "code",
   "execution_count": 1965,
   "metadata": {
    "collapsed": false
   },
   "outputs": [
    {
     "data": {
      "text/plain": [
       "1.3862943611198906"
      ]
     },
     "execution_count": 1965,
     "metadata": {},
     "output_type": "execute_result"
    }
   ],
   "source": [
    "math.log(4)"
   ]
  },
  {
   "cell_type": "code",
   "execution_count": 1960,
   "metadata": {
    "collapsed": false
   },
   "outputs": [
    {
     "data": {
      "text/plain": [
       "1.0"
      ]
     },
     "execution_count": 1960,
     "metadata": {},
     "output_type": "execute_result"
    }
   ],
   "source": [
    "math.log(10, 10)"
   ]
  },
  {
   "cell_type": "markdown",
   "metadata": {},
   "source": [
    "How to interpret -- \n",
    "- -6.9 = 0 oscars. \n",
    "- log = 0 is 1 oscar\n",
    "- 0.69 is 2 oscars\n",
    "- 1.1 is 3 oscars\n",
    "- 1.38 is 4 oscars"
   ]
  },
  {
   "cell_type": "code",
   "execution_count": 1744,
   "metadata": {
    "collapsed": false
   },
   "outputs": [
    {
     "data": {
      "image/png": "[encoded data removed]",
      "text/plain": [
       "<matplotlib.figure.Figure at 0x123096b10>"
      ]
     },
     "metadata": {},
     "output_type": "display_data"
    }
   ],
   "source": [
    "plt.hist(o3_resid.values);"
   ]
  },
  {
   "cell_type": "markdown",
   "metadata": {},
   "source": [
    "Residuals = yactual - ypred."
   ]
  },
  {
   "cell_type": "markdown",
   "metadata": {},
   "source": [
    "### model 4 - most optimized\n",
    "add actors and directors nominations\n",
    "director nominations log not significant -- remove?"
   ]
  },
  {
   "cell_type": "code",
   "execution_count": 176,
   "metadata": {
    "collapsed": true
   },
   "outputs": [
    {
     "data": {
      "text/html": [
       "<table class=\"simpletable\">\n",
       "<caption>OLS Regression Results</caption>\n",
       "<tr>\n",
       "  <th>Dep. Variable:</th>     <td>oscar_noms_log</td>  <th>  R-squared:         </th> <td>   0.312</td>\n",
       "</tr>\n",
       "<tr>\n",
       "  <th>Model:</th>                   <td>OLS</td>       <th>  Adj. R-squared:    </th> <td>   0.303</td>\n",
       "</tr>\n",
       "<tr>\n",
       "  <th>Method:</th>             <td>Least Squares</td>  <th>  F-statistic:       </th> <td>   33.19</td>\n",
       "</tr>\n",
       "<tr>\n",
       "  <th>Date:</th>             <td>Fri, 29 Jan 2016</td> <th>  Prob (F-statistic):</th> <td>2.70e-53</td>\n",
       "</tr>\n",
       "<tr>\n",
       "  <th>Time:</th>                 <td>10:30:25</td>     <th>  Log-Likelihood:    </th> <td> -1641.4</td>\n",
       "</tr>\n",
       "<tr>\n",
       "  <th>No. Observations:</th>      <td>   743</td>      <th>  AIC:               </th> <td>   3305.</td>\n",
       "</tr>\n",
       "<tr>\n",
       "  <th>Df Residuals:</th>          <td>   732</td>      <th>  BIC:               </th> <td>   3356.</td>\n",
       "</tr>\n",
       "<tr>\n",
       "  <th>Df Model:</th>              <td>    10</td>      <th>                     </th>     <td> </td>   \n",
       "</tr>\n",
       "<tr>\n",
       "  <th>Covariance Type:</th>      <td>nonrobust</td>    <th>                     </th>     <td> </td>   \n",
       "</tr>\n",
       "</table>\n",
       "<table class=\"simpletable\">\n",
       "<tr>\n",
       "             <td></td>               <th>coef</th>     <th>std err</th>      <th>t</th>      <th>P>|t|</th> <th>[95.0% Conf. Int.]</th> \n",
       "</tr>\n",
       "<tr>\n",
       "  <th>const</th>                  <td>   -7.3946</td> <td>    0.636</td> <td>  -11.621</td> <td> 0.000</td> <td>   -8.644    -6.145</td>\n",
       "</tr>\n",
       "<tr>\n",
       "  <th>r_rating_R</th>             <td>    0.6224</td> <td>    0.172</td> <td>    3.621</td> <td> 0.000</td> <td>    0.285     0.960</td>\n",
       "</tr>\n",
       "<tr>\n",
       "  <th>recat_genre_Drama</th>      <td>    0.9900</td> <td>    0.267</td> <td>    3.708</td> <td> 0.000</td> <td>    0.466     1.514</td>\n",
       "</tr>\n",
       "<tr>\n",
       "  <th>recat_genre_Foreign</th>    <td>    2.4173</td> <td>    0.540</td> <td>    4.479</td> <td> 0.000</td> <td>    1.358     3.477</td>\n",
       "</tr>\n",
       "<tr>\n",
       "  <th>recat_genre_Historical</th> <td>    1.7306</td> <td>    0.407</td> <td>    4.254</td> <td> 0.000</td> <td>    0.932     2.529</td>\n",
       "</tr>\n",
       "<tr>\n",
       "  <th>recat_genre_War</th>        <td>    3.0766</td> <td>    1.009</td> <td>    3.050</td> <td> 0.002</td> <td>    1.096     5.057</td>\n",
       "</tr>\n",
       "<tr>\n",
       "  <th>hw_season_holiday</th>      <td>    1.0955</td> <td>    0.232</td> <td>    4.717</td> <td> 0.000</td> <td>    0.639     1.551</td>\n",
       "</tr>\n",
       "<tr>\n",
       "  <th>theaters3</th>              <td>-5.074e-11</td> <td> 1.08e-11</td> <td>   -4.704</td> <td> 0.000</td> <td>-7.19e-11 -2.96e-11</td>\n",
       "</tr>\n",
       "<tr>\n",
       "  <th>runtime_mins</th>           <td>    0.0161</td> <td>    0.006</td> <td>    2.821</td> <td> 0.005</td> <td>    0.005     0.027</td>\n",
       "</tr>\n",
       "<tr>\n",
       "  <th>dom_roi_log</th>            <td>    0.4995</td> <td>    0.049</td> <td>   10.099</td> <td> 0.000</td> <td>    0.402     0.597</td>\n",
       "</tr>\n",
       "<tr>\n",
       "  <th>actor_noms_log</th>         <td>    0.0742</td> <td>    0.025</td> <td>    2.998</td> <td> 0.003</td> <td>    0.026     0.123</td>\n",
       "</tr>\n",
       "</table>\n",
       "<table class=\"simpletable\">\n",
       "<tr>\n",
       "  <th>Omnibus:</th>       <td>132.087</td> <th>  Durbin-Watson:     </th> <td>   1.809</td>\n",
       "</tr>\n",
       "<tr>\n",
       "  <th>Prob(Omnibus):</th> <td> 0.000</td>  <th>  Jarque-Bera (JB):  </th> <td> 210.503</td>\n",
       "</tr>\n",
       "<tr>\n",
       "  <th>Skew:</th>          <td> 1.151</td>  <th>  Prob(JB):          </th> <td>1.95e-46</td>\n",
       "</tr>\n",
       "<tr>\n",
       "  <th>Kurtosis:</th>      <td> 4.223</td>  <th>  Cond. No.          </th> <td>1.34e+11</td>\n",
       "</tr>\n",
       "</table>"
      ],
      "text/plain": [
       "<class 'statsmodels.iolib.summary.Summary'>\n",
       "\"\"\"\n",
       "                            OLS Regression Results                            \n",
       "==============================================================================\n",
       "Dep. Variable:         oscar_noms_log   R-squared:                       0.312\n",
       "Model:                            OLS   Adj. R-squared:                  0.303\n",
       "Method:                 Least Squares   F-statistic:                     33.19\n",
       "Date:                Fri, 29 Jan 2016   Prob (F-statistic):           2.70e-53\n",
       "Time:                        10:30:25   Log-Likelihood:                -1641.4\n",
       "No. Observations:                 743   AIC:                             3305.\n",
       "Df Residuals:                     732   BIC:                             3356.\n",
       "Df Model:                          10                                         \n",
       "Covariance Type:            nonrobust                                         \n",
       "==========================================================================================\n",
       "                             coef    std err          t      P>|t|      [95.0% Conf. Int.]\n",
       "------------------------------------------------------------------------------------------\n",
       "const                     -7.3946      0.636    -11.621      0.000        -8.644    -6.145\n",
       "r_rating_R                 0.6224      0.172      3.621      0.000         0.285     0.960\n",
       "recat_genre_Drama          0.9900      0.267      3.708      0.000         0.466     1.514\n",
       "recat_genre_Foreign        2.4173      0.540      4.479      0.000         1.358     3.477\n",
       "recat_genre_Historical     1.7306      0.407      4.254      0.000         0.932     2.529\n",
       "recat_genre_War            3.0766      1.009      3.050      0.002         1.096     5.057\n",
       "hw_season_holiday          1.0955      0.232      4.717      0.000         0.639     1.551\n",
       "theaters3              -5.074e-11   1.08e-11     -4.704      0.000     -7.19e-11 -2.96e-11\n",
       "runtime_mins               0.0161      0.006      2.821      0.005         0.005     0.027\n",
       "dom_roi_log                0.4995      0.049     10.099      0.000         0.402     0.597\n",
       "actor_noms_log             0.0742      0.025      2.998      0.003         0.026     0.123\n",
       "==============================================================================\n",
       "Omnibus:                      132.087   Durbin-Watson:                   1.809\n",
       "Prob(Omnibus):                  0.000   Jarque-Bera (JB):              210.503\n",
       "Skew:                           1.151   Prob(JB):                     1.95e-46\n",
       "Kurtosis:                       4.223   Cond. No.                     1.34e+11\n",
       "==============================================================================\n",
       "\n",
       "Warnings:\n",
       "[1] Standard Errors assume that the covariance matrix of the errors is correctly specified.\n",
       "[2] The condition number is large, 1.34e+11. This might indicate that there are\n",
       "strong multicollinearity or other numerical problems.\n",
       "\"\"\""
      ]
     },
     "execution_count": 176,
     "metadata": {},
     "output_type": "execute_result"
    }
   ],
   "source": [
    "features_oscars = ['const', \n",
    "            'r_rating_R', \\\n",
    "            'recat_genre_Drama', 'recat_genre_Foreign', 'recat_genre_Historical', 'recat_genre_War', \\\n",
    "            'hw_season_holiday', \\\n",
    "            'theaters3', \\\n",
    "            'runtime_mins', \n",
    "            'dom_roi_log', \n",
    "            'actor_noms_log']\n",
    "\n",
    "ind = 'oscar_noms_log'\n",
    "X, y = get_xy(features_oscars, ind, train)\n",
    "oscars4 = sm.OLS(y, X)\n",
    "oscars4 = oscars4.fit()\n",
    "oscars4.summary()"
   ]
  },
  {
   "cell_type": "code",
   "execution_count": 2457,
   "metadata": {
    "collapsed": false
   },
   "outputs": [
    {
     "name": "stdout",
     "output_type": "stream",
     "text": [
      "[['const', 'r_rating_R'], ['const', 'r_rating_R', 'recat_genre_Drama'], ['const', 'r_rating_R', 'recat_genre_Drama', 'recat_genre_Foreign'], ['const', 'r_rating_R', 'recat_genre_Drama', 'recat_genre_Foreign', 'recat_genre_Historical'], ['const', 'r_rating_R', 'recat_genre_Drama', 'recat_genre_Foreign', 'recat_genre_Historical', 'recat_genre_War'], ['const', 'r_rating_R', 'recat_genre_Drama', 'recat_genre_Foreign', 'recat_genre_Historical', 'recat_genre_War', 'hw_season_holiday'], ['const', 'r_rating_R', 'recat_genre_Drama', 'recat_genre_Foreign', 'recat_genre_Historical', 'recat_genre_War', 'hw_season_holiday', 'theaters3'], ['const', 'r_rating_R', 'recat_genre_Drama', 'recat_genre_Foreign', 'recat_genre_Historical', 'recat_genre_War', 'hw_season_holiday', 'theaters3', 'runtime_mins'], ['const', 'r_rating_R', 'recat_genre_Drama', 'recat_genre_Foreign', 'recat_genre_Historical', 'recat_genre_War', 'hw_season_holiday', 'theaters3', 'runtime_mins', 'dom_roi_log'], ['const', 'r_rating_R', 'recat_genre_Drama', 'recat_genre_Foreign', 'recat_genre_Historical', 'recat_genre_War', 'hw_season_holiday', 'theaters3', 'runtime_mins', 'dom_roi_log', 'actor_noms_log']]\n"
     ]
    }
   ],
   "source": [
    "numfeat_o, mses_o = get_mse4plot(features_oscars, 'oscar_noms_log', cvtrain)\n",
    "numfeat2_o, rsqs_o = get_rsq4plot(features_oscars, 'oscar_noms_log', cvtrain)"
   ]
  },
  {
   "cell_type": "code",
   "execution_count": 164,
   "metadata": {
    "collapsed": false
   },
   "outputs": [
    {
     "data": {
      "text/plain": [
       "0.24695388521487574"
      ]
     },
     "execution_count": 164,
     "metadata": {},
     "output_type": "execute_result"
    }
   ],
   "source": [
    "cross_validate(X, y, 5)"
   ]
  },
  {
   "cell_type": "code",
   "execution_count": 178,
   "metadata": {
    "collapsed": false
   },
   "outputs": [
    {
     "name": "stdout",
     "output_type": "stream",
     "text": [
      "train mse:  4.85742020655 vs. val mse:  5.31485913167\n"
     ]
    }
   ],
   "source": [
    "# test on test set \n",
    "Xtest_o, ytest_o = get_xy(features_oscars, ind, test)\n",
    "oresid, omse, opred = validate(oscars4, Xtest_o, ytest_o, X, y)"
   ]
  },
  {
   "cell_type": "code",
   "execution_count": 192,
   "metadata": {
    "collapsed": false
   },
   "outputs": [
    {
     "data": {
      "image/png": "[encoded data removed]",
      "text/plain": [
       "<matplotlib.figure.Figure at 0x10bdd0510>"
      ]
     },
     "metadata": {},
     "output_type": "display_data"
    }
   ],
   "source": [
    "plt.figure(figsize=(10, 8))\n",
    "plt.hist(oresid.values)\n",
    "plt.title('Oscars Model Residuals', fontsize=20)\n",
    "plt.xlabel('Residual', fontsize=16)\n",
    "plt.ylabel('Count', fontsize=16)\n",
    "plt.savefig('presentation/oscars-resid-hist.png')\n",
    "plt.show()"
   ]
  },
  {
   "cell_type": "code",
   "execution_count": 182,
   "metadata": {
    "collapsed": false
   },
   "outputs": [
    {
     "data": {
      "text/html": [
       "<div>\n",
       "<table border=\"1\" class=\"dataframe\">\n",
       "  <thead>\n",
       "    <tr style=\"text-align: right;\">\n",
       "      <th></th>\n",
       "      <th>actual</th>\n",
       "      <th>pred</th>\n",
       "    </tr>\n",
       "  </thead>\n",
       "  <tbody>\n",
       "    <tr>\n",
       "      <th>27</th>\n",
       "      <td>-6.907755</td>\n",
       "      <td>-5.719798</td>\n",
       "    </tr>\n",
       "    <tr>\n",
       "      <th>81</th>\n",
       "      <td>-6.907755</td>\n",
       "      <td>-6.494041</td>\n",
       "    </tr>\n",
       "    <tr>\n",
       "      <th>229</th>\n",
       "      <td>-6.907755</td>\n",
       "      <td>-7.970668</td>\n",
       "    </tr>\n",
       "    <tr>\n",
       "      <th>333</th>\n",
       "      <td>-6.907755</td>\n",
       "      <td>-7.275241</td>\n",
       "    </tr>\n",
       "    <tr>\n",
       "      <th>446</th>\n",
       "      <td>-6.907755</td>\n",
       "      <td>-6.640695</td>\n",
       "    </tr>\n",
       "    <tr>\n",
       "      <th>553</th>\n",
       "      <td>-6.907755</td>\n",
       "      <td>-5.684626</td>\n",
       "    </tr>\n",
       "    <tr>\n",
       "      <th>566</th>\n",
       "      <td>0.000000</td>\n",
       "      <td>-5.606519</td>\n",
       "    </tr>\n",
       "    <tr>\n",
       "      <th>1063</th>\n",
       "      <td>-6.907755</td>\n",
       "      <td>-5.972744</td>\n",
       "    </tr>\n",
       "    <tr>\n",
       "      <th>1196</th>\n",
       "      <td>-6.907755</td>\n",
       "      <td>-6.108784</td>\n",
       "    </tr>\n",
       "    <tr>\n",
       "      <th>1256</th>\n",
       "      <td>-6.907755</td>\n",
       "      <td>-3.565328</td>\n",
       "    </tr>\n",
       "    <tr>\n",
       "      <th>1262</th>\n",
       "      <td>-6.907755</td>\n",
       "      <td>-9.062365</td>\n",
       "    </tr>\n",
       "    <tr>\n",
       "      <th>1325</th>\n",
       "      <td>0.000000</td>\n",
       "      <td>-3.684282</td>\n",
       "    </tr>\n",
       "    <tr>\n",
       "      <th>1399</th>\n",
       "      <td>1.609438</td>\n",
       "      <td>-3.223624</td>\n",
       "    </tr>\n",
       "    <tr>\n",
       "      <th>1455</th>\n",
       "      <td>2.197225</td>\n",
       "      <td>-4.671212</td>\n",
       "    </tr>\n",
       "    <tr>\n",
       "      <th>1494</th>\n",
       "      <td>-6.907755</td>\n",
       "      <td>-5.368532</td>\n",
       "    </tr>\n",
       "    <tr>\n",
       "      <th>1496</th>\n",
       "      <td>-6.907755</td>\n",
       "      <td>-4.539861</td>\n",
       "    </tr>\n",
       "    <tr>\n",
       "      <th>1787</th>\n",
       "      <td>-6.907755</td>\n",
       "      <td>-5.692835</td>\n",
       "    </tr>\n",
       "    <tr>\n",
       "      <th>1793</th>\n",
       "      <td>1.791759</td>\n",
       "      <td>-2.288773</td>\n",
       "    </tr>\n",
       "    <tr>\n",
       "      <th>1882</th>\n",
       "      <td>-6.907755</td>\n",
       "      <td>-7.552978</td>\n",
       "    </tr>\n",
       "    <tr>\n",
       "      <th>2059</th>\n",
       "      <td>-6.907755</td>\n",
       "      <td>-6.590502</td>\n",
       "    </tr>\n",
       "    <tr>\n",
       "      <th>2092</th>\n",
       "      <td>-6.907755</td>\n",
       "      <td>-4.057019</td>\n",
       "    </tr>\n",
       "    <tr>\n",
       "      <th>2133</th>\n",
       "      <td>-6.907755</td>\n",
       "      <td>-5.439237</td>\n",
       "    </tr>\n",
       "    <tr>\n",
       "      <th>2850</th>\n",
       "      <td>-6.907755</td>\n",
       "      <td>-5.613358</td>\n",
       "    </tr>\n",
       "    <tr>\n",
       "      <th>2936</th>\n",
       "      <td>-6.907755</td>\n",
       "      <td>-6.374753</td>\n",
       "    </tr>\n",
       "    <tr>\n",
       "      <th>3145</th>\n",
       "      <td>1.791759</td>\n",
       "      <td>-2.632384</td>\n",
       "    </tr>\n",
       "    <tr>\n",
       "      <th>3186</th>\n",
       "      <td>-6.907755</td>\n",
       "      <td>-5.145320</td>\n",
       "    </tr>\n",
       "    <tr>\n",
       "      <th>3222</th>\n",
       "      <td>-6.907755</td>\n",
       "      <td>-6.278939</td>\n",
       "    </tr>\n",
       "    <tr>\n",
       "      <th>3442</th>\n",
       "      <td>-6.907755</td>\n",
       "      <td>-7.394177</td>\n",
       "    </tr>\n",
       "    <tr>\n",
       "      <th>3520</th>\n",
       "      <td>-6.907755</td>\n",
       "      <td>-6.567328</td>\n",
       "    </tr>\n",
       "    <tr>\n",
       "      <th>3711</th>\n",
       "      <td>-6.907755</td>\n",
       "      <td>-4.953858</td>\n",
       "    </tr>\n",
       "    <tr>\n",
       "      <th>...</th>\n",
       "      <td>...</td>\n",
       "      <td>...</td>\n",
       "    </tr>\n",
       "    <tr>\n",
       "      <th>12350</th>\n",
       "      <td>0.693147</td>\n",
       "      <td>-3.469599</td>\n",
       "    </tr>\n",
       "    <tr>\n",
       "      <th>12709</th>\n",
       "      <td>-6.907755</td>\n",
       "      <td>-6.544547</td>\n",
       "    </tr>\n",
       "    <tr>\n",
       "      <th>13128</th>\n",
       "      <td>-6.907755</td>\n",
       "      <td>-5.087027</td>\n",
       "    </tr>\n",
       "    <tr>\n",
       "      <th>13312</th>\n",
       "      <td>0.000000</td>\n",
       "      <td>-4.265076</td>\n",
       "    </tr>\n",
       "    <tr>\n",
       "      <th>13370</th>\n",
       "      <td>0.000000</td>\n",
       "      <td>-4.715670</td>\n",
       "    </tr>\n",
       "    <tr>\n",
       "      <th>13733</th>\n",
       "      <td>-6.907755</td>\n",
       "      <td>-6.570097</td>\n",
       "    </tr>\n",
       "    <tr>\n",
       "      <th>13890</th>\n",
       "      <td>-6.907755</td>\n",
       "      <td>-6.484341</td>\n",
       "    </tr>\n",
       "    <tr>\n",
       "      <th>13915</th>\n",
       "      <td>1.609438</td>\n",
       "      <td>-3.198231</td>\n",
       "    </tr>\n",
       "    <tr>\n",
       "      <th>13961</th>\n",
       "      <td>-6.907755</td>\n",
       "      <td>-5.972230</td>\n",
       "    </tr>\n",
       "    <tr>\n",
       "      <th>13992</th>\n",
       "      <td>-6.907755</td>\n",
       "      <td>-6.317541</td>\n",
       "    </tr>\n",
       "    <tr>\n",
       "      <th>14163</th>\n",
       "      <td>-6.907755</td>\n",
       "      <td>-5.538668</td>\n",
       "    </tr>\n",
       "    <tr>\n",
       "      <th>14301</th>\n",
       "      <td>-6.907755</td>\n",
       "      <td>-6.732251</td>\n",
       "    </tr>\n",
       "    <tr>\n",
       "      <th>14544</th>\n",
       "      <td>-6.907755</td>\n",
       "      <td>-7.049761</td>\n",
       "    </tr>\n",
       "    <tr>\n",
       "      <th>14586</th>\n",
       "      <td>-6.907755</td>\n",
       "      <td>-6.505060</td>\n",
       "    </tr>\n",
       "    <tr>\n",
       "      <th>14631</th>\n",
       "      <td>-6.907755</td>\n",
       "      <td>-6.369674</td>\n",
       "    </tr>\n",
       "    <tr>\n",
       "      <th>14848</th>\n",
       "      <td>-6.907755</td>\n",
       "      <td>-6.476567</td>\n",
       "    </tr>\n",
       "    <tr>\n",
       "      <th>14912</th>\n",
       "      <td>-6.907755</td>\n",
       "      <td>-6.729011</td>\n",
       "    </tr>\n",
       "    <tr>\n",
       "      <th>14982</th>\n",
       "      <td>-6.907755</td>\n",
       "      <td>-4.986934</td>\n",
       "    </tr>\n",
       "    <tr>\n",
       "      <th>15038</th>\n",
       "      <td>-6.907755</td>\n",
       "      <td>-3.817746</td>\n",
       "    </tr>\n",
       "    <tr>\n",
       "      <th>15089</th>\n",
       "      <td>-6.907755</td>\n",
       "      <td>-2.663581</td>\n",
       "    </tr>\n",
       "    <tr>\n",
       "      <th>15163</th>\n",
       "      <td>-6.907755</td>\n",
       "      <td>-6.733437</td>\n",
       "    </tr>\n",
       "    <tr>\n",
       "      <th>15278</th>\n",
       "      <td>-6.907755</td>\n",
       "      <td>-6.607237</td>\n",
       "    </tr>\n",
       "    <tr>\n",
       "      <th>15317</th>\n",
       "      <td>1.609438</td>\n",
       "      <td>-4.048838</td>\n",
       "    </tr>\n",
       "    <tr>\n",
       "      <th>15564</th>\n",
       "      <td>-6.907755</td>\n",
       "      <td>-4.601227</td>\n",
       "    </tr>\n",
       "    <tr>\n",
       "      <th>15630</th>\n",
       "      <td>-6.907755</td>\n",
       "      <td>-6.315545</td>\n",
       "    </tr>\n",
       "    <tr>\n",
       "      <th>15894</th>\n",
       "      <td>2.197225</td>\n",
       "      <td>-3.374942</td>\n",
       "    </tr>\n",
       "    <tr>\n",
       "      <th>15967</th>\n",
       "      <td>-6.907755</td>\n",
       "      <td>-6.874805</td>\n",
       "    </tr>\n",
       "    <tr>\n",
       "      <th>15992</th>\n",
       "      <td>-6.907755</td>\n",
       "      <td>-7.824753</td>\n",
       "    </tr>\n",
       "    <tr>\n",
       "      <th>16095</th>\n",
       "      <td>-6.907755</td>\n",
       "      <td>-5.015887</td>\n",
       "    </tr>\n",
       "    <tr>\n",
       "      <th>16098</th>\n",
       "      <td>-6.907755</td>\n",
       "      <td>-5.795532</td>\n",
       "    </tr>\n",
       "  </tbody>\n",
       "</table>\n",
       "<p>142 rows × 2 columns</p>\n",
       "</div>"
      ],
      "text/plain": [
       "         actual      pred\n",
       "27    -6.907755 -5.719798\n",
       "81    -6.907755 -6.494041\n",
       "229   -6.907755 -7.970668\n",
       "333   -6.907755 -7.275241\n",
       "446   -6.907755 -6.640695\n",
       "553   -6.907755 -5.684626\n",
       "566    0.000000 -5.606519\n",
       "1063  -6.907755 -5.972744\n",
       "1196  -6.907755 -6.108784\n",
       "1256  -6.907755 -3.565328\n",
       "1262  -6.907755 -9.062365\n",
       "1325   0.000000 -3.684282\n",
       "1399   1.609438 -3.223624\n",
       "1455   2.197225 -4.671212\n",
       "1494  -6.907755 -5.368532\n",
       "1496  -6.907755 -4.539861\n",
       "1787  -6.907755 -5.692835\n",
       "1793   1.791759 -2.288773\n",
       "1882  -6.907755 -7.552978\n",
       "2059  -6.907755 -6.590502\n",
       "2092  -6.907755 -4.057019\n",
       "2133  -6.907755 -5.439237\n",
       "2850  -6.907755 -5.613358\n",
       "2936  -6.907755 -6.374753\n",
       "3145   1.791759 -2.632384\n",
       "3186  -6.907755 -5.145320\n",
       "3222  -6.907755 -6.278939\n",
       "3442  -6.907755 -7.394177\n",
       "3520  -6.907755 -6.567328\n",
       "3711  -6.907755 -4.953858\n",
       "...         ...       ...\n",
       "12350  0.693147 -3.469599\n",
       "12709 -6.907755 -6.544547\n",
       "13128 -6.907755 -5.087027\n",
       "13312  0.000000 -4.265076\n",
       "13370  0.000000 -4.715670\n",
       "13733 -6.907755 -6.570097\n",
       "13890 -6.907755 -6.484341\n",
       "13915  1.609438 -3.198231\n",
       "13961 -6.907755 -5.972230\n",
       "13992 -6.907755 -6.317541\n",
       "14163 -6.907755 -5.538668\n",
       "14301 -6.907755 -6.732251\n",
       "14544 -6.907755 -7.049761\n",
       "14586 -6.907755 -6.505060\n",
       "14631 -6.907755 -6.369674\n",
       "14848 -6.907755 -6.476567\n",
       "14912 -6.907755 -6.729011\n",
       "14982 -6.907755 -4.986934\n",
       "15038 -6.907755 -3.817746\n",
       "15089 -6.907755 -2.663581\n",
       "15163 -6.907755 -6.733437\n",
       "15278 -6.907755 -6.607237\n",
       "15317  1.609438 -4.048838\n",
       "15564 -6.907755 -4.601227\n",
       "15630 -6.907755 -6.315545\n",
       "15894  2.197225 -3.374942\n",
       "15967 -6.907755 -6.874805\n",
       "15992 -6.907755 -7.824753\n",
       "16095 -6.907755 -5.015887\n",
       "16098 -6.907755 -5.795532\n",
       "\n",
       "[142 rows x 2 columns]"
      ]
     },
     "execution_count": 182,
     "metadata": {},
     "output_type": "execute_result"
    }
   ],
   "source": [
    "d = {'pred': opred, 'actual': ytest_o}\n",
    "pd.DataFrame(d)"
   ]
  },
  {
   "cell_type": "code",
   "execution_count": 2463,
   "metadata": {
    "collapsed": false
   },
   "outputs": [
    {
     "data": {
      "image/png": "[encoded data removed]",
      "text/plain": [
       "<matplotlib.figure.Figure at 0x124e8b110>"
      ]
     },
     "metadata": {},
     "output_type": "display_data"
    }
   ],
   "source": [
    "plt.figure(figsize=(10, 6))\n",
    "plt.scatter(numfeat_o, rsqs_o, s=70, color='red', marker='D')\n",
    "plt.title('Oscar Nominations Model: No. of Features vs. Adj. R-squared', fontsize=20)\n",
    "plt.xlabel('No. of Features', fontsize=16)\n",
    "plt.ylabel('Adj. R-squared', fontsize=16)\n",
    "plt.savefig('presentation/oscar-rsq.png')\n",
    "plt.show()"
   ]
  },
  {
   "cell_type": "code",
   "execution_count": 2473,
   "metadata": {
    "collapsed": false
   },
   "outputs": [
    {
     "name": "stdout",
     "output_type": "stream",
     "text": [
      "rsquared:  0.311995431073\n",
      "intercept:  -7.3946485984\n",
      "train mse:  4.85742020655 vs. val mse:  4.85742020655\n"
     ]
    }
   ],
   "source": [
    "# validate\n",
    "o4 = regress_skl(X, y)\n",
    "Xval, yval = get_xy(features, ind, val)\n",
    "o4_resid, o4_mse, o4_ypred = validate(o4, X, y, X, y)"
   ]
  },
  {
   "cell_type": "code",
   "execution_count": 2489,
   "metadata": {
    "collapsed": false
   },
   "outputs": [
    {
     "data": {
      "image/png": "[encoded data removed]",
      "text/plain": [
       "<matplotlib.figure.Figure at 0x127e72ed0>"
      ]
     },
     "metadata": {},
     "output_type": "display_data"
    }
   ],
   "source": [
    "plt.figure(figsize=(10, 8))\n",
    "stats.probplot(o4_resid, dist=\"norm\", plot=plt)\n",
    "plt.title('Q-Q Plot: Oscar Nominations Model', fontsize=20)\n",
    "plt.xlabel('Quantiles', fontsize=16)\n",
    "plt.ylabel('Ordered Values', fontsize=16)\n",
    "plt.savefig('presentation/qq-oscar.png')\n",
    "plt.show()"
   ]
  },
  {
   "cell_type": "markdown",
   "metadata": {},
   "source": [
    "## older stuff below?"
   ]
  },
  {
   "cell_type": "code",
   "execution_count": null,
   "metadata": {
    "collapsed": true
   },
   "outputs": [],
   "source": [
    "# old function that gets dummies on independent sets \n",
    "def format_skl(features, ind, data):\n",
    "    '''Format df for use in skl linear regression.\n",
    "    Args:\n",
    "    cat_features (list) -- list of column names of categorical features\n",
    "    cont_features (list) -- list of column names of continuous features\n",
    "    ind (str) - name of dependent var to predict\n",
    "    data (df) - dataset to use\n",
    "    '''\n",
    "    vals = cat_features + cont_features + [ind] # get list of all columns being used in model\n",
    "    data.dropna(subset = vals, inplace = True) # drop rows with NaN in any column \n",
    "    cats = data[cat_features] # get df with categorial columns\n",
    "    dummies = pd.get_dummies(cats) # get df with dummies for categorical vars \n",
    "    # need to drop one dummy for each cat -- automatically drops anything with \"other\" \n",
    "    keep_dummy = [c for c in dummies.columns if 'other' not in c.lower()] \n",
    "    dummies = dummies[keep_dummy]\n",
    "    conts = data[cont_features]\n",
    "    X = pd.concat([conts, dummies], axis=1)\n",
    "    y = data[ind]\n",
    "    return X, y"
   ]
  },
  {
   "cell_type": "markdown",
   "metadata": {},
   "source": [
    "#### roi model 1"
   ]
  },
  {
   "cell_type": "code",
   "execution_count": null,
   "metadata": {
    "collapsed": true
   },
   "outputs": [],
   "source": [
    "roi1 = smf.ols(formula=\"dom_roi ~ new_genre + theaters + clean_rating + \\\n",
    "                        oscar_noms + director1 + actors1 + writers1 + producers1\", \n",
    "                  data = train).fit()\n",
    "roi1.summary()"
   ]
  },
  {
   "cell_type": "code",
   "execution_count": 1317,
   "metadata": {
    "collapsed": true
   },
   "outputs": [],
   "source": [
    "ind = 'dom_roi'\n",
    "cont_features = ['theaters', 'oscar_noms']\n",
    "cat_features = ['new_genre', 'clean_rating', 'director1', 'actors1', 'writers1', 'producers1']"
   ]
  },
  {
   "cell_type": "code",
   "execution_count": 1323,
   "metadata": {
    "collapsed": false
   },
   "outputs": [
    {
     "name": "stdout",
     "output_type": "stream",
     "text": [
      "rsquared:  0.964062621456\n",
      "intercept:  1.09722436547\n",
      "\n",
      "\n",
      "rsquared:  0.139902480827\n",
      "intercept:  -0.556450965235\n"
     ]
    },
    {
     "name": "stderr",
     "output_type": "stream",
     "text": [
      "/anaconda/lib/python2.7/site-packages/ipykernel/__main__.py:11: SettingWithCopyWarning: \n",
      "A value is trying to be set on a copy of a slice from a DataFrame\n",
      "\n",
      "See the caveats in the documentation: http://pandas.pydata.org/pandas-docs/stable/indexing.html#indexing-view-versus-copy\n"
     ]
    }
   ],
   "source": [
    "X, y = format_skl(cat_features, cont_features, ind, train)\n",
    "roi1 = regress_skl(X, y)\n",
    "print '\\n'\n",
    "roi1_lasso = reg_lasso(X, y, 0.5)"
   ]
  },
  {
   "cell_type": "code",
   "execution_count": 1329,
   "metadata": {
    "collapsed": false
   },
   "outputs": [
    {
     "name": "stdout",
     "output_type": "stream",
     "text": [
      "(222, 574)\n",
      "(222,)\n"
     ]
    },
    {
     "name": "stderr",
     "output_type": "stream",
     "text": [
      "/anaconda/lib/python2.7/site-packages/ipykernel/__main__.py:11: SettingWithCopyWarning: \n",
      "A value is trying to be set on a copy of a slice from a DataFrame\n",
      "\n",
      "See the caveats in the documentation: http://pandas.pydata.org/pandas-docs/stable/indexing.html#indexing-view-versus-copy\n"
     ]
    }
   ],
   "source": [
    "X_val, y_val = format_skl(cat_features, cont_features, ind, val)\n",
    "print X_val.shape\n",
    "print y_val.shape"
   ]
  },
  {
   "cell_type": "code",
   "execution_count": 1330,
   "metadata": {
    "collapsed": true
   },
   "outputs": [
    {
     "ename": "ValueError",
     "evalue": "shapes (222,574) and (1120,) not aligned: 574 (dim 1) != 1120 (dim 0)",
     "output_type": "error",
     "traceback": [
      "\u001b[0;31m---------------------------------------------------------------------------\u001b[0m",
      "\u001b[0;31mValueError\u001b[0m                                Traceback (most recent call last)",
      "\u001b[0;32m<ipython-input-1330-27211c5a86cc>\u001b[0m in \u001b[0;36m<module>\u001b[0;34m()\u001b[0m\n\u001b[0;32m----> 1\u001b[0;31m \u001b[0mvalidate\u001b[0m\u001b[0;34m(\u001b[0m\u001b[0mroi1\u001b[0m\u001b[0;34m,\u001b[0m \u001b[0mX_val\u001b[0m\u001b[0;34m,\u001b[0m \u001b[0my_val\u001b[0m\u001b[0;34m)\u001b[0m\u001b[0;34m\u001b[0m\u001b[0m\n\u001b[0m\u001b[1;32m      2\u001b[0m \u001b[0;31m# validate(roi1_lasso, X_val, y_val)\u001b[0m\u001b[0;34m\u001b[0m\u001b[0;34m\u001b[0m\u001b[0m\n",
      "\u001b[0;32m<ipython-input-1324-d2778465f473>\u001b[0m in \u001b[0;36mvalidate\u001b[0;34m(model, X_val, y_val)\u001b[0m\n\u001b[1;32m     54\u001b[0m     \u001b[0mdata\u001b[0m \u001b[0;34m(\u001b[0m\u001b[0mdf\u001b[0m\u001b[0;34m)\u001b[0m \u001b[0;34m-\u001b[0m\u001b[0;34m-\u001b[0m \u001b[0mvalidation\u001b[0m \u001b[0mdataset\u001b[0m\u001b[0;34m\u001b[0m\u001b[0m\n\u001b[1;32m     55\u001b[0m     '''\n\u001b[0;32m---> 56\u001b[0;31m     \u001b[0my_pred\u001b[0m \u001b[0;34m=\u001b[0m \u001b[0mmodel\u001b[0m\u001b[0;34m.\u001b[0m\u001b[0mpredict\u001b[0m\u001b[0;34m(\u001b[0m\u001b[0mX_val\u001b[0m\u001b[0;34m)\u001b[0m\u001b[0;34m\u001b[0m\u001b[0m\n\u001b[0m\u001b[1;32m     57\u001b[0m     \u001b[0mresid\u001b[0m \u001b[0;34m=\u001b[0m \u001b[0my_val\u001b[0m \u001b[0;34m-\u001b[0m \u001b[0my_pred\u001b[0m\u001b[0;34m\u001b[0m\u001b[0m\n\u001b[1;32m     58\u001b[0m \u001b[0;31m#     sse = sum((y_val - y_pred)**2)\u001b[0m\u001b[0;34m\u001b[0m\u001b[0;34m\u001b[0m\u001b[0m\n",
      "\u001b[0;32m//anaconda/lib/python2.7/site-packages/sklearn/linear_model/base.pyc\u001b[0m in \u001b[0;36mpredict\u001b[0;34m(self, X)\u001b[0m\n\u001b[1;32m    198\u001b[0m             \u001b[0mReturns\u001b[0m \u001b[0mpredicted\u001b[0m \u001b[0mvalues\u001b[0m\u001b[0;34m.\u001b[0m\u001b[0;34m\u001b[0m\u001b[0m\n\u001b[1;32m    199\u001b[0m         \"\"\"\n\u001b[0;32m--> 200\u001b[0;31m         \u001b[0;32mreturn\u001b[0m \u001b[0mself\u001b[0m\u001b[0;34m.\u001b[0m\u001b[0m_decision_function\u001b[0m\u001b[0;34m(\u001b[0m\u001b[0mX\u001b[0m\u001b[0;34m)\u001b[0m\u001b[0;34m\u001b[0m\u001b[0m\n\u001b[0m\u001b[1;32m    201\u001b[0m \u001b[0;34m\u001b[0m\u001b[0m\n\u001b[1;32m    202\u001b[0m     \u001b[0m_center_data\u001b[0m \u001b[0;34m=\u001b[0m \u001b[0mstaticmethod\u001b[0m\u001b[0;34m(\u001b[0m\u001b[0mcenter_data\u001b[0m\u001b[0;34m)\u001b[0m\u001b[0;34m\u001b[0m\u001b[0m\n",
      "\u001b[0;32m//anaconda/lib/python2.7/site-packages/sklearn/linear_model/base.pyc\u001b[0m in \u001b[0;36m_decision_function\u001b[0;34m(self, X)\u001b[0m\n\u001b[1;32m    183\u001b[0m         \u001b[0mX\u001b[0m \u001b[0;34m=\u001b[0m \u001b[0mcheck_array\u001b[0m\u001b[0;34m(\u001b[0m\u001b[0mX\u001b[0m\u001b[0;34m,\u001b[0m \u001b[0maccept_sparse\u001b[0m\u001b[0;34m=\u001b[0m\u001b[0;34m[\u001b[0m\u001b[0;34m'csr'\u001b[0m\u001b[0;34m,\u001b[0m \u001b[0;34m'csc'\u001b[0m\u001b[0;34m,\u001b[0m \u001b[0;34m'coo'\u001b[0m\u001b[0;34m]\u001b[0m\u001b[0;34m)\u001b[0m\u001b[0;34m\u001b[0m\u001b[0m\n\u001b[1;32m    184\u001b[0m         return safe_sparse_dot(X, self.coef_.T,\n\u001b[0;32m--> 185\u001b[0;31m                                dense_output=True) + self.intercept_\n\u001b[0m\u001b[1;32m    186\u001b[0m \u001b[0;34m\u001b[0m\u001b[0m\n\u001b[1;32m    187\u001b[0m     \u001b[0;32mdef\u001b[0m \u001b[0mpredict\u001b[0m\u001b[0;34m(\u001b[0m\u001b[0mself\u001b[0m\u001b[0;34m,\u001b[0m \u001b[0mX\u001b[0m\u001b[0;34m)\u001b[0m\u001b[0;34m:\u001b[0m\u001b[0;34m\u001b[0m\u001b[0m\n",
      "\u001b[0;32m//anaconda/lib/python2.7/site-packages/sklearn/utils/extmath.pyc\u001b[0m in \u001b[0;36msafe_sparse_dot\u001b[0;34m(a, b, dense_output)\u001b[0m\n\u001b[1;32m    182\u001b[0m         \u001b[0;32mreturn\u001b[0m \u001b[0mret\u001b[0m\u001b[0;34m\u001b[0m\u001b[0m\n\u001b[1;32m    183\u001b[0m     \u001b[0;32melse\u001b[0m\u001b[0;34m:\u001b[0m\u001b[0;34m\u001b[0m\u001b[0m\n\u001b[0;32m--> 184\u001b[0;31m         \u001b[0;32mreturn\u001b[0m \u001b[0mfast_dot\u001b[0m\u001b[0;34m(\u001b[0m\u001b[0ma\u001b[0m\u001b[0;34m,\u001b[0m \u001b[0mb\u001b[0m\u001b[0;34m)\u001b[0m\u001b[0;34m\u001b[0m\u001b[0m\n\u001b[0m\u001b[1;32m    185\u001b[0m \u001b[0;34m\u001b[0m\u001b[0m\n\u001b[1;32m    186\u001b[0m \u001b[0;34m\u001b[0m\u001b[0m\n",
      "\u001b[0;31mValueError\u001b[0m: shapes (222,574) and (1120,) not aligned: 574 (dim 1) != 1120 (dim 0)"
     ]
    }
   ],
   "source": [
    "validate(roi1, X_val, y_val)\n",
    "# validate(roi1_lasso, X_val, y_val)"
   ]
  },
  {
   "cell_type": "code",
   "execution_count": 1010,
   "metadata": {
    "collapsed": false
   },
   "outputs": [],
   "source": [
    "cont_features = ['theaters', 'runtime_mins']\n",
    "cat_features = ['r_rating', 'hw_season']\n",
    "ind = 'oscar_noms'"
   ]
  },
  {
   "cell_type": "code",
   "execution_count": 1011,
   "metadata": {
    "collapsed": true
   },
   "outputs": [
    {
     "name": "stderr",
     "output_type": "stream",
     "text": [
      "/anaconda/lib/python2.7/site-packages/ipykernel/__main__.py:11: SettingWithCopyWarning: \n",
      "A value is trying to be set on a copy of a slice from a DataFrame\n",
      "\n",
      "See the caveats in the documentation: http://pandas.pydata.org/pandas-docs/stable/indexing.html#indexing-view-versus-copy\n"
     ]
    }
   ],
   "source": [
    "X, y = format_skl(cat_features, cont_features, ind, train)"
   ]
  },
  {
   "cell_type": "code",
   "execution_count": 1012,
   "metadata": {
    "collapsed": false
   },
   "outputs": [
    {
     "name": "stdout",
     "output_type": "stream",
     "text": [
      "rsquared:  0.135180564751\n",
      "intercept:  -1.4885062651\n",
      "coefs:  [('theaters', 5.8330889720850975e-05), ('runtime_mins', 0.014787553170840023), ('r_rating_R', 0.28340242127491694), ('hw_season_holiday', 0.93526276926526763), ('hw_season_winter', -0.20528240742474166)]\n"
     ]
    }
   ],
   "source": [
    "m2 = regress_skl(X, y)"
   ]
  },
  {
   "cell_type": "code",
   "execution_count": 1311,
   "metadata": {
    "collapsed": false
   },
   "outputs": [
    {
     "name": "stdout",
     "output_type": "stream",
     "text": [
      "rsquared:  0.0517292373478\n",
      "intercept:  -1.25171218882\n",
      "coefs:  [('theaters', 8.4998165805708866e-06), ('runtime_mins', 0.015768417505900609), ('r_rating_R', 0.0), ('hw_season_holiday', 0.0), ('hw_season_winter', -0.0)]\n"
     ]
    }
   ],
   "source": [
    "m2_lasso = reg_lasso(X, y, 0.5)"
   ]
  },
  {
   "cell_type": "code",
   "execution_count": 1013,
   "metadata": {
    "collapsed": false
   },
   "outputs": [
    {
     "name": "stderr",
     "output_type": "stream",
     "text": [
      "/anaconda/lib/python2.7/site-packages/ipykernel/__main__.py:11: SettingWithCopyWarning: \n",
      "A value is trying to be set on a copy of a slice from a DataFrame\n",
      "\n",
      "See the caveats in the documentation: http://pandas.pydata.org/pandas-docs/stable/indexing.html#indexing-view-versus-copy\n"
     ]
    }
   ],
   "source": [
    "# format validation set \n",
    "X_val, y_val = format_skl(cat_features, cont_features, ind, val)"
   ]
  },
  {
   "cell_type": "markdown",
   "metadata": {},
   "source": [
    "#### model 2. optimized"
   ]
  },
  {
   "cell_type": "code",
   "execution_count": 1038,
   "metadata": {
    "collapsed": false
   },
   "outputs": [],
   "source": [
    "# test cross validation set \n",
    "vresid, vmse = validate(m2, X_val, y_val)"
   ]
  },
  {
   "cell_type": "code",
   "execution_count": 1039,
   "metadata": {
    "collapsed": true
   },
   "outputs": [],
   "source": [
    "train_resid, train_mse = validate(m2, X, y)"
   ]
  },
  {
   "cell_type": "code",
   "execution_count": 1041,
   "metadata": {
    "collapsed": false
   },
   "outputs": [
    {
     "name": "stdout",
     "output_type": "stream",
     "text": [
      "2.37069745617 1.55193641358\n"
     ]
    }
   ],
   "source": [
    "print vmse, train_mse"
   ]
  },
  {
   "cell_type": "code",
   "execution_count": 1043,
   "metadata": {
    "collapsed": false
   },
   "outputs": [
    {
     "data": {
      "image/png": "[encoded data removed]",
      "text/plain": [
       "<matplotlib.figure.Figure at 0x116490510>"
      ]
     },
     "metadata": {},
     "output_type": "display_data"
    }
   ],
   "source": [
    "# qq plot - validation set\n",
    "stats.probplot(vresid, dist=\"norm\", plot=plt)\n",
    "plt.show()"
   ]
  },
  {
   "cell_type": "code",
   "execution_count": 1044,
   "metadata": {
    "collapsed": false
   },
   "outputs": [
    {
     "data": {
      "image/png": "[encoded data removed]",
      "text/plain": [
       "<matplotlib.figure.Figure at 0x119bb7990>"
      ]
     },
     "metadata": {},
     "output_type": "display_data"
    }
   ],
   "source": [
    "stats.probplot(train_resid, dist=\"norm\", plot=plt)\n",
    "plt.show()"
   ]
  },
  {
   "cell_type": "code",
   "execution_count": 1049,
   "metadata": {
    "collapsed": true
   },
   "outputs": [
    {
     "data": {
      "text/plain": [
       "(array([ 17.,  64.,   2.,   0.,   1.,   2.,   2.,   0.,   1.,   1.]),\n",
       " array([-1.65329376, -0.67272643,  0.3078409 ,  1.28840823,  2.26897556,\n",
       "         3.24954289,  4.23011022,  5.21067755,  6.19124488,  7.17181221,\n",
       "         8.15237954]),\n",
       " <a list of 10 Patch objects>)"
      ]
     },
     "execution_count": 1049,
     "metadata": {},
     "output_type": "execute_result"
    },
    {
     "data": {
      "image/png": "[encoded data removed]",
      "text/plain": [
       "<matplotlib.figure.Figure at 0x116d74790>"
      ]
     },
     "metadata": {},
     "output_type": "display_data"
    }
   ],
   "source": [
    "plt.hist(list(vresid))"
   ]
  },
  {
   "cell_type": "markdown",
   "metadata": {},
   "source": [
    "#### model 3. oscars log model with theaters"
   ]
  },
  {
   "cell_type": "code",
   "execution_count": 1063,
   "metadata": {
    "collapsed": false,
    "scrolled": true
   },
   "outputs": [
    {
     "name": "stdout",
     "output_type": "stream",
     "text": [
      "rsquared:  0.154382272501\n",
      "intercept:  -1.70383649117\n",
      "coefs:  [('theaters', 3.5662181929102237e-07), ('runtime_mins', 0.0076582484230571669), ('r_rating_R', 0.1542264336259159), ('hw_season_holiday', 0.47984808805320261), ('hw_season_winter', -0.11783258360243239)]\n"
     ]
    },
    {
     "name": "stderr",
     "output_type": "stream",
     "text": [
      "/anaconda/lib/python2.7/site-packages/ipykernel/__main__.py:11: SettingWithCopyWarning: \n",
      "A value is trying to be set on a copy of a slice from a DataFrame\n",
      "\n",
      "See the caveats in the documentation: http://pandas.pydata.org/pandas-docs/stable/indexing.html#indexing-view-versus-copy\n"
     ]
    }
   ],
   "source": [
    "# train log oscar noms model\n",
    "ind_log = 'oscar_noms_log'\n",
    "Xlog, ylog = format_skl(cat_features, cont_features, ind_log, train)\n",
    "olog_model = regress_skl(Xlog, ylog)"
   ]
  },
  {
   "cell_type": "code",
   "execution_count": 1069,
   "metadata": {
    "collapsed": false
   },
   "outputs": [
    {
     "name": "stderr",
     "output_type": "stream",
     "text": [
      "/anaconda/lib/python2.7/site-packages/ipykernel/__main__.py:11: SettingWithCopyWarning: \n",
      "A value is trying to be set on a copy of a slice from a DataFrame\n",
      "\n",
      "See the caveats in the documentation: http://pandas.pydata.org/pandas-docs/stable/indexing.html#indexing-view-versus-copy\n"
     ]
    }
   ],
   "source": [
    "# format and test validation set\n",
    "Xval, yval = format_skl(cat_features, cont_features, ind_log, val)\n",
    "vresid2, vmse2 = validate(olog_model, Xval, yval)"
   ]
  },
  {
   "cell_type": "code",
   "execution_count": 1068,
   "metadata": {
    "collapsed": false
   },
   "outputs": [
    {
     "data": {
      "image/png": "[encoded data removed]",
      "text/plain": [
       "<matplotlib.figure.Figure at 0x11666a450>"
      ]
     },
     "metadata": {},
     "output_type": "display_data"
    }
   ],
   "source": [
    "stats.probplot(vresid2, dist=\"norm\", plot=plt)\n",
    "plt.show()"
   ]
  },
  {
   "cell_type": "code",
   "execution_count": 1072,
   "metadata": {
    "collapsed": false
   },
   "outputs": [],
   "source": [
    "# test on training set \n",
    "trresid2, trmse2 = validate(olog_model, Xlog, ylog)"
   ]
  },
  {
   "cell_type": "code",
   "execution_count": 1073,
   "metadata": {
    "collapsed": false
   },
   "outputs": [
    {
     "data": {
      "image/png": "[encoded data removed]",
      "text/plain": [
       "<matplotlib.figure.Figure at 0x118d4c590>"
      ]
     },
     "metadata": {},
     "output_type": "display_data"
    }
   ],
   "source": [
    "stats.probplot(trresid2, dist=\"norm\", plot=plt)\n",
    "plt.show()"
   ]
  },
  {
   "cell_type": "code",
   "execution_count": 1080,
   "metadata": {
    "collapsed": false
   },
   "outputs": [
    {
     "name": "stdout",
     "output_type": "stream",
     "text": [
      "mse of training set:  0.374973511489\n",
      "mse of validation set:  0.447831746675\n"
     ]
    }
   ],
   "source": [
    "print 'mse of training set: ', trmse2\n",
    "print 'mse of validation set: ', vmse2"
   ]
  },
  {
   "cell_type": "markdown",
   "metadata": {},
   "source": [
    "#### model 4. oscars log model without theaters"
   ]
  },
  {
   "cell_type": "code",
   "execution_count": 1081,
   "metadata": {
    "collapsed": true
   },
   "outputs": [],
   "source": [
    "# X, y \n",
    "cont_features4 = ['runtime_mins']\n",
    "cat_features4 = ['r_rating', 'hw_season']\n",
    "ind4 = 'oscar_noms_log'"
   ]
  },
  {
   "cell_type": "code",
   "execution_count": 1084,
   "metadata": {
    "collapsed": false
   },
   "outputs": [
    {
     "name": "stderr",
     "output_type": "stream",
     "text": [
      "/anaconda/lib/python2.7/site-packages/ipykernel/__main__.py:11: SettingWithCopyWarning: \n",
      "A value is trying to be set on a copy of a slice from a DataFrame\n",
      "\n",
      "See the caveats in the documentation: http://pandas.pydata.org/pandas-docs/stable/indexing.html#indexing-view-versus-copy\n"
     ]
    }
   ],
   "source": [
    "# format\n",
    "X_tr4, y_tr4 = format_skl(cat_features4, cont_features4, ind4, train)\n",
    "X_val4, y_val4 = format_skl(cat_features4, cont_features4, ind4, val)"
   ]
  },
  {
   "cell_type": "code",
   "execution_count": 1085,
   "metadata": {
    "collapsed": false
   },
   "outputs": [
    {
     "name": "stdout",
     "output_type": "stream",
     "text": [
      "rsquared:  0.154381978606\n",
      "intercept:  -1.7028493958\n",
      "coefs:  [('runtime_mins', 0.0076538139351256494), ('r_rating_R', 0.15410500078321282), ('hw_season_holiday', 0.47982543874464745), ('hw_season_winter', -0.11776036468517434)]\n"
     ]
    }
   ],
   "source": [
    "model4 = regress_skl(X_tr4, y_tr4)"
   ]
  },
  {
   "cell_type": "code",
   "execution_count": 1086,
   "metadata": {
    "collapsed": true
   },
   "outputs": [],
   "source": [
    "resid_tr4, mse_tr4 = validate(model4, X_tr4, y_tr4)\n",
    "resid_val4, mse_val4 = validate(model4, X_val4, y_val4)"
   ]
  },
  {
   "cell_type": "code",
   "execution_count": 1089,
   "metadata": {
    "collapsed": false
   },
   "outputs": [
    {
     "data": {
      "image/png": "[encoded data removed]",
      "text/plain": [
       "<matplotlib.figure.Figure at 0x116525950>"
      ]
     },
     "metadata": {},
     "output_type": "display_data"
    }
   ],
   "source": [
    "stats.probplot(resid_tr4, dist=\"norm\", plot=plt)\n",
    "plt.savefig('model4-qq.png')\n",
    "plt.show()"
   ]
  },
  {
   "cell_type": "code",
   "execution_count": 1087,
   "metadata": {
    "collapsed": false
   },
   "outputs": [
    {
     "name": "stdout",
     "output_type": "stream",
     "text": [
      "mse of training set:  0.374973641812\n",
      "mse of validation set:  0.447739874817\n"
     ]
    }
   ],
   "source": [
    "print 'mse of training set: ', mse_tr4\n",
    "print 'mse of validation set: ', mse_val4"
   ]
  },
  {
   "cell_type": "markdown",
   "metadata": {},
   "source": [
    "#### begin workspace for testing genre categorization"
   ]
  },
  {
   "cell_type": "code",
   "execution_count": 18,
   "metadata": {
    "collapsed": false
   },
   "outputs": [
    {
     "name": "stdout",
     "output_type": "stream",
     "text": [
      "('Action', 'Action / Adventure', 'Action / Crime', 'Action Comedy', 'Action Drama', 'Action Fantasy', 'Action Horror', 'Action Thriller', 'Adventure', 'Adventure Comedy', 'Animation', 'Comedy', 'Comedy / Drama', 'Comedy Thriller', 'Concert', 'Crime', 'Crime Comedy', 'Crime Drama', 'Crime Thriller', 'Documentary', 'Drama', 'Drama / Thriller', 'Family', 'Family Adventure', 'Family Comedy', 'Fantasy', 'Fantasy Comedy', 'Fantasy Drama', 'Foreign', 'Foreign / Action', 'Foreign / Horror', 'Historical Drama', 'Historical Epic', 'Horror', 'Horror Comedy', 'Horror Thriller', 'IMAX', 'Music Drama', 'Musical', 'None', 'Period Action', 'Period Adventure', 'Period Comedy', 'Period Drama', 'Period Horror', 'Romance', 'Romantic Adventure', 'Romantic Comedy', 'Romantic Thriller', 'Sci-Fi', 'Sci-Fi Action', 'Sci-Fi Adventure', 'Sci-Fi Comedy', 'Sci-Fi Fantasy', 'Sci-Fi Horror', 'Sci-Fi Thriller', 'Sports', 'Sports Action', 'Sports Comedy', 'Sports Drama', 'Thriller', 'Unknown', 'War', 'War Drama', 'War Romance', 'Western', 'Western Comedy')\n"
     ]
    }
   ],
   "source": [
    "# original genre categories\n",
    "raw_genres = tuple(by_genre.count().index)\n",
    "print raw_genres"
   ]
  },
  {
   "cell_type": "code",
   "execution_count": 33,
   "metadata": {
    "collapsed": false
   },
   "outputs": [
    {
     "name": "stdout",
     "output_type": "stream",
     "text": [
      "67\n"
     ]
    }
   ],
   "source": [
    "print len(raw_genres)"
   ]
  },
  {
   "cell_type": "code",
   "execution_count": 626,
   "metadata": {
    "collapsed": false
   },
   "outputs": [],
   "source": [
    "# code simple genres \n",
    "simple_genres = ['Act_Adven', 'Act_Adven', 'Act_Adven', 'Act_Adven', 'Act_Adven', 'Act_Adven', \n",
    "                 'Act_Adven', 'Act_Adven', 'Act_Adven', 'Act_Adven', \n",
    "                 'Animation', 'Comedy', 'Comedy', 'Comedy', 'Other', \n",
    "                 'Crime_Thriller', 'Crime_Thriller', 'Crime_Thriller', 'Crime_Thriller', \n",
    "                 'Documentary', 'Drama', 'Drama', 'Family', 'Family', 'Family', 'Fantasy_Scifi', 'Fantasy_Scifi', \n",
    "                 'Fantasy_Scifi', 'Foreign', 'Foreign', 'Foreign', 'Historical', 'Historical', \n",
    "                 'Horror', 'Horror', 'Horror', 'Other', 'Musical', 'Musical', 'None', \n",
    "                 'Historical', 'Historical', 'Historical', 'Historical', 'Historical', \n",
    "                 'Romance', 'Romance', 'Romance', 'Romance', 'Fantasy_Scifi', 'Fantasy_Scifi', \n",
    "                 'Fantasy_Scifi', 'Fantasy_Scifi', 'Fantasy_Scifi', 'Fantasy_Scifi', \n",
    "                 'Fantasy_Scifi', 'Sports', 'Sports', 'Sports', 'Sports',  'Crime_Thriller', \n",
    "                 'None', 'War', 'War', 'War', 'Western', 'Western']"
   ]
  },
  {
   "cell_type": "code",
   "execution_count": 627,
   "metadata": {
    "collapsed": false
   },
   "outputs": [
    {
     "name": "stdout",
     "output_type": "stream",
     "text": [
      "set(['Romance', 'None', 'Family', 'Sports', 'Horror', 'Other', 'Act_Adven', 'Foreign', 'Drama', 'Animation', 'War', 'Western', 'Historical', 'Crime_Thriller', 'Fantasy_Scifi', 'Comedy', 'Documentary', 'Musical'])\n",
      "18\n"
     ]
    }
   ],
   "source": [
    "# count how many genres\n",
    "print set(simple_genres)\n",
    "print len(set(simple_genres))"
   ]
  },
  {
   "cell_type": "code",
   "execution_count": 628,
   "metadata": {
    "collapsed": true
   },
   "outputs": [],
   "source": [
    "genres = dict(zip(raw_genres, simple_genres))"
   ]
  },
  {
   "cell_type": "code",
   "execution_count": 629,
   "metadata": {
    "collapsed": false
   },
   "outputs": [
    {
     "name": "stdout",
     "output_type": "stream",
     "text": [
      "{'Action': 'Act_Adven',\n",
      " 'Action / Adventure': 'Act_Adven',\n",
      " 'Action / Crime': 'Act_Adven',\n",
      " 'Action Comedy': 'Act_Adven',\n",
      " 'Action Drama': 'Act_Adven',\n",
      " 'Action Fantasy': 'Act_Adven',\n",
      " 'Action Horror': 'Act_Adven',\n",
      " 'Action Thriller': 'Act_Adven',\n",
      " 'Adventure': 'Act_Adven',\n",
      " 'Adventure Comedy': 'Act_Adven',\n",
      " 'Animation': 'Animation',\n",
      " 'Comedy': 'Comedy',\n",
      " 'Comedy / Drama': 'Comedy',\n",
      " 'Comedy Thriller': 'Comedy',\n",
      " 'Concert': 'Other',\n",
      " 'Crime': 'Crime_Thriller',\n",
      " 'Crime Comedy': 'Crime_Thriller',\n",
      " 'Crime Drama': 'Crime_Thriller',\n",
      " 'Crime Thriller': 'Crime_Thriller',\n",
      " 'Documentary': 'Documentary',\n",
      " 'Drama': 'Drama',\n",
      " 'Drama / Thriller': 'Drama',\n",
      " 'Family': 'Family',\n",
      " 'Family Adventure': 'Family',\n",
      " 'Family Comedy': 'Family',\n",
      " 'Fantasy': 'Fantasy_Scifi',\n",
      " 'Fantasy Comedy': 'Fantasy_Scifi',\n",
      " 'Fantasy Drama': 'Fantasy_Scifi',\n",
      " 'Foreign': 'Foreign',\n",
      " 'Foreign / Action': 'Foreign',\n",
      " 'Foreign / Horror': 'Foreign',\n",
      " 'Historical Drama': 'Historical',\n",
      " 'Historical Epic': 'Historical',\n",
      " 'Horror': 'Horror',\n",
      " 'Horror Comedy': 'Horror',\n",
      " 'Horror Thriller': 'Horror',\n",
      " 'IMAX': 'Other',\n",
      " 'Music Drama': 'Musical',\n",
      " 'Musical': 'Musical',\n",
      " 'None': 'None',\n",
      " 'Period Action': 'Historical',\n",
      " 'Period Adventure': 'Historical',\n",
      " 'Period Comedy': 'Historical',\n",
      " 'Period Drama': 'Historical',\n",
      " 'Period Horror': 'Historical',\n",
      " 'Romance': 'Romance',\n",
      " 'Romantic Adventure': 'Romance',\n",
      " 'Romantic Comedy': 'Romance',\n",
      " 'Romantic Thriller': 'Romance',\n",
      " 'Sci-Fi': 'Fantasy_Scifi',\n",
      " 'Sci-Fi Action': 'Fantasy_Scifi',\n",
      " 'Sci-Fi Adventure': 'Fantasy_Scifi',\n",
      " 'Sci-Fi Comedy': 'Fantasy_Scifi',\n",
      " 'Sci-Fi Fantasy': 'Fantasy_Scifi',\n",
      " 'Sci-Fi Horror': 'Fantasy_Scifi',\n",
      " 'Sci-Fi Thriller': 'Fantasy_Scifi',\n",
      " 'Sports': 'Sports',\n",
      " 'Sports Action': 'Sports',\n",
      " 'Sports Comedy': 'Sports',\n",
      " 'Sports Drama': 'Sports',\n",
      " 'Thriller': 'Crime_Thriller',\n",
      " 'Unknown': 'None',\n",
      " 'War': 'War',\n",
      " 'War Drama': 'War',\n",
      " 'War Romance': 'War',\n",
      " 'Western': 'Western',\n",
      " 'Western Comedy': 'Western'}\n"
     ]
    }
   ],
   "source": [
    "pprint(genres)"
   ]
  },
  {
   "cell_type": "markdown",
   "metadata": {},
   "source": [
    "#### </ end genre testing workspace >"
   ]
  },
  {
   "cell_type": "code",
   "execution_count": 93,
   "metadata": {
    "collapsed": false
   },
   "outputs": [
    {
     "data": {
      "text/html": [
       "<div>\n",
       "<table border=\"1\" class=\"dataframe\">\n",
       "  <thead>\n",
       "    <tr style=\"text-align: right;\">\n",
       "      <th></th>\n",
       "      <th>1-title</th>\n",
       "      <th>2-release_date</th>\n",
       "      <th>3-closing_date</th>\n",
       "      <th>actors</th>\n",
       "      <th>budget</th>\n",
       "      <th>director</th>\n",
       "      <th>distributor</th>\n",
       "      <th>dom_total_gross</th>\n",
       "      <th>intl_total_gross</th>\n",
       "      <th>oscar_noms</th>\n",
       "      <th>...</th>\n",
       "      <th>genre_Romantic Thriller</th>\n",
       "      <th>genre_Sci-Fi Action</th>\n",
       "      <th>genre_Sci-Fi Horror</th>\n",
       "      <th>genre_Sci-Fi Thriller</th>\n",
       "      <th>genre_Sports Comedy</th>\n",
       "      <th>genre_Sports Drama</th>\n",
       "      <th>genre_Thriller</th>\n",
       "      <th>genre_Unknown</th>\n",
       "      <th>genre_War</th>\n",
       "      <th>genre_Western</th>\n",
       "    </tr>\n",
       "  </thead>\n",
       "  <tbody>\n",
       "    <tr>\n",
       "      <th>123</th>\n",
       "      <td>Affliction</td>\n",
       "      <td>1998-12-30</td>\n",
       "      <td>NaT</td>\n",
       "      <td>[Willem Dafoe]</td>\n",
       "      <td>6000000</td>\n",
       "      <td>[Paul Schrader]</td>\n",
       "      <td>Lions Gate</td>\n",
       "      <td>6330054</td>\n",
       "      <td>NaN</td>\n",
       "      <td>2</td>\n",
       "      <td>...</td>\n",
       "      <td>0</td>\n",
       "      <td>0</td>\n",
       "      <td>0</td>\n",
       "      <td>0</td>\n",
       "      <td>0</td>\n",
       "      <td>0</td>\n",
       "      <td>0</td>\n",
       "      <td>0</td>\n",
       "      <td>0</td>\n",
       "      <td>0</td>\n",
       "    </tr>\n",
       "    <tr>\n",
       "      <th>200</th>\n",
       "      <td>Airplane!</td>\n",
       "      <td>1980-06-27</td>\n",
       "      <td>NaT</td>\n",
       "      <td>[Leslie Nielsen]</td>\n",
       "      <td>3500000</td>\n",
       "      <td>[Jim Abrahams, David Zucker, Jerry Zucker]</td>\n",
       "      <td>Paramount</td>\n",
       "      <td>83453539</td>\n",
       "      <td>NaN</td>\n",
       "      <td>0</td>\n",
       "      <td>...</td>\n",
       "      <td>0</td>\n",
       "      <td>0</td>\n",
       "      <td>0</td>\n",
       "      <td>0</td>\n",
       "      <td>0</td>\n",
       "      <td>0</td>\n",
       "      <td>0</td>\n",
       "      <td>0</td>\n",
       "      <td>0</td>\n",
       "      <td>0</td>\n",
       "    </tr>\n",
       "    <tr>\n",
       "      <th>207</th>\n",
       "      <td>Akeelah and the Bee</td>\n",
       "      <td>2006-04-28</td>\n",
       "      <td>2006-07-20</td>\n",
       "      <td>[Laurence Fishburne, Angela Bassett, Keke Palmer]</td>\n",
       "      <td>8000000</td>\n",
       "      <td>None</td>\n",
       "      <td>Lionsgate</td>\n",
       "      <td>18848430</td>\n",
       "      <td>18948425</td>\n",
       "      <td>0</td>\n",
       "      <td>...</td>\n",
       "      <td>0</td>\n",
       "      <td>0</td>\n",
       "      <td>0</td>\n",
       "      <td>0</td>\n",
       "      <td>0</td>\n",
       "      <td>0</td>\n",
       "      <td>0</td>\n",
       "      <td>0</td>\n",
       "      <td>0</td>\n",
       "      <td>0</td>\n",
       "    </tr>\n",
       "    <tr>\n",
       "      <th>223</th>\n",
       "      <td>Albino Alligator</td>\n",
       "      <td>1997-01-17</td>\n",
       "      <td>1997-02-13</td>\n",
       "      <td>[Matt Dillon, Viggo Mortensen]</td>\n",
       "      <td>6000000</td>\n",
       "      <td>None</td>\n",
       "      <td>Miramax</td>\n",
       "      <td>339379</td>\n",
       "      <td>NaN</td>\n",
       "      <td>0</td>\n",
       "      <td>...</td>\n",
       "      <td>0</td>\n",
       "      <td>0</td>\n",
       "      <td>0</td>\n",
       "      <td>0</td>\n",
       "      <td>0</td>\n",
       "      <td>0</td>\n",
       "      <td>0</td>\n",
       "      <td>1</td>\n",
       "      <td>0</td>\n",
       "      <td>0</td>\n",
       "    </tr>\n",
       "    <tr>\n",
       "      <th>289</th>\n",
       "      <td>All or Nothing</td>\n",
       "      <td>2002-10-25</td>\n",
       "      <td>NaT</td>\n",
       "      <td>[Taraji P. Henson, Sally Hawkins]</td>\n",
       "      <td>9000000</td>\n",
       "      <td>[Mike Leigh]</td>\n",
       "      <td>United Artists</td>\n",
       "      <td>201546</td>\n",
       "      <td>201546</td>\n",
       "      <td>0</td>\n",
       "      <td>...</td>\n",
       "      <td>0</td>\n",
       "      <td>0</td>\n",
       "      <td>0</td>\n",
       "      <td>0</td>\n",
       "      <td>0</td>\n",
       "      <td>0</td>\n",
       "      <td>0</td>\n",
       "      <td>1</td>\n",
       "      <td>0</td>\n",
       "      <td>0</td>\n",
       "    </tr>\n",
       "  </tbody>\n",
       "</table>\n",
       "<p>5 rows × 64 columns</p>\n",
       "</div>"
      ],
      "text/plain": [
       "                 1-title 2-release_date 3-closing_date  \\\n",
       "123           Affliction     1998-12-30            NaT   \n",
       "200            Airplane!     1980-06-27            NaT   \n",
       "207  Akeelah and the Bee     2006-04-28     2006-07-20   \n",
       "223     Albino Alligator     1997-01-17     1997-02-13   \n",
       "289       All or Nothing     2002-10-25            NaT   \n",
       "\n",
       "                                                actors   budget  \\\n",
       "123                                     [Willem Dafoe]  6000000   \n",
       "200                                   [Leslie Nielsen]  3500000   \n",
       "207  [Laurence Fishburne, Angela Bassett, Keke Palmer]  8000000   \n",
       "223                     [Matt Dillon, Viggo Mortensen]  6000000   \n",
       "289                  [Taraji P. Henson, Sally Hawkins]  9000000   \n",
       "\n",
       "                                       director     distributor  \\\n",
       "123                             [Paul Schrader]      Lions Gate   \n",
       "200  [Jim Abrahams, David Zucker, Jerry Zucker]       Paramount   \n",
       "207                                        None       Lionsgate   \n",
       "223                                        None         Miramax   \n",
       "289                                [Mike Leigh]  United Artists   \n",
       "\n",
       "     dom_total_gross  intl_total_gross  oscar_noms      ...        \\\n",
       "123          6330054               NaN           2      ...         \n",
       "200         83453539               NaN           0      ...         \n",
       "207         18848430          18948425           0      ...         \n",
       "223           339379               NaN           0      ...         \n",
       "289           201546            201546           0      ...         \n",
       "\n",
       "     genre_Romantic Thriller genre_Sci-Fi Action genre_Sci-Fi Horror  \\\n",
       "123                        0                   0                   0   \n",
       "200                        0                   0                   0   \n",
       "207                        0                   0                   0   \n",
       "223                        0                   0                   0   \n",
       "289                        0                   0                   0   \n",
       "\n",
       "     genre_Sci-Fi Thriller  genre_Sports Comedy genre_Sports Drama  \\\n",
       "123                      0                    0                  0   \n",
       "200                      0                    0                  0   \n",
       "207                      0                    0                  0   \n",
       "223                      0                    0                  0   \n",
       "289                      0                    0                  0   \n",
       "\n",
       "    genre_Thriller  genre_Unknown  genre_War  genre_Western  \n",
       "123              0              0          0              0  \n",
       "200              0              0          0              0  \n",
       "207              0              0          0              0  \n",
       "223              0              1          0              0  \n",
       "289              0              1          0              0  \n",
       "\n",
       "[5 rows x 64 columns]"
      ]
     },
     "execution_count": 93,
     "metadata": {},
     "output_type": "execute_result"
    }
   ],
   "source": [
    "pd.get_dummies(newer_movies, columns = ['genre']).head()"
   ]
  },
  {
   "cell_type": "code",
   "execution_count": null,
   "metadata": {
    "collapsed": true
   },
   "outputs": [],
   "source": []
  }
 ],
 "metadata": {
  "kernelspec": {
   "display_name": "Python 2",
   "language": "python",
   "name": "python2"
  },
  "language_info": {
   "codemirror_mode": {
    "name": "ipython",
    "version": 2
   },
   "file_extension": ".py",
   "mimetype": "text/x-python",
   "name": "python",
   "nbconvert_exporter": "python",
   "pygments_lexer": "ipython2",
   "version": "2.7.11"
  }
 },
 "nbformat": 4,
 "nbformat_minor": 0
}

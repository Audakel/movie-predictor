{
 "cells": [
  {
   "cell_type": "markdown",
   "metadata": {},
   "source": [
    "**Question/need:** Can we predict the success (gross revenues, revenues per budget dollar, and/or oscar nominations) of proposed low-budget films (< $10 million) based on its characteristics? Are there different predictive characteristics for success in terms of gross revenues vs. oscar nominations? \n",
    "\n",
    "**Movie data:** I'm planning on using all movies (1980 - 2016) from boxofficemojo to investigate the impact of various characteristics on success. If I have time, I would also like to incorporate other variables, such as google searches and wikipedia page views, as well as critic and general public rating information from rottentomatoes. \n",
    "\n",
    "**Characteristics of each movie and/or other entities:** I'd like to investigate as many characteristics as possible during my first pass to determine which ones have the greatest predictive impact, and then dig in deeper to these characteristics. The features I'm most interested in are: genre, release date (month, if before a holiday weekend, if during Christmas holiday, if during summer), star power (a score that accounts for actors, director, and producers), production budget, and if there the movie has some preexisting popularity, either through a novel/play adaptation or if there's a prequel. I'll also investigate other features such as runtime, rating, and franchise, but I have a hunch that these will have a smaller impact. "
   ]
  },
  {
   "cell_type": "code",
   "execution_count": 542,
   "metadata": {
    "collapsed": false
   },
   "outputs": [
    {
     "data": {
      "text/plain": [
       "'TO DOS:\\n- clean up genres and rating\\n- adjust budget for inflation'"
      ]
     },
     "execution_count": 542,
     "metadata": {},
     "output_type": "execute_result"
    }
   ],
   "source": [
    "'''TO DOS:\n",
    "- clean up genres and rating\n",
    "- adjust budget for inflation'''"
   ]
  },
  {
   "cell_type": "code",
   "execution_count": 1042,
   "metadata": {
    "collapsed": false
   },
   "outputs": [],
   "source": [
    "# storing\n",
    "import pickle\n",
    "\n",
    "# exploratory analysis\n",
    "import pandas as pd\n",
    "import numpy as np\n",
    "import matplotlib.pyplot as plt\n",
    "import seaborn as sns\n",
    "from datetime import datetime\n",
    "import re\n",
    "\n",
    "# regression\n",
    "from patsy import dmatrices\n",
    "import statsmodels.api as sm\n",
    "import statsmodels.formula.api as smf\n",
    "from sklearn.linear_model import LinearRegression\n",
    "from sklearn import cross_validation\n",
    "from sklearn.metrics import mean_squared_error\n",
    "import scipy.stats as stats\n",
    "\n",
    "from pprint import pprint\n",
    "\n",
    "%matplotlib inline"
   ]
  },
  {
   "cell_type": "markdown",
   "metadata": {},
   "source": [
    "### parse data"
   ]
  },
  {
   "cell_type": "markdown",
   "metadata": {},
   "source": [
    "First, let's load the movie data into a dataframe and check the quality of our data."
   ]
  },
  {
   "cell_type": "code",
   "execution_count": 691,
   "metadata": {
    "collapsed": false
   },
   "outputs": [],
   "source": [
    "with open('pickled_data/all-movies-data3.pkl', 'r') as picklefile:\n",
    "    all_movies_data = pickle.load(picklefile)"
   ]
  },
  {
   "cell_type": "code",
   "execution_count": 688,
   "metadata": {
    "collapsed": true
   },
   "outputs": [],
   "source": [
    "movies = pd.DataFrame(all_movies_data)"
   ]
  },
  {
   "cell_type": "markdown",
   "metadata": {},
   "source": [
    "Time to do some cleaning..."
   ]
  },
  {
   "cell_type": "code",
   "execution_count": 693,
   "metadata": {
    "collapsed": true
   },
   "outputs": [],
   "source": [
    "# rename cols\n",
    "movies.rename(columns = {'1-title': 'title', \n",
    "                         '2-release_date': 'release_date', \n",
    "                         '3-closing_date': 'closing_date'}, inplace = True)"
   ]
  },
  {
   "cell_type": "code",
   "execution_count": 743,
   "metadata": {
    "collapsed": false
   },
   "outputs": [],
   "source": [
    "# split actor, director, producer, writer columns\n",
    "def get_person(peoplelist, i):\n",
    "    '''Take a list of people and inde; return person at that index. Return blank if no list present.'''\n",
    "    try:\n",
    "        return peoplelist[i]\n",
    "    except:\n",
    "        return ''\n",
    "\n",
    "def sep_people(df, person_type, num_people):\n",
    "    '''For each column with list of people, split into n columns with one person in each column.\n",
    "    Name new columns as person_type + n.\n",
    "    \n",
    "    Args:\n",
    "    df -- name of dataframe\n",
    "    person_type -- name of column (str)\n",
    "    num_people -- number of columns to generate\n",
    "    '''\n",
    "    for n in range(num_people):\n",
    "        df.loc[:, person_type + str(n+1)] = df.loc[:, person_type].apply(get_person, args=(n,))\n",
    "\n",
    "# add seasons; rationale from http://www.boxofficemojo.com/seasonal/?chart=byseason\n",
    "def get_season(date):\n",
    "    '''Return season given month as int.'''\n",
    "    months = (range(1, 13))\n",
    "    seasons = ['winter', 'winter', 'spring', 'spring', \n",
    "           'summer', 'summer', 'summer', 'summer', \n",
    "           'fall', 'fall', 'holiday', 'holiday']\n",
    "    seasons = dict(zip(months, seasons))\n",
    "    try:\n",
    "        return seasons[date.month]\n",
    "    except:\n",
    "        return ''\n",
    "       \n",
    "def recat(df, func, new_col, old_col):\n",
    "    '''Recategorize variable in new column based on data in old col\n",
    "    and provided function. \n",
    "    Args: \n",
    "    df -- data frame\n",
    "    func -- function to apply\n",
    "    new_col (str) -- name of new column (to store result of function)\n",
    "    old_col (str) -- name of old column (on which to apply function)\n",
    "    '''\n",
    "    df[new_col] = df.loc[:, old_col].apply(func) \n",
    "\n",
    "# map raw genres to simple genres\n",
    "def get_simple_genre(g):\n",
    "    '''Recategorize raw genre into simple genre.'''\n",
    "    raw_genres = tuple(by_genre.count().index)\n",
    "    simple_genres = ['Act_Adven', 'Act_Adven', 'Act_Adven', 'Act_Adven', 'Act_Adven', 'Act_Adven', \n",
    "                 'Act_Adven', 'Act_Adven', 'Act_Adven', 'Act_Adven', \n",
    "                 'Animation', 'Comedy', 'Comedy', 'Comedy', 'Other', \n",
    "                 'Crime_Thriller', 'Crime_Thriller', 'Crime_Thriller', 'Crime_Thriller', \n",
    "                 'Documentary', 'Drama', 'Drama', 'Family', 'Family', 'Family', 'Fantasy_Scifi', 'Fantasy_Scifi', \n",
    "                 'Fantasy_Scifi', 'Foreign', 'Foreign', 'Foreign', 'Historical', 'Historical', \n",
    "                 'Horror', 'Horror', 'Horror', 'Other', 'Musical', 'Musical', 'None', \n",
    "                 'Historical', 'Historical', 'Historical', 'Historical', 'Historical', \n",
    "                 'Romance', 'Romance', 'Romance', 'Romance', 'Fantasy_Scifi', 'Fantasy_Scifi', \n",
    "                 'Fantasy_Scifi', 'Fantasy_Scifi', 'Fantasy_Scifi', 'Fantasy_Scifi', \n",
    "                 'Fantasy_Scifi', 'Sports', 'Sports', 'Sports', 'Sports',  'Crime_Thriller', \n",
    "                 'None', 'War', 'War', 'War', 'Western', 'Western']\n",
    "    try:\n",
    "        return genres[g]\n",
    "    except:\n",
    "        return ''\n",
    "\n",
    "def add_simple_genre(df):\n",
    "    df['new_genre'] = df.loc[:, 'genre'].apply(get_simple_genre)\n",
    "    \n",
    "# clean up ratings\n",
    "def get_clean_rating(r):\n",
    "    rm_ratings = ['Unknown', 'Unrated', 'None', 'Not Yet Rated']\n",
    "    return '' if r in rm_ratings else r\n",
    "\n",
    "def clean_rating(df, func, new_col):\n",
    "    '''Add new column to df with cleaned up rating. \n",
    "    Args:\n",
    "    df -- df to work on\n",
    "    func -- function to apply\n",
    "    new col (str) -- name of new column to create for cleaned up rating\n",
    "    '''\n",
    "    df[new_col] = df.loc[:, 'rating'].apply(func)\n",
    "    \n",
    "# add roi\n",
    "def add_roi(df):\n",
    "    df['dom_roi'] = df.loc[:, 'dom_total_gross'] / df.loc[:, 'budget']\n",
    "    df['intl_roi'] = df.loc[:, 'intl_total_gross'] / df.loc[:, 'budget']\n",
    "    \n",
    "# add total time in theaters - not necessary if we have theaters?\n",
    "def add_in_theaters_time(df):\n",
    "    try:\n",
    "        df['time_in_theaters'] = df.loc[:, 'closing_date'] - df.loc[:, 'release_date']\n",
    "    except:\n",
    "        df['time_in_theaters'] = ''"
   ]
  },
  {
   "cell_type": "code",
   "execution_count": 744,
   "metadata": {
    "collapsed": false
   },
   "outputs": [],
   "source": [
    "sep_people(movies, 'director', 3)\n",
    "sep_people(movies, 'actors', 5)\n",
    "sep_people(movies, 'writers', 2)\n",
    "sep_people(movies, 'producers', 3)\n",
    "recat(movies, get_season, 'season', 'release_date')\n",
    "clean_rating(movies, get_clean_rating, 'clean_rating')"
   ]
  },
  {
   "cell_type": "code",
   "execution_count": 696,
   "metadata": {
    "collapsed": true
   },
   "outputs": [],
   "source": [
    "add_simple_genre(movies) # try not to rerun this guy, takes a while"
   ]
  },
  {
   "cell_type": "code",
   "execution_count": 697,
   "metadata": {
    "collapsed": true
   },
   "outputs": [],
   "source": [
    "# pickle the parsed df\n",
    "with open('pickled_data/parsed-data3.pkl', 'w') as picklefile:\n",
    "    pickle.dump(movies, picklefile)"
   ]
  },
  {
   "cell_type": "code",
   "execution_count": 699,
   "metadata": {
    "collapsed": false
   },
   "outputs": [
    {
     "data": {
      "text/html": [
       "<div>\n",
       "<table border=\"1\" class=\"dataframe\">\n",
       "  <thead>\n",
       "    <tr style=\"text-align: right;\">\n",
       "      <th></th>\n",
       "      <th>title</th>\n",
       "      <th>release_date</th>\n",
       "      <th>closing_date</th>\n",
       "      <th>actors</th>\n",
       "      <th>budget</th>\n",
       "      <th>director</th>\n",
       "      <th>distributor</th>\n",
       "      <th>dom_total_gross</th>\n",
       "      <th>domestic_total_adj_gross</th>\n",
       "      <th>genre</th>\n",
       "      <th>...</th>\n",
       "      <th>actors4</th>\n",
       "      <th>actors5</th>\n",
       "      <th>writers1</th>\n",
       "      <th>writers2</th>\n",
       "      <th>producers1</th>\n",
       "      <th>producers2</th>\n",
       "      <th>producers3</th>\n",
       "      <th>season</th>\n",
       "      <th>clean_rating</th>\n",
       "      <th>new_genre</th>\n",
       "    </tr>\n",
       "  </thead>\n",
       "  <tbody>\n",
       "    <tr>\n",
       "      <th>0</th>\n",
       "      <td>The A-Team</td>\n",
       "      <td>2010-06-11</td>\n",
       "      <td>2010-09-16</td>\n",
       "      <td>[Liam Neeson, Bradley Cooper, Sharlto Copley, ...</td>\n",
       "      <td>110000000</td>\n",
       "      <td>[Joe Carnahan]</td>\n",
       "      <td>Fox</td>\n",
       "      <td>77222099</td>\n",
       "      <td>81884600</td>\n",
       "      <td>Action</td>\n",
       "      <td>...</td>\n",
       "      <td>Quinton 'Rampage' Jackson</td>\n",
       "      <td>Jessica Biel</td>\n",
       "      <td>Skip Woods</td>\n",
       "      <td></td>\n",
       "      <td>Ridley Scott</td>\n",
       "      <td>Tony Scott</td>\n",
       "      <td>Alex Young</td>\n",
       "      <td>summer</td>\n",
       "      <td>PG-13</td>\n",
       "      <td>Act_Adven</td>\n",
       "    </tr>\n",
       "    <tr>\n",
       "      <th>1</th>\n",
       "      <td>A.C.O.D.</td>\n",
       "      <td>2013-10-04</td>\n",
       "      <td>2013-11-07</td>\n",
       "      <td>[Adam Scott, Catherine O'Hara, Richard Jenkins...</td>\n",
       "      <td>NaN</td>\n",
       "      <td></td>\n",
       "      <td>The Film Arcade</td>\n",
       "      <td>175705</td>\n",
       "      <td>177400</td>\n",
       "      <td>Comedy</td>\n",
       "      <td>...</td>\n",
       "      <td>Clark Duke</td>\n",
       "      <td>Jane Lynch</td>\n",
       "      <td></td>\n",
       "      <td></td>\n",
       "      <td>Teddy Schwarzman</td>\n",
       "      <td></td>\n",
       "      <td></td>\n",
       "      <td>fall</td>\n",
       "      <td>PG-13</td>\n",
       "      <td>Comedy</td>\n",
       "    </tr>\n",
       "    <tr>\n",
       "      <th>2</th>\n",
       "      <td>A.I. Artificial Intelligence</td>\n",
       "      <td>2001-06-29</td>\n",
       "      <td>NaT</td>\n",
       "      <td>[Haley Joel Osment, Frances O'Connor, Jude Law...</td>\n",
       "      <td>100000000</td>\n",
       "      <td>[Steven Spielberg]</td>\n",
       "      <td>Warner Bros.</td>\n",
       "      <td>78616689</td>\n",
       "      <td>117091600</td>\n",
       "      <td>Sci-Fi</td>\n",
       "      <td>...</td>\n",
       "      <td>William Hurt</td>\n",
       "      <td>Brendan Gleeson</td>\n",
       "      <td></td>\n",
       "      <td></td>\n",
       "      <td>Kathleen Kennedy</td>\n",
       "      <td>Steven Spielberg</td>\n",
       "      <td></td>\n",
       "      <td>summer</td>\n",
       "      <td>PG-13</td>\n",
       "      <td>Fantasy_Scifi</td>\n",
       "    </tr>\n",
       "    <tr>\n",
       "      <th>3</th>\n",
       "      <td>Aaja Nachle</td>\n",
       "      <td>2007-11-30</td>\n",
       "      <td>2007-12-20</td>\n",
       "      <td></td>\n",
       "      <td>NaN</td>\n",
       "      <td></td>\n",
       "      <td>Yash Raj</td>\n",
       "      <td>484108</td>\n",
       "      <td>593200</td>\n",
       "      <td>Foreign</td>\n",
       "      <td>...</td>\n",
       "      <td></td>\n",
       "      <td></td>\n",
       "      <td></td>\n",
       "      <td></td>\n",
       "      <td></td>\n",
       "      <td></td>\n",
       "      <td></td>\n",
       "      <td>holiday</td>\n",
       "      <td></td>\n",
       "      <td>Foreign</td>\n",
       "    </tr>\n",
       "    <tr>\n",
       "      <th>4</th>\n",
       "      <td>Aarakshan</td>\n",
       "      <td>2011-08-12</td>\n",
       "      <td>2011-09-22</td>\n",
       "      <td></td>\n",
       "      <td>NaN</td>\n",
       "      <td></td>\n",
       "      <td>Reliance Big Pictures</td>\n",
       "      <td>651096</td>\n",
       "      <td>691300</td>\n",
       "      <td>Foreign</td>\n",
       "      <td>...</td>\n",
       "      <td></td>\n",
       "      <td></td>\n",
       "      <td></td>\n",
       "      <td></td>\n",
       "      <td></td>\n",
       "      <td></td>\n",
       "      <td></td>\n",
       "      <td>summer</td>\n",
       "      <td></td>\n",
       "      <td>Foreign</td>\n",
       "    </tr>\n",
       "  </tbody>\n",
       "</table>\n",
       "<p>5 rows × 35 columns</p>\n",
       "</div>"
      ],
      "text/plain": [
       "                          title release_date closing_date  \\\n",
       "0                    The A-Team   2010-06-11   2010-09-16   \n",
       "1                      A.C.O.D.   2013-10-04   2013-11-07   \n",
       "2  A.I. Artificial Intelligence   2001-06-29          NaT   \n",
       "3                   Aaja Nachle   2007-11-30   2007-12-20   \n",
       "4                     Aarakshan   2011-08-12   2011-09-22   \n",
       "\n",
       "                                              actors     budget  \\\n",
       "0  [Liam Neeson, Bradley Cooper, Sharlto Copley, ...  110000000   \n",
       "1  [Adam Scott, Catherine O'Hara, Richard Jenkins...        NaN   \n",
       "2  [Haley Joel Osment, Frances O'Connor, Jude Law...  100000000   \n",
       "3                                                           NaN   \n",
       "4                                                           NaN   \n",
       "\n",
       "             director            distributor  dom_total_gross  \\\n",
       "0      [Joe Carnahan]                    Fox         77222099   \n",
       "1                            The Film Arcade           175705   \n",
       "2  [Steven Spielberg]           Warner Bros.         78616689   \n",
       "3                                   Yash Raj           484108   \n",
       "4                      Reliance Big Pictures           651096   \n",
       "\n",
       "   domestic_total_adj_gross    genre      ...        \\\n",
       "0                  81884600   Action      ...         \n",
       "1                    177400   Comedy      ...         \n",
       "2                 117091600   Sci-Fi      ...         \n",
       "3                    593200  Foreign      ...         \n",
       "4                    691300  Foreign      ...         \n",
       "\n",
       "                     actors4          actors5    writers1 writers2  \\\n",
       "0  Quinton 'Rampage' Jackson     Jessica Biel  Skip Woods            \n",
       "1                 Clark Duke       Jane Lynch                        \n",
       "2               William Hurt  Brendan Gleeson                        \n",
       "3                                                                    \n",
       "4                                                                    \n",
       "\n",
       "         producers1        producers2  producers3   season clean_rating  \\\n",
       "0      Ridley Scott        Tony Scott  Alex Young   summer        PG-13   \n",
       "1  Teddy Schwarzman                                   fall        PG-13   \n",
       "2  Kathleen Kennedy  Steven Spielberg               summer        PG-13   \n",
       "3                                                  holiday                \n",
       "4                                                   summer                \n",
       "\n",
       "       new_genre  \n",
       "0      Act_Adven  \n",
       "1         Comedy  \n",
       "2  Fantasy_Scifi  \n",
       "3        Foreign  \n",
       "4        Foreign  \n",
       "\n",
       "[5 rows x 35 columns]"
      ]
     },
     "execution_count": 699,
     "metadata": {},
     "output_type": "execute_result"
    }
   ],
   "source": [
    "movies.head()"
   ]
  },
  {
   "cell_type": "markdown",
   "metadata": {},
   "source": [
    "Since we're interested in budget data, let's check to see how many movies of the 16,100 total movies have budget data."
   ]
  },
  {
   "cell_type": "code",
   "execution_count": 698,
   "metadata": {
    "collapsed": false
   },
   "outputs": [
    {
     "data": {
      "text/plain": [
       "2875"
      ]
     },
     "execution_count": 698,
     "metadata": {},
     "output_type": "execute_result"
    }
   ],
   "source": [
    "movies.budget.count()"
   ]
  },
  {
   "cell_type": "markdown",
   "metadata": {},
   "source": [
    "Only 2,874 out of 16,100 movies have budget data. That's only 17.9% of the entire dataset! Let's take a closer look at movies with budget data."
   ]
  },
  {
   "cell_type": "code",
   "execution_count": 700,
   "metadata": {
    "collapsed": true
   },
   "outputs": [],
   "source": [
    "# drop movies without budget data \n",
    "only_budget = movies[pd.notnull(movies['budget'])]"
   ]
  },
  {
   "cell_type": "code",
   "execution_count": 708,
   "metadata": {
    "collapsed": true
   },
   "outputs": [],
   "source": [
    "### ONLY APPLICABLE TO MOVIES WITH BUDGETS\n",
    "\n",
    "# adjust to 2015 dollars \n",
    "def get_infl_rate(startyear, endyear):\n",
    "    '''Return inflation rate to 2015 dollars. \n",
    "    Args:\n",
    "    startyear (float) -- start year\n",
    "    endyear (int) -- end year\n",
    "    Returns:\n",
    "    infl (float) -- inflation rate\n",
    "    '''\n",
    "    cpi = pd.read_csv('cpi-data.csv')\n",
    "    cpi.set_index('YEAR', inplace = True)\n",
    "    if endyear > 2015:\n",
    "        return float('NaN')\n",
    "    else:\n",
    "        try:\n",
    "            cpiend = float(cpi.loc[endyear, 'AVE.'])\n",
    "            cpistart = float(cpi.loc[int(startyear), 'AVE.'])\n",
    "            infl = ((cpiend - cpistart) / cpistart) \n",
    "            return (1.0 + infl)\n",
    "        except:\n",
    "            return float('NaN')\n",
    "    \n",
    "def add_infl_rate(df):\n",
    "    # add release year\n",
    "    try:\n",
    "        df['release_year'] = df['release_date'].apply(lambda x: x.year)\n",
    "    except:\n",
    "        df['release_year'] = None\n",
    "    df['infl_rate'] = df['release_year'].apply(get_infl_rate, args=(2015,))\n",
    "    \n",
    "def add_adj_budget(df):\n",
    "    df['budget_adj'] = df.loc[:, 'budget'] * df.loc[:, 'infl_rate']\n",
    "    df['budget_adj'] = df['budget_adj'].fillna(0.0).astype(int)\n",
    "\n",
    "# add roi calculations\n",
    "def get_dom_roi(df):\n",
    "    df['dom_roi'] = (df.loc[:,'dom_total_gross'] - df.loc[:,'budget'])/ df.loc[:,'budget']\n",
    "\n",
    "def get_intl_roi(df):\n",
    "    df['intl_roi'] = (df.loc[:,'intl_total_gross'] - df.loc[:,'budget'])/ df.loc[:,'budget']"
   ]
  },
  {
   "cell_type": "code",
   "execution_count": 709,
   "metadata": {
    "collapsed": true
   },
   "outputs": [
    {
     "name": "stderr",
     "output_type": "stream",
     "text": [
      "/anaconda/lib/python2.7/site-packages/ipykernel/__main__.py:28: SettingWithCopyWarning: \n",
      "A value is trying to be set on a copy of a slice from a DataFrame.\n",
      "Try using .loc[row_indexer,col_indexer] = value instead\n",
      "\n",
      "See the caveats in the documentation: http://pandas.pydata.org/pandas-docs/stable/indexing.html#indexing-view-versus-copy\n",
      "/anaconda/lib/python2.7/site-packages/ipykernel/__main__.py:31: SettingWithCopyWarning: \n",
      "A value is trying to be set on a copy of a slice from a DataFrame.\n",
      "Try using .loc[row_indexer,col_indexer] = value instead\n",
      "\n",
      "See the caveats in the documentation: http://pandas.pydata.org/pandas-docs/stable/indexing.html#indexing-view-versus-copy\n",
      "/anaconda/lib/python2.7/site-packages/ipykernel/__main__.py:34: SettingWithCopyWarning: \n",
      "A value is trying to be set on a copy of a slice from a DataFrame.\n",
      "Try using .loc[row_indexer,col_indexer] = value instead\n",
      "\n",
      "See the caveats in the documentation: http://pandas.pydata.org/pandas-docs/stable/indexing.html#indexing-view-versus-copy\n",
      "/anaconda/lib/python2.7/site-packages/ipykernel/__main__.py:35: SettingWithCopyWarning: \n",
      "A value is trying to be set on a copy of a slice from a DataFrame.\n",
      "Try using .loc[row_indexer,col_indexer] = value instead\n",
      "\n",
      "See the caveats in the documentation: http://pandas.pydata.org/pandas-docs/stable/indexing.html#indexing-view-versus-copy\n",
      "/anaconda/lib/python2.7/site-packages/ipykernel/__main__.py:39: SettingWithCopyWarning: \n",
      "A value is trying to be set on a copy of a slice from a DataFrame.\n",
      "Try using .loc[row_indexer,col_indexer] = value instead\n",
      "\n",
      "See the caveats in the documentation: http://pandas.pydata.org/pandas-docs/stable/indexing.html#indexing-view-versus-copy\n"
     ]
    }
   ],
   "source": [
    "add_infl_rate(only_budget)\n",
    "add_adj_budget(only_budget)\n",
    "get_dom_roi(only_budget)"
   ]
  },
  {
   "cell_type": "markdown",
   "metadata": {},
   "source": [
    "Let's look at lower budget movies that have been released in the past 15 years. "
   ]
  },
  {
   "cell_type": "code",
   "execution_count": 703,
   "metadata": {
    "collapsed": true
   },
   "outputs": [],
   "source": [
    "# set assumptions\n",
    "budget_threshold = 30000000\n",
    "year_threshold = '1990'"
   ]
  },
  {
   "cell_type": "code",
   "execution_count": 704,
   "metadata": {
    "collapsed": false
   },
   "outputs": [
    {
     "data": {
      "text/plain": [
       "(1158, 39)"
      ]
     },
     "execution_count": 704,
     "metadata": {},
     "output_type": "execute_result"
    }
   ],
   "source": [
    "# get only low budget (<$10m) films\n",
    "low_budget = only_budget[only_budget['budget_adj'] < budget_threshold]\n",
    "low_budget = low_budget[low_budget['budget_adj'] > 0] # find a better way to write this\n",
    "low_budget.shape"
   ]
  },
  {
   "cell_type": "code",
   "execution_count": 705,
   "metadata": {
    "collapsed": false
   },
   "outputs": [
    {
     "data": {
      "text/plain": [
       "(1085, 39)"
      ]
     },
     "execution_count": 705,
     "metadata": {},
     "output_type": "execute_result"
    }
   ],
   "source": [
    "# get only movies since 2000\n",
    "newer_movies = low_budget[low_budget['release_date'] >= datetime.strptime(year_threshold, '%Y')]\n",
    "newer_movies.shape"
   ]
  },
  {
   "cell_type": "markdown",
   "metadata": {},
   "source": [
    "### explore high-level features"
   ]
  },
  {
   "cell_type": "markdown",
   "metadata": {},
   "source": [
    "Season of release vs. mean adjusted domestic total gross. "
   ]
  },
  {
   "cell_type": "code",
   "execution_count": 706,
   "metadata": {
    "collapsed": false
   },
   "outputs": [],
   "source": [
    "def plot_category(cat, y, df):\n",
    "    '''Make bar plot of categorical features.\n",
    "    Args: \n",
    "    y (str) -- name of column of independent variable\n",
    "    cat (str) -- name of categorical feature\n",
    "    df (var) -- name of df'''\n",
    "    grouped = df.groupby(cat)\n",
    "    grouped[y].mean().plot(kind = 'bar')\n",
    "    plt.ylabel('mean %s' %y)\n",
    "    plt.title('%s vs. %s' %(cat, y))\n",
    "    plt.show()\n",
    "\n",
    "def plot_continuous(cat, y, df):\n",
    "    '''Make scatter plot of continuous features. \n",
    "    Args: \n",
    "    y (str) -- name of column of independent variable\n",
    "    cat (str) -- name of categorical feature\n",
    "    df (var) -- name of df'''\n",
    "    df.plot(kind = 'scatter', \n",
    "             x = cat, \n",
    "             y = y, \n",
    "             figsize = (8, 5), \n",
    "             alpha = 0.5)\n",
    "    plt.title('%s vs. %s' %(cat, y))\n",
    "    plt.show()"
   ]
  },
  {
   "cell_type": "code",
   "execution_count": 707,
   "metadata": {
    "collapsed": true
   },
   "outputs": [
    {
     "data": {
      "image/png": "[encoded data removed]",
      "text/plain": [
       "<matplotlib.figure.Figure at 0x1161aad10>"
      ]
     },
     "metadata": {},
     "output_type": "display_data"
    }
   ],
   "source": [
    "plot_category('season', 'domestic_total_adj_gross', newer_movies)"
   ]
  },
  {
   "cell_type": "code",
   "execution_count": 560,
   "metadata": {
    "collapsed": true
   },
   "outputs": [
    {
     "data": {
      "image/png": "[encoded data removed]",
      "text/plain": [
       "<matplotlib.figure.Figure at 0x116310510>"
      ]
     },
     "metadata": {},
     "output_type": "display_data"
    }
   ],
   "source": [
    "plot_category('season', 'oscar_noms', newer_movies)"
   ]
  },
  {
   "cell_type": "code",
   "execution_count": 638,
   "metadata": {
    "collapsed": true
   },
   "outputs": [
    {
     "data": {
      "image/png": "[encoded data removed]",
      "text/plain": [
       "<matplotlib.figure.Figure at 0x11797a750>"
      ]
     },
     "metadata": {},
     "output_type": "display_data"
    }
   ],
   "source": [
    "plot_category('new_genre', 'oscar_noms', newer_movies)"
   ]
  },
  {
   "cell_type": "markdown",
   "metadata": {},
   "source": [
    "Genre vs. mean adjusted domestic total gross. "
   ]
  },
  {
   "cell_type": "code",
   "execution_count": 639,
   "metadata": {
    "collapsed": true
   },
   "outputs": [
    {
     "data": {
      "image/png": "[encoded data removed]",
      "text/plain": [
       "<matplotlib.figure.Figure at 0x11960e290>"
      ]
     },
     "metadata": {},
     "output_type": "display_data"
    }
   ],
   "source": [
    "plot_category('new_genre', 'domestic_total_adj_gross', newer_movies)"
   ]
  },
  {
   "cell_type": "code",
   "execution_count": 652,
   "metadata": {
    "collapsed": true
   },
   "outputs": [
    {
     "data": {
      "image/png": "[encoded data removed]",
      "text/plain": [
       "<matplotlib.figure.Figure at 0x1179f7950>"
      ]
     },
     "metadata": {},
     "output_type": "display_data"
    }
   ],
   "source": [
    "plot_category('clean_rating', 'oscar_noms', train)"
   ]
  },
  {
   "cell_type": "markdown",
   "metadata": {},
   "source": [
    "Budget vs. domestic total gross."
   ]
  },
  {
   "cell_type": "code",
   "execution_count": 565,
   "metadata": {
    "collapsed": true
   },
   "outputs": [
    {
     "data": {
      "image/png": "[encoded data removed]",
      "text/plain": [
       "<matplotlib.figure.Figure at 0x117298390>"
      ]
     },
     "metadata": {},
     "output_type": "display_data"
    }
   ],
   "source": [
    "plot_continuous('budget', 'dom_total_gross', newer_movies)"
   ]
  },
  {
   "cell_type": "code",
   "execution_count": 566,
   "metadata": {
    "collapsed": false
   },
   "outputs": [
    {
     "data": {
      "image/png": "[encoded data removed]",
      "text/plain": [
       "<matplotlib.figure.Figure at 0x11719ec10>"
      ]
     },
     "metadata": {},
     "output_type": "display_data"
    }
   ],
   "source": [
    "plot_continuous('theaters', 'dom_total_gross', newer_movies)"
   ]
  },
  {
   "cell_type": "markdown",
   "metadata": {},
   "source": [
    "### clean up features - oscars"
   ]
  },
  {
   "cell_type": "code",
   "execution_count": 1054,
   "metadata": {
    "collapsed": false
   },
   "outputs": [],
   "source": [
    "# clean up oscars model a bit\n",
    "'''things to clean:\n",
    "- rating: R vs. not R \n",
    "- seasons: holiday, winter, other \n",
    "- genres: drama, foreign, historical + need to split other back out...'''\n",
    "\n",
    "# ratings: split into R and not R\n",
    "def split_r_rating(r):\n",
    "    return r if r == 'R' else 'other'\n",
    "\n",
    "# seasons: split into holiday, winter, and other\n",
    "def recat_seasons(season):\n",
    "    rm_seasons = ['spring', 'summer', 'fall']\n",
    "    return 'other' if season in rm_seasons else season\n",
    "\n",
    "# genres: split into drama, foreign, historical, war, western, other\n",
    "def recat_genre(genre):\n",
    "    keep_genres = ['Drama', 'Foreign', 'Historical', 'Comedy', 'Horror', 'Romance', 'Crime_Thriller']\n",
    "    return genre if genre in keep_genres else 'other'\n",
    "\n",
    "# oscar_noms: log transform\n",
    "def log_transform(stat):\n",
    "    try:\n",
    "        return math.log(stat)\n",
    "    except:\n",
    "        return -1"
   ]
  },
  {
   "cell_type": "code",
   "execution_count": 928,
   "metadata": {
    "collapsed": true
   },
   "outputs": [
    {
     "name": "stderr",
     "output_type": "stream",
     "text": [
      "/anaconda/lib/python2.7/site-packages/ipykernel/__main__.py:81: SettingWithCopyWarning: \n",
      "A value is trying to be set on a copy of a slice from a DataFrame.\n",
      "Try using .loc[row_indexer,col_indexer] = value instead\n",
      "\n",
      "See the caveats in the documentation: http://pandas.pydata.org/pandas-docs/stable/indexing.html#indexing-view-versus-copy\n"
     ]
    }
   ],
   "source": [
    "clean_rating(newer_movies, split_r_rating, 'r_rating')"
   ]
  },
  {
   "cell_type": "code",
   "execution_count": 929,
   "metadata": {
    "collapsed": true
   },
   "outputs": [
    {
     "name": "stderr",
     "output_type": "stream",
     "text": [
      "/anaconda/lib/python2.7/site-packages/ipykernel/__main__.py:43: SettingWithCopyWarning: \n",
      "A value is trying to be set on a copy of a slice from a DataFrame.\n",
      "Try using .loc[row_indexer,col_indexer] = value instead\n",
      "\n",
      "See the caveats in the documentation: http://pandas.pydata.org/pandas-docs/stable/indexing.html#indexing-view-versus-copy\n"
     ]
    }
   ],
   "source": [
    "recat(newer_movies, recat_seasons, 'hw_season', 'season')"
   ]
  },
  {
   "cell_type": "code",
   "execution_count": 1000,
   "metadata": {
    "collapsed": true
   },
   "outputs": [
    {
     "name": "stderr",
     "output_type": "stream",
     "text": [
      "/anaconda/lib/python2.7/site-packages/ipykernel/__main__.py:43: SettingWithCopyWarning: \n",
      "A value is trying to be set on a copy of a slice from a DataFrame.\n",
      "Try using .loc[row_indexer,col_indexer] = value instead\n",
      "\n",
      "See the caveats in the documentation: http://pandas.pydata.org/pandas-docs/stable/indexing.html#indexing-view-versus-copy\n"
     ]
    }
   ],
   "source": [
    "recat(newer_movies, recat_genre, 'recat_genre', 'new_genre')"
   ]
  },
  {
   "cell_type": "code",
   "execution_count": 1055,
   "metadata": {
    "collapsed": false
   },
   "outputs": [
    {
     "name": "stderr",
     "output_type": "stream",
     "text": [
      "/anaconda/lib/python2.7/site-packages/ipykernel/__main__.py:43: SettingWithCopyWarning: \n",
      "A value is trying to be set on a copy of a slice from a DataFrame.\n",
      "Try using .loc[row_indexer,col_indexer] = value instead\n",
      "\n",
      "See the caveats in the documentation: http://pandas.pydata.org/pandas-docs/stable/indexing.html#indexing-view-versus-copy\n"
     ]
    }
   ],
   "source": [
    "recat(newer_movies, log_transform, 'oscar_noms_log', 'oscar_noms')"
   ]
  },
  {
   "cell_type": "code",
   "execution_count": 1056,
   "metadata": {
    "collapsed": false
   },
   "outputs": [
    {
     "data": {
      "text/html": [
       "<div>\n",
       "<table border=\"1\" class=\"dataframe\">\n",
       "  <thead>\n",
       "    <tr style=\"text-align: right;\">\n",
       "      <th></th>\n",
       "      <th>title</th>\n",
       "      <th>release_date</th>\n",
       "      <th>closing_date</th>\n",
       "      <th>actors</th>\n",
       "      <th>budget</th>\n",
       "      <th>director</th>\n",
       "      <th>distributor</th>\n",
       "      <th>dom_total_gross</th>\n",
       "      <th>domestic_total_adj_gross</th>\n",
       "      <th>genre</th>\n",
       "      <th>...</th>\n",
       "      <th>clean_rating</th>\n",
       "      <th>new_genre</th>\n",
       "      <th>release_year</th>\n",
       "      <th>infl_rate</th>\n",
       "      <th>budget_adj</th>\n",
       "      <th>dom_roi</th>\n",
       "      <th>r_rating</th>\n",
       "      <th>hw_season</th>\n",
       "      <th>recat_genre</th>\n",
       "      <th>oscar_noms_log</th>\n",
       "    </tr>\n",
       "  </thead>\n",
       "  <tbody>\n",
       "    <tr>\n",
       "      <th>27</th>\n",
       "      <td>About Last Night</td>\n",
       "      <td>2014-02-14</td>\n",
       "      <td>2014-04-27</td>\n",
       "      <td>[Kevin Hart, Michael Ealy, Regina Hall, Joy Br...</td>\n",
       "      <td>12500000</td>\n",
       "      <td>[Steve Pink]</td>\n",
       "      <td>Sony / Screen Gems</td>\n",
       "      <td>48637684</td>\n",
       "      <td>51495800</td>\n",
       "      <td>Romantic Comedy</td>\n",
       "      <td>...</td>\n",
       "      <td>R</td>\n",
       "      <td>Romance</td>\n",
       "      <td>2014</td>\n",
       "      <td>1.001187</td>\n",
       "      <td>12514837</td>\n",
       "      <td>2.891015</td>\n",
       "      <td>R</td>\n",
       "      <td>winter</td>\n",
       "      <td>Romance</td>\n",
       "      <td>-1</td>\n",
       "    </tr>\n",
       "    <tr>\n",
       "      <th>46</th>\n",
       "      <td>Accepted</td>\n",
       "      <td>2006-08-18</td>\n",
       "      <td>2006-10-19</td>\n",
       "      <td>[Justin Long, Blake Lively, Jonah Hill, Kellan...</td>\n",
       "      <td>23000000</td>\n",
       "      <td>[Steve Pink]</td>\n",
       "      <td>Universal</td>\n",
       "      <td>36323505</td>\n",
       "      <td>46749200</td>\n",
       "      <td>Comedy</td>\n",
       "      <td>...</td>\n",
       "      <td>PG-13</td>\n",
       "      <td>Comedy</td>\n",
       "      <td>2006</td>\n",
       "      <td>1.175680</td>\n",
       "      <td>27040629</td>\n",
       "      <td>0.579283</td>\n",
       "      <td>other</td>\n",
       "      <td>other</td>\n",
       "      <td>Comedy</td>\n",
       "      <td>-1</td>\n",
       "    </tr>\n",
       "  </tbody>\n",
       "</table>\n",
       "<p>2 rows × 43 columns</p>\n",
       "</div>"
      ],
      "text/plain": [
       "               title release_date closing_date  \\\n",
       "27  About Last Night   2014-02-14   2014-04-27   \n",
       "46          Accepted   2006-08-18   2006-10-19   \n",
       "\n",
       "                                               actors    budget      director  \\\n",
       "27  [Kevin Hart, Michael Ealy, Regina Hall, Joy Br...  12500000  [Steve Pink]   \n",
       "46  [Justin Long, Blake Lively, Jonah Hill, Kellan...  23000000  [Steve Pink]   \n",
       "\n",
       "           distributor  dom_total_gross  domestic_total_adj_gross  \\\n",
       "27  Sony / Screen Gems         48637684                  51495800   \n",
       "46           Universal         36323505                  46749200   \n",
       "\n",
       "              genre      ...        clean_rating  new_genre  release_year  \\\n",
       "27  Romantic Comedy      ...                   R    Romance          2014   \n",
       "46           Comedy      ...               PG-13     Comedy          2006   \n",
       "\n",
       "   infl_rate budget_adj   dom_roi  r_rating hw_season recat_genre  \\\n",
       "27  1.001187   12514837  2.891015         R    winter     Romance   \n",
       "46  1.175680   27040629  0.579283     other     other      Comedy   \n",
       "\n",
       "   oscar_noms_log  \n",
       "27             -1  \n",
       "46             -1  \n",
       "\n",
       "[2 rows x 43 columns]"
      ]
     },
     "execution_count": 1056,
     "metadata": {},
     "output_type": "execute_result"
    }
   ],
   "source": [
    "newer_movies.head(2)"
   ]
  },
  {
   "cell_type": "code",
   "execution_count": 765,
   "metadata": {
    "collapsed": false
   },
   "outputs": [
    {
     "data": {
      "text/plain": [
       "Index([u'title', u'release_date', u'closing_date', u'actors', u'budget',\n",
       "       u'director', u'distributor', u'dom_total_gross',\n",
       "       u'domestic_total_adj_gross', u'genre', u'intl_total_gross',\n",
       "       u'oscar_noms', u'oscar_wins', u'producers', u'rating', u'runtime_mins',\n",
       "       u'theaters', u'url', u'writers', u'director1', u'director2',\n",
       "       u'director3', u'actors1', u'actors2', u'actors3', u'actors4',\n",
       "       u'actors5', u'writers1', u'writers2', u'producers1', u'producers2',\n",
       "       u'producers3', u'season', u'clean_rating', u'new_genre',\n",
       "       u'release_year', u'infl_rate', u'budget_adj', u'dom_roi', u'r_rating',\n",
       "       u'hw_season', u'recat_genre'],\n",
       "      dtype='object')"
      ]
     },
     "execution_count": 765,
     "metadata": {},
     "output_type": "execute_result"
    }
   ],
   "source": [
    "newer_movies.columns"
   ]
  },
  {
   "cell_type": "markdown",
   "metadata": {},
   "source": [
    "### cross-validation set up"
   ]
  },
  {
   "cell_type": "code",
   "execution_count": 714,
   "metadata": {
    "collapsed": true
   },
   "outputs": [],
   "source": [
    "# assumptions\n",
    "trainyr_max = 2011.0\n",
    "cvyr = [2012.0, 2013.0]\n",
    "testyr = [2014.0, 2015.0]"
   ]
  },
  {
   "cell_type": "code",
   "execution_count": 578,
   "metadata": {
    "collapsed": false
   },
   "outputs": [
    {
     "data": {
      "text/plain": [
       "(1085, 39)"
      ]
     },
     "execution_count": 578,
     "metadata": {},
     "output_type": "execute_result"
    }
   ],
   "source": [
    "newer_movies.shape"
   ]
  },
  {
   "cell_type": "code",
   "execution_count": 1057,
   "metadata": {
    "collapsed": false
   },
   "outputs": [],
   "source": [
    "train = newer_movies[newer_movies['release_year'] <= trainyr_max]\n",
    "val = newer_movies[newer_movies['release_year'].isin(cvyr)]\n",
    "test = newer_movies[newer_movies['release_year'].isin(testyr)]"
   ]
  },
  {
   "cell_type": "code",
   "execution_count": null,
   "metadata": {
    "collapsed": true
   },
   "outputs": [],
   "source": [
    "# # some more checks\n",
    "# train.groupby('release_year').count()\n",
    "# cv.groupby('release_year').count()\n",
    "# test.groupby('release_year').count()"
   ]
  },
  {
   "cell_type": "code",
   "execution_count": 1003,
   "metadata": {
    "collapsed": false
   },
   "outputs": [
    {
     "name": "stdout",
     "output_type": "stream",
     "text": [
      "True\n",
      "train as % of total:  0.828571428571\n",
      "cv as % of total:  0.0838709677419\n",
      "test as % of total:  0.0875576036866\n"
     ]
    }
   ],
   "source": [
    "# check if they add up\n",
    "print train.shape[0] + val.shape[0] + test.shape[0] == newer_movies.shape[0]\n",
    "\n",
    "# check percentages\n",
    "print 'train as % of total: ', float(train.shape[0]) / float(newer_movies.shape[0])\n",
    "print 'cv as % of total: ', float(val.shape[0]) / float(newer_movies.shape[0])\n",
    "print 'test as % of total: ', float(test.shape[0]) / float(newer_movies.shape[0])"
   ]
  },
  {
   "cell_type": "markdown",
   "metadata": {},
   "source": [
    "### investigate predictive variables for adj domestic total gross"
   ]
  },
  {
   "cell_type": "code",
   "execution_count": null,
   "metadata": {
    "collapsed": true
   },
   "outputs": [],
   "source": [
    "y = newer_movies['dom_total_gross']\n",
    "X = newer_movies['budget']"
   ]
  },
  {
   "cell_type": "code",
   "execution_count": 569,
   "metadata": {
    "collapsed": true
   },
   "outputs": [],
   "source": [
    "gross = smf.ols(formula=\"dom_roi ~ new_genre + clean_rating\", \n",
    "                  data = newer_movies).fit()"
   ]
  },
  {
   "cell_type": "code",
   "execution_count": 570,
   "metadata": {
    "collapsed": true
   },
   "outputs": [
    {
     "data": {
      "text/html": [
       "<table class=\"simpletable\">\n",
       "<caption>OLS Regression Results</caption>\n",
       "<tr>\n",
       "  <th>Dep. Variable:</th>         <td>dom_roi</td>     <th>  R-squared:         </th> <td>   0.064</td>\n",
       "</tr>\n",
       "<tr>\n",
       "  <th>Model:</th>                   <td>OLS</td>       <th>  Adj. R-squared:    </th> <td>   0.048</td>\n",
       "</tr>\n",
       "<tr>\n",
       "  <th>Method:</th>             <td>Least Squares</td>  <th>  F-statistic:       </th> <td>   4.026</td>\n",
       "</tr>\n",
       "<tr>\n",
       "  <th>Date:</th>             <td>Mon, 25 Jan 2016</td> <th>  Prob (F-statistic):</th> <td>3.54e-08</td>\n",
       "</tr>\n",
       "<tr>\n",
       "  <th>Time:</th>                 <td>15:58:02</td>     <th>  Log-Likelihood:    </th> <td> -3048.3</td>\n",
       "</tr>\n",
       "<tr>\n",
       "  <th>No. Observations:</th>      <td>  1078</td>      <th>  AIC:               </th> <td>   6135.</td>\n",
       "</tr>\n",
       "<tr>\n",
       "  <th>Df Residuals:</th>          <td>  1059</td>      <th>  BIC:               </th> <td>   6229.</td>\n",
       "</tr>\n",
       "<tr>\n",
       "  <th>Df Model:</th>              <td>    18</td>      <th>                     </th>     <td> </td>   \n",
       "</tr>\n",
       "<tr>\n",
       "  <th>Covariance Type:</th>      <td>nonrobust</td>    <th>                     </th>     <td> </td>   \n",
       "</tr>\n",
       "</table>\n",
       "<table class=\"simpletable\">\n",
       "<tr>\n",
       "               <td></td>                  <th>coef</th>     <th>std err</th>      <th>t</th>      <th>P>|t|</th> <th>[95.0% Conf. Int.]</th> \n",
       "</tr>\n",
       "<tr>\n",
       "  <th>Intercept</th>                   <td>   -2.1550</td> <td>    0.943</td> <td>   -2.286</td> <td> 0.022</td> <td>   -4.005    -0.305</td>\n",
       "</tr>\n",
       "<tr>\n",
       "  <th>new_genre[T.Act_Adven]</th>      <td>    1.3817</td> <td>    0.797</td> <td>    1.734</td> <td> 0.083</td> <td>   -0.182     2.945</td>\n",
       "</tr>\n",
       "<tr>\n",
       "  <th>new_genre[T.Animation]</th>      <td>    0.7016</td> <td>    1.221</td> <td>    0.574</td> <td> 0.566</td> <td>   -1.695     3.098</td>\n",
       "</tr>\n",
       "<tr>\n",
       "  <th>new_genre[T.Comedy]</th>         <td>    2.2734</td> <td>    0.658</td> <td>    3.454</td> <td> 0.001</td> <td>    0.982     3.565</td>\n",
       "</tr>\n",
       "<tr>\n",
       "  <th>new_genre[T.Crime_Thriller]</th> <td>    2.1027</td> <td>    0.730</td> <td>    2.880</td> <td> 0.004</td> <td>    0.670     3.536</td>\n",
       "</tr>\n",
       "<tr>\n",
       "  <th>new_genre[T.Documentary]</th>    <td>    3.0509</td> <td>    1.235</td> <td>    2.470</td> <td> 0.014</td> <td>    0.627     5.474</td>\n",
       "</tr>\n",
       "<tr>\n",
       "  <th>new_genre[T.Drama]</th>          <td>    1.9791</td> <td>    0.677</td> <td>    2.922</td> <td> 0.004</td> <td>    0.650     3.308</td>\n",
       "</tr>\n",
       "<tr>\n",
       "  <th>new_genre[T.Family]</th>         <td>    1.2970</td> <td>    1.068</td> <td>    1.214</td> <td> 0.225</td> <td>   -0.800     3.394</td>\n",
       "</tr>\n",
       "<tr>\n",
       "  <th>new_genre[T.Fantasy_Scifi]</th>  <td>    2.6619</td> <td>    0.931</td> <td>    2.858</td> <td> 0.004</td> <td>    0.834     4.490</td>\n",
       "</tr>\n",
       "<tr>\n",
       "  <th>new_genre[T.Foreign]</th>        <td>    1.2154</td> <td>    0.977</td> <td>    1.243</td> <td> 0.214</td> <td>   -0.703     3.133</td>\n",
       "</tr>\n",
       "<tr>\n",
       "  <th>new_genre[T.Historical]</th>     <td>    0.8256</td> <td>    0.870</td> <td>    0.949</td> <td> 0.343</td> <td>   -0.881     2.532</td>\n",
       "</tr>\n",
       "<tr>\n",
       "  <th>new_genre[T.Horror]</th>         <td>    4.4371</td> <td>    0.709</td> <td>    6.259</td> <td> 0.000</td> <td>    3.046     5.828</td>\n",
       "</tr>\n",
       "<tr>\n",
       "  <th>new_genre[T.Other]</th>          <td>    1.5507</td> <td>    0.807</td> <td>    1.921</td> <td> 0.055</td> <td>   -0.034     3.135</td>\n",
       "</tr>\n",
       "<tr>\n",
       "  <th>new_genre[T.Romance]</th>        <td>    2.4389</td> <td>    0.764</td> <td>    3.191</td> <td> 0.001</td> <td>    0.939     3.938</td>\n",
       "</tr>\n",
       "<tr>\n",
       "  <th>clean_rating[T.G]</th>           <td>    2.7530</td> <td>    1.436</td> <td>    1.917</td> <td> 0.056</td> <td>   -0.065     5.571</td>\n",
       "</tr>\n",
       "<tr>\n",
       "  <th>clean_rating[T.NC-17]</th>       <td>   -0.3608</td> <td>    2.010</td> <td>   -0.180</td> <td> 0.858</td> <td>   -4.305     3.583</td>\n",
       "</tr>\n",
       "<tr>\n",
       "  <th>clean_rating[T.PG]</th>          <td>    2.2108</td> <td>    0.929</td> <td>    2.380</td> <td> 0.017</td> <td>    0.388     4.034</td>\n",
       "</tr>\n",
       "<tr>\n",
       "  <th>clean_rating[T.PG-13]</th>       <td>    1.4427</td> <td>    0.841</td> <td>    1.715</td> <td> 0.087</td> <td>   -0.208     3.094</td>\n",
       "</tr>\n",
       "<tr>\n",
       "  <th>clean_rating[T.R]</th>           <td>    1.1956</td> <td>    0.821</td> <td>    1.457</td> <td> 0.145</td> <td>   -0.414     2.806</td>\n",
       "</tr>\n",
       "</table>\n",
       "<table class=\"simpletable\">\n",
       "<tr>\n",
       "  <th>Omnibus:</th>       <td>1184.810</td> <th>  Durbin-Watson:     </th> <td>   1.872</td> \n",
       "</tr>\n",
       "<tr>\n",
       "  <th>Prob(Omnibus):</th>  <td> 0.000</td>  <th>  Jarque-Bera (JB):  </th> <td>83791.807</td>\n",
       "</tr>\n",
       "<tr>\n",
       "  <th>Skew:</th>           <td> 5.388</td>  <th>  Prob(JB):          </th> <td>    0.00</td> \n",
       "</tr>\n",
       "<tr>\n",
       "  <th>Kurtosis:</th>       <td>44.825</td>  <th>  Cond. No.          </th> <td>    23.6</td> \n",
       "</tr>\n",
       "</table>"
      ],
      "text/plain": [
       "<class 'statsmodels.iolib.summary.Summary'>\n",
       "\"\"\"\n",
       "                            OLS Regression Results                            \n",
       "==============================================================================\n",
       "Dep. Variable:                dom_roi   R-squared:                       0.064\n",
       "Model:                            OLS   Adj. R-squared:                  0.048\n",
       "Method:                 Least Squares   F-statistic:                     4.026\n",
       "Date:                Mon, 25 Jan 2016   Prob (F-statistic):           3.54e-08\n",
       "Time:                        15:58:02   Log-Likelihood:                -3048.3\n",
       "No. Observations:                1078   AIC:                             6135.\n",
       "Df Residuals:                    1059   BIC:                             6229.\n",
       "Df Model:                          18                                         \n",
       "Covariance Type:            nonrobust                                         \n",
       "===============================================================================================\n",
       "                                  coef    std err          t      P>|t|      [95.0% Conf. Int.]\n",
       "-----------------------------------------------------------------------------------------------\n",
       "Intercept                      -2.1550      0.943     -2.286      0.022        -4.005    -0.305\n",
       "new_genre[T.Act_Adven]          1.3817      0.797      1.734      0.083        -0.182     2.945\n",
       "new_genre[T.Animation]          0.7016      1.221      0.574      0.566        -1.695     3.098\n",
       "new_genre[T.Comedy]             2.2734      0.658      3.454      0.001         0.982     3.565\n",
       "new_genre[T.Crime_Thriller]     2.1027      0.730      2.880      0.004         0.670     3.536\n",
       "new_genre[T.Documentary]        3.0509      1.235      2.470      0.014         0.627     5.474\n",
       "new_genre[T.Drama]              1.9791      0.677      2.922      0.004         0.650     3.308\n",
       "new_genre[T.Family]             1.2970      1.068      1.214      0.225        -0.800     3.394\n",
       "new_genre[T.Fantasy_Scifi]      2.6619      0.931      2.858      0.004         0.834     4.490\n",
       "new_genre[T.Foreign]            1.2154      0.977      1.243      0.214        -0.703     3.133\n",
       "new_genre[T.Historical]         0.8256      0.870      0.949      0.343        -0.881     2.532\n",
       "new_genre[T.Horror]             4.4371      0.709      6.259      0.000         3.046     5.828\n",
       "new_genre[T.Other]              1.5507      0.807      1.921      0.055        -0.034     3.135\n",
       "new_genre[T.Romance]            2.4389      0.764      3.191      0.001         0.939     3.938\n",
       "clean_rating[T.G]               2.7530      1.436      1.917      0.056        -0.065     5.571\n",
       "clean_rating[T.NC-17]          -0.3608      2.010     -0.180      0.858        -4.305     3.583\n",
       "clean_rating[T.PG]              2.2108      0.929      2.380      0.017         0.388     4.034\n",
       "clean_rating[T.PG-13]           1.4427      0.841      1.715      0.087        -0.208     3.094\n",
       "clean_rating[T.R]               1.1956      0.821      1.457      0.145        -0.414     2.806\n",
       "==============================================================================\n",
       "Omnibus:                     1184.810   Durbin-Watson:                   1.872\n",
       "Prob(Omnibus):                  0.000   Jarque-Bera (JB):            83791.807\n",
       "Skew:                           5.388   Prob(JB):                         0.00\n",
       "Kurtosis:                      44.825   Cond. No.                         23.6\n",
       "==============================================================================\n",
       "\n",
       "Warnings:\n",
       "[1] Standard Errors assume that the covariance matrix of the errors is correctly specified.\n",
       "\"\"\""
      ]
     },
     "execution_count": 570,
     "metadata": {},
     "output_type": "execute_result"
    }
   ],
   "source": [
    "gross.summary()"
   ]
  },
  {
   "cell_type": "code",
   "execution_count": 648,
   "metadata": {
    "collapsed": true
   },
   "outputs": [
    {
     "data": {
      "text/html": [
       "<div>\n",
       "<table border=\"1\" class=\"dataframe\">\n",
       "  <thead>\n",
       "    <tr style=\"text-align: right;\">\n",
       "      <th></th>\n",
       "      <th>title</th>\n",
       "      <th>release_date</th>\n",
       "      <th>closing_date</th>\n",
       "      <th>actors</th>\n",
       "      <th>budget</th>\n",
       "      <th>director</th>\n",
       "      <th>distributor</th>\n",
       "      <th>dom_total_gross</th>\n",
       "      <th>domestic_total_adj_gross</th>\n",
       "      <th>genre</th>\n",
       "      <th>...</th>\n",
       "      <th>writers2</th>\n",
       "      <th>producers1</th>\n",
       "      <th>producers2</th>\n",
       "      <th>producers3</th>\n",
       "      <th>season</th>\n",
       "      <th>clean_rating</th>\n",
       "      <th>release_year</th>\n",
       "      <th>infl_rate</th>\n",
       "      <th>budget_adj</th>\n",
       "      <th>dom_roi</th>\n",
       "    </tr>\n",
       "    <tr>\n",
       "      <th>new_genre</th>\n",
       "      <th></th>\n",
       "      <th></th>\n",
       "      <th></th>\n",
       "      <th></th>\n",
       "      <th></th>\n",
       "      <th></th>\n",
       "      <th></th>\n",
       "      <th></th>\n",
       "      <th></th>\n",
       "      <th></th>\n",
       "      <th></th>\n",
       "      <th></th>\n",
       "      <th></th>\n",
       "      <th></th>\n",
       "      <th></th>\n",
       "      <th></th>\n",
       "      <th></th>\n",
       "      <th></th>\n",
       "      <th></th>\n",
       "      <th></th>\n",
       "      <th></th>\n",
       "    </tr>\n",
       "  </thead>\n",
       "  <tbody>\n",
       "    <tr>\n",
       "      <th>Act_Adven</th>\n",
       "      <td>47</td>\n",
       "      <td>47</td>\n",
       "      <td>32</td>\n",
       "      <td>47</td>\n",
       "      <td>47</td>\n",
       "      <td>47</td>\n",
       "      <td>47</td>\n",
       "      <td>46</td>\n",
       "      <td>46</td>\n",
       "      <td>47</td>\n",
       "      <td>...</td>\n",
       "      <td>47</td>\n",
       "      <td>47</td>\n",
       "      <td>47</td>\n",
       "      <td>47</td>\n",
       "      <td>47</td>\n",
       "      <td>47</td>\n",
       "      <td>47</td>\n",
       "      <td>47</td>\n",
       "      <td>47</td>\n",
       "      <td>46</td>\n",
       "    </tr>\n",
       "    <tr>\n",
       "      <th>Animation</th>\n",
       "      <td>16</td>\n",
       "      <td>16</td>\n",
       "      <td>12</td>\n",
       "      <td>16</td>\n",
       "      <td>16</td>\n",
       "      <td>16</td>\n",
       "      <td>16</td>\n",
       "      <td>16</td>\n",
       "      <td>16</td>\n",
       "      <td>16</td>\n",
       "      <td>...</td>\n",
       "      <td>16</td>\n",
       "      <td>16</td>\n",
       "      <td>16</td>\n",
       "      <td>16</td>\n",
       "      <td>16</td>\n",
       "      <td>16</td>\n",
       "      <td>16</td>\n",
       "      <td>16</td>\n",
       "      <td>16</td>\n",
       "      <td>16</td>\n",
       "    </tr>\n",
       "    <tr>\n",
       "      <th>Comedy</th>\n",
       "      <td>211</td>\n",
       "      <td>211</td>\n",
       "      <td>148</td>\n",
       "      <td>211</td>\n",
       "      <td>211</td>\n",
       "      <td>211</td>\n",
       "      <td>211</td>\n",
       "      <td>209</td>\n",
       "      <td>209</td>\n",
       "      <td>211</td>\n",
       "      <td>...</td>\n",
       "      <td>211</td>\n",
       "      <td>211</td>\n",
       "      <td>211</td>\n",
       "      <td>211</td>\n",
       "      <td>211</td>\n",
       "      <td>211</td>\n",
       "      <td>211</td>\n",
       "      <td>211</td>\n",
       "      <td>211</td>\n",
       "      <td>209</td>\n",
       "    </tr>\n",
       "    <tr>\n",
       "      <th>Crime_Thriller</th>\n",
       "      <td>76</td>\n",
       "      <td>76</td>\n",
       "      <td>48</td>\n",
       "      <td>76</td>\n",
       "      <td>76</td>\n",
       "      <td>76</td>\n",
       "      <td>76</td>\n",
       "      <td>75</td>\n",
       "      <td>74</td>\n",
       "      <td>76</td>\n",
       "      <td>...</td>\n",
       "      <td>76</td>\n",
       "      <td>76</td>\n",
       "      <td>76</td>\n",
       "      <td>76</td>\n",
       "      <td>76</td>\n",
       "      <td>76</td>\n",
       "      <td>76</td>\n",
       "      <td>76</td>\n",
       "      <td>76</td>\n",
       "      <td>75</td>\n",
       "    </tr>\n",
       "    <tr>\n",
       "      <th>Documentary</th>\n",
       "      <td>12</td>\n",
       "      <td>12</td>\n",
       "      <td>11</td>\n",
       "      <td>12</td>\n",
       "      <td>12</td>\n",
       "      <td>12</td>\n",
       "      <td>12</td>\n",
       "      <td>12</td>\n",
       "      <td>12</td>\n",
       "      <td>12</td>\n",
       "      <td>...</td>\n",
       "      <td>12</td>\n",
       "      <td>12</td>\n",
       "      <td>12</td>\n",
       "      <td>12</td>\n",
       "      <td>12</td>\n",
       "      <td>12</td>\n",
       "      <td>12</td>\n",
       "      <td>12</td>\n",
       "      <td>12</td>\n",
       "      <td>12</td>\n",
       "    </tr>\n",
       "    <tr>\n",
       "      <th>Drama</th>\n",
       "      <td>135</td>\n",
       "      <td>135</td>\n",
       "      <td>112</td>\n",
       "      <td>135</td>\n",
       "      <td>135</td>\n",
       "      <td>135</td>\n",
       "      <td>135</td>\n",
       "      <td>134</td>\n",
       "      <td>134</td>\n",
       "      <td>135</td>\n",
       "      <td>...</td>\n",
       "      <td>135</td>\n",
       "      <td>135</td>\n",
       "      <td>135</td>\n",
       "      <td>135</td>\n",
       "      <td>135</td>\n",
       "      <td>135</td>\n",
       "      <td>135</td>\n",
       "      <td>135</td>\n",
       "      <td>135</td>\n",
       "      <td>134</td>\n",
       "    </tr>\n",
       "    <tr>\n",
       "      <th>Family</th>\n",
       "      <td>26</td>\n",
       "      <td>26</td>\n",
       "      <td>17</td>\n",
       "      <td>26</td>\n",
       "      <td>26</td>\n",
       "      <td>26</td>\n",
       "      <td>26</td>\n",
       "      <td>26</td>\n",
       "      <td>26</td>\n",
       "      <td>26</td>\n",
       "      <td>...</td>\n",
       "      <td>26</td>\n",
       "      <td>26</td>\n",
       "      <td>26</td>\n",
       "      <td>26</td>\n",
       "      <td>26</td>\n",
       "      <td>26</td>\n",
       "      <td>26</td>\n",
       "      <td>26</td>\n",
       "      <td>26</td>\n",
       "      <td>26</td>\n",
       "    </tr>\n",
       "    <tr>\n",
       "      <th>Fantasy_Scifi</th>\n",
       "      <td>27</td>\n",
       "      <td>27</td>\n",
       "      <td>14</td>\n",
       "      <td>27</td>\n",
       "      <td>27</td>\n",
       "      <td>27</td>\n",
       "      <td>27</td>\n",
       "      <td>26</td>\n",
       "      <td>26</td>\n",
       "      <td>27</td>\n",
       "      <td>...</td>\n",
       "      <td>27</td>\n",
       "      <td>27</td>\n",
       "      <td>27</td>\n",
       "      <td>27</td>\n",
       "      <td>27</td>\n",
       "      <td>27</td>\n",
       "      <td>27</td>\n",
       "      <td>27</td>\n",
       "      <td>27</td>\n",
       "      <td>26</td>\n",
       "    </tr>\n",
       "    <tr>\n",
       "      <th>Foreign</th>\n",
       "      <td>28</td>\n",
       "      <td>28</td>\n",
       "      <td>25</td>\n",
       "      <td>28</td>\n",
       "      <td>28</td>\n",
       "      <td>28</td>\n",
       "      <td>28</td>\n",
       "      <td>28</td>\n",
       "      <td>28</td>\n",
       "      <td>28</td>\n",
       "      <td>...</td>\n",
       "      <td>28</td>\n",
       "      <td>28</td>\n",
       "      <td>28</td>\n",
       "      <td>28</td>\n",
       "      <td>28</td>\n",
       "      <td>28</td>\n",
       "      <td>28</td>\n",
       "      <td>28</td>\n",
       "      <td>28</td>\n",
       "      <td>28</td>\n",
       "    </tr>\n",
       "    <tr>\n",
       "      <th>Historical</th>\n",
       "      <td>44</td>\n",
       "      <td>44</td>\n",
       "      <td>35</td>\n",
       "      <td>44</td>\n",
       "      <td>44</td>\n",
       "      <td>44</td>\n",
       "      <td>44</td>\n",
       "      <td>44</td>\n",
       "      <td>44</td>\n",
       "      <td>44</td>\n",
       "      <td>...</td>\n",
       "      <td>44</td>\n",
       "      <td>44</td>\n",
       "      <td>44</td>\n",
       "      <td>44</td>\n",
       "      <td>44</td>\n",
       "      <td>44</td>\n",
       "      <td>44</td>\n",
       "      <td>44</td>\n",
       "      <td>44</td>\n",
       "      <td>44</td>\n",
       "    </tr>\n",
       "    <tr>\n",
       "      <th>Horror</th>\n",
       "      <td>98</td>\n",
       "      <td>98</td>\n",
       "      <td>76</td>\n",
       "      <td>98</td>\n",
       "      <td>98</td>\n",
       "      <td>98</td>\n",
       "      <td>98</td>\n",
       "      <td>98</td>\n",
       "      <td>98</td>\n",
       "      <td>98</td>\n",
       "      <td>...</td>\n",
       "      <td>98</td>\n",
       "      <td>98</td>\n",
       "      <td>98</td>\n",
       "      <td>98</td>\n",
       "      <td>98</td>\n",
       "      <td>98</td>\n",
       "      <td>98</td>\n",
       "      <td>98</td>\n",
       "      <td>98</td>\n",
       "      <td>98</td>\n",
       "    </tr>\n",
       "    <tr>\n",
       "      <th>Musical</th>\n",
       "      <td>23</td>\n",
       "      <td>23</td>\n",
       "      <td>18</td>\n",
       "      <td>23</td>\n",
       "      <td>23</td>\n",
       "      <td>23</td>\n",
       "      <td>23</td>\n",
       "      <td>23</td>\n",
       "      <td>23</td>\n",
       "      <td>23</td>\n",
       "      <td>...</td>\n",
       "      <td>23</td>\n",
       "      <td>23</td>\n",
       "      <td>23</td>\n",
       "      <td>23</td>\n",
       "      <td>23</td>\n",
       "      <td>23</td>\n",
       "      <td>23</td>\n",
       "      <td>23</td>\n",
       "      <td>23</td>\n",
       "      <td>23</td>\n",
       "    </tr>\n",
       "    <tr>\n",
       "      <th>None</th>\n",
       "      <td>48</td>\n",
       "      <td>48</td>\n",
       "      <td>30</td>\n",
       "      <td>48</td>\n",
       "      <td>48</td>\n",
       "      <td>48</td>\n",
       "      <td>48</td>\n",
       "      <td>48</td>\n",
       "      <td>48</td>\n",
       "      <td>48</td>\n",
       "      <td>...</td>\n",
       "      <td>48</td>\n",
       "      <td>48</td>\n",
       "      <td>48</td>\n",
       "      <td>48</td>\n",
       "      <td>48</td>\n",
       "      <td>48</td>\n",
       "      <td>48</td>\n",
       "      <td>48</td>\n",
       "      <td>48</td>\n",
       "      <td>48</td>\n",
       "    </tr>\n",
       "    <tr>\n",
       "      <th>Other</th>\n",
       "      <td>4</td>\n",
       "      <td>4</td>\n",
       "      <td>3</td>\n",
       "      <td>4</td>\n",
       "      <td>4</td>\n",
       "      <td>4</td>\n",
       "      <td>4</td>\n",
       "      <td>4</td>\n",
       "      <td>4</td>\n",
       "      <td>4</td>\n",
       "      <td>...</td>\n",
       "      <td>4</td>\n",
       "      <td>4</td>\n",
       "      <td>4</td>\n",
       "      <td>4</td>\n",
       "      <td>4</td>\n",
       "      <td>4</td>\n",
       "      <td>4</td>\n",
       "      <td>4</td>\n",
       "      <td>4</td>\n",
       "      <td>4</td>\n",
       "    </tr>\n",
       "    <tr>\n",
       "      <th>Romance</th>\n",
       "      <td>76</td>\n",
       "      <td>76</td>\n",
       "      <td>50</td>\n",
       "      <td>76</td>\n",
       "      <td>76</td>\n",
       "      <td>76</td>\n",
       "      <td>76</td>\n",
       "      <td>75</td>\n",
       "      <td>75</td>\n",
       "      <td>76</td>\n",
       "      <td>...</td>\n",
       "      <td>76</td>\n",
       "      <td>76</td>\n",
       "      <td>76</td>\n",
       "      <td>76</td>\n",
       "      <td>76</td>\n",
       "      <td>76</td>\n",
       "      <td>76</td>\n",
       "      <td>76</td>\n",
       "      <td>76</td>\n",
       "      <td>75</td>\n",
       "    </tr>\n",
       "    <tr>\n",
       "      <th>Sports</th>\n",
       "      <td>19</td>\n",
       "      <td>19</td>\n",
       "      <td>13</td>\n",
       "      <td>19</td>\n",
       "      <td>19</td>\n",
       "      <td>19</td>\n",
       "      <td>19</td>\n",
       "      <td>19</td>\n",
       "      <td>19</td>\n",
       "      <td>19</td>\n",
       "      <td>...</td>\n",
       "      <td>19</td>\n",
       "      <td>19</td>\n",
       "      <td>19</td>\n",
       "      <td>19</td>\n",
       "      <td>19</td>\n",
       "      <td>19</td>\n",
       "      <td>19</td>\n",
       "      <td>19</td>\n",
       "      <td>19</td>\n",
       "      <td>19</td>\n",
       "    </tr>\n",
       "    <tr>\n",
       "      <th>War</th>\n",
       "      <td>4</td>\n",
       "      <td>4</td>\n",
       "      <td>4</td>\n",
       "      <td>4</td>\n",
       "      <td>4</td>\n",
       "      <td>4</td>\n",
       "      <td>4</td>\n",
       "      <td>4</td>\n",
       "      <td>4</td>\n",
       "      <td>4</td>\n",
       "      <td>...</td>\n",
       "      <td>4</td>\n",
       "      <td>4</td>\n",
       "      <td>4</td>\n",
       "      <td>4</td>\n",
       "      <td>4</td>\n",
       "      <td>4</td>\n",
       "      <td>4</td>\n",
       "      <td>4</td>\n",
       "      <td>4</td>\n",
       "      <td>4</td>\n",
       "    </tr>\n",
       "    <tr>\n",
       "      <th>Western</th>\n",
       "      <td>5</td>\n",
       "      <td>5</td>\n",
       "      <td>5</td>\n",
       "      <td>5</td>\n",
       "      <td>5</td>\n",
       "      <td>5</td>\n",
       "      <td>5</td>\n",
       "      <td>5</td>\n",
       "      <td>5</td>\n",
       "      <td>5</td>\n",
       "      <td>...</td>\n",
       "      <td>5</td>\n",
       "      <td>5</td>\n",
       "      <td>5</td>\n",
       "      <td>5</td>\n",
       "      <td>5</td>\n",
       "      <td>5</td>\n",
       "      <td>5</td>\n",
       "      <td>5</td>\n",
       "      <td>5</td>\n",
       "      <td>5</td>\n",
       "    </tr>\n",
       "  </tbody>\n",
       "</table>\n",
       "<p>18 rows × 38 columns</p>\n",
       "</div>"
      ],
      "text/plain": [
       "                title  release_date  closing_date  actors  budget  director  \\\n",
       "new_genre                                                                     \n",
       "Act_Adven          47            47            32      47      47        47   \n",
       "Animation          16            16            12      16      16        16   \n",
       "Comedy            211           211           148     211     211       211   \n",
       "Crime_Thriller     76            76            48      76      76        76   \n",
       "Documentary        12            12            11      12      12        12   \n",
       "Drama             135           135           112     135     135       135   \n",
       "Family             26            26            17      26      26        26   \n",
       "Fantasy_Scifi      27            27            14      27      27        27   \n",
       "Foreign            28            28            25      28      28        28   \n",
       "Historical         44            44            35      44      44        44   \n",
       "Horror             98            98            76      98      98        98   \n",
       "Musical            23            23            18      23      23        23   \n",
       "None               48            48            30      48      48        48   \n",
       "Other               4             4             3       4       4         4   \n",
       "Romance            76            76            50      76      76        76   \n",
       "Sports             19            19            13      19      19        19   \n",
       "War                 4             4             4       4       4         4   \n",
       "Western             5             5             5       5       5         5   \n",
       "\n",
       "                distributor  dom_total_gross  domestic_total_adj_gross  genre  \\\n",
       "new_genre                                                                       \n",
       "Act_Adven                47               46                        46     47   \n",
       "Animation                16               16                        16     16   \n",
       "Comedy                  211              209                       209    211   \n",
       "Crime_Thriller           76               75                        74     76   \n",
       "Documentary              12               12                        12     12   \n",
       "Drama                   135              134                       134    135   \n",
       "Family                   26               26                        26     26   \n",
       "Fantasy_Scifi            27               26                        26     27   \n",
       "Foreign                  28               28                        28     28   \n",
       "Historical               44               44                        44     44   \n",
       "Horror                   98               98                        98     98   \n",
       "Musical                  23               23                        23     23   \n",
       "None                     48               48                        48     48   \n",
       "Other                     4                4                         4      4   \n",
       "Romance                  76               75                        75     76   \n",
       "Sports                   19               19                        19     19   \n",
       "War                       4                4                         4      4   \n",
       "Western                   5                5                         5      5   \n",
       "\n",
       "                 ...     writers2  producers1  producers2  producers3  season  \\\n",
       "new_genre        ...                                                            \n",
       "Act_Adven        ...           47          47          47          47      47   \n",
       "Animation        ...           16          16          16          16      16   \n",
       "Comedy           ...          211         211         211         211     211   \n",
       "Crime_Thriller   ...           76          76          76          76      76   \n",
       "Documentary      ...           12          12          12          12      12   \n",
       "Drama            ...          135         135         135         135     135   \n",
       "Family           ...           26          26          26          26      26   \n",
       "Fantasy_Scifi    ...           27          27          27          27      27   \n",
       "Foreign          ...           28          28          28          28      28   \n",
       "Historical       ...           44          44          44          44      44   \n",
       "Horror           ...           98          98          98          98      98   \n",
       "Musical          ...           23          23          23          23      23   \n",
       "None             ...           48          48          48          48      48   \n",
       "Other            ...            4           4           4           4       4   \n",
       "Romance          ...           76          76          76          76      76   \n",
       "Sports           ...           19          19          19          19      19   \n",
       "War              ...            4           4           4           4       4   \n",
       "Western          ...            5           5           5           5       5   \n",
       "\n",
       "                clean_rating  release_year  infl_rate  budget_adj  dom_roi  \n",
       "new_genre                                                                   \n",
       "Act_Adven                 47            47         47          47       46  \n",
       "Animation                 16            16         16          16       16  \n",
       "Comedy                   211           211        211         211      209  \n",
       "Crime_Thriller            76            76         76          76       75  \n",
       "Documentary               12            12         12          12       12  \n",
       "Drama                    135           135        135         135      134  \n",
       "Family                    26            26         26          26       26  \n",
       "Fantasy_Scifi             27            27         27          27       26  \n",
       "Foreign                   28            28         28          28       28  \n",
       "Historical                44            44         44          44       44  \n",
       "Horror                    98            98         98          98       98  \n",
       "Musical                   23            23         23          23       23  \n",
       "None                      48            48         48          48       48  \n",
       "Other                      4             4          4           4        4  \n",
       "Romance                   76            76         76          76       75  \n",
       "Sports                    19            19         19          19       19  \n",
       "War                        4             4          4           4        4  \n",
       "Western                    5             5          5           5        5  \n",
       "\n",
       "[18 rows x 38 columns]"
      ]
     },
     "execution_count": 648,
     "metadata": {},
     "output_type": "execute_result"
    }
   ],
   "source": [
    "train.groupby('new_genre').count()"
   ]
  },
  {
   "cell_type": "code",
   "execution_count": 711,
   "metadata": {
    "collapsed": false
   },
   "outputs": [
    {
     "data": {
      "text/plain": [
       "Index([u'title', u'release_date', u'closing_date', u'actors', u'budget',\n",
       "       u'director', u'distributor', u'dom_total_gross',\n",
       "       u'domestic_total_adj_gross', u'genre', u'intl_total_gross',\n",
       "       u'oscar_noms', u'oscar_wins', u'producers', u'rating', u'runtime_mins',\n",
       "       u'theaters', u'url', u'writers', u'director1', u'director2',\n",
       "       u'director3', u'actors1', u'actors2', u'actors3', u'actors4',\n",
       "       u'actors5', u'writers1', u'writers2', u'producers1', u'producers2',\n",
       "       u'producers3', u'season', u'new_genre', u'clean_rating',\n",
       "       u'release_year', u'infl_rate', u'budget_adj', u'dom_roi', u'r_rating'],\n",
       "      dtype='object')"
      ]
     },
     "execution_count": 711,
     "metadata": {},
     "output_type": "execute_result"
    }
   ],
   "source": [
    "train.columns"
   ]
  },
  {
   "cell_type": "markdown",
   "metadata": {},
   "source": [
    "### investigate oscar nominations"
   ]
  },
  {
   "cell_type": "code",
   "execution_count": 617,
   "metadata": {
    "collapsed": true
   },
   "outputs": [
    {
     "data": {
      "image/png": "[encoded data removed]",
      "text/plain": [
       "<matplotlib.figure.Figure at 0x1177f5150>"
      ]
     },
     "metadata": {},
     "output_type": "display_data"
    }
   ],
   "source": [
    "plot_continuous('budget_adj', 'oscar_noms', train)"
   ]
  },
  {
   "cell_type": "code",
   "execution_count": 624,
   "metadata": {
    "collapsed": true
   },
   "outputs": [
    {
     "data": {
      "image/png": "[encoded data removed]",
      "text/plain": [
       "<matplotlib.figure.Figure at 0x1199057d0>"
      ]
     },
     "metadata": {},
     "output_type": "display_data"
    }
   ],
   "source": [
    "plot_continuous('theaters', 'oscar_noms', train)"
   ]
  },
  {
   "cell_type": "code",
   "execution_count": 1004,
   "metadata": {
    "collapsed": false,
    "scrolled": true
   },
   "outputs": [
    {
     "data": {
      "text/html": [
       "<table class=\"simpletable\">\n",
       "<caption>OLS Regression Results</caption>\n",
       "<tr>\n",
       "  <th>Dep. Variable:</th>       <td>oscar_noms</td>    <th>  R-squared:         </th> <td>   0.200</td>\n",
       "</tr>\n",
       "<tr>\n",
       "  <th>Model:</th>                   <td>OLS</td>       <th>  Adj. R-squared:    </th> <td>   0.173</td>\n",
       "</tr>\n",
       "<tr>\n",
       "  <th>Method:</th>             <td>Least Squares</td>  <th>  F-statistic:       </th> <td>   7.616</td>\n",
       "</tr>\n",
       "<tr>\n",
       "  <th>Date:</th>             <td>Tue, 26 Jan 2016</td> <th>  Prob (F-statistic):</th> <td>1.30e-26</td>\n",
       "</tr>\n",
       "<tr>\n",
       "  <th>Time:</th>                 <td>16:08:31</td>     <th>  Log-Likelihood:    </th> <td> -1414.4</td>\n",
       "</tr>\n",
       "<tr>\n",
       "  <th>No. Observations:</th>      <td>   884</td>      <th>  AIC:               </th> <td>   2887.</td>\n",
       "</tr>\n",
       "<tr>\n",
       "  <th>Df Residuals:</th>          <td>   855</td>      <th>  BIC:               </th> <td>   3025.</td>\n",
       "</tr>\n",
       "<tr>\n",
       "  <th>Df Model:</th>              <td>    28</td>      <th>                     </th>     <td> </td>   \n",
       "</tr>\n",
       "<tr>\n",
       "  <th>Covariance Type:</th>      <td>nonrobust</td>    <th>                     </th>     <td> </td>   \n",
       "</tr>\n",
       "</table>\n",
       "<table class=\"simpletable\">\n",
       "<tr>\n",
       "               <td></td>                  <th>coef</th>     <th>std err</th>      <th>t</th>      <th>P>|t|</th> <th>[95.0% Conf. Int.]</th> \n",
       "</tr>\n",
       "<tr>\n",
       "  <th>Intercept</th>                   <td>   -1.6605</td> <td>    0.519</td> <td>   -3.202</td> <td> 0.001</td> <td>   -2.678    -0.642</td>\n",
       "</tr>\n",
       "<tr>\n",
       "  <th>new_genre[T.Animation]</th>      <td>    0.6488</td> <td>    0.392</td> <td>    1.653</td> <td> 0.099</td> <td>   -0.121     1.419</td>\n",
       "</tr>\n",
       "<tr>\n",
       "  <th>new_genre[T.Comedy]</th>         <td>    0.1982</td> <td>    0.201</td> <td>    0.984</td> <td> 0.325</td> <td>   -0.197     0.594</td>\n",
       "</tr>\n",
       "<tr>\n",
       "  <th>new_genre[T.Crime_Thriller]</th> <td>    0.3077</td> <td>    0.233</td> <td>    1.321</td> <td> 0.187</td> <td>   -0.150     0.765</td>\n",
       "</tr>\n",
       "<tr>\n",
       "  <th>new_genre[T.Documentary]</th>    <td>    0.3929</td> <td>    0.402</td> <td>    0.978</td> <td> 0.328</td> <td>   -0.396     1.182</td>\n",
       "</tr>\n",
       "<tr>\n",
       "  <th>new_genre[T.Drama]</th>          <td>    0.7562</td> <td>    0.217</td> <td>    3.491</td> <td> 0.001</td> <td>    0.331     1.181</td>\n",
       "</tr>\n",
       "<tr>\n",
       "  <th>new_genre[T.Family]</th>         <td>    0.3594</td> <td>    0.340</td> <td>    1.058</td> <td> 0.290</td> <td>   -0.307     1.026</td>\n",
       "</tr>\n",
       "<tr>\n",
       "  <th>new_genre[T.Fantasy_Scifi]</th>  <td>    0.2031</td> <td>    0.302</td> <td>    0.672</td> <td> 0.502</td> <td>   -0.390     0.796</td>\n",
       "</tr>\n",
       "<tr>\n",
       "  <th>new_genre[T.Foreign]</th>        <td>    1.0944</td> <td>    0.317</td> <td>    3.457</td> <td> 0.001</td> <td>    0.473     1.716</td>\n",
       "</tr>\n",
       "<tr>\n",
       "  <th>new_genre[T.Historical]</th>     <td>    0.9917</td> <td>    0.272</td> <td>    3.649</td> <td> 0.000</td> <td>    0.458     1.525</td>\n",
       "</tr>\n",
       "<tr>\n",
       "  <th>new_genre[T.Horror]</th>         <td>   -0.1448</td> <td>    0.222</td> <td>   -0.651</td> <td> 0.515</td> <td>   -0.581     0.292</td>\n",
       "</tr>\n",
       "<tr>\n",
       "  <th>new_genre[T.Musical]</th>        <td>    0.2071</td> <td>    0.319</td> <td>    0.650</td> <td> 0.516</td> <td>   -0.418     0.832</td>\n",
       "</tr>\n",
       "<tr>\n",
       "  <th>new_genre[T.None]</th>           <td>    0.2081</td> <td>    0.268</td> <td>    0.776</td> <td> 0.438</td> <td>   -0.318     0.734</td>\n",
       "</tr>\n",
       "<tr>\n",
       "  <th>new_genre[T.Other]</th>          <td>    0.0253</td> <td>    0.734</td> <td>    0.034</td> <td> 0.972</td> <td>   -1.415     1.466</td>\n",
       "</tr>\n",
       "<tr>\n",
       "  <th>new_genre[T.Romance]</th>        <td>    0.2582</td> <td>    0.232</td> <td>    1.114</td> <td> 0.266</td> <td>   -0.197     0.713</td>\n",
       "</tr>\n",
       "<tr>\n",
       "  <th>new_genre[T.Sports]</th>         <td>    0.5579</td> <td>    0.341</td> <td>    1.638</td> <td> 0.102</td> <td>   -0.111     1.226</td>\n",
       "</tr>\n",
       "<tr>\n",
       "  <th>new_genre[T.War]</th>            <td>    2.8364</td> <td>    0.641</td> <td>    4.423</td> <td> 0.000</td> <td>    1.578     4.095</td>\n",
       "</tr>\n",
       "<tr>\n",
       "  <th>new_genre[T.Western]</th>        <td>    1.1259</td> <td>    0.580</td> <td>    1.943</td> <td> 0.052</td> <td>   -0.012     2.263</td>\n",
       "</tr>\n",
       "<tr>\n",
       "  <th>rating[T.NC-17]</th>             <td>   -0.1300</td> <td>    0.675</td> <td>   -0.193</td> <td> 0.847</td> <td>   -1.455     1.195</td>\n",
       "</tr>\n",
       "<tr>\n",
       "  <th>rating[T.PG]</th>                <td>    0.2060</td> <td>    0.378</td> <td>    0.546</td> <td> 0.586</td> <td>   -0.535     0.947</td>\n",
       "</tr>\n",
       "<tr>\n",
       "  <th>rating[T.PG-13]</th>             <td>    0.4195</td> <td>    0.381</td> <td>    1.101</td> <td> 0.271</td> <td>   -0.328     1.167</td>\n",
       "</tr>\n",
       "<tr>\n",
       "  <th>rating[T.R]</th>                 <td>    0.7007</td> <td>    0.382</td> <td>    1.833</td> <td> 0.067</td> <td>   -0.049     1.451</td>\n",
       "</tr>\n",
       "<tr>\n",
       "  <th>rating[T.Unrated]</th>           <td>   -0.0988</td> <td>    0.465</td> <td>   -0.213</td> <td> 0.832</td> <td>   -1.011     0.814</td>\n",
       "</tr>\n",
       "<tr>\n",
       "  <th>season[T.holiday]</th>           <td>    0.7236</td> <td>    0.137</td> <td>    5.301</td> <td> 0.000</td> <td>    0.456     0.992</td>\n",
       "</tr>\n",
       "<tr>\n",
       "  <th>season[T.spring]</th>            <td>   -0.2579</td> <td>    0.127</td> <td>   -2.033</td> <td> 0.042</td> <td>   -0.507    -0.009</td>\n",
       "</tr>\n",
       "<tr>\n",
       "  <th>season[T.summer]</th>            <td>   -0.0701</td> <td>    0.117</td> <td>   -0.597</td> <td> 0.551</td> <td>   -0.300     0.160</td>\n",
       "</tr>\n",
       "<tr>\n",
       "  <th>season[T.winter]</th>            <td>   -0.2557</td> <td>    0.139</td> <td>   -1.842</td> <td> 0.066</td> <td>   -0.528     0.017</td>\n",
       "</tr>\n",
       "<tr>\n",
       "  <th>theaters</th>                    <td>    0.0001</td> <td> 4.91e-05</td> <td>    3.009</td> <td> 0.003</td> <td> 5.14e-05     0.000</td>\n",
       "</tr>\n",
       "<tr>\n",
       "  <th>runtime_mins</th>                <td>    0.0093</td> <td>    0.003</td> <td>    3.431</td> <td> 0.001</td> <td>    0.004     0.015</td>\n",
       "</tr>\n",
       "</table>\n",
       "<table class=\"simpletable\">\n",
       "<tr>\n",
       "  <th>Omnibus:</th>       <td>688.436</td> <th>  Durbin-Watson:     </th> <td>   1.894</td> \n",
       "</tr>\n",
       "<tr>\n",
       "  <th>Prob(Omnibus):</th> <td> 0.000</td>  <th>  Jarque-Bera (JB):  </th> <td>12230.764</td>\n",
       "</tr>\n",
       "<tr>\n",
       "  <th>Skew:</th>          <td> 3.493</td>  <th>  Prob(JB):          </th> <td>    0.00</td> \n",
       "</tr>\n",
       "<tr>\n",
       "  <th>Kurtosis:</th>      <td>19.830</td>  <th>  Cond. No.          </th> <td>4.17e+04</td> \n",
       "</tr>\n",
       "</table>"
      ],
      "text/plain": [
       "<class 'statsmodels.iolib.summary.Summary'>\n",
       "\"\"\"\n",
       "                            OLS Regression Results                            \n",
       "==============================================================================\n",
       "Dep. Variable:             oscar_noms   R-squared:                       0.200\n",
       "Model:                            OLS   Adj. R-squared:                  0.173\n",
       "Method:                 Least Squares   F-statistic:                     7.616\n",
       "Date:                Tue, 26 Jan 2016   Prob (F-statistic):           1.30e-26\n",
       "Time:                        16:08:31   Log-Likelihood:                -1414.4\n",
       "No. Observations:                 884   AIC:                             2887.\n",
       "Df Residuals:                     855   BIC:                             3025.\n",
       "Df Model:                          28                                         \n",
       "Covariance Type:            nonrobust                                         \n",
       "===============================================================================================\n",
       "                                  coef    std err          t      P>|t|      [95.0% Conf. Int.]\n",
       "-----------------------------------------------------------------------------------------------\n",
       "Intercept                      -1.6605      0.519     -3.202      0.001        -2.678    -0.642\n",
       "new_genre[T.Animation]          0.6488      0.392      1.653      0.099        -0.121     1.419\n",
       "new_genre[T.Comedy]             0.1982      0.201      0.984      0.325        -0.197     0.594\n",
       "new_genre[T.Crime_Thriller]     0.3077      0.233      1.321      0.187        -0.150     0.765\n",
       "new_genre[T.Documentary]        0.3929      0.402      0.978      0.328        -0.396     1.182\n",
       "new_genre[T.Drama]              0.7562      0.217      3.491      0.001         0.331     1.181\n",
       "new_genre[T.Family]             0.3594      0.340      1.058      0.290        -0.307     1.026\n",
       "new_genre[T.Fantasy_Scifi]      0.2031      0.302      0.672      0.502        -0.390     0.796\n",
       "new_genre[T.Foreign]            1.0944      0.317      3.457      0.001         0.473     1.716\n",
       "new_genre[T.Historical]         0.9917      0.272      3.649      0.000         0.458     1.525\n",
       "new_genre[T.Horror]            -0.1448      0.222     -0.651      0.515        -0.581     0.292\n",
       "new_genre[T.Musical]            0.2071      0.319      0.650      0.516        -0.418     0.832\n",
       "new_genre[T.None]               0.2081      0.268      0.776      0.438        -0.318     0.734\n",
       "new_genre[T.Other]              0.0253      0.734      0.034      0.972        -1.415     1.466\n",
       "new_genre[T.Romance]            0.2582      0.232      1.114      0.266        -0.197     0.713\n",
       "new_genre[T.Sports]             0.5579      0.341      1.638      0.102        -0.111     1.226\n",
       "new_genre[T.War]                2.8364      0.641      4.423      0.000         1.578     4.095\n",
       "new_genre[T.Western]            1.1259      0.580      1.943      0.052        -0.012     2.263\n",
       "rating[T.NC-17]                -0.1300      0.675     -0.193      0.847        -1.455     1.195\n",
       "rating[T.PG]                    0.2060      0.378      0.546      0.586        -0.535     0.947\n",
       "rating[T.PG-13]                 0.4195      0.381      1.101      0.271        -0.328     1.167\n",
       "rating[T.R]                     0.7007      0.382      1.833      0.067        -0.049     1.451\n",
       "rating[T.Unrated]              -0.0988      0.465     -0.213      0.832        -1.011     0.814\n",
       "season[T.holiday]               0.7236      0.137      5.301      0.000         0.456     0.992\n",
       "season[T.spring]               -0.2579      0.127     -2.033      0.042        -0.507    -0.009\n",
       "season[T.summer]               -0.0701      0.117     -0.597      0.551        -0.300     0.160\n",
       "season[T.winter]               -0.2557      0.139     -1.842      0.066        -0.528     0.017\n",
       "theaters                        0.0001   4.91e-05      3.009      0.003      5.14e-05     0.000\n",
       "runtime_mins                    0.0093      0.003      3.431      0.001         0.004     0.015\n",
       "==============================================================================\n",
       "Omnibus:                      688.436   Durbin-Watson:                   1.894\n",
       "Prob(Omnibus):                  0.000   Jarque-Bera (JB):            12230.764\n",
       "Skew:                           3.493   Prob(JB):                         0.00\n",
       "Kurtosis:                      19.830   Cond. No.                     4.17e+04\n",
       "==============================================================================\n",
       "\n",
       "Warnings:\n",
       "[1] Standard Errors assume that the covariance matrix of the errors is correctly specified.\n",
       "[2] The condition number is large, 4.17e+04. This might indicate that there are\n",
       "strong multicollinearity or other numerical problems.\n",
       "\"\"\""
      ]
     },
     "execution_count": 1004,
     "metadata": {},
     "output_type": "execute_result"
    }
   ],
   "source": [
    "# original\n",
    "oscars = smf.ols(formula=\"oscar_noms ~ new_genre + rating + season + theaters + runtime_mins\", data = train).fit()\n",
    "oscars.summary()"
   ]
  },
  {
   "cell_type": "code",
   "execution_count": 1009,
   "metadata": {
    "collapsed": true
   },
   "outputs": [
    {
     "data": {
      "text/html": [
       "<table class=\"simpletable\">\n",
       "<caption>OLS Regression Results</caption>\n",
       "<tr>\n",
       "  <th>Dep. Variable:</th>       <td>oscar_noms</td>    <th>  R-squared:         </th> <td>   0.135</td>\n",
       "</tr>\n",
       "<tr>\n",
       "  <th>Model:</th>                   <td>OLS</td>       <th>  Adj. R-squared:    </th> <td>   0.130</td>\n",
       "</tr>\n",
       "<tr>\n",
       "  <th>Method:</th>             <td>Least Squares</td>  <th>  F-statistic:       </th> <td>   27.45</td>\n",
       "</tr>\n",
       "<tr>\n",
       "  <th>Date:</th>             <td>Tue, 26 Jan 2016</td> <th>  Prob (F-statistic):</th> <td>7.21e-26</td>\n",
       "</tr>\n",
       "<tr>\n",
       "  <th>Time:</th>                 <td>16:12:35</td>     <th>  Log-Likelihood:    </th> <td> -1448.6</td>\n",
       "</tr>\n",
       "<tr>\n",
       "  <th>No. Observations:</th>      <td>   884</td>      <th>  AIC:               </th> <td>   2909.</td>\n",
       "</tr>\n",
       "<tr>\n",
       "  <th>Df Residuals:</th>          <td>   878</td>      <th>  BIC:               </th> <td>   2938.</td>\n",
       "</tr>\n",
       "<tr>\n",
       "  <th>Df Model:</th>              <td>     5</td>      <th>                     </th>     <td> </td>   \n",
       "</tr>\n",
       "<tr>\n",
       "  <th>Covariance Type:</th>      <td>nonrobust</td>    <th>                     </th>     <td> </td>   \n",
       "</tr>\n",
       "</table>\n",
       "<table class=\"simpletable\">\n",
       "<tr>\n",
       "           <td></td>              <th>coef</th>     <th>std err</th>      <th>t</th>      <th>P>|t|</th> <th>[95.0% Conf. Int.]</th> \n",
       "</tr>\n",
       "<tr>\n",
       "  <th>Intercept</th>           <td>   -0.2698</td> <td>    0.303</td> <td>   -0.892</td> <td> 0.373</td> <td>   -0.864     0.324</td>\n",
       "</tr>\n",
       "<tr>\n",
       "  <th>r_rating[T.other]</th>   <td>   -0.2834</td> <td>    0.086</td> <td>   -3.281</td> <td> 0.001</td> <td>   -0.453    -0.114</td>\n",
       "</tr>\n",
       "<tr>\n",
       "  <th>hw_season[T.other]</th>  <td>   -0.9353</td> <td>    0.120</td> <td>   -7.794</td> <td> 0.000</td> <td>   -1.171    -0.700</td>\n",
       "</tr>\n",
       "<tr>\n",
       "  <th>hw_season[T.winter]</th> <td>   -1.1405</td> <td>    0.157</td> <td>   -7.280</td> <td> 0.000</td> <td>   -1.448    -0.833</td>\n",
       "</tr>\n",
       "<tr>\n",
       "  <th>theaters</th>            <td> 5.833e-05</td> <td> 4.15e-05</td> <td>    1.404</td> <td> 0.161</td> <td>-2.32e-05     0.000</td>\n",
       "</tr>\n",
       "<tr>\n",
       "  <th>runtime_mins</th>        <td>    0.0148</td> <td>    0.002</td> <td>    6.026</td> <td> 0.000</td> <td>    0.010     0.020</td>\n",
       "</tr>\n",
       "</table>\n",
       "<table class=\"simpletable\">\n",
       "<tr>\n",
       "  <th>Omnibus:</th>       <td>726.795</td> <th>  Durbin-Watson:     </th> <td>   1.891</td> \n",
       "</tr>\n",
       "<tr>\n",
       "  <th>Prob(Omnibus):</th> <td> 0.000</td>  <th>  Jarque-Bera (JB):  </th> <td>14032.842</td>\n",
       "</tr>\n",
       "<tr>\n",
       "  <th>Skew:</th>          <td> 3.757</td>  <th>  Prob(JB):          </th> <td>    0.00</td> \n",
       "</tr>\n",
       "<tr>\n",
       "  <th>Kurtosis:</th>      <td>21.015</td>  <th>  Cond. No.          </th> <td>1.26e+04</td> \n",
       "</tr>\n",
       "</table>"
      ],
      "text/plain": [
       "<class 'statsmodels.iolib.summary.Summary'>\n",
       "\"\"\"\n",
       "                            OLS Regression Results                            \n",
       "==============================================================================\n",
       "Dep. Variable:             oscar_noms   R-squared:                       0.135\n",
       "Model:                            OLS   Adj. R-squared:                  0.130\n",
       "Method:                 Least Squares   F-statistic:                     27.45\n",
       "Date:                Tue, 26 Jan 2016   Prob (F-statistic):           7.21e-26\n",
       "Time:                        16:12:35   Log-Likelihood:                -1448.6\n",
       "No. Observations:                 884   AIC:                             2909.\n",
       "Df Residuals:                     878   BIC:                             2938.\n",
       "Df Model:                           5                                         \n",
       "Covariance Type:            nonrobust                                         \n",
       "=======================================================================================\n",
       "                          coef    std err          t      P>|t|      [95.0% Conf. Int.]\n",
       "---------------------------------------------------------------------------------------\n",
       "Intercept              -0.2698      0.303     -0.892      0.373        -0.864     0.324\n",
       "r_rating[T.other]      -0.2834      0.086     -3.281      0.001        -0.453    -0.114\n",
       "hw_season[T.other]     -0.9353      0.120     -7.794      0.000        -1.171    -0.700\n",
       "hw_season[T.winter]    -1.1405      0.157     -7.280      0.000        -1.448    -0.833\n",
       "theaters             5.833e-05   4.15e-05      1.404      0.161     -2.32e-05     0.000\n",
       "runtime_mins            0.0148      0.002      6.026      0.000         0.010     0.020\n",
       "==============================================================================\n",
       "Omnibus:                      726.795   Durbin-Watson:                   1.891\n",
       "Prob(Omnibus):                  0.000   Jarque-Bera (JB):            14032.842\n",
       "Skew:                           3.757   Prob(JB):                         0.00\n",
       "Kurtosis:                      21.015   Cond. No.                     1.26e+04\n",
       "==============================================================================\n",
       "\n",
       "Warnings:\n",
       "[1] Standard Errors assume that the covariance matrix of the errors is correctly specified.\n",
       "[2] The condition number is large, 1.26e+04. This might indicate that there are\n",
       "strong multicollinearity or other numerical problems.\n",
       "\"\"\""
      ]
     },
     "execution_count": 1009,
     "metadata": {},
     "output_type": "execute_result"
    }
   ],
   "source": [
    "# 2. optmized \n",
    "oscars_o = smf.ols(formula=\"oscar_noms ~ r_rating + hw_season + theaters + runtime_mins\", \n",
    "                 data = train).fit()\n",
    "oscars_o.summary()"
   ]
  },
  {
   "cell_type": "code",
   "execution_count": 1078,
   "metadata": {
    "collapsed": true
   },
   "outputs": [
    {
     "data": {
      "text/html": [
       "<table class=\"simpletable\">\n",
       "<caption>OLS Regression Results</caption>\n",
       "<tr>\n",
       "  <th>Dep. Variable:</th>     <td>oscar_noms_log</td>  <th>  R-squared:         </th> <td>   0.154</td>\n",
       "</tr>\n",
       "<tr>\n",
       "  <th>Model:</th>                   <td>OLS</td>       <th>  Adj. R-squared:    </th> <td>   0.150</td>\n",
       "</tr>\n",
       "<tr>\n",
       "  <th>Method:</th>             <td>Least Squares</td>  <th>  F-statistic:       </th> <td>   32.06</td>\n",
       "</tr>\n",
       "<tr>\n",
       "  <th>Date:</th>             <td>Tue, 26 Jan 2016</td> <th>  Prob (F-statistic):</th> <td>4.60e-30</td>\n",
       "</tr>\n",
       "<tr>\n",
       "  <th>Time:</th>                 <td>17:24:26</td>     <th>  Log-Likelihood:    </th> <td> -820.78</td>\n",
       "</tr>\n",
       "<tr>\n",
       "  <th>No. Observations:</th>      <td>   884</td>      <th>  AIC:               </th> <td>   1654.</td>\n",
       "</tr>\n",
       "<tr>\n",
       "  <th>Df Residuals:</th>          <td>   878</td>      <th>  BIC:               </th> <td>   1682.</td>\n",
       "</tr>\n",
       "<tr>\n",
       "  <th>Df Model:</th>              <td>     5</td>      <th>                     </th>     <td> </td>   \n",
       "</tr>\n",
       "<tr>\n",
       "  <th>Covariance Type:</th>      <td>nonrobust</td>    <th>                     </th>     <td> </td>   \n",
       "</tr>\n",
       "</table>\n",
       "<table class=\"simpletable\">\n",
       "<tr>\n",
       "           <td></td>              <th>coef</th>     <th>std err</th>      <th>t</th>      <th>P>|t|</th> <th>[95.0% Conf. Int.]</th> \n",
       "</tr>\n",
       "<tr>\n",
       "  <th>Intercept</th>           <td>   -1.0698</td> <td>    0.149</td> <td>   -7.190</td> <td> 0.000</td> <td>   -1.362    -0.778</td>\n",
       "</tr>\n",
       "<tr>\n",
       "  <th>r_rating[T.other]</th>   <td>   -0.1542</td> <td>    0.042</td> <td>   -3.633</td> <td> 0.000</td> <td>   -0.238    -0.071</td>\n",
       "</tr>\n",
       "<tr>\n",
       "  <th>hw_season[T.other]</th>  <td>   -0.4798</td> <td>    0.059</td> <td>   -8.135</td> <td> 0.000</td> <td>   -0.596    -0.364</td>\n",
       "</tr>\n",
       "<tr>\n",
       "  <th>hw_season[T.winter]</th> <td>   -0.5977</td> <td>    0.077</td> <td>   -7.761</td> <td> 0.000</td> <td>   -0.749    -0.447</td>\n",
       "</tr>\n",
       "<tr>\n",
       "  <th>theaters</th>            <td> 3.566e-07</td> <td> 2.04e-05</td> <td>    0.017</td> <td> 0.986</td> <td>-3.97e-05  4.04e-05</td>\n",
       "</tr>\n",
       "<tr>\n",
       "  <th>runtime_mins</th>        <td>    0.0077</td> <td>    0.001</td> <td>    6.349</td> <td> 0.000</td> <td>    0.005     0.010</td>\n",
       "</tr>\n",
       "</table>\n",
       "<table class=\"simpletable\">\n",
       "<tr>\n",
       "  <th>Omnibus:</th>       <td>448.671</td> <th>  Durbin-Watson:     </th> <td>   1.847</td>\n",
       "</tr>\n",
       "<tr>\n",
       "  <th>Prob(Omnibus):</th> <td> 0.000</td>  <th>  Jarque-Bera (JB):  </th> <td>2349.510</td>\n",
       "</tr>\n",
       "<tr>\n",
       "  <th>Skew:</th>          <td> 2.370</td>  <th>  Prob(JB):          </th> <td>    0.00</td>\n",
       "</tr>\n",
       "<tr>\n",
       "  <th>Kurtosis:</th>      <td> 9.428</td>  <th>  Cond. No.          </th> <td>1.26e+04</td>\n",
       "</tr>\n",
       "</table>"
      ],
      "text/plain": [
       "<class 'statsmodels.iolib.summary.Summary'>\n",
       "\"\"\"\n",
       "                            OLS Regression Results                            \n",
       "==============================================================================\n",
       "Dep. Variable:         oscar_noms_log   R-squared:                       0.154\n",
       "Model:                            OLS   Adj. R-squared:                  0.150\n",
       "Method:                 Least Squares   F-statistic:                     32.06\n",
       "Date:                Tue, 26 Jan 2016   Prob (F-statistic):           4.60e-30\n",
       "Time:                        17:24:26   Log-Likelihood:                -820.78\n",
       "No. Observations:                 884   AIC:                             1654.\n",
       "Df Residuals:                     878   BIC:                             1682.\n",
       "Df Model:                           5                                         \n",
       "Covariance Type:            nonrobust                                         \n",
       "=======================================================================================\n",
       "                          coef    std err          t      P>|t|      [95.0% Conf. Int.]\n",
       "---------------------------------------------------------------------------------------\n",
       "Intercept              -1.0698      0.149     -7.190      0.000        -1.362    -0.778\n",
       "r_rating[T.other]      -0.1542      0.042     -3.633      0.000        -0.238    -0.071\n",
       "hw_season[T.other]     -0.4798      0.059     -8.135      0.000        -0.596    -0.364\n",
       "hw_season[T.winter]    -0.5977      0.077     -7.761      0.000        -0.749    -0.447\n",
       "theaters             3.566e-07   2.04e-05      0.017      0.986     -3.97e-05  4.04e-05\n",
       "runtime_mins            0.0077      0.001      6.349      0.000         0.005     0.010\n",
       "==============================================================================\n",
       "Omnibus:                      448.671   Durbin-Watson:                   1.847\n",
       "Prob(Omnibus):                  0.000   Jarque-Bera (JB):             2349.510\n",
       "Skew:                           2.370   Prob(JB):                         0.00\n",
       "Kurtosis:                       9.428   Cond. No.                     1.26e+04\n",
       "==============================================================================\n",
       "\n",
       "Warnings:\n",
       "[1] Standard Errors assume that the covariance matrix of the errors is correctly specified.\n",
       "[2] The condition number is large, 1.26e+04. This might indicate that there are\n",
       "strong multicollinearity or other numerical problems.\n",
       "\"\"\""
      ]
     },
     "execution_count": 1078,
     "metadata": {},
     "output_type": "execute_result"
    }
   ],
   "source": [
    "# 3. with log oscar_noms and theaters\n",
    "oscars_log = smf.ols(formula=\"oscar_noms_log ~ r_rating + hw_season + theaters + runtime_mins\", \n",
    "                 data = train).fit()\n",
    "oscars_log.summary()"
   ]
  },
  {
   "cell_type": "code",
   "execution_count": 1079,
   "metadata": {
    "collapsed": false
   },
   "outputs": [
    {
     "data": {
      "text/html": [
       "<table class=\"simpletable\">\n",
       "<caption>OLS Regression Results</caption>\n",
       "<tr>\n",
       "  <th>Dep. Variable:</th>     <td>oscar_noms_log</td>  <th>  R-squared:         </th> <td>   0.154</td>\n",
       "</tr>\n",
       "<tr>\n",
       "  <th>Model:</th>                   <td>OLS</td>       <th>  Adj. R-squared:    </th> <td>   0.151</td>\n",
       "</tr>\n",
       "<tr>\n",
       "  <th>Method:</th>             <td>Least Squares</td>  <th>  F-statistic:       </th> <td>   40.12</td>\n",
       "</tr>\n",
       "<tr>\n",
       "  <th>Date:</th>             <td>Tue, 26 Jan 2016</td> <th>  Prob (F-statistic):</th> <td>6.78e-31</td>\n",
       "</tr>\n",
       "<tr>\n",
       "  <th>Time:</th>                 <td>17:24:40</td>     <th>  Log-Likelihood:    </th> <td> -820.78</td>\n",
       "</tr>\n",
       "<tr>\n",
       "  <th>No. Observations:</th>      <td>   884</td>      <th>  AIC:               </th> <td>   1652.</td>\n",
       "</tr>\n",
       "<tr>\n",
       "  <th>Df Residuals:</th>          <td>   879</td>      <th>  BIC:               </th> <td>   1675.</td>\n",
       "</tr>\n",
       "<tr>\n",
       "  <th>Df Model:</th>              <td>     4</td>      <th>                     </th>     <td> </td>   \n",
       "</tr>\n",
       "<tr>\n",
       "  <th>Covariance Type:</th>      <td>nonrobust</td>    <th>                     </th>     <td> </td>   \n",
       "</tr>\n",
       "</table>\n",
       "<table class=\"simpletable\">\n",
       "<tr>\n",
       "           <td></td>              <th>coef</th>     <th>std err</th>      <th>t</th>      <th>P>|t|</th> <th>[95.0% Conf. Int.]</th> \n",
       "</tr>\n",
       "<tr>\n",
       "  <th>Intercept</th>           <td>   -1.0689</td> <td>    0.141</td> <td>   -7.600</td> <td> 0.000</td> <td>   -1.345    -0.793</td>\n",
       "</tr>\n",
       "<tr>\n",
       "  <th>r_rating[T.other]</th>   <td>   -0.1541</td> <td>    0.042</td> <td>   -3.682</td> <td> 0.000</td> <td>   -0.236    -0.072</td>\n",
       "</tr>\n",
       "<tr>\n",
       "  <th>hw_season[T.other]</th>  <td>   -0.4798</td> <td>    0.059</td> <td>   -8.141</td> <td> 0.000</td> <td>   -0.595    -0.364</td>\n",
       "</tr>\n",
       "<tr>\n",
       "  <th>hw_season[T.winter]</th> <td>   -0.5976</td> <td>    0.077</td> <td>   -7.784</td> <td> 0.000</td> <td>   -0.748    -0.447</td>\n",
       "</tr>\n",
       "<tr>\n",
       "  <th>runtime_mins</th>        <td>    0.0077</td> <td>    0.001</td> <td>    6.494</td> <td> 0.000</td> <td>    0.005     0.010</td>\n",
       "</tr>\n",
       "</table>\n",
       "<table class=\"simpletable\">\n",
       "<tr>\n",
       "  <th>Omnibus:</th>       <td>448.705</td> <th>  Durbin-Watson:     </th> <td>   1.847</td>\n",
       "</tr>\n",
       "<tr>\n",
       "  <th>Prob(Omnibus):</th> <td> 0.000</td>  <th>  Jarque-Bera (JB):  </th> <td>2350.060</td>\n",
       "</tr>\n",
       "<tr>\n",
       "  <th>Skew:</th>          <td> 2.370</td>  <th>  Prob(JB):          </th> <td>    0.00</td>\n",
       "</tr>\n",
       "<tr>\n",
       "  <th>Kurtosis:</th>      <td> 9.429</td>  <th>  Cond. No.          </th> <td>    751.</td>\n",
       "</tr>\n",
       "</table>"
      ],
      "text/plain": [
       "<class 'statsmodels.iolib.summary.Summary'>\n",
       "\"\"\"\n",
       "                            OLS Regression Results                            \n",
       "==============================================================================\n",
       "Dep. Variable:         oscar_noms_log   R-squared:                       0.154\n",
       "Model:                            OLS   Adj. R-squared:                  0.151\n",
       "Method:                 Least Squares   F-statistic:                     40.12\n",
       "Date:                Tue, 26 Jan 2016   Prob (F-statistic):           6.78e-31\n",
       "Time:                        17:24:40   Log-Likelihood:                -820.78\n",
       "No. Observations:                 884   AIC:                             1652.\n",
       "Df Residuals:                     879   BIC:                             1675.\n",
       "Df Model:                           4                                         \n",
       "Covariance Type:            nonrobust                                         \n",
       "=======================================================================================\n",
       "                          coef    std err          t      P>|t|      [95.0% Conf. Int.]\n",
       "---------------------------------------------------------------------------------------\n",
       "Intercept              -1.0689      0.141     -7.600      0.000        -1.345    -0.793\n",
       "r_rating[T.other]      -0.1541      0.042     -3.682      0.000        -0.236    -0.072\n",
       "hw_season[T.other]     -0.4798      0.059     -8.141      0.000        -0.595    -0.364\n",
       "hw_season[T.winter]    -0.5976      0.077     -7.784      0.000        -0.748    -0.447\n",
       "runtime_mins            0.0077      0.001      6.494      0.000         0.005     0.010\n",
       "==============================================================================\n",
       "Omnibus:                      448.705   Durbin-Watson:                   1.847\n",
       "Prob(Omnibus):                  0.000   Jarque-Bera (JB):             2350.060\n",
       "Skew:                           2.370   Prob(JB):                         0.00\n",
       "Kurtosis:                       9.429   Cond. No.                         751.\n",
       "==============================================================================\n",
       "\n",
       "Warnings:\n",
       "[1] Standard Errors assume that the covariance matrix of the errors is correctly specified.\n",
       "\"\"\""
      ]
     },
     "execution_count": 1079,
     "metadata": {},
     "output_type": "execute_result"
    }
   ],
   "source": [
    "# 4. with log oscar noms, without theaters\n",
    "oscars_log2 = smf.ols(formula=\"oscar_noms_log ~ r_rating + hw_season + runtime_mins\", \n",
    "                 data = train).fit()\n",
    "oscars_log2.summary()"
   ]
  },
  {
   "cell_type": "code",
   "execution_count": 1005,
   "metadata": {
    "collapsed": true
   },
   "outputs": [
    {
     "data": {
      "text/html": [
       "<table class=\"simpletable\">\n",
       "<caption>OLS Regression Results</caption>\n",
       "<tr>\n",
       "  <th>Dep. Variable:</th>       <td>oscar_noms</td>    <th>  R-squared:         </th> <td>   0.099</td>\n",
       "</tr>\n",
       "<tr>\n",
       "  <th>Model:</th>                   <td>OLS</td>       <th>  Adj. R-squared:    </th> <td>   0.081</td>\n",
       "</tr>\n",
       "<tr>\n",
       "  <th>Method:</th>             <td>Least Squares</td>  <th>  F-statistic:       </th> <td>   5.674</td>\n",
       "</tr>\n",
       "<tr>\n",
       "  <th>Date:</th>             <td>Tue, 26 Jan 2016</td> <th>  Prob (F-statistic):</th> <td>2.33e-12</td>\n",
       "</tr>\n",
       "<tr>\n",
       "  <th>Time:</th>                 <td>16:08:37</td>     <th>  Log-Likelihood:    </th> <td> -1484.8</td>\n",
       "</tr>\n",
       "<tr>\n",
       "  <th>No. Observations:</th>      <td>   899</td>      <th>  AIC:               </th> <td>   3006.</td>\n",
       "</tr>\n",
       "<tr>\n",
       "  <th>Df Residuals:</th>          <td>   881</td>      <th>  BIC:               </th> <td>   3092.</td>\n",
       "</tr>\n",
       "<tr>\n",
       "  <th>Df Model:</th>              <td>    17</td>      <th>                     </th>     <td> </td>   \n",
       "</tr>\n",
       "<tr>\n",
       "  <th>Covariance Type:</th>      <td>nonrobust</td>    <th>                     </th>     <td> </td>   \n",
       "</tr>\n",
       "</table>\n",
       "<table class=\"simpletable\">\n",
       "<tr>\n",
       "               <td></td>                  <th>coef</th>     <th>std err</th>      <th>t</th>      <th>P>|t|</th> <th>[95.0% Conf. Int.]</th> \n",
       "</tr>\n",
       "<tr>\n",
       "  <th>Intercept</th>                   <td>    0.0426</td> <td>    0.186</td> <td>    0.229</td> <td> 0.819</td> <td>   -0.322     0.408</td>\n",
       "</tr>\n",
       "<tr>\n",
       "  <th>new_genre[T.Animation]</th>      <td>    0.1449</td> <td>    0.369</td> <td>    0.393</td> <td> 0.695</td> <td>   -0.579     0.869</td>\n",
       "</tr>\n",
       "<tr>\n",
       "  <th>new_genre[T.Comedy]</th>         <td>    0.2039</td> <td>    0.206</td> <td>    0.992</td> <td> 0.322</td> <td>   -0.200     0.607</td>\n",
       "</tr>\n",
       "<tr>\n",
       "  <th>new_genre[T.Crime_Thriller]</th> <td>    0.3653</td> <td>    0.237</td> <td>    1.544</td> <td> 0.123</td> <td>   -0.099     0.830</td>\n",
       "</tr>\n",
       "<tr>\n",
       "  <th>new_genre[T.Documentary]</th>    <td>    0.2074</td> <td>    0.412</td> <td>    0.503</td> <td> 0.615</td> <td>   -0.602     1.017</td>\n",
       "</tr>\n",
       "<tr>\n",
       "  <th>new_genre[T.Drama]</th>          <td>    0.8389</td> <td>    0.216</td> <td>    3.885</td> <td> 0.000</td> <td>    0.415     1.263</td>\n",
       "</tr>\n",
       "<tr>\n",
       "  <th>new_genre[T.Family]</th>         <td>   -0.0426</td> <td>    0.312</td> <td>   -0.137</td> <td> 0.891</td> <td>   -0.654     0.569</td>\n",
       "</tr>\n",
       "<tr>\n",
       "  <th>new_genre[T.Fantasy_Scifi]</th>  <td>    0.2167</td> <td>    0.308</td> <td>    0.704</td> <td> 0.482</td> <td>   -0.388     0.821</td>\n",
       "</tr>\n",
       "<tr>\n",
       "  <th>new_genre[T.Foreign]</th>        <td>    1.1003</td> <td>    0.304</td> <td>    3.615</td> <td> 0.000</td> <td>    0.503     1.698</td>\n",
       "</tr>\n",
       "<tr>\n",
       "  <th>new_genre[T.Historical]</th>     <td>    1.0938</td> <td>    0.267</td> <td>    4.090</td> <td> 0.000</td> <td>    0.569     1.619</td>\n",
       "</tr>\n",
       "<tr>\n",
       "  <th>new_genre[T.Horror]</th>         <td>   -0.0426</td> <td>    0.226</td> <td>   -0.188</td> <td> 0.851</td> <td>   -0.486     0.401</td>\n",
       "</tr>\n",
       "<tr>\n",
       "  <th>new_genre[T.Musical]</th>        <td>    0.2183</td> <td>    0.324</td> <td>    0.673</td> <td> 0.501</td> <td>   -0.418     0.855</td>\n",
       "</tr>\n",
       "<tr>\n",
       "  <th>new_genre[T.None]</th>           <td>   -0.0426</td> <td>    0.262</td> <td>   -0.163</td> <td> 0.871</td> <td>   -0.556     0.471</td>\n",
       "</tr>\n",
       "<tr>\n",
       "  <th>new_genre[T.Other]</th>          <td>   -0.0426</td> <td>    0.664</td> <td>   -0.064</td> <td> 0.949</td> <td>   -1.346     1.261</td>\n",
       "</tr>\n",
       "<tr>\n",
       "  <th>new_genre[T.Romance]</th>        <td>    0.0890</td> <td>    0.237</td> <td>    0.376</td> <td> 0.707</td> <td>   -0.375     0.553</td>\n",
       "</tr>\n",
       "<tr>\n",
       "  <th>new_genre[T.Sports]</th>         <td>    0.4311</td> <td>    0.347</td> <td>    1.244</td> <td> 0.214</td> <td>   -0.249     1.111</td>\n",
       "</tr>\n",
       "<tr>\n",
       "  <th>new_genre[T.War]</th>            <td>    3.2074</td> <td>    0.664</td> <td>    4.831</td> <td> 0.000</td> <td>    1.904     4.511</td>\n",
       "</tr>\n",
       "<tr>\n",
       "  <th>new_genre[T.Western]</th>        <td>    1.5574</td> <td>    0.600</td> <td>    2.597</td> <td> 0.010</td> <td>    0.380     2.734</td>\n",
       "</tr>\n",
       "</table>\n",
       "<table class=\"simpletable\">\n",
       "<tr>\n",
       "  <th>Omnibus:</th>       <td>771.826</td> <th>  Durbin-Watson:     </th> <td>   1.958</td> \n",
       "</tr>\n",
       "<tr>\n",
       "  <th>Prob(Omnibus):</th> <td> 0.000</td>  <th>  Jarque-Bera (JB):  </th> <td>16589.959</td>\n",
       "</tr>\n",
       "<tr>\n",
       "  <th>Skew:</th>          <td> 3.973</td>  <th>  Prob(JB):          </th> <td>    0.00</td> \n",
       "</tr>\n",
       "<tr>\n",
       "  <th>Kurtosis:</th>      <td>22.487</td>  <th>  Cond. No.          </th> <td>    21.7</td> \n",
       "</tr>\n",
       "</table>"
      ],
      "text/plain": [
       "<class 'statsmodels.iolib.summary.Summary'>\n",
       "\"\"\"\n",
       "                            OLS Regression Results                            \n",
       "==============================================================================\n",
       "Dep. Variable:             oscar_noms   R-squared:                       0.099\n",
       "Model:                            OLS   Adj. R-squared:                  0.081\n",
       "Method:                 Least Squares   F-statistic:                     5.674\n",
       "Date:                Tue, 26 Jan 2016   Prob (F-statistic):           2.33e-12\n",
       "Time:                        16:08:37   Log-Likelihood:                -1484.8\n",
       "No. Observations:                 899   AIC:                             3006.\n",
       "Df Residuals:                     881   BIC:                             3092.\n",
       "Df Model:                          17                                         \n",
       "Covariance Type:            nonrobust                                         \n",
       "===============================================================================================\n",
       "                                  coef    std err          t      P>|t|      [95.0% Conf. Int.]\n",
       "-----------------------------------------------------------------------------------------------\n",
       "Intercept                       0.0426      0.186      0.229      0.819        -0.322     0.408\n",
       "new_genre[T.Animation]          0.1449      0.369      0.393      0.695        -0.579     0.869\n",
       "new_genre[T.Comedy]             0.2039      0.206      0.992      0.322        -0.200     0.607\n",
       "new_genre[T.Crime_Thriller]     0.3653      0.237      1.544      0.123        -0.099     0.830\n",
       "new_genre[T.Documentary]        0.2074      0.412      0.503      0.615        -0.602     1.017\n",
       "new_genre[T.Drama]              0.8389      0.216      3.885      0.000         0.415     1.263\n",
       "new_genre[T.Family]            -0.0426      0.312     -0.137      0.891        -0.654     0.569\n",
       "new_genre[T.Fantasy_Scifi]      0.2167      0.308      0.704      0.482        -0.388     0.821\n",
       "new_genre[T.Foreign]            1.1003      0.304      3.615      0.000         0.503     1.698\n",
       "new_genre[T.Historical]         1.0938      0.267      4.090      0.000         0.569     1.619\n",
       "new_genre[T.Horror]            -0.0426      0.226     -0.188      0.851        -0.486     0.401\n",
       "new_genre[T.Musical]            0.2183      0.324      0.673      0.501        -0.418     0.855\n",
       "new_genre[T.None]              -0.0426      0.262     -0.163      0.871        -0.556     0.471\n",
       "new_genre[T.Other]             -0.0426      0.664     -0.064      0.949        -1.346     1.261\n",
       "new_genre[T.Romance]            0.0890      0.237      0.376      0.707        -0.375     0.553\n",
       "new_genre[T.Sports]             0.4311      0.347      1.244      0.214        -0.249     1.111\n",
       "new_genre[T.War]                3.2074      0.664      4.831      0.000         1.904     4.511\n",
       "new_genre[T.Western]            1.5574      0.600      2.597      0.010         0.380     2.734\n",
       "==============================================================================\n",
       "Omnibus:                      771.826   Durbin-Watson:                   1.958\n",
       "Prob(Omnibus):                  0.000   Jarque-Bera (JB):            16589.959\n",
       "Skew:                           3.973   Prob(JB):                         0.00\n",
       "Kurtosis:                      22.487   Cond. No.                         21.7\n",
       "==============================================================================\n",
       "\n",
       "Warnings:\n",
       "[1] Standard Errors assume that the covariance matrix of the errors is correctly specified.\n",
       "\"\"\""
      ]
     },
     "execution_count": 1005,
     "metadata": {},
     "output_type": "execute_result"
    }
   ],
   "source": [
    "tst = smf.ols(formula = \"oscar_noms ~ new_genre\", data=train).fit()\n",
    "tst.summary()"
   ]
  },
  {
   "cell_type": "markdown",
   "metadata": {},
   "source": [
    "### set up validation"
   ]
  },
  {
   "cell_type": "code",
   "execution_count": 949,
   "metadata": {
    "collapsed": false
   },
   "outputs": [],
   "source": [
    "# get model using skl\n",
    "def format_skl(cat_features, cont_features, ind, data):\n",
    "    '''Format df for use in skl linear regression.\n",
    "    Args:\n",
    "    cat_features (list) -- list of column names of categorical features\n",
    "    cont_features (list) -- list of column names of continuous features\n",
    "    ind (str) - name of dependent var to predict\n",
    "    data (df) - dataset to use\n",
    "    '''\n",
    "    vals = cat_features + cont_features + [ind] # get list of all columns being used in model\n",
    "    data.dropna(subset = vals, inplace = True) # drop rows with NaN in any column \n",
    "    cats = data[cat_features] # get df with categorial columns\n",
    "    dummies = pd.get_dummies(cats) # get df with dummies for categorical vars \n",
    "    # need to drop one dummy for each cat -- automatically drops anything with \"other\" \n",
    "    keep_dummy = [c for c in dummies.columns if 'other' not in c.lower()] \n",
    "    dummies = dummies[keep_dummy]\n",
    "    conts = data[cont_features]\n",
    "    X = pd.concat([conts, dummies], axis=1)\n",
    "    y = data[ind]\n",
    "    return X, y\n",
    "\n",
    "def regress_skl(X, y):  \n",
    "    '''Fit linear regression model using skl.'''\n",
    "    # fit model\n",
    "    m = LinearRegression()\n",
    "    m.fit(X, y)\n",
    "    coefs = zip(X.columns, m.coef_)\n",
    "    rsq = m.score(X, y)\n",
    "    intercept = m.intercept_\n",
    "    print 'rsquared: ', rsq\n",
    "    print 'intercept: ', intercept\n",
    "    print 'coefs: ', coefs\n",
    "    return m"
   ]
  },
  {
   "cell_type": "code",
   "execution_count": 1010,
   "metadata": {
    "collapsed": false
   },
   "outputs": [],
   "source": [
    "cont_features = ['theaters', 'runtime_mins']\n",
    "cat_features = ['r_rating', 'hw_season']\n",
    "ind = 'oscar_noms'"
   ]
  },
  {
   "cell_type": "code",
   "execution_count": 1011,
   "metadata": {
    "collapsed": true
   },
   "outputs": [
    {
     "name": "stderr",
     "output_type": "stream",
     "text": [
      "/anaconda/lib/python2.7/site-packages/ipykernel/__main__.py:11: SettingWithCopyWarning: \n",
      "A value is trying to be set on a copy of a slice from a DataFrame\n",
      "\n",
      "See the caveats in the documentation: http://pandas.pydata.org/pandas-docs/stable/indexing.html#indexing-view-versus-copy\n"
     ]
    }
   ],
   "source": [
    "X, y = format_skl(cat_features, cont_features, ind, train)"
   ]
  },
  {
   "cell_type": "code",
   "execution_count": 1012,
   "metadata": {
    "collapsed": false
   },
   "outputs": [
    {
     "name": "stdout",
     "output_type": "stream",
     "text": [
      "rsquared:  0.135180564751\n",
      "intercept:  -1.4885062651\n",
      "coefs:  [('theaters', 5.8330889720850975e-05), ('runtime_mins', 0.014787553170840023), ('r_rating_R', 0.28340242127491694), ('hw_season_holiday', 0.93526276926526763), ('hw_season_winter', -0.20528240742474166)]\n"
     ]
    }
   ],
   "source": [
    "m2 = regress_skl(X, y)"
   ]
  },
  {
   "cell_type": "code",
   "execution_count": 1013,
   "metadata": {
    "collapsed": false
   },
   "outputs": [
    {
     "name": "stderr",
     "output_type": "stream",
     "text": [
      "/anaconda/lib/python2.7/site-packages/ipykernel/__main__.py:11: SettingWithCopyWarning: \n",
      "A value is trying to be set on a copy of a slice from a DataFrame\n",
      "\n",
      "See the caveats in the documentation: http://pandas.pydata.org/pandas-docs/stable/indexing.html#indexing-view-versus-copy\n"
     ]
    }
   ],
   "source": [
    "# format validation set \n",
    "X_val, y_val = format_skl(cat_features, cont_features, ind, val)"
   ]
  },
  {
   "cell_type": "markdown",
   "metadata": {},
   "source": [
    "### genres?"
   ]
  },
  {
   "cell_type": "code",
   "execution_count": 997,
   "metadata": {
    "collapsed": false
   },
   "outputs": [
    {
     "data": {
      "text/plain": [
       "Comedy            211\n",
       "Drama             135\n",
       "Horror             98\n",
       "Romance            76\n",
       "Crime_Thriller     76\n",
       "None               48\n",
       "Act_Adven          47\n",
       "Historical         44\n",
       "Foreign            28\n",
       "Fantasy_Scifi      27\n",
       "Family             26\n",
       "Musical            23\n",
       "Sports             19\n",
       "Animation          16\n",
       "Documentary        12\n",
       "Western             5\n",
       "War                 4\n",
       "Other               4\n",
       "Name: new_genre, dtype: int64"
      ]
     },
     "execution_count": 997,
     "metadata": {},
     "output_type": "execute_result"
    }
   ],
   "source": [
    "train.new_genre.value_counts()"
   ]
  },
  {
   "cell_type": "code",
   "execution_count": 992,
   "metadata": {
    "collapsed": false
   },
   "outputs": [
    {
     "data": {
      "text/plain": [
       "other         636\n",
       "Drama         135\n",
       "Act_Adven      47\n",
       "Historical     44\n",
       "Foreign        28\n",
       "Western         5\n",
       "War             4\n",
       "Name: recat_genre, dtype: int64"
      ]
     },
     "execution_count": 992,
     "metadata": {},
     "output_type": "execute_result"
    }
   ],
   "source": [
    "train.recat_genre.value_counts()"
   ]
  },
  {
   "cell_type": "code",
   "execution_count": 994,
   "metadata": {
    "collapsed": false
   },
   "outputs": [
    {
     "data": {
      "text/plain": [
       "other        63\n",
       "Drama        14\n",
       "Act_Adven    10\n",
       "Foreign       3\n",
       "Name: recat_genre, dtype: int64"
      ]
     },
     "execution_count": 994,
     "metadata": {},
     "output_type": "execute_result"
    }
   ],
   "source": [
    "val.recat_genre.value_counts()"
   ]
  },
  {
   "cell_type": "code",
   "execution_count": 993,
   "metadata": {
    "collapsed": false
   },
   "outputs": [
    {
     "data": {
      "text/plain": [
       "other        61\n",
       "Drama        26\n",
       "Act_Adven     7\n",
       "War           1\n",
       "Name: recat_genre, dtype: int64"
      ]
     },
     "execution_count": 993,
     "metadata": {},
     "output_type": "execute_result"
    }
   ],
   "source": [
    "test.recat_genre.value_counts()"
   ]
  },
  {
   "cell_type": "code",
   "execution_count": 1036,
   "metadata": {
    "collapsed": false
   },
   "outputs": [],
   "source": [
    "def validate(model, X_val, y_val):\n",
    "    '''Generate predicted values for validation set.\n",
    "    Returns mean squared error. \n",
    "    Args:\n",
    "    model -- fitted linear regression model to use for predictions\n",
    "    y (var) -- name of y column\n",
    "    data (df) -- validation dataset\n",
    "    '''\n",
    "    y_pred = model.predict(X_val)\n",
    "    resid = y_val - y_pred\n",
    "#     sse = sum((y_val - y_pred)**2)\n",
    "#     mse = sse / len(y_val)\n",
    "    mse = mean_squared_error(y_val, y_pred)\n",
    "    return resid, mse"
   ]
  },
  {
   "cell_type": "markdown",
   "metadata": {},
   "source": [
    "#### model 2. optimized"
   ]
  },
  {
   "cell_type": "code",
   "execution_count": 1038,
   "metadata": {
    "collapsed": false
   },
   "outputs": [],
   "source": [
    "# test cross validation set \n",
    "vresid, vmse = validate(m2, X_val, y_val)"
   ]
  },
  {
   "cell_type": "code",
   "execution_count": 1039,
   "metadata": {
    "collapsed": true
   },
   "outputs": [],
   "source": [
    "train_resid, train_mse = validate(m2, X, y)"
   ]
  },
  {
   "cell_type": "code",
   "execution_count": 1041,
   "metadata": {
    "collapsed": false
   },
   "outputs": [
    {
     "name": "stdout",
     "output_type": "stream",
     "text": [
      "2.37069745617 1.55193641358\n"
     ]
    }
   ],
   "source": [
    "print vmse, train_mse"
   ]
  },
  {
   "cell_type": "code",
   "execution_count": 1043,
   "metadata": {
    "collapsed": false
   },
   "outputs": [
    {
     "data": {
      "image/png": "[encoded data removed]",
      "text/plain": [
       "<matplotlib.figure.Figure at 0x116490510>"
      ]
     },
     "metadata": {},
     "output_type": "display_data"
    }
   ],
   "source": [
    "# qq plot - validation set\n",
    "stats.probplot(vresid, dist=\"norm\", plot=plt)\n",
    "plt.show()"
   ]
  },
  {
   "cell_type": "code",
   "execution_count": 1044,
   "metadata": {
    "collapsed": false
   },
   "outputs": [
    {
     "data": {
      "image/png": "[encoded data removed]",
      "text/plain": [
       "<matplotlib.figure.Figure at 0x119bb7990>"
      ]
     },
     "metadata": {},
     "output_type": "display_data"
    }
   ],
   "source": [
    "stats.probplot(train_resid, dist=\"norm\", plot=plt)\n",
    "plt.show()"
   ]
  },
  {
   "cell_type": "code",
   "execution_count": 1049,
   "metadata": {
    "collapsed": true
   },
   "outputs": [
    {
     "data": {
      "text/plain": [
       "(array([ 17.,  64.,   2.,   0.,   1.,   2.,   2.,   0.,   1.,   1.]),\n",
       " array([-1.65329376, -0.67272643,  0.3078409 ,  1.28840823,  2.26897556,\n",
       "         3.24954289,  4.23011022,  5.21067755,  6.19124488,  7.17181221,\n",
       "         8.15237954]),\n",
       " <a list of 10 Patch objects>)"
      ]
     },
     "execution_count": 1049,
     "metadata": {},
     "output_type": "execute_result"
    },
    {
     "data": {
      "image/png": "[encoded data removed]",
      "text/plain": [
       "<matplotlib.figure.Figure at 0x116d74790>"
      ]
     },
     "metadata": {},
     "output_type": "display_data"
    }
   ],
   "source": [
    "plt.hist(list(vresid))"
   ]
  },
  {
   "cell_type": "markdown",
   "metadata": {},
   "source": [
    "#### model 3. oscars log model with theaters"
   ]
  },
  {
   "cell_type": "code",
   "execution_count": 1063,
   "metadata": {
    "collapsed": false,
    "scrolled": true
   },
   "outputs": [
    {
     "name": "stdout",
     "output_type": "stream",
     "text": [
      "rsquared:  0.154382272501\n",
      "intercept:  -1.70383649117\n",
      "coefs:  [('theaters', 3.5662181929102237e-07), ('runtime_mins', 0.0076582484230571669), ('r_rating_R', 0.1542264336259159), ('hw_season_holiday', 0.47984808805320261), ('hw_season_winter', -0.11783258360243239)]\n"
     ]
    },
    {
     "name": "stderr",
     "output_type": "stream",
     "text": [
      "/anaconda/lib/python2.7/site-packages/ipykernel/__main__.py:11: SettingWithCopyWarning: \n",
      "A value is trying to be set on a copy of a slice from a DataFrame\n",
      "\n",
      "See the caveats in the documentation: http://pandas.pydata.org/pandas-docs/stable/indexing.html#indexing-view-versus-copy\n"
     ]
    }
   ],
   "source": [
    "# train log oscar noms model\n",
    "ind_log = 'oscar_noms_log'\n",
    "Xlog, ylog = format_skl(cat_features, cont_features, ind_log, train)\n",
    "olog_model = regress_skl(Xlog, ylog)"
   ]
  },
  {
   "cell_type": "code",
   "execution_count": 1069,
   "metadata": {
    "collapsed": false
   },
   "outputs": [
    {
     "name": "stderr",
     "output_type": "stream",
     "text": [
      "/anaconda/lib/python2.7/site-packages/ipykernel/__main__.py:11: SettingWithCopyWarning: \n",
      "A value is trying to be set on a copy of a slice from a DataFrame\n",
      "\n",
      "See the caveats in the documentation: http://pandas.pydata.org/pandas-docs/stable/indexing.html#indexing-view-versus-copy\n"
     ]
    }
   ],
   "source": [
    "# format and test validation set\n",
    "Xval, yval = format_skl(cat_features, cont_features, ind_log, val)\n",
    "vresid2, vmse2 = validate(olog_model, Xval, yval)"
   ]
  },
  {
   "cell_type": "code",
   "execution_count": 1068,
   "metadata": {
    "collapsed": false
   },
   "outputs": [
    {
     "data": {
      "image/png": "[encoded data removed]",
      "text/plain": [
       "<matplotlib.figure.Figure at 0x11666a450>"
      ]
     },
     "metadata": {},
     "output_type": "display_data"
    }
   ],
   "source": [
    "stats.probplot(vresid2, dist=\"norm\", plot=plt)\n",
    "plt.show()"
   ]
  },
  {
   "cell_type": "code",
   "execution_count": 1072,
   "metadata": {
    "collapsed": false
   },
   "outputs": [],
   "source": [
    "# test on training set \n",
    "trresid2, trmse2 = validate(olog_model, Xlog, ylog)"
   ]
  },
  {
   "cell_type": "code",
   "execution_count": 1073,
   "metadata": {
    "collapsed": false
   },
   "outputs": [
    {
     "data": {
      "image/png": "[encoded data removed]",
      "text/plain": [
       "<matplotlib.figure.Figure at 0x118d4c590>"
      ]
     },
     "metadata": {},
     "output_type": "display_data"
    }
   ],
   "source": [
    "stats.probplot(trresid2, dist=\"norm\", plot=plt)\n",
    "plt.show()"
   ]
  },
  {
   "cell_type": "code",
   "execution_count": 1080,
   "metadata": {
    "collapsed": false
   },
   "outputs": [
    {
     "name": "stdout",
     "output_type": "stream",
     "text": [
      "mse of training set:  0.374973511489\n",
      "mse of validation set:  0.447831746675\n"
     ]
    }
   ],
   "source": [
    "print 'mse of training set: ', trmse2\n",
    "print 'mse of validation set: ', vmse2"
   ]
  },
  {
   "cell_type": "markdown",
   "metadata": {},
   "source": [
    "#### model 4. oscars log model without theaters"
   ]
  },
  {
   "cell_type": "code",
   "execution_count": 1081,
   "metadata": {
    "collapsed": true
   },
   "outputs": [],
   "source": [
    "# X, y \n",
    "cont_features4 = ['runtime_mins']\n",
    "cat_features4 = ['r_rating', 'hw_season']\n",
    "ind4 = 'oscar_noms_log'"
   ]
  },
  {
   "cell_type": "code",
   "execution_count": 1084,
   "metadata": {
    "collapsed": false
   },
   "outputs": [
    {
     "name": "stderr",
     "output_type": "stream",
     "text": [
      "/anaconda/lib/python2.7/site-packages/ipykernel/__main__.py:11: SettingWithCopyWarning: \n",
      "A value is trying to be set on a copy of a slice from a DataFrame\n",
      "\n",
      "See the caveats in the documentation: http://pandas.pydata.org/pandas-docs/stable/indexing.html#indexing-view-versus-copy\n"
     ]
    }
   ],
   "source": [
    "# format\n",
    "X_tr4, y_tr4 = format_skl(cat_features4, cont_features4, ind4, train)\n",
    "X_val4, y_val4 = format_skl(cat_features4, cont_features4, ind4, val)"
   ]
  },
  {
   "cell_type": "code",
   "execution_count": 1085,
   "metadata": {
    "collapsed": false
   },
   "outputs": [
    {
     "name": "stdout",
     "output_type": "stream",
     "text": [
      "rsquared:  0.154381978606\n",
      "intercept:  -1.7028493958\n",
      "coefs:  [('runtime_mins', 0.0076538139351256494), ('r_rating_R', 0.15410500078321282), ('hw_season_holiday', 0.47982543874464745), ('hw_season_winter', -0.11776036468517434)]\n"
     ]
    }
   ],
   "source": [
    "model4 = regress_skl(X_tr4, y_tr4)"
   ]
  },
  {
   "cell_type": "code",
   "execution_count": 1086,
   "metadata": {
    "collapsed": true
   },
   "outputs": [],
   "source": [
    "resid_tr4, mse_tr4 = validate(model4, X_tr4, y_tr4)\n",
    "resid_val4, mse_val4 = validate(model4, X_val4, y_val4)"
   ]
  },
  {
   "cell_type": "code",
   "execution_count": 1089,
   "metadata": {
    "collapsed": false
   },
   "outputs": [
    {
     "data": {
      "image/png": "[encoded data removed]",
      "text/plain": [
       "<matplotlib.figure.Figure at 0x116525950>"
      ]
     },
     "metadata": {},
     "output_type": "display_data"
    }
   ],
   "source": [
    "stats.probplot(resid_tr4, dist=\"norm\", plot=plt)\n",
    "plt.savefig('model4-qq.png')\n",
    "plt.show()"
   ]
  },
  {
   "cell_type": "code",
   "execution_count": 1087,
   "metadata": {
    "collapsed": false
   },
   "outputs": [
    {
     "name": "stdout",
     "output_type": "stream",
     "text": [
      "mse of training set:  0.374973641812\n",
      "mse of validation set:  0.447739874817\n"
     ]
    }
   ],
   "source": [
    "print 'mse of training set: ', mse_tr4\n",
    "print 'mse of validation set: ', mse_val4"
   ]
  },
  {
   "cell_type": "markdown",
   "metadata": {},
   "source": [
    "#### begin workspace for testing genre categorization"
   ]
  },
  {
   "cell_type": "code",
   "execution_count": 18,
   "metadata": {
    "collapsed": false
   },
   "outputs": [
    {
     "name": "stdout",
     "output_type": "stream",
     "text": [
      "('Action', 'Action / Adventure', 'Action / Crime', 'Action Comedy', 'Action Drama', 'Action Fantasy', 'Action Horror', 'Action Thriller', 'Adventure', 'Adventure Comedy', 'Animation', 'Comedy', 'Comedy / Drama', 'Comedy Thriller', 'Concert', 'Crime', 'Crime Comedy', 'Crime Drama', 'Crime Thriller', 'Documentary', 'Drama', 'Drama / Thriller', 'Family', 'Family Adventure', 'Family Comedy', 'Fantasy', 'Fantasy Comedy', 'Fantasy Drama', 'Foreign', 'Foreign / Action', 'Foreign / Horror', 'Historical Drama', 'Historical Epic', 'Horror', 'Horror Comedy', 'Horror Thriller', 'IMAX', 'Music Drama', 'Musical', 'None', 'Period Action', 'Period Adventure', 'Period Comedy', 'Period Drama', 'Period Horror', 'Romance', 'Romantic Adventure', 'Romantic Comedy', 'Romantic Thriller', 'Sci-Fi', 'Sci-Fi Action', 'Sci-Fi Adventure', 'Sci-Fi Comedy', 'Sci-Fi Fantasy', 'Sci-Fi Horror', 'Sci-Fi Thriller', 'Sports', 'Sports Action', 'Sports Comedy', 'Sports Drama', 'Thriller', 'Unknown', 'War', 'War Drama', 'War Romance', 'Western', 'Western Comedy')\n"
     ]
    }
   ],
   "source": [
    "# original genre categories\n",
    "raw_genres = tuple(by_genre.count().index)\n",
    "print raw_genres"
   ]
  },
  {
   "cell_type": "code",
   "execution_count": 33,
   "metadata": {
    "collapsed": false
   },
   "outputs": [
    {
     "name": "stdout",
     "output_type": "stream",
     "text": [
      "67\n"
     ]
    }
   ],
   "source": [
    "print len(raw_genres)"
   ]
  },
  {
   "cell_type": "code",
   "execution_count": 626,
   "metadata": {
    "collapsed": false
   },
   "outputs": [],
   "source": [
    "# code simple genres \n",
    "simple_genres = ['Act_Adven', 'Act_Adven', 'Act_Adven', 'Act_Adven', 'Act_Adven', 'Act_Adven', \n",
    "                 'Act_Adven', 'Act_Adven', 'Act_Adven', 'Act_Adven', \n",
    "                 'Animation', 'Comedy', 'Comedy', 'Comedy', 'Other', \n",
    "                 'Crime_Thriller', 'Crime_Thriller', 'Crime_Thriller', 'Crime_Thriller', \n",
    "                 'Documentary', 'Drama', 'Drama', 'Family', 'Family', 'Family', 'Fantasy_Scifi', 'Fantasy_Scifi', \n",
    "                 'Fantasy_Scifi', 'Foreign', 'Foreign', 'Foreign', 'Historical', 'Historical', \n",
    "                 'Horror', 'Horror', 'Horror', 'Other', 'Musical', 'Musical', 'None', \n",
    "                 'Historical', 'Historical', 'Historical', 'Historical', 'Historical', \n",
    "                 'Romance', 'Romance', 'Romance', 'Romance', 'Fantasy_Scifi', 'Fantasy_Scifi', \n",
    "                 'Fantasy_Scifi', 'Fantasy_Scifi', 'Fantasy_Scifi', 'Fantasy_Scifi', \n",
    "                 'Fantasy_Scifi', 'Sports', 'Sports', 'Sports', 'Sports',  'Crime_Thriller', \n",
    "                 'None', 'War', 'War', 'War', 'Western', 'Western']"
   ]
  },
  {
   "cell_type": "code",
   "execution_count": 627,
   "metadata": {
    "collapsed": false
   },
   "outputs": [
    {
     "name": "stdout",
     "output_type": "stream",
     "text": [
      "set(['Romance', 'None', 'Family', 'Sports', 'Horror', 'Other', 'Act_Adven', 'Foreign', 'Drama', 'Animation', 'War', 'Western', 'Historical', 'Crime_Thriller', 'Fantasy_Scifi', 'Comedy', 'Documentary', 'Musical'])\n",
      "18\n"
     ]
    }
   ],
   "source": [
    "# count how many genres\n",
    "print set(simple_genres)\n",
    "print len(set(simple_genres))"
   ]
  },
  {
   "cell_type": "code",
   "execution_count": 628,
   "metadata": {
    "collapsed": true
   },
   "outputs": [],
   "source": [
    "genres = dict(zip(raw_genres, simple_genres))"
   ]
  },
  {
   "cell_type": "code",
   "execution_count": 629,
   "metadata": {
    "collapsed": false
   },
   "outputs": [
    {
     "name": "stdout",
     "output_type": "stream",
     "text": [
      "{'Action': 'Act_Adven',\n",
      " 'Action / Adventure': 'Act_Adven',\n",
      " 'Action / Crime': 'Act_Adven',\n",
      " 'Action Comedy': 'Act_Adven',\n",
      " 'Action Drama': 'Act_Adven',\n",
      " 'Action Fantasy': 'Act_Adven',\n",
      " 'Action Horror': 'Act_Adven',\n",
      " 'Action Thriller': 'Act_Adven',\n",
      " 'Adventure': 'Act_Adven',\n",
      " 'Adventure Comedy': 'Act_Adven',\n",
      " 'Animation': 'Animation',\n",
      " 'Comedy': 'Comedy',\n",
      " 'Comedy / Drama': 'Comedy',\n",
      " 'Comedy Thriller': 'Comedy',\n",
      " 'Concert': 'Other',\n",
      " 'Crime': 'Crime_Thriller',\n",
      " 'Crime Comedy': 'Crime_Thriller',\n",
      " 'Crime Drama': 'Crime_Thriller',\n",
      " 'Crime Thriller': 'Crime_Thriller',\n",
      " 'Documentary': 'Documentary',\n",
      " 'Drama': 'Drama',\n",
      " 'Drama / Thriller': 'Drama',\n",
      " 'Family': 'Family',\n",
      " 'Family Adventure': 'Family',\n",
      " 'Family Comedy': 'Family',\n",
      " 'Fantasy': 'Fantasy_Scifi',\n",
      " 'Fantasy Comedy': 'Fantasy_Scifi',\n",
      " 'Fantasy Drama': 'Fantasy_Scifi',\n",
      " 'Foreign': 'Foreign',\n",
      " 'Foreign / Action': 'Foreign',\n",
      " 'Foreign / Horror': 'Foreign',\n",
      " 'Historical Drama': 'Historical',\n",
      " 'Historical Epic': 'Historical',\n",
      " 'Horror': 'Horror',\n",
      " 'Horror Comedy': 'Horror',\n",
      " 'Horror Thriller': 'Horror',\n",
      " 'IMAX': 'Other',\n",
      " 'Music Drama': 'Musical',\n",
      " 'Musical': 'Musical',\n",
      " 'None': 'None',\n",
      " 'Period Action': 'Historical',\n",
      " 'Period Adventure': 'Historical',\n",
      " 'Period Comedy': 'Historical',\n",
      " 'Period Drama': 'Historical',\n",
      " 'Period Horror': 'Historical',\n",
      " 'Romance': 'Romance',\n",
      " 'Romantic Adventure': 'Romance',\n",
      " 'Romantic Comedy': 'Romance',\n",
      " 'Romantic Thriller': 'Romance',\n",
      " 'Sci-Fi': 'Fantasy_Scifi',\n",
      " 'Sci-Fi Action': 'Fantasy_Scifi',\n",
      " 'Sci-Fi Adventure': 'Fantasy_Scifi',\n",
      " 'Sci-Fi Comedy': 'Fantasy_Scifi',\n",
      " 'Sci-Fi Fantasy': 'Fantasy_Scifi',\n",
      " 'Sci-Fi Horror': 'Fantasy_Scifi',\n",
      " 'Sci-Fi Thriller': 'Fantasy_Scifi',\n",
      " 'Sports': 'Sports',\n",
      " 'Sports Action': 'Sports',\n",
      " 'Sports Comedy': 'Sports',\n",
      " 'Sports Drama': 'Sports',\n",
      " 'Thriller': 'Crime_Thriller',\n",
      " 'Unknown': 'None',\n",
      " 'War': 'War',\n",
      " 'War Drama': 'War',\n",
      " 'War Romance': 'War',\n",
      " 'Western': 'Western',\n",
      " 'Western Comedy': 'Western'}\n"
     ]
    }
   ],
   "source": [
    "pprint(genres)"
   ]
  },
  {
   "cell_type": "markdown",
   "metadata": {},
   "source": [
    "#### </ end genre testing workspace >"
   ]
  },
  {
   "cell_type": "code",
   "execution_count": 93,
   "metadata": {
    "collapsed": false
   },
   "outputs": [
    {
     "data": {
      "text/html": [
       "<div>\n",
       "<table border=\"1\" class=\"dataframe\">\n",
       "  <thead>\n",
       "    <tr style=\"text-align: right;\">\n",
       "      <th></th>\n",
       "      <th>1-title</th>\n",
       "      <th>2-release_date</th>\n",
       "      <th>3-closing_date</th>\n",
       "      <th>actors</th>\n",
       "      <th>budget</th>\n",
       "      <th>director</th>\n",
       "      <th>distributor</th>\n",
       "      <th>dom_total_gross</th>\n",
       "      <th>intl_total_gross</th>\n",
       "      <th>oscar_noms</th>\n",
       "      <th>...</th>\n",
       "      <th>genre_Romantic Thriller</th>\n",
       "      <th>genre_Sci-Fi Action</th>\n",
       "      <th>genre_Sci-Fi Horror</th>\n",
       "      <th>genre_Sci-Fi Thriller</th>\n",
       "      <th>genre_Sports Comedy</th>\n",
       "      <th>genre_Sports Drama</th>\n",
       "      <th>genre_Thriller</th>\n",
       "      <th>genre_Unknown</th>\n",
       "      <th>genre_War</th>\n",
       "      <th>genre_Western</th>\n",
       "    </tr>\n",
       "  </thead>\n",
       "  <tbody>\n",
       "    <tr>\n",
       "      <th>123</th>\n",
       "      <td>Affliction</td>\n",
       "      <td>1998-12-30</td>\n",
       "      <td>NaT</td>\n",
       "      <td>[Willem Dafoe]</td>\n",
       "      <td>6000000</td>\n",
       "      <td>[Paul Schrader]</td>\n",
       "      <td>Lions Gate</td>\n",
       "      <td>6330054</td>\n",
       "      <td>NaN</td>\n",
       "      <td>2</td>\n",
       "      <td>...</td>\n",
       "      <td>0</td>\n",
       "      <td>0</td>\n",
       "      <td>0</td>\n",
       "      <td>0</td>\n",
       "      <td>0</td>\n",
       "      <td>0</td>\n",
       "      <td>0</td>\n",
       "      <td>0</td>\n",
       "      <td>0</td>\n",
       "      <td>0</td>\n",
       "    </tr>\n",
       "    <tr>\n",
       "      <th>200</th>\n",
       "      <td>Airplane!</td>\n",
       "      <td>1980-06-27</td>\n",
       "      <td>NaT</td>\n",
       "      <td>[Leslie Nielsen]</td>\n",
       "      <td>3500000</td>\n",
       "      <td>[Jim Abrahams, David Zucker, Jerry Zucker]</td>\n",
       "      <td>Paramount</td>\n",
       "      <td>83453539</td>\n",
       "      <td>NaN</td>\n",
       "      <td>0</td>\n",
       "      <td>...</td>\n",
       "      <td>0</td>\n",
       "      <td>0</td>\n",
       "      <td>0</td>\n",
       "      <td>0</td>\n",
       "      <td>0</td>\n",
       "      <td>0</td>\n",
       "      <td>0</td>\n",
       "      <td>0</td>\n",
       "      <td>0</td>\n",
       "      <td>0</td>\n",
       "    </tr>\n",
       "    <tr>\n",
       "      <th>207</th>\n",
       "      <td>Akeelah and the Bee</td>\n",
       "      <td>2006-04-28</td>\n",
       "      <td>2006-07-20</td>\n",
       "      <td>[Laurence Fishburne, Angela Bassett, Keke Palmer]</td>\n",
       "      <td>8000000</td>\n",
       "      <td>None</td>\n",
       "      <td>Lionsgate</td>\n",
       "      <td>18848430</td>\n",
       "      <td>18948425</td>\n",
       "      <td>0</td>\n",
       "      <td>...</td>\n",
       "      <td>0</td>\n",
       "      <td>0</td>\n",
       "      <td>0</td>\n",
       "      <td>0</td>\n",
       "      <td>0</td>\n",
       "      <td>0</td>\n",
       "      <td>0</td>\n",
       "      <td>0</td>\n",
       "      <td>0</td>\n",
       "      <td>0</td>\n",
       "    </tr>\n",
       "    <tr>\n",
       "      <th>223</th>\n",
       "      <td>Albino Alligator</td>\n",
       "      <td>1997-01-17</td>\n",
       "      <td>1997-02-13</td>\n",
       "      <td>[Matt Dillon, Viggo Mortensen]</td>\n",
       "      <td>6000000</td>\n",
       "      <td>None</td>\n",
       "      <td>Miramax</td>\n",
       "      <td>339379</td>\n",
       "      <td>NaN</td>\n",
       "      <td>0</td>\n",
       "      <td>...</td>\n",
       "      <td>0</td>\n",
       "      <td>0</td>\n",
       "      <td>0</td>\n",
       "      <td>0</td>\n",
       "      <td>0</td>\n",
       "      <td>0</td>\n",
       "      <td>0</td>\n",
       "      <td>1</td>\n",
       "      <td>0</td>\n",
       "      <td>0</td>\n",
       "    </tr>\n",
       "    <tr>\n",
       "      <th>289</th>\n",
       "      <td>All or Nothing</td>\n",
       "      <td>2002-10-25</td>\n",
       "      <td>NaT</td>\n",
       "      <td>[Taraji P. Henson, Sally Hawkins]</td>\n",
       "      <td>9000000</td>\n",
       "      <td>[Mike Leigh]</td>\n",
       "      <td>United Artists</td>\n",
       "      <td>201546</td>\n",
       "      <td>201546</td>\n",
       "      <td>0</td>\n",
       "      <td>...</td>\n",
       "      <td>0</td>\n",
       "      <td>0</td>\n",
       "      <td>0</td>\n",
       "      <td>0</td>\n",
       "      <td>0</td>\n",
       "      <td>0</td>\n",
       "      <td>0</td>\n",
       "      <td>1</td>\n",
       "      <td>0</td>\n",
       "      <td>0</td>\n",
       "    </tr>\n",
       "  </tbody>\n",
       "</table>\n",
       "<p>5 rows × 64 columns</p>\n",
       "</div>"
      ],
      "text/plain": [
       "                 1-title 2-release_date 3-closing_date  \\\n",
       "123           Affliction     1998-12-30            NaT   \n",
       "200            Airplane!     1980-06-27            NaT   \n",
       "207  Akeelah and the Bee     2006-04-28     2006-07-20   \n",
       "223     Albino Alligator     1997-01-17     1997-02-13   \n",
       "289       All or Nothing     2002-10-25            NaT   \n",
       "\n",
       "                                                actors   budget  \\\n",
       "123                                     [Willem Dafoe]  6000000   \n",
       "200                                   [Leslie Nielsen]  3500000   \n",
       "207  [Laurence Fishburne, Angela Bassett, Keke Palmer]  8000000   \n",
       "223                     [Matt Dillon, Viggo Mortensen]  6000000   \n",
       "289                  [Taraji P. Henson, Sally Hawkins]  9000000   \n",
       "\n",
       "                                       director     distributor  \\\n",
       "123                             [Paul Schrader]      Lions Gate   \n",
       "200  [Jim Abrahams, David Zucker, Jerry Zucker]       Paramount   \n",
       "207                                        None       Lionsgate   \n",
       "223                                        None         Miramax   \n",
       "289                                [Mike Leigh]  United Artists   \n",
       "\n",
       "     dom_total_gross  intl_total_gross  oscar_noms      ...        \\\n",
       "123          6330054               NaN           2      ...         \n",
       "200         83453539               NaN           0      ...         \n",
       "207         18848430          18948425           0      ...         \n",
       "223           339379               NaN           0      ...         \n",
       "289           201546            201546           0      ...         \n",
       "\n",
       "     genre_Romantic Thriller genre_Sci-Fi Action genre_Sci-Fi Horror  \\\n",
       "123                        0                   0                   0   \n",
       "200                        0                   0                   0   \n",
       "207                        0                   0                   0   \n",
       "223                        0                   0                   0   \n",
       "289                        0                   0                   0   \n",
       "\n",
       "     genre_Sci-Fi Thriller  genre_Sports Comedy genre_Sports Drama  \\\n",
       "123                      0                    0                  0   \n",
       "200                      0                    0                  0   \n",
       "207                      0                    0                  0   \n",
       "223                      0                    0                  0   \n",
       "289                      0                    0                  0   \n",
       "\n",
       "    genre_Thriller  genre_Unknown  genre_War  genre_Western  \n",
       "123              0              0          0              0  \n",
       "200              0              0          0              0  \n",
       "207              0              0          0              0  \n",
       "223              0              1          0              0  \n",
       "289              0              1          0              0  \n",
       "\n",
       "[5 rows x 64 columns]"
      ]
     },
     "execution_count": 93,
     "metadata": {},
     "output_type": "execute_result"
    }
   ],
   "source": [
    "pd.get_dummies(newer_movies, columns = ['genre']).head()"
   ]
  },
  {
   "cell_type": "code",
   "execution_count": null,
   "metadata": {
    "collapsed": true
   },
   "outputs": [],
   "source": []
  }
 ],
 "metadata": {
  "kernelspec": {
   "display_name": "Python 2",
   "language": "python",
   "name": "python2"
  },
  "language_info": {
   "codemirror_mode": {
    "name": "ipython",
    "version": 2
   },
   "file_extension": ".py",
   "mimetype": "text/x-python",
   "name": "python",
   "nbconvert_exporter": "python",
   "pygments_lexer": "ipython2",
   "version": "2.7.11"
  }
 },
 "nbformat": 4,
 "nbformat_minor": 0
}

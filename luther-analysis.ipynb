{
 "cells": [
  {
   "cell_type": "markdown",
   "metadata": {},
   "source": [
    "**Question/need:** Can we predict the success (gross revenues, revenues per budget dollar, and/or oscar nominations) of proposed low-budget films (< $10 million) based on its characteristics? Are there different predictive characteristics for success in terms of gross revenues vs. oscar nominations? \n",
    "\n",
    "**Movie data:** I'm planning on using all movies (1980 - 2016) from boxofficemojo to investigate the impact of various characteristics on success. If I have time, I would also like to incorporate other variables, such as google searches and wikipedia page views, as well as critic and general public rating information from rottentomatoes. \n",
    "\n",
    "**Characteristics of each movie and/or other entities:** I'd like to investigate as many characteristics as possible during my first pass to determine which ones have the greatest predictive impact, and then dig in deeper to these characteristics. The features I'm most interested in are: genre, release date (month, if before a holiday weekend, if during Christmas holiday, if during summer), star power (a score that accounts for actors, director, and producers), production budget, and if there the movie has some preexisting popularity, either through a novel/play adaptation or if there's a prequel. I'll also investigate other features such as runtime, rating, and franchise, but I have a hunch that these will have a smaller impact. "
   ]
  },
  {
   "cell_type": "code",
   "execution_count": 542,
   "metadata": {
    "collapsed": false
   },
   "outputs": [
    {
     "data": {
      "text/plain": [
       "'TO DOS:\\n- clean up genres and rating\\n- adjust budget for inflation'"
      ]
     },
     "execution_count": 542,
     "metadata": {},
     "output_type": "execute_result"
    }
   ],
   "source": [
    "'''TO DOS:\n",
    "- clean up genres and rating\n",
    "- adjust budget for inflation'''"
   ]
  },
  {
   "cell_type": "code",
   "execution_count": 543,
   "metadata": {
    "collapsed": false
   },
   "outputs": [],
   "source": [
    "# storing\n",
    "import pickle\n",
    "\n",
    "# exploratory analysis\n",
    "import pandas as pd\n",
    "import numpy as np\n",
    "import matplotlib.pyplot as plt\n",
    "import seaborn as sns\n",
    "from datetime import datetime\n",
    "\n",
    "# regression\n",
    "from patsy import dmatrices\n",
    "import statsmodels.api as sm\n",
    "import statsmodels.formula.api as smf\n",
    "from sklearn.linear_model import LinearRegression\n",
    "from sklearn import cross_validation\n",
    "\n",
    "from pprint import pprint\n",
    "\n",
    "%matplotlib inline"
   ]
  },
  {
   "cell_type": "markdown",
   "metadata": {},
   "source": [
    "### parse data"
   ]
  },
  {
   "cell_type": "markdown",
   "metadata": {},
   "source": [
    "First, let's load the movie data into a dataframe and check the quality of our data."
   ]
  },
  {
   "cell_type": "code",
   "execution_count": 544,
   "metadata": {
    "collapsed": false
   },
   "outputs": [],
   "source": [
    "with open('pickled_data/all-movies-data.pkl', 'r') as picklefile:\n",
    "    all_movies_data = pickle.load(picklefile)"
   ]
  },
  {
   "cell_type": "code",
   "execution_count": 545,
   "metadata": {
    "collapsed": true
   },
   "outputs": [],
   "source": [
    "movies = pd.DataFrame(all_movies_data)"
   ]
  },
  {
   "cell_type": "markdown",
   "metadata": {},
   "source": [
    "Time to do some cleaning..."
   ]
  },
  {
   "cell_type": "code",
   "execution_count": 546,
   "metadata": {
    "collapsed": true
   },
   "outputs": [],
   "source": [
    "# rename cols\n",
    "movies.rename(columns = {'1-title': 'title', \n",
    "                         '2-release_date': 'release_date', \n",
    "                         '3-closing_date': 'closing_date'}, inplace = True)"
   ]
  },
  {
   "cell_type": "code",
   "execution_count": 683,
   "metadata": {
    "collapsed": false
   },
   "outputs": [],
   "source": [
    "# split actor, director, producer, writer columns\n",
    "def get_person(peoplelist, i):\n",
    "    '''Take a list of people and inde; return person at that index. Return blank if no list present.'''\n",
    "    try:\n",
    "        return peoplelist[i]\n",
    "    except:\n",
    "        return ''\n",
    "\n",
    "def sep_people(df, person_type, num_people):\n",
    "    '''For each column with list of people, split into n columns with one person in each column.\n",
    "    Name new columns as person_type + n.\n",
    "    \n",
    "    Args:\n",
    "    df -- name of dataframe\n",
    "    person_type -- name of column (str)\n",
    "    num_people -- number of columns to generate\n",
    "    '''\n",
    "    for n in range(num_people):\n",
    "        df.loc[:, person_type + str(n+1)] = df.loc[:, person_type].apply(get_person, args=(n,))\n",
    "\n",
    "# add seasons; rationale from http://www.boxofficemojo.com/seasonal/?chart=byseason\n",
    "def get_season(date):\n",
    "    '''Return season given month as int.'''\n",
    "    months = (range(1, 13))\n",
    "    seasons = ['winter', 'winter', 'spring', 'spring', \n",
    "           'summer', 'summer', 'summer', 'summer', \n",
    "           'fall', 'fall', 'holiday', 'holiday']\n",
    "    seasons = dict(zip(months, seasons))\n",
    "    try:\n",
    "        return seasons[date.month]\n",
    "    except:\n",
    "        return ''\n",
    "       \n",
    "def add_season(df, func, new_col, old_col):\n",
    "    '''Add corresponding season in new column based on release date.\n",
    "    Args: \n",
    "    df -- data frame\n",
    "    func -- function to apply\n",
    "    new_col (str) -- name of new column (to store result of function)\n",
    "    old_col (str) -- name of old column (on which to apply function)\n",
    "    '''\n",
    "    df[new_col] = df.loc[:, old_col].apply(func) \n",
    "\n",
    "# map raw genres to simple genres\n",
    "def get_simple_genre(g):\n",
    "    '''Recategorize raw genre into simple genre.'''\n",
    "    raw_genres = tuple(by_genre.count().index)\n",
    "    simple_genres = ['Act_Adven', 'Act_Adven', 'Act_Adven', 'Act_Adven', 'Act_Adven', 'Act_Adven', \n",
    "                 'Act_Adven', 'Act_Adven', 'Act_Adven', 'Act_Adven', \n",
    "                 'Animation', 'Comedy', 'Comedy', 'Comedy', 'Other', \n",
    "                 'Crime_Thriller', 'Crime_Thriller', 'Crime_Thriller', 'Crime_Thriller', \n",
    "                 'Documentary', 'Drama', 'Drama', 'Family', 'Family', 'Family', 'Fantasy_Scifi', 'Fantasy_Scifi', \n",
    "                 'Fantasy_Scifi', 'Foreign', 'Foreign', 'Foreign', 'Historical', 'Historical', \n",
    "                 'Horror', 'Horror', 'Horror', 'Other', 'Musical', 'Musical', 'None', \n",
    "                 'Historical', 'Historical', 'Historical', 'Historical', 'Historical', \n",
    "                 'Romance', 'Romance', 'Romance', 'Romance', 'Fantasy_Scifi', 'Fantasy_Scifi', \n",
    "                 'Fantasy_Scifi', 'Fantasy_Scifi', 'Fantasy_Scifi', 'Fantasy_Scifi', \n",
    "                 'Fantasy_Scifi', 'Sports', 'Sports', 'Sports', 'Sports',  'Crime_Thriller', \n",
    "                 'None', 'War', 'War', 'War', 'Western', 'Western']\n",
    "    try:\n",
    "        return genres[g]\n",
    "    except:\n",
    "        return ''\n",
    "\n",
    "def add_simple_genre(df):\n",
    "    df['new_genre'] = df.loc[:, 'genre'].apply(get_simple_genre)\n",
    "    \n",
    "# clean up ratings\n",
    "def get_clean_rating(r):\n",
    "    rm_ratings = ['Unknown', 'Unrated', 'None', 'Not Yet Rated']\n",
    "    return '' if r in rm_ratings else r\n",
    "\n",
    "def clean_rating(df, func, new_col):\n",
    "    '''Add new column to df with cleaned up rating. \n",
    "    Args:\n",
    "    df -- df to work on\n",
    "    func -- function to apply\n",
    "    new col (str) -- name of new column to create for cleaned up rating\n",
    "    '''\n",
    "    df[new_col] = df.loc[:, 'rating'].apply(func)\n",
    "    \n",
    "# add roi\n",
    "def add_roi(df):\n",
    "    df['dom_roi'] = df.loc[:, 'dom_total_gross'] / df.loc[:, 'budget']\n",
    "    df['intl_roi'] = df.loc[:, 'intl_total_gross'] / df.loc[:, 'budget']\n",
    "    \n",
    "# add total time in theaters - not necessary if we have theaters?\n",
    "def add_in_theaters_time(df):\n",
    "    try:\n",
    "        df['time_in_theaters'] = df.loc[:, 'closing_date'] - df.loc[:, 'release_date']\n",
    "    except:\n",
    "        df['time_in_theaters'] = ''"
   ]
  },
  {
   "cell_type": "code",
   "execution_count": 684,
   "metadata": {
    "collapsed": false
   },
   "outputs": [],
   "source": [
    "sep_people(movies, 'director', 3)\n",
    "sep_people(movies, 'actors', 5)\n",
    "sep_people(movies, 'writers', 2)\n",
    "sep_people(movies, 'producers', 3)\n",
    "add_season(movies, get_season, 'season', 'release_date')\n",
    "clean_rating(movies, get_clean_rating, 'clean_rating')"
   ]
  },
  {
   "cell_type": "code",
   "execution_count": 631,
   "metadata": {
    "collapsed": true
   },
   "outputs": [],
   "source": [
    "add_simple_genre(movies) # try not to rerun this guy, takes a while"
   ]
  },
  {
   "cell_type": "code",
   "execution_count": 632,
   "metadata": {
    "collapsed": true
   },
   "outputs": [],
   "source": [
    "# pickle the parsed df\n",
    "with open('pickled_data/parsed-data.pkl', 'w') as picklefile:\n",
    "    pickle.dump(movies, picklefile)"
   ]
  },
  {
   "cell_type": "markdown",
   "metadata": {},
   "source": [
    "Since we're interested in budget data, let's check to see how many movies of the 16,100 total movies have budget data."
   ]
  },
  {
   "cell_type": "code",
   "execution_count": 550,
   "metadata": {
    "collapsed": false
   },
   "outputs": [
    {
     "data": {
      "text/plain": [
       "2875"
      ]
     },
     "execution_count": 550,
     "metadata": {},
     "output_type": "execute_result"
    }
   ],
   "source": [
    "movies.budget.count()"
   ]
  },
  {
   "cell_type": "markdown",
   "metadata": {},
   "source": [
    "Only 2,874 out of 16,100 movies have budget data. That's only 17.9% of the entire dataset! Let's take a closer look at movies with budget data."
   ]
  },
  {
   "cell_type": "code",
   "execution_count": 633,
   "metadata": {
    "collapsed": true
   },
   "outputs": [],
   "source": [
    "# drop movies without budget data \n",
    "only_budget = movies[pd.notnull(movies['budget'])]"
   ]
  },
  {
   "cell_type": "code",
   "execution_count": 634,
   "metadata": {
    "collapsed": true
   },
   "outputs": [],
   "source": [
    "### ONLY APPLICABLE TO MOVIES WITH BUDGETS\n",
    "\n",
    "# adjust to 2015 dollars \n",
    "def get_infl_rate(startyear, endyear):\n",
    "    '''Return inflation rate to 2015 dollars. \n",
    "    Args:\n",
    "    startyear (float) -- start year\n",
    "    endyear (int) -- end year\n",
    "    Returns:\n",
    "    infl (float) -- inflation rate\n",
    "    '''\n",
    "    cpi = pd.read_csv('cpi-data.csv')\n",
    "    cpi.set_index('YEAR', inplace = True)\n",
    "    if endyear > 2015:\n",
    "        return float('NaN')\n",
    "    else:\n",
    "        try:\n",
    "            cpiend = float(cpi.loc[endyear, 'AVE.'])\n",
    "            cpistart = float(cpi.loc[int(startyear), 'AVE.'])\n",
    "            infl = ((cpiend - cpistart) / cpistart) \n",
    "            return (1.0 + infl)\n",
    "        except:\n",
    "            return float('NaN')\n",
    "    \n",
    "def add_infl_rate(df):\n",
    "    # add release year\n",
    "    try:\n",
    "        df['release_year'] = df['release_date'].apply(lambda x: x.year)\n",
    "    except:\n",
    "        df['release_year'] = None\n",
    "    df['infl_rate'] = df['release_year'].apply(get_infl_rate, args=(2015,))\n",
    "    \n",
    "def add_adj_budget(df):\n",
    "    df['budget_adj'] = df.loc[:, 'budget'] * df.loc[:, 'infl_rate']\n",
    "    df['budget_adj'] = df['budget_adj'].fillna(0.0).astype(int)\n",
    "\n",
    "# add roi calculations\n",
    "def get_dom_roi(df):\n",
    "    df['dom_roi'] = (df['dom_total_gross'] - df['budget'])/ df['budget']\n",
    "\n",
    "def get_intl_roi(df):\n",
    "    df['intl_roi'] = (df['intl_total_gross'] - df['budget'])/ df['budget']"
   ]
  },
  {
   "cell_type": "code",
   "execution_count": 635,
   "metadata": {
    "collapsed": false
   },
   "outputs": [
    {
     "name": "stderr",
     "output_type": "stream",
     "text": [
      "/anaconda/lib/python2.7/site-packages/ipykernel/__main__.py:28: SettingWithCopyWarning: \n",
      "A value is trying to be set on a copy of a slice from a DataFrame.\n",
      "Try using .loc[row_indexer,col_indexer] = value instead\n",
      "\n",
      "See the caveats in the documentation: http://pandas.pydata.org/pandas-docs/stable/indexing.html#indexing-view-versus-copy\n",
      "/anaconda/lib/python2.7/site-packages/ipykernel/__main__.py:31: SettingWithCopyWarning: \n",
      "A value is trying to be set on a copy of a slice from a DataFrame.\n",
      "Try using .loc[row_indexer,col_indexer] = value instead\n",
      "\n",
      "See the caveats in the documentation: http://pandas.pydata.org/pandas-docs/stable/indexing.html#indexing-view-versus-copy\n",
      "/anaconda/lib/python2.7/site-packages/ipykernel/__main__.py:34: SettingWithCopyWarning: \n",
      "A value is trying to be set on a copy of a slice from a DataFrame.\n",
      "Try using .loc[row_indexer,col_indexer] = value instead\n",
      "\n",
      "See the caveats in the documentation: http://pandas.pydata.org/pandas-docs/stable/indexing.html#indexing-view-versus-copy\n",
      "/anaconda/lib/python2.7/site-packages/ipykernel/__main__.py:35: SettingWithCopyWarning: \n",
      "A value is trying to be set on a copy of a slice from a DataFrame.\n",
      "Try using .loc[row_indexer,col_indexer] = value instead\n",
      "\n",
      "See the caveats in the documentation: http://pandas.pydata.org/pandas-docs/stable/indexing.html#indexing-view-versus-copy\n",
      "/anaconda/lib/python2.7/site-packages/ipykernel/__main__.py:39: SettingWithCopyWarning: \n",
      "A value is trying to be set on a copy of a slice from a DataFrame.\n",
      "Try using .loc[row_indexer,col_indexer] = value instead\n",
      "\n",
      "See the caveats in the documentation: http://pandas.pydata.org/pandas-docs/stable/indexing.html#indexing-view-versus-copy\n"
     ]
    }
   ],
   "source": [
    "add_infl_rate(only_budget)\n",
    "add_adj_budget(only_budget)\n",
    "get_dom_roi(only_budget)"
   ]
  },
  {
   "cell_type": "markdown",
   "metadata": {},
   "source": [
    "Let's look at lower budget movies that have been released in the past 15 years. "
   ]
  },
  {
   "cell_type": "code",
   "execution_count": 555,
   "metadata": {
    "collapsed": true
   },
   "outputs": [],
   "source": [
    "# set assumptions\n",
    "budget_threshold = 30000000\n",
    "year_threshold = '1990'"
   ]
  },
  {
   "cell_type": "code",
   "execution_count": 636,
   "metadata": {
    "collapsed": false
   },
   "outputs": [
    {
     "data": {
      "text/plain": [
       "(1158, 39)"
      ]
     },
     "execution_count": 636,
     "metadata": {},
     "output_type": "execute_result"
    }
   ],
   "source": [
    "# get only low budget (<$10m) films\n",
    "low_budget = only_budget[only_budget['budget_adj'] < budget_threshold]\n",
    "low_budget = low_budget[low_budget['budget_adj'] > 0] # find a better way to write this\n",
    "low_budget.shape"
   ]
  },
  {
   "cell_type": "code",
   "execution_count": 637,
   "metadata": {
    "collapsed": false
   },
   "outputs": [
    {
     "data": {
      "text/plain": [
       "(1085, 39)"
      ]
     },
     "execution_count": 637,
     "metadata": {},
     "output_type": "execute_result"
    }
   ],
   "source": [
    "# get only movies since 2000\n",
    "newer_movies = low_budget[low_budget['release_date'] >= datetime.strptime(year_threshold, '%Y')]\n",
    "newer_movies.shape"
   ]
  },
  {
   "cell_type": "markdown",
   "metadata": {},
   "source": [
    "### explore high-level features"
   ]
  },
  {
   "cell_type": "markdown",
   "metadata": {},
   "source": [
    "Season of release vs. mean adjusted domestic total gross. "
   ]
  },
  {
   "cell_type": "code",
   "execution_count": 558,
   "metadata": {
    "collapsed": false
   },
   "outputs": [],
   "source": [
    "def plot_category(cat, y, df):\n",
    "    '''Make bar plot of categorical features.\n",
    "    Args: \n",
    "    y (str) -- name of column of independent variable\n",
    "    cat (str) -- name of categorical feature\n",
    "    df (var) -- name of df'''\n",
    "    grouped = df.groupby(cat)\n",
    "    grouped[y].mean().plot(kind = 'bar')\n",
    "    plt.ylabel('mean %s' %y)\n",
    "    plt.title('%s vs. %s' %(cat, y))\n",
    "    plt.show()\n",
    "\n",
    "def plot_continuous(cat, y, df):\n",
    "    '''Make scatter plot of continuous features. \n",
    "    Args: \n",
    "    y (str) -- name of column of independent variable\n",
    "    cat (str) -- name of categorical feature\n",
    "    df (var) -- name of df'''\n",
    "    df.plot(kind = 'scatter', \n",
    "             x = cat, \n",
    "             y = y, \n",
    "             figsize = (8, 5), \n",
    "             alpha = 0.5)\n",
    "    plt.title('%s vs. %s' %(cat, y))\n",
    "    plt.show()"
   ]
  },
  {
   "cell_type": "code",
   "execution_count": 559,
   "metadata": {
    "collapsed": false
   },
   "outputs": [
    {
     "data": {
      "image/png": "[encoded data removed]",
      "text/plain": [
       "<matplotlib.figure.Figure at 0x114fea5d0>"
      ]
     },
     "metadata": {},
     "output_type": "display_data"
    }
   ],
   "source": [
    "plot_category('season', 'domestic_total_adj_gross', newer_movies)"
   ]
  },
  {
   "cell_type": "code",
   "execution_count": 560,
   "metadata": {
    "collapsed": false
   },
   "outputs": [
    {
     "data": {
      "image/png": "[encoded data removed]",
      "text/plain": [
       "<matplotlib.figure.Figure at 0x116310510>"
      ]
     },
     "metadata": {},
     "output_type": "display_data"
    }
   ],
   "source": [
    "plot_category('season', 'oscar_noms', newer_movies)"
   ]
  },
  {
   "cell_type": "code",
   "execution_count": 638,
   "metadata": {
    "collapsed": false
   },
   "outputs": [
    {
     "data": {
      "image/png": "[encoded data removed]",
      "text/plain": [
       "<matplotlib.figure.Figure at 0x11797a750>"
      ]
     },
     "metadata": {},
     "output_type": "display_data"
    }
   ],
   "source": [
    "plot_category('new_genre', 'oscar_noms', newer_movies)"
   ]
  },
  {
   "cell_type": "markdown",
   "metadata": {},
   "source": [
    "Genre vs. mean adjusted domestic total gross. "
   ]
  },
  {
   "cell_type": "code",
   "execution_count": 639,
   "metadata": {
    "collapsed": false
   },
   "outputs": [
    {
     "data": {
      "image/png": "[encoded data removed]",
      "text/plain": [
       "<matplotlib.figure.Figure at 0x11960e290>"
      ]
     },
     "metadata": {},
     "output_type": "display_data"
    }
   ],
   "source": [
    "plot_category('new_genre', 'domestic_total_adj_gross', newer_movies)"
   ]
  },
  {
   "cell_type": "code",
   "execution_count": 652,
   "metadata": {
    "collapsed": false
   },
   "outputs": [
    {
     "data": {
      "image/png": "[encoded data removed]",
      "text/plain": [
       "<matplotlib.figure.Figure at 0x1179f7950>"
      ]
     },
     "metadata": {},
     "output_type": "display_data"
    }
   ],
   "source": [
    "plot_category('clean_rating', 'oscar_noms', train)"
   ]
  },
  {
   "cell_type": "markdown",
   "metadata": {},
   "source": [
    "Budget vs. domestic total gross."
   ]
  },
  {
   "cell_type": "code",
   "execution_count": 565,
   "metadata": {
    "collapsed": false
   },
   "outputs": [
    {
     "data": {
      "image/png": "[encoded data removed]",
      "text/plain": [
       "<matplotlib.figure.Figure at 0x117298390>"
      ]
     },
     "metadata": {},
     "output_type": "display_data"
    }
   ],
   "source": [
    "plot_continuous('budget', 'dom_total_gross', newer_movies)"
   ]
  },
  {
   "cell_type": "code",
   "execution_count": 566,
   "metadata": {
    "collapsed": false
   },
   "outputs": [
    {
     "data": {
      "image/png": "[encoded data removed]",
      "text/plain": [
       "<matplotlib.figure.Figure at 0x11719ec10>"
      ]
     },
     "metadata": {},
     "output_type": "display_data"
    }
   ],
   "source": [
    "plot_continuous('theaters', 'dom_total_gross', newer_movies)"
   ]
  },
  {
   "cell_type": "markdown",
   "metadata": {},
   "source": [
    "### cross-validation set up"
   ]
  },
  {
   "cell_type": "code",
   "execution_count": 605,
   "metadata": {
    "collapsed": true
   },
   "outputs": [],
   "source": [
    "# assumptions\n",
    "trainyr_max = 2011.0\n",
    "cvyr = [2012.0, 2013.0]\n",
    "testyr = [2014.0, 2015.0]"
   ]
  },
  {
   "cell_type": "code",
   "execution_count": 578,
   "metadata": {
    "collapsed": false
   },
   "outputs": [
    {
     "data": {
      "text/plain": [
       "(1085, 39)"
      ]
     },
     "execution_count": 578,
     "metadata": {},
     "output_type": "execute_result"
    }
   ],
   "source": [
    "newer_movies.shape"
   ]
  },
  {
   "cell_type": "code",
   "execution_count": 584,
   "metadata": {
    "collapsed": false
   },
   "outputs": [
    {
     "data": {
      "text/plain": [
       "numpy.float64"
      ]
     },
     "execution_count": 584,
     "metadata": {},
     "output_type": "execute_result"
    }
   ],
   "source": [
    "type(newer_movies.loc[27, 'release_year'])"
   ]
  },
  {
   "cell_type": "code",
   "execution_count": 667,
   "metadata": {
    "collapsed": false
   },
   "outputs": [
    {
     "data": {
      "text/plain": [
       "(899, 39)"
      ]
     },
     "execution_count": 667,
     "metadata": {},
     "output_type": "execute_result"
    }
   ],
   "source": [
    "train = newer_movies[newer_movies['release_year'] <= trainyr_max]\n",
    "train.shape"
   ]
  },
  {
   "cell_type": "code",
   "execution_count": 668,
   "metadata": {
    "collapsed": false
   },
   "outputs": [
    {
     "data": {
      "text/plain": [
       "(91, 39)"
      ]
     },
     "execution_count": 668,
     "metadata": {},
     "output_type": "execute_result"
    }
   ],
   "source": [
    "cv = newer_movies[newer_movies['release_year'].isin(cvyr)]\n",
    "cv.shape"
   ]
  },
  {
   "cell_type": "code",
   "execution_count": 669,
   "metadata": {
    "collapsed": false
   },
   "outputs": [
    {
     "data": {
      "text/plain": [
       "(95, 39)"
      ]
     },
     "execution_count": 669,
     "metadata": {},
     "output_type": "execute_result"
    }
   ],
   "source": [
    "test = newer_movies[newer_movies['release_year'].isin(testyr)]\n",
    "test.shape"
   ]
  },
  {
   "cell_type": "code",
   "execution_count": null,
   "metadata": {
    "collapsed": true
   },
   "outputs": [],
   "source": [
    "# # some more checks\n",
    "# train.groupby('release_year').count()\n",
    "# cv.groupby('release_year').count()\n",
    "# test.groupby('release_year').count()"
   ]
  },
  {
   "cell_type": "code",
   "execution_count": 611,
   "metadata": {
    "collapsed": false
   },
   "outputs": [
    {
     "name": "stdout",
     "output_type": "stream",
     "text": [
      "True\n",
      "train as % of total:  0.828571428571\n",
      "cv as % of total:  0.0838709677419\n",
      "test as % of total:  0.0875576036866\n"
     ]
    }
   ],
   "source": [
    "# check if they add up\n",
    "print train.shape[0] + cv.shape[0] + test.shape[0] == newer_movies.shape[0]\n",
    "\n",
    "# check percentages\n",
    "print 'train as % of total: ', float(train.shape[0]) / float(newer_movies.shape[0])\n",
    "print 'cv as % of total: ', float(cv.shape[0]) / float(newer_movies.shape[0])\n",
    "print 'test as % of total: ', float(test.shape[0]) / float(newer_movies.shape[0])"
   ]
  },
  {
   "cell_type": "markdown",
   "metadata": {},
   "source": [
    "### investigate predictive variables for adj domestic total gross"
   ]
  },
  {
   "cell_type": "code",
   "execution_count": null,
   "metadata": {
    "collapsed": true
   },
   "outputs": [],
   "source": [
    "y = newer_movies['dom_total_gross']\n",
    "X = newer_movies['budget']"
   ]
  },
  {
   "cell_type": "code",
   "execution_count": 569,
   "metadata": {
    "collapsed": true
   },
   "outputs": [],
   "source": [
    "gross = smf.ols(formula=\"dom_roi ~ new_genre + clean_rating\", \n",
    "                  data = newer_movies).fit()"
   ]
  },
  {
   "cell_type": "code",
   "execution_count": 570,
   "metadata": {
    "collapsed": false,
    "scrolled": true
   },
   "outputs": [
    {
     "data": {
      "text/html": [
       "<table class=\"simpletable\">\n",
       "<caption>OLS Regression Results</caption>\n",
       "<tr>\n",
       "  <th>Dep. Variable:</th>         <td>dom_roi</td>     <th>  R-squared:         </th> <td>   0.064</td>\n",
       "</tr>\n",
       "<tr>\n",
       "  <th>Model:</th>                   <td>OLS</td>       <th>  Adj. R-squared:    </th> <td>   0.048</td>\n",
       "</tr>\n",
       "<tr>\n",
       "  <th>Method:</th>             <td>Least Squares</td>  <th>  F-statistic:       </th> <td>   4.026</td>\n",
       "</tr>\n",
       "<tr>\n",
       "  <th>Date:</th>             <td>Mon, 25 Jan 2016</td> <th>  Prob (F-statistic):</th> <td>3.54e-08</td>\n",
       "</tr>\n",
       "<tr>\n",
       "  <th>Time:</th>                 <td>15:58:02</td>     <th>  Log-Likelihood:    </th> <td> -3048.3</td>\n",
       "</tr>\n",
       "<tr>\n",
       "  <th>No. Observations:</th>      <td>  1078</td>      <th>  AIC:               </th> <td>   6135.</td>\n",
       "</tr>\n",
       "<tr>\n",
       "  <th>Df Residuals:</th>          <td>  1059</td>      <th>  BIC:               </th> <td>   6229.</td>\n",
       "</tr>\n",
       "<tr>\n",
       "  <th>Df Model:</th>              <td>    18</td>      <th>                     </th>     <td> </td>   \n",
       "</tr>\n",
       "<tr>\n",
       "  <th>Covariance Type:</th>      <td>nonrobust</td>    <th>                     </th>     <td> </td>   \n",
       "</tr>\n",
       "</table>\n",
       "<table class=\"simpletable\">\n",
       "<tr>\n",
       "               <td></td>                  <th>coef</th>     <th>std err</th>      <th>t</th>      <th>P>|t|</th> <th>[95.0% Conf. Int.]</th> \n",
       "</tr>\n",
       "<tr>\n",
       "  <th>Intercept</th>                   <td>   -2.1550</td> <td>    0.943</td> <td>   -2.286</td> <td> 0.022</td> <td>   -4.005    -0.305</td>\n",
       "</tr>\n",
       "<tr>\n",
       "  <th>new_genre[T.Act_Adven]</th>      <td>    1.3817</td> <td>    0.797</td> <td>    1.734</td> <td> 0.083</td> <td>   -0.182     2.945</td>\n",
       "</tr>\n",
       "<tr>\n",
       "  <th>new_genre[T.Animation]</th>      <td>    0.7016</td> <td>    1.221</td> <td>    0.574</td> <td> 0.566</td> <td>   -1.695     3.098</td>\n",
       "</tr>\n",
       "<tr>\n",
       "  <th>new_genre[T.Comedy]</th>         <td>    2.2734</td> <td>    0.658</td> <td>    3.454</td> <td> 0.001</td> <td>    0.982     3.565</td>\n",
       "</tr>\n",
       "<tr>\n",
       "  <th>new_genre[T.Crime_Thriller]</th> <td>    2.1027</td> <td>    0.730</td> <td>    2.880</td> <td> 0.004</td> <td>    0.670     3.536</td>\n",
       "</tr>\n",
       "<tr>\n",
       "  <th>new_genre[T.Documentary]</th>    <td>    3.0509</td> <td>    1.235</td> <td>    2.470</td> <td> 0.014</td> <td>    0.627     5.474</td>\n",
       "</tr>\n",
       "<tr>\n",
       "  <th>new_genre[T.Drama]</th>          <td>    1.9791</td> <td>    0.677</td> <td>    2.922</td> <td> 0.004</td> <td>    0.650     3.308</td>\n",
       "</tr>\n",
       "<tr>\n",
       "  <th>new_genre[T.Family]</th>         <td>    1.2970</td> <td>    1.068</td> <td>    1.214</td> <td> 0.225</td> <td>   -0.800     3.394</td>\n",
       "</tr>\n",
       "<tr>\n",
       "  <th>new_genre[T.Fantasy_Scifi]</th>  <td>    2.6619</td> <td>    0.931</td> <td>    2.858</td> <td> 0.004</td> <td>    0.834     4.490</td>\n",
       "</tr>\n",
       "<tr>\n",
       "  <th>new_genre[T.Foreign]</th>        <td>    1.2154</td> <td>    0.977</td> <td>    1.243</td> <td> 0.214</td> <td>   -0.703     3.133</td>\n",
       "</tr>\n",
       "<tr>\n",
       "  <th>new_genre[T.Historical]</th>     <td>    0.8256</td> <td>    0.870</td> <td>    0.949</td> <td> 0.343</td> <td>   -0.881     2.532</td>\n",
       "</tr>\n",
       "<tr>\n",
       "  <th>new_genre[T.Horror]</th>         <td>    4.4371</td> <td>    0.709</td> <td>    6.259</td> <td> 0.000</td> <td>    3.046     5.828</td>\n",
       "</tr>\n",
       "<tr>\n",
       "  <th>new_genre[T.Other]</th>          <td>    1.5507</td> <td>    0.807</td> <td>    1.921</td> <td> 0.055</td> <td>   -0.034     3.135</td>\n",
       "</tr>\n",
       "<tr>\n",
       "  <th>new_genre[T.Romance]</th>        <td>    2.4389</td> <td>    0.764</td> <td>    3.191</td> <td> 0.001</td> <td>    0.939     3.938</td>\n",
       "</tr>\n",
       "<tr>\n",
       "  <th>clean_rating[T.G]</th>           <td>    2.7530</td> <td>    1.436</td> <td>    1.917</td> <td> 0.056</td> <td>   -0.065     5.571</td>\n",
       "</tr>\n",
       "<tr>\n",
       "  <th>clean_rating[T.NC-17]</th>       <td>   -0.3608</td> <td>    2.010</td> <td>   -0.180</td> <td> 0.858</td> <td>   -4.305     3.583</td>\n",
       "</tr>\n",
       "<tr>\n",
       "  <th>clean_rating[T.PG]</th>          <td>    2.2108</td> <td>    0.929</td> <td>    2.380</td> <td> 0.017</td> <td>    0.388     4.034</td>\n",
       "</tr>\n",
       "<tr>\n",
       "  <th>clean_rating[T.PG-13]</th>       <td>    1.4427</td> <td>    0.841</td> <td>    1.715</td> <td> 0.087</td> <td>   -0.208     3.094</td>\n",
       "</tr>\n",
       "<tr>\n",
       "  <th>clean_rating[T.R]</th>           <td>    1.1956</td> <td>    0.821</td> <td>    1.457</td> <td> 0.145</td> <td>   -0.414     2.806</td>\n",
       "</tr>\n",
       "</table>\n",
       "<table class=\"simpletable\">\n",
       "<tr>\n",
       "  <th>Omnibus:</th>       <td>1184.810</td> <th>  Durbin-Watson:     </th> <td>   1.872</td> \n",
       "</tr>\n",
       "<tr>\n",
       "  <th>Prob(Omnibus):</th>  <td> 0.000</td>  <th>  Jarque-Bera (JB):  </th> <td>83791.807</td>\n",
       "</tr>\n",
       "<tr>\n",
       "  <th>Skew:</th>           <td> 5.388</td>  <th>  Prob(JB):          </th> <td>    0.00</td> \n",
       "</tr>\n",
       "<tr>\n",
       "  <th>Kurtosis:</th>       <td>44.825</td>  <th>  Cond. No.          </th> <td>    23.6</td> \n",
       "</tr>\n",
       "</table>"
      ],
      "text/plain": [
       "<class 'statsmodels.iolib.summary.Summary'>\n",
       "\"\"\"\n",
       "                            OLS Regression Results                            \n",
       "==============================================================================\n",
       "Dep. Variable:                dom_roi   R-squared:                       0.064\n",
       "Model:                            OLS   Adj. R-squared:                  0.048\n",
       "Method:                 Least Squares   F-statistic:                     4.026\n",
       "Date:                Mon, 25 Jan 2016   Prob (F-statistic):           3.54e-08\n",
       "Time:                        15:58:02   Log-Likelihood:                -3048.3\n",
       "No. Observations:                1078   AIC:                             6135.\n",
       "Df Residuals:                    1059   BIC:                             6229.\n",
       "Df Model:                          18                                         \n",
       "Covariance Type:            nonrobust                                         \n",
       "===============================================================================================\n",
       "                                  coef    std err          t      P>|t|      [95.0% Conf. Int.]\n",
       "-----------------------------------------------------------------------------------------------\n",
       "Intercept                      -2.1550      0.943     -2.286      0.022        -4.005    -0.305\n",
       "new_genre[T.Act_Adven]          1.3817      0.797      1.734      0.083        -0.182     2.945\n",
       "new_genre[T.Animation]          0.7016      1.221      0.574      0.566        -1.695     3.098\n",
       "new_genre[T.Comedy]             2.2734      0.658      3.454      0.001         0.982     3.565\n",
       "new_genre[T.Crime_Thriller]     2.1027      0.730      2.880      0.004         0.670     3.536\n",
       "new_genre[T.Documentary]        3.0509      1.235      2.470      0.014         0.627     5.474\n",
       "new_genre[T.Drama]              1.9791      0.677      2.922      0.004         0.650     3.308\n",
       "new_genre[T.Family]             1.2970      1.068      1.214      0.225        -0.800     3.394\n",
       "new_genre[T.Fantasy_Scifi]      2.6619      0.931      2.858      0.004         0.834     4.490\n",
       "new_genre[T.Foreign]            1.2154      0.977      1.243      0.214        -0.703     3.133\n",
       "new_genre[T.Historical]         0.8256      0.870      0.949      0.343        -0.881     2.532\n",
       "new_genre[T.Horror]             4.4371      0.709      6.259      0.000         3.046     5.828\n",
       "new_genre[T.Other]              1.5507      0.807      1.921      0.055        -0.034     3.135\n",
       "new_genre[T.Romance]            2.4389      0.764      3.191      0.001         0.939     3.938\n",
       "clean_rating[T.G]               2.7530      1.436      1.917      0.056        -0.065     5.571\n",
       "clean_rating[T.NC-17]          -0.3608      2.010     -0.180      0.858        -4.305     3.583\n",
       "clean_rating[T.PG]              2.2108      0.929      2.380      0.017         0.388     4.034\n",
       "clean_rating[T.PG-13]           1.4427      0.841      1.715      0.087        -0.208     3.094\n",
       "clean_rating[T.R]               1.1956      0.821      1.457      0.145        -0.414     2.806\n",
       "==============================================================================\n",
       "Omnibus:                     1184.810   Durbin-Watson:                   1.872\n",
       "Prob(Omnibus):                  0.000   Jarque-Bera (JB):            83791.807\n",
       "Skew:                           5.388   Prob(JB):                         0.00\n",
       "Kurtosis:                      44.825   Cond. No.                         23.6\n",
       "==============================================================================\n",
       "\n",
       "Warnings:\n",
       "[1] Standard Errors assume that the covariance matrix of the errors is correctly specified.\n",
       "\"\"\""
      ]
     },
     "execution_count": 570,
     "metadata": {},
     "output_type": "execute_result"
    }
   ],
   "source": [
    "gross.summary()"
   ]
  },
  {
   "cell_type": "code",
   "execution_count": 648,
   "metadata": {
    "collapsed": false
   },
   "outputs": [
    {
     "data": {
      "text/html": [
       "<div>\n",
       "<table border=\"1\" class=\"dataframe\">\n",
       "  <thead>\n",
       "    <tr style=\"text-align: right;\">\n",
       "      <th></th>\n",
       "      <th>title</th>\n",
       "      <th>release_date</th>\n",
       "      <th>closing_date</th>\n",
       "      <th>actors</th>\n",
       "      <th>budget</th>\n",
       "      <th>director</th>\n",
       "      <th>distributor</th>\n",
       "      <th>dom_total_gross</th>\n",
       "      <th>domestic_total_adj_gross</th>\n",
       "      <th>genre</th>\n",
       "      <th>...</th>\n",
       "      <th>writers2</th>\n",
       "      <th>producers1</th>\n",
       "      <th>producers2</th>\n",
       "      <th>producers3</th>\n",
       "      <th>season</th>\n",
       "      <th>clean_rating</th>\n",
       "      <th>release_year</th>\n",
       "      <th>infl_rate</th>\n",
       "      <th>budget_adj</th>\n",
       "      <th>dom_roi</th>\n",
       "    </tr>\n",
       "    <tr>\n",
       "      <th>new_genre</th>\n",
       "      <th></th>\n",
       "      <th></th>\n",
       "      <th></th>\n",
       "      <th></th>\n",
       "      <th></th>\n",
       "      <th></th>\n",
       "      <th></th>\n",
       "      <th></th>\n",
       "      <th></th>\n",
       "      <th></th>\n",
       "      <th></th>\n",
       "      <th></th>\n",
       "      <th></th>\n",
       "      <th></th>\n",
       "      <th></th>\n",
       "      <th></th>\n",
       "      <th></th>\n",
       "      <th></th>\n",
       "      <th></th>\n",
       "      <th></th>\n",
       "      <th></th>\n",
       "    </tr>\n",
       "  </thead>\n",
       "  <tbody>\n",
       "    <tr>\n",
       "      <th>Act_Adven</th>\n",
       "      <td>47</td>\n",
       "      <td>47</td>\n",
       "      <td>32</td>\n",
       "      <td>47</td>\n",
       "      <td>47</td>\n",
       "      <td>47</td>\n",
       "      <td>47</td>\n",
       "      <td>46</td>\n",
       "      <td>46</td>\n",
       "      <td>47</td>\n",
       "      <td>...</td>\n",
       "      <td>47</td>\n",
       "      <td>47</td>\n",
       "      <td>47</td>\n",
       "      <td>47</td>\n",
       "      <td>47</td>\n",
       "      <td>47</td>\n",
       "      <td>47</td>\n",
       "      <td>47</td>\n",
       "      <td>47</td>\n",
       "      <td>46</td>\n",
       "    </tr>\n",
       "    <tr>\n",
       "      <th>Animation</th>\n",
       "      <td>16</td>\n",
       "      <td>16</td>\n",
       "      <td>12</td>\n",
       "      <td>16</td>\n",
       "      <td>16</td>\n",
       "      <td>16</td>\n",
       "      <td>16</td>\n",
       "      <td>16</td>\n",
       "      <td>16</td>\n",
       "      <td>16</td>\n",
       "      <td>...</td>\n",
       "      <td>16</td>\n",
       "      <td>16</td>\n",
       "      <td>16</td>\n",
       "      <td>16</td>\n",
       "      <td>16</td>\n",
       "      <td>16</td>\n",
       "      <td>16</td>\n",
       "      <td>16</td>\n",
       "      <td>16</td>\n",
       "      <td>16</td>\n",
       "    </tr>\n",
       "    <tr>\n",
       "      <th>Comedy</th>\n",
       "      <td>211</td>\n",
       "      <td>211</td>\n",
       "      <td>148</td>\n",
       "      <td>211</td>\n",
       "      <td>211</td>\n",
       "      <td>211</td>\n",
       "      <td>211</td>\n",
       "      <td>209</td>\n",
       "      <td>209</td>\n",
       "      <td>211</td>\n",
       "      <td>...</td>\n",
       "      <td>211</td>\n",
       "      <td>211</td>\n",
       "      <td>211</td>\n",
       "      <td>211</td>\n",
       "      <td>211</td>\n",
       "      <td>211</td>\n",
       "      <td>211</td>\n",
       "      <td>211</td>\n",
       "      <td>211</td>\n",
       "      <td>209</td>\n",
       "    </tr>\n",
       "    <tr>\n",
       "      <th>Crime_Thriller</th>\n",
       "      <td>76</td>\n",
       "      <td>76</td>\n",
       "      <td>48</td>\n",
       "      <td>76</td>\n",
       "      <td>76</td>\n",
       "      <td>76</td>\n",
       "      <td>76</td>\n",
       "      <td>75</td>\n",
       "      <td>74</td>\n",
       "      <td>76</td>\n",
       "      <td>...</td>\n",
       "      <td>76</td>\n",
       "      <td>76</td>\n",
       "      <td>76</td>\n",
       "      <td>76</td>\n",
       "      <td>76</td>\n",
       "      <td>76</td>\n",
       "      <td>76</td>\n",
       "      <td>76</td>\n",
       "      <td>76</td>\n",
       "      <td>75</td>\n",
       "    </tr>\n",
       "    <tr>\n",
       "      <th>Documentary</th>\n",
       "      <td>12</td>\n",
       "      <td>12</td>\n",
       "      <td>11</td>\n",
       "      <td>12</td>\n",
       "      <td>12</td>\n",
       "      <td>12</td>\n",
       "      <td>12</td>\n",
       "      <td>12</td>\n",
       "      <td>12</td>\n",
       "      <td>12</td>\n",
       "      <td>...</td>\n",
       "      <td>12</td>\n",
       "      <td>12</td>\n",
       "      <td>12</td>\n",
       "      <td>12</td>\n",
       "      <td>12</td>\n",
       "      <td>12</td>\n",
       "      <td>12</td>\n",
       "      <td>12</td>\n",
       "      <td>12</td>\n",
       "      <td>12</td>\n",
       "    </tr>\n",
       "    <tr>\n",
       "      <th>Drama</th>\n",
       "      <td>135</td>\n",
       "      <td>135</td>\n",
       "      <td>112</td>\n",
       "      <td>135</td>\n",
       "      <td>135</td>\n",
       "      <td>135</td>\n",
       "      <td>135</td>\n",
       "      <td>134</td>\n",
       "      <td>134</td>\n",
       "      <td>135</td>\n",
       "      <td>...</td>\n",
       "      <td>135</td>\n",
       "      <td>135</td>\n",
       "      <td>135</td>\n",
       "      <td>135</td>\n",
       "      <td>135</td>\n",
       "      <td>135</td>\n",
       "      <td>135</td>\n",
       "      <td>135</td>\n",
       "      <td>135</td>\n",
       "      <td>134</td>\n",
       "    </tr>\n",
       "    <tr>\n",
       "      <th>Family</th>\n",
       "      <td>26</td>\n",
       "      <td>26</td>\n",
       "      <td>17</td>\n",
       "      <td>26</td>\n",
       "      <td>26</td>\n",
       "      <td>26</td>\n",
       "      <td>26</td>\n",
       "      <td>26</td>\n",
       "      <td>26</td>\n",
       "      <td>26</td>\n",
       "      <td>...</td>\n",
       "      <td>26</td>\n",
       "      <td>26</td>\n",
       "      <td>26</td>\n",
       "      <td>26</td>\n",
       "      <td>26</td>\n",
       "      <td>26</td>\n",
       "      <td>26</td>\n",
       "      <td>26</td>\n",
       "      <td>26</td>\n",
       "      <td>26</td>\n",
       "    </tr>\n",
       "    <tr>\n",
       "      <th>Fantasy_Scifi</th>\n",
       "      <td>27</td>\n",
       "      <td>27</td>\n",
       "      <td>14</td>\n",
       "      <td>27</td>\n",
       "      <td>27</td>\n",
       "      <td>27</td>\n",
       "      <td>27</td>\n",
       "      <td>26</td>\n",
       "      <td>26</td>\n",
       "      <td>27</td>\n",
       "      <td>...</td>\n",
       "      <td>27</td>\n",
       "      <td>27</td>\n",
       "      <td>27</td>\n",
       "      <td>27</td>\n",
       "      <td>27</td>\n",
       "      <td>27</td>\n",
       "      <td>27</td>\n",
       "      <td>27</td>\n",
       "      <td>27</td>\n",
       "      <td>26</td>\n",
       "    </tr>\n",
       "    <tr>\n",
       "      <th>Foreign</th>\n",
       "      <td>28</td>\n",
       "      <td>28</td>\n",
       "      <td>25</td>\n",
       "      <td>28</td>\n",
       "      <td>28</td>\n",
       "      <td>28</td>\n",
       "      <td>28</td>\n",
       "      <td>28</td>\n",
       "      <td>28</td>\n",
       "      <td>28</td>\n",
       "      <td>...</td>\n",
       "      <td>28</td>\n",
       "      <td>28</td>\n",
       "      <td>28</td>\n",
       "      <td>28</td>\n",
       "      <td>28</td>\n",
       "      <td>28</td>\n",
       "      <td>28</td>\n",
       "      <td>28</td>\n",
       "      <td>28</td>\n",
       "      <td>28</td>\n",
       "    </tr>\n",
       "    <tr>\n",
       "      <th>Historical</th>\n",
       "      <td>44</td>\n",
       "      <td>44</td>\n",
       "      <td>35</td>\n",
       "      <td>44</td>\n",
       "      <td>44</td>\n",
       "      <td>44</td>\n",
       "      <td>44</td>\n",
       "      <td>44</td>\n",
       "      <td>44</td>\n",
       "      <td>44</td>\n",
       "      <td>...</td>\n",
       "      <td>44</td>\n",
       "      <td>44</td>\n",
       "      <td>44</td>\n",
       "      <td>44</td>\n",
       "      <td>44</td>\n",
       "      <td>44</td>\n",
       "      <td>44</td>\n",
       "      <td>44</td>\n",
       "      <td>44</td>\n",
       "      <td>44</td>\n",
       "    </tr>\n",
       "    <tr>\n",
       "      <th>Horror</th>\n",
       "      <td>98</td>\n",
       "      <td>98</td>\n",
       "      <td>76</td>\n",
       "      <td>98</td>\n",
       "      <td>98</td>\n",
       "      <td>98</td>\n",
       "      <td>98</td>\n",
       "      <td>98</td>\n",
       "      <td>98</td>\n",
       "      <td>98</td>\n",
       "      <td>...</td>\n",
       "      <td>98</td>\n",
       "      <td>98</td>\n",
       "      <td>98</td>\n",
       "      <td>98</td>\n",
       "      <td>98</td>\n",
       "      <td>98</td>\n",
       "      <td>98</td>\n",
       "      <td>98</td>\n",
       "      <td>98</td>\n",
       "      <td>98</td>\n",
       "    </tr>\n",
       "    <tr>\n",
       "      <th>Musical</th>\n",
       "      <td>23</td>\n",
       "      <td>23</td>\n",
       "      <td>18</td>\n",
       "      <td>23</td>\n",
       "      <td>23</td>\n",
       "      <td>23</td>\n",
       "      <td>23</td>\n",
       "      <td>23</td>\n",
       "      <td>23</td>\n",
       "      <td>23</td>\n",
       "      <td>...</td>\n",
       "      <td>23</td>\n",
       "      <td>23</td>\n",
       "      <td>23</td>\n",
       "      <td>23</td>\n",
       "      <td>23</td>\n",
       "      <td>23</td>\n",
       "      <td>23</td>\n",
       "      <td>23</td>\n",
       "      <td>23</td>\n",
       "      <td>23</td>\n",
       "    </tr>\n",
       "    <tr>\n",
       "      <th>None</th>\n",
       "      <td>48</td>\n",
       "      <td>48</td>\n",
       "      <td>30</td>\n",
       "      <td>48</td>\n",
       "      <td>48</td>\n",
       "      <td>48</td>\n",
       "      <td>48</td>\n",
       "      <td>48</td>\n",
       "      <td>48</td>\n",
       "      <td>48</td>\n",
       "      <td>...</td>\n",
       "      <td>48</td>\n",
       "      <td>48</td>\n",
       "      <td>48</td>\n",
       "      <td>48</td>\n",
       "      <td>48</td>\n",
       "      <td>48</td>\n",
       "      <td>48</td>\n",
       "      <td>48</td>\n",
       "      <td>48</td>\n",
       "      <td>48</td>\n",
       "    </tr>\n",
       "    <tr>\n",
       "      <th>Other</th>\n",
       "      <td>4</td>\n",
       "      <td>4</td>\n",
       "      <td>3</td>\n",
       "      <td>4</td>\n",
       "      <td>4</td>\n",
       "      <td>4</td>\n",
       "      <td>4</td>\n",
       "      <td>4</td>\n",
       "      <td>4</td>\n",
       "      <td>4</td>\n",
       "      <td>...</td>\n",
       "      <td>4</td>\n",
       "      <td>4</td>\n",
       "      <td>4</td>\n",
       "      <td>4</td>\n",
       "      <td>4</td>\n",
       "      <td>4</td>\n",
       "      <td>4</td>\n",
       "      <td>4</td>\n",
       "      <td>4</td>\n",
       "      <td>4</td>\n",
       "    </tr>\n",
       "    <tr>\n",
       "      <th>Romance</th>\n",
       "      <td>76</td>\n",
       "      <td>76</td>\n",
       "      <td>50</td>\n",
       "      <td>76</td>\n",
       "      <td>76</td>\n",
       "      <td>76</td>\n",
       "      <td>76</td>\n",
       "      <td>75</td>\n",
       "      <td>75</td>\n",
       "      <td>76</td>\n",
       "      <td>...</td>\n",
       "      <td>76</td>\n",
       "      <td>76</td>\n",
       "      <td>76</td>\n",
       "      <td>76</td>\n",
       "      <td>76</td>\n",
       "      <td>76</td>\n",
       "      <td>76</td>\n",
       "      <td>76</td>\n",
       "      <td>76</td>\n",
       "      <td>75</td>\n",
       "    </tr>\n",
       "    <tr>\n",
       "      <th>Sports</th>\n",
       "      <td>19</td>\n",
       "      <td>19</td>\n",
       "      <td>13</td>\n",
       "      <td>19</td>\n",
       "      <td>19</td>\n",
       "      <td>19</td>\n",
       "      <td>19</td>\n",
       "      <td>19</td>\n",
       "      <td>19</td>\n",
       "      <td>19</td>\n",
       "      <td>...</td>\n",
       "      <td>19</td>\n",
       "      <td>19</td>\n",
       "      <td>19</td>\n",
       "      <td>19</td>\n",
       "      <td>19</td>\n",
       "      <td>19</td>\n",
       "      <td>19</td>\n",
       "      <td>19</td>\n",
       "      <td>19</td>\n",
       "      <td>19</td>\n",
       "    </tr>\n",
       "    <tr>\n",
       "      <th>War</th>\n",
       "      <td>4</td>\n",
       "      <td>4</td>\n",
       "      <td>4</td>\n",
       "      <td>4</td>\n",
       "      <td>4</td>\n",
       "      <td>4</td>\n",
       "      <td>4</td>\n",
       "      <td>4</td>\n",
       "      <td>4</td>\n",
       "      <td>4</td>\n",
       "      <td>...</td>\n",
       "      <td>4</td>\n",
       "      <td>4</td>\n",
       "      <td>4</td>\n",
       "      <td>4</td>\n",
       "      <td>4</td>\n",
       "      <td>4</td>\n",
       "      <td>4</td>\n",
       "      <td>4</td>\n",
       "      <td>4</td>\n",
       "      <td>4</td>\n",
       "    </tr>\n",
       "    <tr>\n",
       "      <th>Western</th>\n",
       "      <td>5</td>\n",
       "      <td>5</td>\n",
       "      <td>5</td>\n",
       "      <td>5</td>\n",
       "      <td>5</td>\n",
       "      <td>5</td>\n",
       "      <td>5</td>\n",
       "      <td>5</td>\n",
       "      <td>5</td>\n",
       "      <td>5</td>\n",
       "      <td>...</td>\n",
       "      <td>5</td>\n",
       "      <td>5</td>\n",
       "      <td>5</td>\n",
       "      <td>5</td>\n",
       "      <td>5</td>\n",
       "      <td>5</td>\n",
       "      <td>5</td>\n",
       "      <td>5</td>\n",
       "      <td>5</td>\n",
       "      <td>5</td>\n",
       "    </tr>\n",
       "  </tbody>\n",
       "</table>\n",
       "<p>18 rows × 38 columns</p>\n",
       "</div>"
      ],
      "text/plain": [
       "                title  release_date  closing_date  actors  budget  director  \\\n",
       "new_genre                                                                     \n",
       "Act_Adven          47            47            32      47      47        47   \n",
       "Animation          16            16            12      16      16        16   \n",
       "Comedy            211           211           148     211     211       211   \n",
       "Crime_Thriller     76            76            48      76      76        76   \n",
       "Documentary        12            12            11      12      12        12   \n",
       "Drama             135           135           112     135     135       135   \n",
       "Family             26            26            17      26      26        26   \n",
       "Fantasy_Scifi      27            27            14      27      27        27   \n",
       "Foreign            28            28            25      28      28        28   \n",
       "Historical         44            44            35      44      44        44   \n",
       "Horror             98            98            76      98      98        98   \n",
       "Musical            23            23            18      23      23        23   \n",
       "None               48            48            30      48      48        48   \n",
       "Other               4             4             3       4       4         4   \n",
       "Romance            76            76            50      76      76        76   \n",
       "Sports             19            19            13      19      19        19   \n",
       "War                 4             4             4       4       4         4   \n",
       "Western             5             5             5       5       5         5   \n",
       "\n",
       "                distributor  dom_total_gross  domestic_total_adj_gross  genre  \\\n",
       "new_genre                                                                       \n",
       "Act_Adven                47               46                        46     47   \n",
       "Animation                16               16                        16     16   \n",
       "Comedy                  211              209                       209    211   \n",
       "Crime_Thriller           76               75                        74     76   \n",
       "Documentary              12               12                        12     12   \n",
       "Drama                   135              134                       134    135   \n",
       "Family                   26               26                        26     26   \n",
       "Fantasy_Scifi            27               26                        26     27   \n",
       "Foreign                  28               28                        28     28   \n",
       "Historical               44               44                        44     44   \n",
       "Horror                   98               98                        98     98   \n",
       "Musical                  23               23                        23     23   \n",
       "None                     48               48                        48     48   \n",
       "Other                     4                4                         4      4   \n",
       "Romance                  76               75                        75     76   \n",
       "Sports                   19               19                        19     19   \n",
       "War                       4                4                         4      4   \n",
       "Western                   5                5                         5      5   \n",
       "\n",
       "                 ...     writers2  producers1  producers2  producers3  season  \\\n",
       "new_genre        ...                                                            \n",
       "Act_Adven        ...           47          47          47          47      47   \n",
       "Animation        ...           16          16          16          16      16   \n",
       "Comedy           ...          211         211         211         211     211   \n",
       "Crime_Thriller   ...           76          76          76          76      76   \n",
       "Documentary      ...           12          12          12          12      12   \n",
       "Drama            ...          135         135         135         135     135   \n",
       "Family           ...           26          26          26          26      26   \n",
       "Fantasy_Scifi    ...           27          27          27          27      27   \n",
       "Foreign          ...           28          28          28          28      28   \n",
       "Historical       ...           44          44          44          44      44   \n",
       "Horror           ...           98          98          98          98      98   \n",
       "Musical          ...           23          23          23          23      23   \n",
       "None             ...           48          48          48          48      48   \n",
       "Other            ...            4           4           4           4       4   \n",
       "Romance          ...           76          76          76          76      76   \n",
       "Sports           ...           19          19          19          19      19   \n",
       "War              ...            4           4           4           4       4   \n",
       "Western          ...            5           5           5           5       5   \n",
       "\n",
       "                clean_rating  release_year  infl_rate  budget_adj  dom_roi  \n",
       "new_genre                                                                   \n",
       "Act_Adven                 47            47         47          47       46  \n",
       "Animation                 16            16         16          16       16  \n",
       "Comedy                   211           211        211         211      209  \n",
       "Crime_Thriller            76            76         76          76       75  \n",
       "Documentary               12            12         12          12       12  \n",
       "Drama                    135           135        135         135      134  \n",
       "Family                    26            26         26          26       26  \n",
       "Fantasy_Scifi             27            27         27          27       26  \n",
       "Foreign                   28            28         28          28       28  \n",
       "Historical                44            44         44          44       44  \n",
       "Horror                    98            98         98          98       98  \n",
       "Musical                   23            23         23          23       23  \n",
       "None                      48            48         48          48       48  \n",
       "Other                      4             4          4           4        4  \n",
       "Romance                   76            76         76          76       75  \n",
       "Sports                    19            19         19          19       19  \n",
       "War                        4             4          4           4        4  \n",
       "Western                    5             5          5           5        5  \n",
       "\n",
       "[18 rows x 38 columns]"
      ]
     },
     "execution_count": 648,
     "metadata": {},
     "output_type": "execute_result"
    }
   ],
   "source": [
    "train.groupby('new_genre').count()"
   ]
  },
  {
   "cell_type": "markdown",
   "metadata": {},
   "source": [
    "### investigate oscar nominations"
   ]
  },
  {
   "cell_type": "code",
   "execution_count": 617,
   "metadata": {
    "collapsed": false
   },
   "outputs": [
    {
     "data": {
      "image/png": "[encoded data removed]",
      "text/plain": [
       "<matplotlib.figure.Figure at 0x1177f5150>"
      ]
     },
     "metadata": {},
     "output_type": "display_data"
    }
   ],
   "source": [
    "plot_continuous('budget_adj', 'oscar_noms', train)"
   ]
  },
  {
   "cell_type": "code",
   "execution_count": 624,
   "metadata": {
    "collapsed": false
   },
   "outputs": [
    {
     "data": {
      "image/png": "[encoded data removed]",
      "text/plain": [
       "<matplotlib.figure.Figure at 0x1199057d0>"
      ]
     },
     "metadata": {},
     "output_type": "display_data"
    }
   ],
   "source": [
    "plot_continuous('theaters', 'oscar_noms', train)"
   ]
  },
  {
   "cell_type": "code",
   "execution_count": 650,
   "metadata": {
    "collapsed": false
   },
   "outputs": [
    {
     "data": {
      "text/html": [
       "<table class=\"simpletable\">\n",
       "<caption>OLS Regression Results</caption>\n",
       "<tr>\n",
       "  <th>Dep. Variable:</th>       <td>oscar_noms</td>    <th>  R-squared:         </th> <td>   0.188</td>\n",
       "</tr>\n",
       "<tr>\n",
       "  <th>Model:</th>                   <td>OLS</td>       <th>  Adj. R-squared:    </th> <td>   0.162</td>\n",
       "</tr>\n",
       "<tr>\n",
       "  <th>Method:</th>             <td>Least Squares</td>  <th>  F-statistic:       </th> <td>   7.380</td>\n",
       "</tr>\n",
       "<tr>\n",
       "  <th>Date:</th>             <td>Mon, 25 Jan 2016</td> <th>  Prob (F-statistic):</th> <td>6.84e-25</td>\n",
       "</tr>\n",
       "<tr>\n",
       "  <th>Time:</th>                 <td>16:48:12</td>     <th>  Log-Likelihood:    </th> <td> -1427.8</td>\n",
       "</tr>\n",
       "<tr>\n",
       "  <th>No. Observations:</th>      <td>   890</td>      <th>  AIC:               </th> <td>   2912.</td>\n",
       "</tr>\n",
       "<tr>\n",
       "  <th>Df Residuals:</th>          <td>   862</td>      <th>  BIC:               </th> <td>   3046.</td>\n",
       "</tr>\n",
       "<tr>\n",
       "  <th>Df Model:</th>              <td>    27</td>      <th>                     </th>     <td> </td>   \n",
       "</tr>\n",
       "<tr>\n",
       "  <th>Covariance Type:</th>      <td>nonrobust</td>    <th>                     </th>     <td> </td>   \n",
       "</tr>\n",
       "</table>\n",
       "<table class=\"simpletable\">\n",
       "<tr>\n",
       "               <td></td>                  <th>coef</th>     <th>std err</th>      <th>t</th>      <th>P>|t|</th> <th>[95.0% Conf. Int.]</th> \n",
       "</tr>\n",
       "<tr>\n",
       "  <th>Intercept</th>                   <td>   -0.6218</td> <td>    0.324</td> <td>   -1.920</td> <td> 0.055</td> <td>   -1.257     0.014</td>\n",
       "</tr>\n",
       "<tr>\n",
       "  <th>season[T.holiday]</th>           <td>    0.7503</td> <td>    0.136</td> <td>    5.516</td> <td> 0.000</td> <td>    0.483     1.017</td>\n",
       "</tr>\n",
       "<tr>\n",
       "  <th>season[T.spring]</th>            <td>   -0.2606</td> <td>    0.127</td> <td>   -2.057</td> <td> 0.040</td> <td>   -0.509    -0.012</td>\n",
       "</tr>\n",
       "<tr>\n",
       "  <th>season[T.summer]</th>            <td>   -0.0993</td> <td>    0.117</td> <td>   -0.850</td> <td> 0.395</td> <td>   -0.329     0.130</td>\n",
       "</tr>\n",
       "<tr>\n",
       "  <th>season[T.winter]</th>            <td>   -0.2677</td> <td>    0.139</td> <td>   -1.926</td> <td> 0.054</td> <td>   -0.540     0.005</td>\n",
       "</tr>\n",
       "<tr>\n",
       "  <th>new_genre[T.Animation]</th>      <td>    0.4843</td> <td>    0.391</td> <td>    1.239</td> <td> 0.216</td> <td>   -0.283     1.252</td>\n",
       "</tr>\n",
       "<tr>\n",
       "  <th>new_genre[T.Comedy]</th>         <td>    0.1498</td> <td>    0.202</td> <td>    0.743</td> <td> 0.458</td> <td>   -0.246     0.545</td>\n",
       "</tr>\n",
       "<tr>\n",
       "  <th>new_genre[T.Crime_Thriller]</th> <td>    0.3317</td> <td>    0.234</td> <td>    1.419</td> <td> 0.156</td> <td>   -0.127     0.791</td>\n",
       "</tr>\n",
       "<tr>\n",
       "  <th>new_genre[T.Documentary]</th>    <td>    0.4449</td> <td>    0.403</td> <td>    1.104</td> <td> 0.270</td> <td>   -0.346     1.236</td>\n",
       "</tr>\n",
       "<tr>\n",
       "  <th>new_genre[T.Drama]</th>          <td>    0.7958</td> <td>    0.216</td> <td>    3.680</td> <td> 0.000</td> <td>    0.371     1.220</td>\n",
       "</tr>\n",
       "<tr>\n",
       "  <th>new_genre[T.Family]</th>         <td>    0.3467</td> <td>    0.341</td> <td>    1.017</td> <td> 0.309</td> <td>   -0.322     1.016</td>\n",
       "</tr>\n",
       "<tr>\n",
       "  <th>new_genre[T.Fantasy_Scifi]</th>  <td>    0.1786</td> <td>    0.303</td> <td>    0.589</td> <td> 0.556</td> <td>   -0.416     0.774</td>\n",
       "</tr>\n",
       "<tr>\n",
       "  <th>new_genre[T.Foreign]</th>        <td>    1.2839</td> <td>    0.312</td> <td>    4.116</td> <td> 0.000</td> <td>    0.672     1.896</td>\n",
       "</tr>\n",
       "<tr>\n",
       "  <th>new_genre[T.Historical]</th>     <td>    1.1635</td> <td>    0.268</td> <td>    4.340</td> <td> 0.000</td> <td>    0.637     1.690</td>\n",
       "</tr>\n",
       "<tr>\n",
       "  <th>new_genre[T.Horror]</th>         <td>   -0.2086</td> <td>    0.222</td> <td>   -0.938</td> <td> 0.348</td> <td>   -0.645     0.228</td>\n",
       "</tr>\n",
       "<tr>\n",
       "  <th>new_genre[T.Musical]</th>        <td>    0.2748</td> <td>    0.319</td> <td>    0.861</td> <td> 0.389</td> <td>   -0.351     0.901</td>\n",
       "</tr>\n",
       "<tr>\n",
       "  <th>new_genre[T.None]</th>           <td>    0.1567</td> <td>    0.268</td> <td>    0.586</td> <td> 0.558</td> <td>   -0.368     0.682</td>\n",
       "</tr>\n",
       "<tr>\n",
       "  <th>new_genre[T.Other]</th>          <td>    0.2365</td> <td>    0.648</td> <td>    0.365</td> <td> 0.715</td> <td>   -1.035     1.508</td>\n",
       "</tr>\n",
       "<tr>\n",
       "  <th>new_genre[T.Romance]</th>        <td>    0.2535</td> <td>    0.233</td> <td>    1.090</td> <td> 0.276</td> <td>   -0.203     0.710</td>\n",
       "</tr>\n",
       "<tr>\n",
       "  <th>new_genre[T.Sports]</th>         <td>    0.5991</td> <td>    0.342</td> <td>    1.754</td> <td> 0.080</td> <td>   -0.071     1.270</td>\n",
       "</tr>\n",
       "<tr>\n",
       "  <th>new_genre[T.War]</th>            <td>    3.0205</td> <td>    0.641</td> <td>    4.710</td> <td> 0.000</td> <td>    1.762     4.279</td>\n",
       "</tr>\n",
       "<tr>\n",
       "  <th>new_genre[T.Western]</th>        <td>    1.2902</td> <td>    0.580</td> <td>    2.226</td> <td> 0.026</td> <td>    0.152     2.428</td>\n",
       "</tr>\n",
       "<tr>\n",
       "  <th>clean_rating[T.G]</th>           <td>   -0.1134</td> <td>    0.457</td> <td>   -0.248</td> <td> 0.804</td> <td>   -1.011     0.785</td>\n",
       "</tr>\n",
       "<tr>\n",
       "  <th>clean_rating[T.NC-17]</th>       <td>   -0.2097</td> <td>    0.605</td> <td>   -0.347</td> <td> 0.729</td> <td>   -1.398     0.978</td>\n",
       "</tr>\n",
       "<tr>\n",
       "  <th>clean_rating[T.PG]</th>          <td>    0.1009</td> <td>    0.304</td> <td>    0.332</td> <td> 0.740</td> <td>   -0.496     0.698</td>\n",
       "</tr>\n",
       "<tr>\n",
       "  <th>clean_rating[T.PG-13]</th>       <td>    0.3337</td> <td>    0.274</td> <td>    1.218</td> <td> 0.224</td> <td>   -0.204     0.871</td>\n",
       "</tr>\n",
       "<tr>\n",
       "  <th>clean_rating[T.R]</th>           <td>    0.6334</td> <td>    0.262</td> <td>    2.414</td> <td> 0.016</td> <td>    0.118     1.148</td>\n",
       "</tr>\n",
       "<tr>\n",
       "  <th>theaters</th>                    <td>    0.0001</td> <td> 4.91e-05</td> <td>    2.973</td> <td> 0.003</td> <td> 4.96e-05     0.000</td>\n",
       "</tr>\n",
       "</table>\n",
       "<table class=\"simpletable\">\n",
       "<tr>\n",
       "  <th>Omnibus:</th>       <td>700.176</td> <th>  Durbin-Watson:     </th> <td>   1.900</td> \n",
       "</tr>\n",
       "<tr>\n",
       "  <th>Prob(Omnibus):</th> <td> 0.000</td>  <th>  Jarque-Bera (JB):  </th> <td>12660.395</td>\n",
       "</tr>\n",
       "<tr>\n",
       "  <th>Skew:</th>          <td> 3.541</td>  <th>  Prob(JB):          </th> <td>    0.00</td> \n",
       "</tr>\n",
       "<tr>\n",
       "  <th>Kurtosis:</th>      <td>20.066</td>  <th>  Cond. No.          </th> <td>3.59e+04</td> \n",
       "</tr>\n",
       "</table>"
      ],
      "text/plain": [
       "<class 'statsmodels.iolib.summary.Summary'>\n",
       "\"\"\"\n",
       "                            OLS Regression Results                            \n",
       "==============================================================================\n",
       "Dep. Variable:             oscar_noms   R-squared:                       0.188\n",
       "Model:                            OLS   Adj. R-squared:                  0.162\n",
       "Method:                 Least Squares   F-statistic:                     7.380\n",
       "Date:                Mon, 25 Jan 2016   Prob (F-statistic):           6.84e-25\n",
       "Time:                        16:48:12   Log-Likelihood:                -1427.8\n",
       "No. Observations:                 890   AIC:                             2912.\n",
       "Df Residuals:                     862   BIC:                             3046.\n",
       "Df Model:                          27                                         \n",
       "Covariance Type:            nonrobust                                         \n",
       "===============================================================================================\n",
       "                                  coef    std err          t      P>|t|      [95.0% Conf. Int.]\n",
       "-----------------------------------------------------------------------------------------------\n",
       "Intercept                      -0.6218      0.324     -1.920      0.055        -1.257     0.014\n",
       "season[T.holiday]               0.7503      0.136      5.516      0.000         0.483     1.017\n",
       "season[T.spring]               -0.2606      0.127     -2.057      0.040        -0.509    -0.012\n",
       "season[T.summer]               -0.0993      0.117     -0.850      0.395        -0.329     0.130\n",
       "season[T.winter]               -0.2677      0.139     -1.926      0.054        -0.540     0.005\n",
       "new_genre[T.Animation]          0.4843      0.391      1.239      0.216        -0.283     1.252\n",
       "new_genre[T.Comedy]             0.1498      0.202      0.743      0.458        -0.246     0.545\n",
       "new_genre[T.Crime_Thriller]     0.3317      0.234      1.419      0.156        -0.127     0.791\n",
       "new_genre[T.Documentary]        0.4449      0.403      1.104      0.270        -0.346     1.236\n",
       "new_genre[T.Drama]              0.7958      0.216      3.680      0.000         0.371     1.220\n",
       "new_genre[T.Family]             0.3467      0.341      1.017      0.309        -0.322     1.016\n",
       "new_genre[T.Fantasy_Scifi]      0.1786      0.303      0.589      0.556        -0.416     0.774\n",
       "new_genre[T.Foreign]            1.2839      0.312      4.116      0.000         0.672     1.896\n",
       "new_genre[T.Historical]         1.1635      0.268      4.340      0.000         0.637     1.690\n",
       "new_genre[T.Horror]            -0.2086      0.222     -0.938      0.348        -0.645     0.228\n",
       "new_genre[T.Musical]            0.2748      0.319      0.861      0.389        -0.351     0.901\n",
       "new_genre[T.None]               0.1567      0.268      0.586      0.558        -0.368     0.682\n",
       "new_genre[T.Other]              0.2365      0.648      0.365      0.715        -1.035     1.508\n",
       "new_genre[T.Romance]            0.2535      0.233      1.090      0.276        -0.203     0.710\n",
       "new_genre[T.Sports]             0.5991      0.342      1.754      0.080        -0.071     1.270\n",
       "new_genre[T.War]                3.0205      0.641      4.710      0.000         1.762     4.279\n",
       "new_genre[T.Western]            1.2902      0.580      2.226      0.026         0.152     2.428\n",
       "clean_rating[T.G]              -0.1134      0.457     -0.248      0.804        -1.011     0.785\n",
       "clean_rating[T.NC-17]          -0.2097      0.605     -0.347      0.729        -1.398     0.978\n",
       "clean_rating[T.PG]              0.1009      0.304      0.332      0.740        -0.496     0.698\n",
       "clean_rating[T.PG-13]           0.3337      0.274      1.218      0.224        -0.204     0.871\n",
       "clean_rating[T.R]               0.6334      0.262      2.414      0.016         0.118     1.148\n",
       "theaters                        0.0001   4.91e-05      2.973      0.003      4.96e-05     0.000\n",
       "==============================================================================\n",
       "Omnibus:                      700.176   Durbin-Watson:                   1.900\n",
       "Prob(Omnibus):                  0.000   Jarque-Bera (JB):            12660.395\n",
       "Skew:                           3.541   Prob(JB):                         0.00\n",
       "Kurtosis:                      20.066   Cond. No.                     3.59e+04\n",
       "==============================================================================\n",
       "\n",
       "Warnings:\n",
       "[1] Standard Errors assume that the covariance matrix of the errors is correctly specified.\n",
       "[2] The condition number is large, 3.59e+04. This might indicate that there are\n",
       "strong multicollinearity or other numerical problems.\n",
       "\"\"\""
      ]
     },
     "execution_count": 650,
     "metadata": {},
     "output_type": "execute_result"
    }
   ],
   "source": [
    "oscars.summary()"
   ]
  },
  {
   "cell_type": "code",
   "execution_count": 671,
   "metadata": {
    "collapsed": false
   },
   "outputs": [
    {
     "name": "stderr",
     "output_type": "stream",
     "text": [
      "/anaconda/lib/python2.7/site-packages/ipykernel/__main__.py:74: SettingWithCopyWarning: \n",
      "A value is trying to be set on a copy of a slice from a DataFrame.\n",
      "Try using .loc[row_indexer,col_indexer] = value instead\n",
      "\n",
      "See the caveats in the documentation: http://pandas.pydata.org/pandas-docs/stable/indexing.html#indexing-view-versus-copy\n"
     ]
    }
   ],
   "source": [
    "# clean up oscars model a bit\n",
    "'''things to clean:\n",
    "- rating: R vs. not R \n",
    "- seasons: holiday, winter, other \n",
    "- genres: draama, foreign, historical + need to split other back out...'''\n",
    "\n",
    "def split_r_rating(r):\n",
    "    return r if r == 'R' else 'Not R'\n",
    "\n",
    "clean_rating(train, split_r_rating, 'r_rating')"
   ]
  },
  {
   "cell_type": "code",
   "execution_count": 679,
   "metadata": {
    "collapsed": false
   },
   "outputs": [],
   "source": [
    "oscars = smf.ols(formula=\"oscar_noms ~ season\", data = train).fit()"
   ]
  },
  {
   "cell_type": "code",
   "execution_count": 680,
   "metadata": {
    "collapsed": false
   },
   "outputs": [
    {
     "data": {
      "text/html": [
       "<table class=\"simpletable\">\n",
       "<caption>OLS Regression Results</caption>\n",
       "<tr>\n",
       "  <th>Dep. Variable:</th>       <td>oscar_noms</td>    <th>  R-squared:         </th> <td>   0.091</td>\n",
       "</tr>\n",
       "<tr>\n",
       "  <th>Model:</th>                   <td>OLS</td>       <th>  Adj. R-squared:    </th> <td>   0.086</td>\n",
       "</tr>\n",
       "<tr>\n",
       "  <th>Method:</th>             <td>Least Squares</td>  <th>  F-statistic:       </th> <td>   22.24</td>\n",
       "</tr>\n",
       "<tr>\n",
       "  <th>Date:</th>             <td>Mon, 25 Jan 2016</td> <th>  Prob (F-statistic):</th> <td>1.59e-17</td>\n",
       "</tr>\n",
       "<tr>\n",
       "  <th>Time:</th>                 <td>17:42:11</td>     <th>  Log-Likelihood:    </th> <td> -1488.9</td>\n",
       "</tr>\n",
       "<tr>\n",
       "  <th>No. Observations:</th>      <td>   899</td>      <th>  AIC:               </th> <td>   2988.</td>\n",
       "</tr>\n",
       "<tr>\n",
       "  <th>Df Residuals:</th>          <td>   894</td>      <th>  BIC:               </th> <td>   3012.</td>\n",
       "</tr>\n",
       "<tr>\n",
       "  <th>Df Model:</th>              <td>     4</td>      <th>                     </th>     <td> </td>   \n",
       "</tr>\n",
       "<tr>\n",
       "  <th>Covariance Type:</th>      <td>nonrobust</td>    <th>                     </th>     <td> </td>   \n",
       "</tr>\n",
       "</table>\n",
       "<table class=\"simpletable\">\n",
       "<tr>\n",
       "          <td></td>             <th>coef</th>     <th>std err</th>      <th>t</th>      <th>P>|t|</th> <th>[95.0% Conf. Int.]</th> \n",
       "</tr>\n",
       "<tr>\n",
       "  <th>Intercept</th>         <td>    0.3496</td> <td>    0.085</td> <td>    4.134</td> <td> 0.000</td> <td>    0.184     0.516</td>\n",
       "</tr>\n",
       "<tr>\n",
       "  <th>season[T.holiday]</th> <td>    0.9424</td> <td>    0.138</td> <td>    6.846</td> <td> 0.000</td> <td>    0.672     1.213</td>\n",
       "</tr>\n",
       "<tr>\n",
       "  <th>season[T.spring]</th>  <td>   -0.2253</td> <td>    0.129</td> <td>   -1.743</td> <td> 0.082</td> <td>   -0.479     0.028</td>\n",
       "</tr>\n",
       "<tr>\n",
       "  <th>season[T.summer]</th>  <td>   -0.0818</td> <td>    0.118</td> <td>   -0.693</td> <td> 0.488</td> <td>   -0.313     0.150</td>\n",
       "</tr>\n",
       "<tr>\n",
       "  <th>season[T.winter]</th>  <td>   -0.3183</td> <td>    0.141</td> <td>   -2.263</td> <td> 0.024</td> <td>   -0.594    -0.042</td>\n",
       "</tr>\n",
       "</table>\n",
       "<table class=\"simpletable\">\n",
       "<tr>\n",
       "  <th>Omnibus:</th>       <td>770.150</td> <th>  Durbin-Watson:     </th> <td>   1.879</td> \n",
       "</tr>\n",
       "<tr>\n",
       "  <th>Prob(Omnibus):</th> <td> 0.000</td>  <th>  Jarque-Bera (JB):  </th> <td>15934.157</td>\n",
       "</tr>\n",
       "<tr>\n",
       "  <th>Skew:</th>          <td> 3.979</td>  <th>  Prob(JB):          </th> <td>    0.00</td> \n",
       "</tr>\n",
       "<tr>\n",
       "  <th>Kurtosis:</th>      <td>22.028</td>  <th>  Cond. No.          </th> <td>    5.35</td> \n",
       "</tr>\n",
       "</table>"
      ],
      "text/plain": [
       "<class 'statsmodels.iolib.summary.Summary'>\n",
       "\"\"\"\n",
       "                            OLS Regression Results                            \n",
       "==============================================================================\n",
       "Dep. Variable:             oscar_noms   R-squared:                       0.091\n",
       "Model:                            OLS   Adj. R-squared:                  0.086\n",
       "Method:                 Least Squares   F-statistic:                     22.24\n",
       "Date:                Mon, 25 Jan 2016   Prob (F-statistic):           1.59e-17\n",
       "Time:                        17:42:11   Log-Likelihood:                -1488.9\n",
       "No. Observations:                 899   AIC:                             2988.\n",
       "Df Residuals:                     894   BIC:                             3012.\n",
       "Df Model:                           4                                         \n",
       "Covariance Type:            nonrobust                                         \n",
       "=====================================================================================\n",
       "                        coef    std err          t      P>|t|      [95.0% Conf. Int.]\n",
       "-------------------------------------------------------------------------------------\n",
       "Intercept             0.3496      0.085      4.134      0.000         0.184     0.516\n",
       "season[T.holiday]     0.9424      0.138      6.846      0.000         0.672     1.213\n",
       "season[T.spring]     -0.2253      0.129     -1.743      0.082        -0.479     0.028\n",
       "season[T.summer]     -0.0818      0.118     -0.693      0.488        -0.313     0.150\n",
       "season[T.winter]     -0.3183      0.141     -2.263      0.024        -0.594    -0.042\n",
       "==============================================================================\n",
       "Omnibus:                      770.150   Durbin-Watson:                   1.879\n",
       "Prob(Omnibus):                  0.000   Jarque-Bera (JB):            15934.157\n",
       "Skew:                           3.979   Prob(JB):                         0.00\n",
       "Kurtosis:                      22.028   Cond. No.                         5.35\n",
       "==============================================================================\n",
       "\n",
       "Warnings:\n",
       "[1] Standard Errors assume that the covariance matrix of the errors is correctly specified.\n",
       "\"\"\""
      ]
     },
     "execution_count": 680,
     "metadata": {},
     "output_type": "execute_result"
    }
   ],
   "source": [
    "oscars.summary()"
   ]
  },
  {
   "cell_type": "code",
   "execution_count": 659,
   "metadata": {
    "collapsed": false
   },
   "outputs": [
    {
     "data": {
      "text/html": [
       "<div>\n",
       "<table border=\"1\" class=\"dataframe\">\n",
       "  <thead>\n",
       "    <tr style=\"text-align: right;\">\n",
       "      <th></th>\n",
       "      <th>title</th>\n",
       "      <th>release_date</th>\n",
       "      <th>closing_date</th>\n",
       "      <th>actors</th>\n",
       "      <th>budget</th>\n",
       "      <th>director</th>\n",
       "      <th>distributor</th>\n",
       "      <th>dom_total_gross</th>\n",
       "      <th>domestic_total_adj_gross</th>\n",
       "      <th>genre</th>\n",
       "      <th>...</th>\n",
       "      <th>producers1</th>\n",
       "      <th>producers2</th>\n",
       "      <th>producers3</th>\n",
       "      <th>season</th>\n",
       "      <th>new_genre</th>\n",
       "      <th>clean_rating</th>\n",
       "      <th>release_year</th>\n",
       "      <th>infl_rate</th>\n",
       "      <th>budget_adj</th>\n",
       "      <th>dom_roi</th>\n",
       "    </tr>\n",
       "  </thead>\n",
       "  <tbody>\n",
       "    <tr>\n",
       "      <th>46</th>\n",
       "      <td>Accepted</td>\n",
       "      <td>2006-08-18</td>\n",
       "      <td>2006-10-19</td>\n",
       "      <td>[Justin Long, Blake Lively, Jonah Hill, Kellan...</td>\n",
       "      <td>23000000</td>\n",
       "      <td>[Steve Pink]</td>\n",
       "      <td>Universal</td>\n",
       "      <td>36323505</td>\n",
       "      <td>48246500</td>\n",
       "      <td>Comedy</td>\n",
       "      <td>...</td>\n",
       "      <td>Michael Bostick</td>\n",
       "      <td>Tom Shadyac</td>\n",
       "      <td></td>\n",
       "      <td>summer</td>\n",
       "      <td>Comedy</td>\n",
       "      <td>Not R</td>\n",
       "      <td>2006</td>\n",
       "      <td>1.175680</td>\n",
       "      <td>27040629</td>\n",
       "      <td>0.579283</td>\n",
       "    </tr>\n",
       "    <tr>\n",
       "      <th>54</th>\n",
       "      <td>Ace Ventura: Pet Detective</td>\n",
       "      <td>1994-02-04</td>\n",
       "      <td>NaT</td>\n",
       "      <td>[Jim Carrey, Courteney Cox]</td>\n",
       "      <td>15000000</td>\n",
       "      <td>[Tom Shadyac]</td>\n",
       "      <td>Warner Bros.</td>\n",
       "      <td>72217396</td>\n",
       "      <td>150308900</td>\n",
       "      <td>Comedy</td>\n",
       "      <td>...</td>\n",
       "      <td>Gary Barber</td>\n",
       "      <td>James G. Robinson</td>\n",
       "      <td></td>\n",
       "      <td>winter</td>\n",
       "      <td>Comedy</td>\n",
       "      <td>Not R</td>\n",
       "      <td>1994</td>\n",
       "      <td>1.599305</td>\n",
       "      <td>23989574</td>\n",
       "      <td>3.814493</td>\n",
       "    </tr>\n",
       "    <tr>\n",
       "      <th>70</th>\n",
       "      <td>Adaptation.</td>\n",
       "      <td>2002-12-06</td>\n",
       "      <td>2003-05-22</td>\n",
       "      <td>[Nicolas Cage, Meryl Streep, Chris Cooper, Bri...</td>\n",
       "      <td>19000000</td>\n",
       "      <td>[Spike Jonze]</td>\n",
       "      <td>Sony / Columbia</td>\n",
       "      <td>22498520</td>\n",
       "      <td>32626700</td>\n",
       "      <td>Comedy</td>\n",
       "      <td>...</td>\n",
       "      <td></td>\n",
       "      <td></td>\n",
       "      <td></td>\n",
       "      <td>holiday</td>\n",
       "      <td>Comedy</td>\n",
       "      <td>R</td>\n",
       "      <td>2002</td>\n",
       "      <td>1.317640</td>\n",
       "      <td>25035151</td>\n",
       "      <td>0.184133</td>\n",
       "    </tr>\n",
       "    <tr>\n",
       "      <th>123</th>\n",
       "      <td>Affliction</td>\n",
       "      <td>1998-12-30</td>\n",
       "      <td>NaT</td>\n",
       "      <td>[Willem Dafoe]</td>\n",
       "      <td>6000000</td>\n",
       "      <td>[Paul Schrader]</td>\n",
       "      <td>Lions Gate</td>\n",
       "      <td>6330054</td>\n",
       "      <td>10844500</td>\n",
       "      <td>Drama</td>\n",
       "      <td>...</td>\n",
       "      <td></td>\n",
       "      <td></td>\n",
       "      <td></td>\n",
       "      <td>holiday</td>\n",
       "      <td>Drama</td>\n",
       "      <td>R</td>\n",
       "      <td>1998</td>\n",
       "      <td>1.454092</td>\n",
       "      <td>8724552</td>\n",
       "      <td>0.055009</td>\n",
       "    </tr>\n",
       "    <tr>\n",
       "      <th>207</th>\n",
       "      <td>Akeelah and the Bee</td>\n",
       "      <td>2006-04-28</td>\n",
       "      <td>2006-07-20</td>\n",
       "      <td>[Laurence Fishburne, Angela Bassett, Keke Palmer]</td>\n",
       "      <td>8000000</td>\n",
       "      <td></td>\n",
       "      <td>Lionsgate</td>\n",
       "      <td>18848430</td>\n",
       "      <td>25035300</td>\n",
       "      <td>Drama</td>\n",
       "      <td>...</td>\n",
       "      <td></td>\n",
       "      <td></td>\n",
       "      <td></td>\n",
       "      <td>spring</td>\n",
       "      <td>Drama</td>\n",
       "      <td>Not R</td>\n",
       "      <td>2006</td>\n",
       "      <td>1.175680</td>\n",
       "      <td>9405436</td>\n",
       "      <td>1.356054</td>\n",
       "    </tr>\n",
       "  </tbody>\n",
       "</table>\n",
       "<p>5 rows × 39 columns</p>\n",
       "</div>"
      ],
      "text/plain": [
       "                          title release_date closing_date  \\\n",
       "46                     Accepted   2006-08-18   2006-10-19   \n",
       "54   Ace Ventura: Pet Detective   1994-02-04          NaT   \n",
       "70                  Adaptation.   2002-12-06   2003-05-22   \n",
       "123                  Affliction   1998-12-30          NaT   \n",
       "207         Akeelah and the Bee   2006-04-28   2006-07-20   \n",
       "\n",
       "                                                actors    budget  \\\n",
       "46   [Justin Long, Blake Lively, Jonah Hill, Kellan...  23000000   \n",
       "54                         [Jim Carrey, Courteney Cox]  15000000   \n",
       "70   [Nicolas Cage, Meryl Streep, Chris Cooper, Bri...  19000000   \n",
       "123                                     [Willem Dafoe]   6000000   \n",
       "207  [Laurence Fishburne, Angela Bassett, Keke Palmer]   8000000   \n",
       "\n",
       "            director      distributor  dom_total_gross  \\\n",
       "46      [Steve Pink]        Universal         36323505   \n",
       "54     [Tom Shadyac]     Warner Bros.         72217396   \n",
       "70     [Spike Jonze]  Sony / Columbia         22498520   \n",
       "123  [Paul Schrader]       Lions Gate          6330054   \n",
       "207                         Lionsgate         18848430   \n",
       "\n",
       "     domestic_total_adj_gross   genre    ...          producers1  \\\n",
       "46                   48246500  Comedy    ...     Michael Bostick   \n",
       "54                  150308900  Comedy    ...         Gary Barber   \n",
       "70                   32626700  Comedy    ...                       \n",
       "123                  10844500   Drama    ...                       \n",
       "207                  25035300   Drama    ...                       \n",
       "\n",
       "            producers2  producers3   season new_genre  clean_rating  \\\n",
       "46         Tom Shadyac               summer    Comedy         Not R   \n",
       "54   James G. Robinson               winter    Comedy         Not R   \n",
       "70                                  holiday    Comedy             R   \n",
       "123                                 holiday     Drama             R   \n",
       "207                                  spring     Drama         Not R   \n",
       "\n",
       "     release_year infl_rate budget_adj   dom_roi  \n",
       "46           2006  1.175680   27040629  0.579283  \n",
       "54           1994  1.599305   23989574  3.814493  \n",
       "70           2002  1.317640   25035151  0.184133  \n",
       "123          1998  1.454092    8724552  0.055009  \n",
       "207          2006  1.175680    9405436  1.356054  \n",
       "\n",
       "[5 rows x 39 columns]"
      ]
     },
     "execution_count": 659,
     "metadata": {},
     "output_type": "execute_result"
    }
   ],
   "source": [
    "train.head()ratin"
   ]
  },
  {
   "cell_type": "code",
   "execution_count": null,
   "metadata": {
    "collapsed": true
   },
   "outputs": [],
   "source": [
    "train['rating2'] = train['clean_rating'].apply"
   ]
  },
  {
   "cell_type": "markdown",
   "metadata": {},
   "source": [
    "#### begin workspace for testing genre categorization"
   ]
  },
  {
   "cell_type": "code",
   "execution_count": 18,
   "metadata": {
    "collapsed": false
   },
   "outputs": [
    {
     "name": "stdout",
     "output_type": "stream",
     "text": [
      "('Action', 'Action / Adventure', 'Action / Crime', 'Action Comedy', 'Action Drama', 'Action Fantasy', 'Action Horror', 'Action Thriller', 'Adventure', 'Adventure Comedy', 'Animation', 'Comedy', 'Comedy / Drama', 'Comedy Thriller', 'Concert', 'Crime', 'Crime Comedy', 'Crime Drama', 'Crime Thriller', 'Documentary', 'Drama', 'Drama / Thriller', 'Family', 'Family Adventure', 'Family Comedy', 'Fantasy', 'Fantasy Comedy', 'Fantasy Drama', 'Foreign', 'Foreign / Action', 'Foreign / Horror', 'Historical Drama', 'Historical Epic', 'Horror', 'Horror Comedy', 'Horror Thriller', 'IMAX', 'Music Drama', 'Musical', 'None', 'Period Action', 'Period Adventure', 'Period Comedy', 'Period Drama', 'Period Horror', 'Romance', 'Romantic Adventure', 'Romantic Comedy', 'Romantic Thriller', 'Sci-Fi', 'Sci-Fi Action', 'Sci-Fi Adventure', 'Sci-Fi Comedy', 'Sci-Fi Fantasy', 'Sci-Fi Horror', 'Sci-Fi Thriller', 'Sports', 'Sports Action', 'Sports Comedy', 'Sports Drama', 'Thriller', 'Unknown', 'War', 'War Drama', 'War Romance', 'Western', 'Western Comedy')\n"
     ]
    }
   ],
   "source": [
    "# original genre categories\n",
    "raw_genres = tuple(by_genre.count().index)\n",
    "print raw_genres"
   ]
  },
  {
   "cell_type": "code",
   "execution_count": 33,
   "metadata": {
    "collapsed": false
   },
   "outputs": [
    {
     "name": "stdout",
     "output_type": "stream",
     "text": [
      "67\n"
     ]
    }
   ],
   "source": [
    "print len(raw_genres)"
   ]
  },
  {
   "cell_type": "code",
   "execution_count": 626,
   "metadata": {
    "collapsed": false
   },
   "outputs": [],
   "source": [
    "# code simple genres \n",
    "simple_genres = ['Act_Adven', 'Act_Adven', 'Act_Adven', 'Act_Adven', 'Act_Adven', 'Act_Adven', \n",
    "                 'Act_Adven', 'Act_Adven', 'Act_Adven', 'Act_Adven', \n",
    "                 'Animation', 'Comedy', 'Comedy', 'Comedy', 'Other', \n",
    "                 'Crime_Thriller', 'Crime_Thriller', 'Crime_Thriller', 'Crime_Thriller', \n",
    "                 'Documentary', 'Drama', 'Drama', 'Family', 'Family', 'Family', 'Fantasy_Scifi', 'Fantasy_Scifi', \n",
    "                 'Fantasy_Scifi', 'Foreign', 'Foreign', 'Foreign', 'Historical', 'Historical', \n",
    "                 'Horror', 'Horror', 'Horror', 'Other', 'Musical', 'Musical', 'None', \n",
    "                 'Historical', 'Historical', 'Historical', 'Historical', 'Historical', \n",
    "                 'Romance', 'Romance', 'Romance', 'Romance', 'Fantasy_Scifi', 'Fantasy_Scifi', \n",
    "                 'Fantasy_Scifi', 'Fantasy_Scifi', 'Fantasy_Scifi', 'Fantasy_Scifi', \n",
    "                 'Fantasy_Scifi', 'Sports', 'Sports', 'Sports', 'Sports',  'Crime_Thriller', \n",
    "                 'None', 'War', 'War', 'War', 'Western', 'Western']"
   ]
  },
  {
   "cell_type": "code",
   "execution_count": 627,
   "metadata": {
    "collapsed": false
   },
   "outputs": [
    {
     "name": "stdout",
     "output_type": "stream",
     "text": [
      "set(['Romance', 'None', 'Family', 'Sports', 'Horror', 'Other', 'Act_Adven', 'Foreign', 'Drama', 'Animation', 'War', 'Western', 'Historical', 'Crime_Thriller', 'Fantasy_Scifi', 'Comedy', 'Documentary', 'Musical'])\n",
      "18\n"
     ]
    }
   ],
   "source": [
    "# count how many genres\n",
    "print set(simple_genres)\n",
    "print len(set(simple_genres))"
   ]
  },
  {
   "cell_type": "code",
   "execution_count": 628,
   "metadata": {
    "collapsed": true
   },
   "outputs": [],
   "source": [
    "genres = dict(zip(raw_genres, simple_genres))"
   ]
  },
  {
   "cell_type": "code",
   "execution_count": 629,
   "metadata": {
    "collapsed": false
   },
   "outputs": [
    {
     "name": "stdout",
     "output_type": "stream",
     "text": [
      "{'Action': 'Act_Adven',\n",
      " 'Action / Adventure': 'Act_Adven',\n",
      " 'Action / Crime': 'Act_Adven',\n",
      " 'Action Comedy': 'Act_Adven',\n",
      " 'Action Drama': 'Act_Adven',\n",
      " 'Action Fantasy': 'Act_Adven',\n",
      " 'Action Horror': 'Act_Adven',\n",
      " 'Action Thriller': 'Act_Adven',\n",
      " 'Adventure': 'Act_Adven',\n",
      " 'Adventure Comedy': 'Act_Adven',\n",
      " 'Animation': 'Animation',\n",
      " 'Comedy': 'Comedy',\n",
      " 'Comedy / Drama': 'Comedy',\n",
      " 'Comedy Thriller': 'Comedy',\n",
      " 'Concert': 'Other',\n",
      " 'Crime': 'Crime_Thriller',\n",
      " 'Crime Comedy': 'Crime_Thriller',\n",
      " 'Crime Drama': 'Crime_Thriller',\n",
      " 'Crime Thriller': 'Crime_Thriller',\n",
      " 'Documentary': 'Documentary',\n",
      " 'Drama': 'Drama',\n",
      " 'Drama / Thriller': 'Drama',\n",
      " 'Family': 'Family',\n",
      " 'Family Adventure': 'Family',\n",
      " 'Family Comedy': 'Family',\n",
      " 'Fantasy': 'Fantasy_Scifi',\n",
      " 'Fantasy Comedy': 'Fantasy_Scifi',\n",
      " 'Fantasy Drama': 'Fantasy_Scifi',\n",
      " 'Foreign': 'Foreign',\n",
      " 'Foreign / Action': 'Foreign',\n",
      " 'Foreign / Horror': 'Foreign',\n",
      " 'Historical Drama': 'Historical',\n",
      " 'Historical Epic': 'Historical',\n",
      " 'Horror': 'Horror',\n",
      " 'Horror Comedy': 'Horror',\n",
      " 'Horror Thriller': 'Horror',\n",
      " 'IMAX': 'Other',\n",
      " 'Music Drama': 'Musical',\n",
      " 'Musical': 'Musical',\n",
      " 'None': 'None',\n",
      " 'Period Action': 'Historical',\n",
      " 'Period Adventure': 'Historical',\n",
      " 'Period Comedy': 'Historical',\n",
      " 'Period Drama': 'Historical',\n",
      " 'Period Horror': 'Historical',\n",
      " 'Romance': 'Romance',\n",
      " 'Romantic Adventure': 'Romance',\n",
      " 'Romantic Comedy': 'Romance',\n",
      " 'Romantic Thriller': 'Romance',\n",
      " 'Sci-Fi': 'Fantasy_Scifi',\n",
      " 'Sci-Fi Action': 'Fantasy_Scifi',\n",
      " 'Sci-Fi Adventure': 'Fantasy_Scifi',\n",
      " 'Sci-Fi Comedy': 'Fantasy_Scifi',\n",
      " 'Sci-Fi Fantasy': 'Fantasy_Scifi',\n",
      " 'Sci-Fi Horror': 'Fantasy_Scifi',\n",
      " 'Sci-Fi Thriller': 'Fantasy_Scifi',\n",
      " 'Sports': 'Sports',\n",
      " 'Sports Action': 'Sports',\n",
      " 'Sports Comedy': 'Sports',\n",
      " 'Sports Drama': 'Sports',\n",
      " 'Thriller': 'Crime_Thriller',\n",
      " 'Unknown': 'None',\n",
      " 'War': 'War',\n",
      " 'War Drama': 'War',\n",
      " 'War Romance': 'War',\n",
      " 'Western': 'Western',\n",
      " 'Western Comedy': 'Western'}\n"
     ]
    }
   ],
   "source": [
    "pprint(genres)"
   ]
  },
  {
   "cell_type": "markdown",
   "metadata": {},
   "source": [
    "#### </ end genre testing workspace >"
   ]
  },
  {
   "cell_type": "code",
   "execution_count": 93,
   "metadata": {
    "collapsed": false
   },
   "outputs": [
    {
     "data": {
      "text/html": [
       "<div>\n",
       "<table border=\"1\" class=\"dataframe\">\n",
       "  <thead>\n",
       "    <tr style=\"text-align: right;\">\n",
       "      <th></th>\n",
       "      <th>1-title</th>\n",
       "      <th>2-release_date</th>\n",
       "      <th>3-closing_date</th>\n",
       "      <th>actors</th>\n",
       "      <th>budget</th>\n",
       "      <th>director</th>\n",
       "      <th>distributor</th>\n",
       "      <th>dom_total_gross</th>\n",
       "      <th>intl_total_gross</th>\n",
       "      <th>oscar_noms</th>\n",
       "      <th>...</th>\n",
       "      <th>genre_Romantic Thriller</th>\n",
       "      <th>genre_Sci-Fi Action</th>\n",
       "      <th>genre_Sci-Fi Horror</th>\n",
       "      <th>genre_Sci-Fi Thriller</th>\n",
       "      <th>genre_Sports Comedy</th>\n",
       "      <th>genre_Sports Drama</th>\n",
       "      <th>genre_Thriller</th>\n",
       "      <th>genre_Unknown</th>\n",
       "      <th>genre_War</th>\n",
       "      <th>genre_Western</th>\n",
       "    </tr>\n",
       "  </thead>\n",
       "  <tbody>\n",
       "    <tr>\n",
       "      <th>123</th>\n",
       "      <td>Affliction</td>\n",
       "      <td>1998-12-30</td>\n",
       "      <td>NaT</td>\n",
       "      <td>[Willem Dafoe]</td>\n",
       "      <td>6000000</td>\n",
       "      <td>[Paul Schrader]</td>\n",
       "      <td>Lions Gate</td>\n",
       "      <td>6330054</td>\n",
       "      <td>NaN</td>\n",
       "      <td>2</td>\n",
       "      <td>...</td>\n",
       "      <td>0</td>\n",
       "      <td>0</td>\n",
       "      <td>0</td>\n",
       "      <td>0</td>\n",
       "      <td>0</td>\n",
       "      <td>0</td>\n",
       "      <td>0</td>\n",
       "      <td>0</td>\n",
       "      <td>0</td>\n",
       "      <td>0</td>\n",
       "    </tr>\n",
       "    <tr>\n",
       "      <th>200</th>\n",
       "      <td>Airplane!</td>\n",
       "      <td>1980-06-27</td>\n",
       "      <td>NaT</td>\n",
       "      <td>[Leslie Nielsen]</td>\n",
       "      <td>3500000</td>\n",
       "      <td>[Jim Abrahams, David Zucker, Jerry Zucker]</td>\n",
       "      <td>Paramount</td>\n",
       "      <td>83453539</td>\n",
       "      <td>NaN</td>\n",
       "      <td>0</td>\n",
       "      <td>...</td>\n",
       "      <td>0</td>\n",
       "      <td>0</td>\n",
       "      <td>0</td>\n",
       "      <td>0</td>\n",
       "      <td>0</td>\n",
       "      <td>0</td>\n",
       "      <td>0</td>\n",
       "      <td>0</td>\n",
       "      <td>0</td>\n",
       "      <td>0</td>\n",
       "    </tr>\n",
       "    <tr>\n",
       "      <th>207</th>\n",
       "      <td>Akeelah and the Bee</td>\n",
       "      <td>2006-04-28</td>\n",
       "      <td>2006-07-20</td>\n",
       "      <td>[Laurence Fishburne, Angela Bassett, Keke Palmer]</td>\n",
       "      <td>8000000</td>\n",
       "      <td>None</td>\n",
       "      <td>Lionsgate</td>\n",
       "      <td>18848430</td>\n",
       "      <td>18948425</td>\n",
       "      <td>0</td>\n",
       "      <td>...</td>\n",
       "      <td>0</td>\n",
       "      <td>0</td>\n",
       "      <td>0</td>\n",
       "      <td>0</td>\n",
       "      <td>0</td>\n",
       "      <td>0</td>\n",
       "      <td>0</td>\n",
       "      <td>0</td>\n",
       "      <td>0</td>\n",
       "      <td>0</td>\n",
       "    </tr>\n",
       "    <tr>\n",
       "      <th>223</th>\n",
       "      <td>Albino Alligator</td>\n",
       "      <td>1997-01-17</td>\n",
       "      <td>1997-02-13</td>\n",
       "      <td>[Matt Dillon, Viggo Mortensen]</td>\n",
       "      <td>6000000</td>\n",
       "      <td>None</td>\n",
       "      <td>Miramax</td>\n",
       "      <td>339379</td>\n",
       "      <td>NaN</td>\n",
       "      <td>0</td>\n",
       "      <td>...</td>\n",
       "      <td>0</td>\n",
       "      <td>0</td>\n",
       "      <td>0</td>\n",
       "      <td>0</td>\n",
       "      <td>0</td>\n",
       "      <td>0</td>\n",
       "      <td>0</td>\n",
       "      <td>1</td>\n",
       "      <td>0</td>\n",
       "      <td>0</td>\n",
       "    </tr>\n",
       "    <tr>\n",
       "      <th>289</th>\n",
       "      <td>All or Nothing</td>\n",
       "      <td>2002-10-25</td>\n",
       "      <td>NaT</td>\n",
       "      <td>[Taraji P. Henson, Sally Hawkins]</td>\n",
       "      <td>9000000</td>\n",
       "      <td>[Mike Leigh]</td>\n",
       "      <td>United Artists</td>\n",
       "      <td>201546</td>\n",
       "      <td>201546</td>\n",
       "      <td>0</td>\n",
       "      <td>...</td>\n",
       "      <td>0</td>\n",
       "      <td>0</td>\n",
       "      <td>0</td>\n",
       "      <td>0</td>\n",
       "      <td>0</td>\n",
       "      <td>0</td>\n",
       "      <td>0</td>\n",
       "      <td>1</td>\n",
       "      <td>0</td>\n",
       "      <td>0</td>\n",
       "    </tr>\n",
       "  </tbody>\n",
       "</table>\n",
       "<p>5 rows × 64 columns</p>\n",
       "</div>"
      ],
      "text/plain": [
       "                 1-title 2-release_date 3-closing_date  \\\n",
       "123           Affliction     1998-12-30            NaT   \n",
       "200            Airplane!     1980-06-27            NaT   \n",
       "207  Akeelah and the Bee     2006-04-28     2006-07-20   \n",
       "223     Albino Alligator     1997-01-17     1997-02-13   \n",
       "289       All or Nothing     2002-10-25            NaT   \n",
       "\n",
       "                                                actors   budget  \\\n",
       "123                                     [Willem Dafoe]  6000000   \n",
       "200                                   [Leslie Nielsen]  3500000   \n",
       "207  [Laurence Fishburne, Angela Bassett, Keke Palmer]  8000000   \n",
       "223                     [Matt Dillon, Viggo Mortensen]  6000000   \n",
       "289                  [Taraji P. Henson, Sally Hawkins]  9000000   \n",
       "\n",
       "                                       director     distributor  \\\n",
       "123                             [Paul Schrader]      Lions Gate   \n",
       "200  [Jim Abrahams, David Zucker, Jerry Zucker]       Paramount   \n",
       "207                                        None       Lionsgate   \n",
       "223                                        None         Miramax   \n",
       "289                                [Mike Leigh]  United Artists   \n",
       "\n",
       "     dom_total_gross  intl_total_gross  oscar_noms      ...        \\\n",
       "123          6330054               NaN           2      ...         \n",
       "200         83453539               NaN           0      ...         \n",
       "207         18848430          18948425           0      ...         \n",
       "223           339379               NaN           0      ...         \n",
       "289           201546            201546           0      ...         \n",
       "\n",
       "     genre_Romantic Thriller genre_Sci-Fi Action genre_Sci-Fi Horror  \\\n",
       "123                        0                   0                   0   \n",
       "200                        0                   0                   0   \n",
       "207                        0                   0                   0   \n",
       "223                        0                   0                   0   \n",
       "289                        0                   0                   0   \n",
       "\n",
       "     genre_Sci-Fi Thriller  genre_Sports Comedy genre_Sports Drama  \\\n",
       "123                      0                    0                  0   \n",
       "200                      0                    0                  0   \n",
       "207                      0                    0                  0   \n",
       "223                      0                    0                  0   \n",
       "289                      0                    0                  0   \n",
       "\n",
       "    genre_Thriller  genre_Unknown  genre_War  genre_Western  \n",
       "123              0              0          0              0  \n",
       "200              0              0          0              0  \n",
       "207              0              0          0              0  \n",
       "223              0              1          0              0  \n",
       "289              0              1          0              0  \n",
       "\n",
       "[5 rows x 64 columns]"
      ]
     },
     "execution_count": 93,
     "metadata": {},
     "output_type": "execute_result"
    }
   ],
   "source": [
    "pd.get_dummies(newer_movies, columns = ['genre']).head()"
   ]
  },
  {
   "cell_type": "code",
   "execution_count": null,
   "metadata": {
    "collapsed": true
   },
   "outputs": [],
   "source": []
  }
 ],
 "metadata": {
  "kernelspec": {
   "display_name": "Python 2",
   "language": "python",
   "name": "python2"
  },
  "language_info": {
   "codemirror_mode": {
    "name": "ipython",
    "version": 2
   },
   "file_extension": ".py",
   "mimetype": "text/x-python",
   "name": "python",
   "nbconvert_exporter": "python",
   "pygments_lexer": "ipython2",
   "version": "2.7.11"
  }
 },
 "nbformat": 4,
 "nbformat_minor": 0
}

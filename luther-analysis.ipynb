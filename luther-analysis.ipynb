{
 "cells": [
  {
   "cell_type": "markdown",
   "metadata": {},
   "source": [
    "**Question/need:** Can we predict the success (gross revenues, revenues per budget dollar, and/or oscar nominations) of proposed low-budget films (< $10 million) based on its characteristics? Are there different predictive characteristics for success in terms of gross revenues vs. oscar nominations? \n",
    "\n",
    "**Movie data:** I'm planning on using all movies (1980 - 2016) from boxofficemojo to investigate the impact of various characteristics on success. If I have time, I would also like to incorporate other variables, such as google searches and wikipedia page views, as well as critic and general public rating information from rottentomatoes. \n",
    "\n",
    "**Characteristics of each movie and/or other entities:** I'd like to investigate as many characteristics as possible during my first pass to determine which ones have the greatest predictive impact, and then dig in deeper to these characteristics. The features I'm most interested in are: genre, release date (month, if before a holiday weekend, if during Christmas holiday, if during summer), star power (a score that accounts for actors, director, and producers), production budget, and if there the movie has some preexisting popularity, either through a novel/play adaptation or if there's a prequel. I'll also investigate other features such as runtime, rating, and franchise, but I have a hunch that these will have a smaller impact. "
   ]
  },
  {
   "cell_type": "code",
   "execution_count": 13,
   "metadata": {
    "collapsed": false
   },
   "outputs": [
    {
     "name": "stderr",
     "output_type": "stream",
     "text": [
      "//anaconda/lib/python2.7/site-packages/matplotlib/__init__.py:872: UserWarning: axes.color_cycle is deprecated and replaced with axes.prop_cycle; please use the latter.\n",
      "  warnings.warn(self.msg_depr % (key, alt_key))\n"
     ]
    }
   ],
   "source": [
    "# storing\n",
    "import pickle\n",
    "\n",
    "# analysis \n",
    "import pandas as pd\n",
    "import numpy as np\n",
    "import matplotlib.pyplot as plt\n",
    "import seaborn as sns\n",
    "\n",
    "%matplotlib inline"
   ]
  },
  {
   "cell_type": "markdown",
   "metadata": {},
   "source": [
    "First, let's load the movie data into a dataframe and check the quality of our data."
   ]
  },
  {
   "cell_type": "code",
   "execution_count": 40,
   "metadata": {
    "collapsed": false
   },
   "outputs": [],
   "source": [
    "with open('pickled_data/all-movies-data.pkl', 'r') as picklefile:\n",
    "    all_movies_data = pickle.load(picklefile)"
   ]
  },
  {
   "cell_type": "code",
   "execution_count": 41,
   "metadata": {
    "collapsed": true
   },
   "outputs": [],
   "source": [
    "with open('pickled_data/failed-urls.pkl', 'r') as picklefile:\n",
    "    failed_urls = pickle.load(picklefile)"
   ]
  },
  {
   "cell_type": "code",
   "execution_count": 42,
   "metadata": {
    "collapsed": false
   },
   "outputs": [
    {
     "name": "stdout",
     "output_type": "stream",
     "text": [
      "['http://www.boxofficemojo.com/movies/?id=longshot2013.htm']\n"
     ]
    }
   ],
   "source": [
    "print failed_urls"
   ]
  },
  {
   "cell_type": "code",
   "execution_count": 43,
   "metadata": {
    "collapsed": true
   },
   "outputs": [],
   "source": [
    "all_movies = pd.DataFrame(all_movies_data)"
   ]
  },
  {
   "cell_type": "code",
   "execution_count": 47,
   "metadata": {
    "collapsed": false
   },
   "outputs": [
    {
     "data": {
      "text/html": [
       "<div>\n",
       "<table border=\"1\" class=\"dataframe\">\n",
       "  <thead>\n",
       "    <tr style=\"text-align: right;\">\n",
       "      <th></th>\n",
       "      <th>1-title</th>\n",
       "      <th>2-release_date</th>\n",
       "      <th>3-closing_date</th>\n",
       "      <th>actors</th>\n",
       "      <th>budget</th>\n",
       "      <th>director</th>\n",
       "      <th>distributor</th>\n",
       "      <th>dom_total_gross</th>\n",
       "      <th>genre</th>\n",
       "      <th>intl_total_gross</th>\n",
       "      <th>oscar_noms</th>\n",
       "      <th>oscar_wins</th>\n",
       "      <th>producers</th>\n",
       "      <th>rating</th>\n",
       "      <th>runtime_(mins)</th>\n",
       "      <th>theaters</th>\n",
       "      <th>url</th>\n",
       "      <th>writers</th>\n",
       "    </tr>\n",
       "  </thead>\n",
       "  <tbody>\n",
       "    <tr>\n",
       "      <th>0</th>\n",
       "      <td>The A-Team</td>\n",
       "      <td>2010-06-11</td>\n",
       "      <td>2010-09-16</td>\n",
       "      <td>[Liam Neeson, Bradley Cooper, Sharlto Copley, ...</td>\n",
       "      <td>110000000</td>\n",
       "      <td>[Joe Carnahan]</td>\n",
       "      <td>Fox</td>\n",
       "      <td>77222099</td>\n",
       "      <td>Action</td>\n",
       "      <td>177238796</td>\n",
       "      <td>0</td>\n",
       "      <td>0</td>\n",
       "      <td>[Ridley Scott, Tony Scott, Alex Young]</td>\n",
       "      <td>PG-13</td>\n",
       "      <td>117</td>\n",
       "      <td>3544</td>\n",
       "      <td>ateam.htm</td>\n",
       "      <td>[Skip Woods]</td>\n",
       "    </tr>\n",
       "    <tr>\n",
       "      <th>1</th>\n",
       "      <td>A.C.O.D.</td>\n",
       "      <td>2013-10-04</td>\n",
       "      <td>2013-11-07</td>\n",
       "      <td>[Adam Scott, Catherine O'Hara, Richard Jenkins...</td>\n",
       "      <td>NaN</td>\n",
       "      <td>None</td>\n",
       "      <td>The Film Arcade</td>\n",
       "      <td>175705</td>\n",
       "      <td>Comedy</td>\n",
       "      <td>NaN</td>\n",
       "      <td>0</td>\n",
       "      <td>0</td>\n",
       "      <td>[Teddy Schwarzman]</td>\n",
       "      <td>PG-13</td>\n",
       "      <td>88</td>\n",
       "      <td>42</td>\n",
       "      <td>acod.htm</td>\n",
       "      <td>None</td>\n",
       "    </tr>\n",
       "    <tr>\n",
       "      <th>2</th>\n",
       "      <td>A.I. Artificial Intelligence</td>\n",
       "      <td>2001-06-29</td>\n",
       "      <td>NaT</td>\n",
       "      <td>[Haley Joel Osment, Frances O'Connor, Jude Law...</td>\n",
       "      <td>100000000</td>\n",
       "      <td>[Steven Spielberg]</td>\n",
       "      <td>Warner Bros.</td>\n",
       "      <td>78616689</td>\n",
       "      <td>Sci-Fi</td>\n",
       "      <td>235926552</td>\n",
       "      <td>2</td>\n",
       "      <td>0</td>\n",
       "      <td>[Kathleen Kennedy, Steven Spielberg]</td>\n",
       "      <td>PG-13</td>\n",
       "      <td>145</td>\n",
       "      <td>3242</td>\n",
       "      <td>ai.htm</td>\n",
       "      <td>None</td>\n",
       "    </tr>\n",
       "    <tr>\n",
       "      <th>3</th>\n",
       "      <td>Aaja Nachle</td>\n",
       "      <td>2007-11-30</td>\n",
       "      <td>2007-12-20</td>\n",
       "      <td>None</td>\n",
       "      <td>NaN</td>\n",
       "      <td>None</td>\n",
       "      <td>Yash Raj</td>\n",
       "      <td>484108</td>\n",
       "      <td>Foreign</td>\n",
       "      <td>6773493</td>\n",
       "      <td>0</td>\n",
       "      <td>0</td>\n",
       "      <td>None</td>\n",
       "      <td>Unrated</td>\n",
       "      <td>145</td>\n",
       "      <td>66</td>\n",
       "      <td>aajanachle.htm</td>\n",
       "      <td>None</td>\n",
       "    </tr>\n",
       "    <tr>\n",
       "      <th>4</th>\n",
       "      <td>Aarakshan</td>\n",
       "      <td>2011-08-12</td>\n",
       "      <td>2011-09-22</td>\n",
       "      <td>None</td>\n",
       "      <td>NaN</td>\n",
       "      <td>None</td>\n",
       "      <td>Reliance Big Pictures</td>\n",
       "      <td>651096</td>\n",
       "      <td>Foreign</td>\n",
       "      <td>651096</td>\n",
       "      <td>0</td>\n",
       "      <td>0</td>\n",
       "      <td>None</td>\n",
       "      <td>Unrated</td>\n",
       "      <td>NaN</td>\n",
       "      <td>91</td>\n",
       "      <td>aarakshan.htm</td>\n",
       "      <td>None</td>\n",
       "    </tr>\n",
       "  </tbody>\n",
       "</table>\n",
       "</div>"
      ],
      "text/plain": [
       "                        1-title 2-release_date 3-closing_date  \\\n",
       "0                    The A-Team     2010-06-11     2010-09-16   \n",
       "1                      A.C.O.D.     2013-10-04     2013-11-07   \n",
       "2  A.I. Artificial Intelligence     2001-06-29            NaT   \n",
       "3                   Aaja Nachle     2007-11-30     2007-12-20   \n",
       "4                     Aarakshan     2011-08-12     2011-09-22   \n",
       "\n",
       "                                              actors     budget  \\\n",
       "0  [Liam Neeson, Bradley Cooper, Sharlto Copley, ...  110000000   \n",
       "1  [Adam Scott, Catherine O'Hara, Richard Jenkins...        NaN   \n",
       "2  [Haley Joel Osment, Frances O'Connor, Jude Law...  100000000   \n",
       "3                                               None        NaN   \n",
       "4                                               None        NaN   \n",
       "\n",
       "             director            distributor  dom_total_gross    genre  \\\n",
       "0      [Joe Carnahan]                    Fox         77222099   Action   \n",
       "1                None        The Film Arcade           175705   Comedy   \n",
       "2  [Steven Spielberg]           Warner Bros.         78616689   Sci-Fi   \n",
       "3                None               Yash Raj           484108  Foreign   \n",
       "4                None  Reliance Big Pictures           651096  Foreign   \n",
       "\n",
       "   intl_total_gross  oscar_noms  oscar_wins  \\\n",
       "0         177238796           0           0   \n",
       "1               NaN           0           0   \n",
       "2         235926552           2           0   \n",
       "3           6773493           0           0   \n",
       "4            651096           0           0   \n",
       "\n",
       "                                producers   rating  runtime_(mins)  theaters  \\\n",
       "0  [Ridley Scott, Tony Scott, Alex Young]    PG-13             117      3544   \n",
       "1                      [Teddy Schwarzman]    PG-13              88        42   \n",
       "2    [Kathleen Kennedy, Steven Spielberg]    PG-13             145      3242   \n",
       "3                                    None  Unrated             145        66   \n",
       "4                                    None  Unrated             NaN        91   \n",
       "\n",
       "              url       writers  \n",
       "0       ateam.htm  [Skip Woods]  \n",
       "1        acod.htm          None  \n",
       "2          ai.htm          None  \n",
       "3  aajanachle.htm          None  \n",
       "4   aarakshan.htm          None  "
      ]
     },
     "execution_count": 47,
     "metadata": {},
     "output_type": "execute_result"
    }
   ],
   "source": [
    "all_movies.head()"
   ]
  },
  {
   "cell_type": "code",
   "execution_count": 52,
   "metadata": {
    "collapsed": false
   },
   "outputs": [
    {
     "data": {
      "text/html": [
       "<div>\n",
       "<table border=\"1\" class=\"dataframe\">\n",
       "  <thead>\n",
       "    <tr style=\"text-align: right;\">\n",
       "      <th></th>\n",
       "      <th>budget</th>\n",
       "      <th>dom_total_gross</th>\n",
       "      <th>intl_total_gross</th>\n",
       "      <th>oscar_noms</th>\n",
       "      <th>oscar_wins</th>\n",
       "      <th>runtime_(mins)</th>\n",
       "      <th>theaters</th>\n",
       "    </tr>\n",
       "  </thead>\n",
       "  <tbody>\n",
       "    <tr>\n",
       "      <th>count</th>\n",
       "      <td>2.874000e+03</td>\n",
       "      <td>1.406300e+04</td>\n",
       "      <td>6.476000e+03</td>\n",
       "      <td>16100.000000</td>\n",
       "      <td>16100.000000</td>\n",
       "      <td>15163.000000</td>\n",
       "      <td>13009.000000</td>\n",
       "    </tr>\n",
       "    <tr>\n",
       "      <th>mean</th>\n",
       "      <td>4.396819e+07</td>\n",
       "      <td>1.800154e+07</td>\n",
       "      <td>7.071239e+07</td>\n",
       "      <td>0.196646</td>\n",
       "      <td>0.043106</td>\n",
       "      <td>104.045242</td>\n",
       "      <td>783.702052</td>\n",
       "    </tr>\n",
       "    <tr>\n",
       "      <th>std</th>\n",
       "      <td>4.360149e+07</td>\n",
       "      <td>4.289784e+07</td>\n",
       "      <td>1.500811e+08</td>\n",
       "      <td>0.898730</td>\n",
       "      <td>0.362035</td>\n",
       "      <td>22.042827</td>\n",
       "      <td>1102.616644</td>\n",
       "    </tr>\n",
       "    <tr>\n",
       "      <th>min</th>\n",
       "      <td>1.100000e+06</td>\n",
       "      <td>3.000000e+01</td>\n",
       "      <td>1.000000e+00</td>\n",
       "      <td>0.000000</td>\n",
       "      <td>0.000000</td>\n",
       "      <td>35.000000</td>\n",
       "      <td>1.000000</td>\n",
       "    </tr>\n",
       "    <tr>\n",
       "      <th>25%</th>\n",
       "      <td>1.400000e+07</td>\n",
       "      <td>6.902100e+04</td>\n",
       "      <td>9.030020e+05</td>\n",
       "      <td>0.000000</td>\n",
       "      <td>0.000000</td>\n",
       "      <td>91.000000</td>\n",
       "      <td>7.000000</td>\n",
       "    </tr>\n",
       "    <tr>\n",
       "      <th>50%</th>\n",
       "      <td>3.000000e+07</td>\n",
       "      <td>1.110522e+06</td>\n",
       "      <td>1.259295e+07</td>\n",
       "      <td>0.000000</td>\n",
       "      <td>0.000000</td>\n",
       "      <td>100.000000</td>\n",
       "      <td>74.000000</td>\n",
       "    </tr>\n",
       "    <tr>\n",
       "      <th>75%</th>\n",
       "      <td>6.000000e+07</td>\n",
       "      <td>1.629691e+07</td>\n",
       "      <td>7.383256e+07</td>\n",
       "      <td>0.000000</td>\n",
       "      <td>0.000000</td>\n",
       "      <td>112.000000</td>\n",
       "      <td>1395.000000</td>\n",
       "    </tr>\n",
       "    <tr>\n",
       "      <th>max</th>\n",
       "      <td>3.000000e+08</td>\n",
       "      <td>8.631482e+08</td>\n",
       "      <td>2.787965e+09</td>\n",
       "      <td>10.000000</td>\n",
       "      <td>9.000000</td>\n",
       "      <td>729.000000</td>\n",
       "      <td>4468.000000</td>\n",
       "    </tr>\n",
       "  </tbody>\n",
       "</table>\n",
       "</div>"
      ],
      "text/plain": [
       "             budget  dom_total_gross  intl_total_gross    oscar_noms  \\\n",
       "count  2.874000e+03     1.406300e+04      6.476000e+03  16100.000000   \n",
       "mean   4.396819e+07     1.800154e+07      7.071239e+07      0.196646   \n",
       "std    4.360149e+07     4.289784e+07      1.500811e+08      0.898730   \n",
       "min    1.100000e+06     3.000000e+01      1.000000e+00      0.000000   \n",
       "25%    1.400000e+07     6.902100e+04      9.030020e+05      0.000000   \n",
       "50%    3.000000e+07     1.110522e+06      1.259295e+07      0.000000   \n",
       "75%    6.000000e+07     1.629691e+07      7.383256e+07      0.000000   \n",
       "max    3.000000e+08     8.631482e+08      2.787965e+09     10.000000   \n",
       "\n",
       "         oscar_wins  runtime_(mins)      theaters  \n",
       "count  16100.000000    15163.000000  13009.000000  \n",
       "mean       0.043106      104.045242    783.702052  \n",
       "std        0.362035       22.042827   1102.616644  \n",
       "min        0.000000       35.000000      1.000000  \n",
       "25%        0.000000       91.000000      7.000000  \n",
       "50%        0.000000      100.000000     74.000000  \n",
       "75%        0.000000      112.000000   1395.000000  \n",
       "max        9.000000      729.000000   4468.000000  "
      ]
     },
     "execution_count": 52,
     "metadata": {},
     "output_type": "execute_result"
    }
   ],
   "source": [
    "all_movies.describe()"
   ]
  },
  {
   "cell_type": "markdown",
   "metadata": {},
   "source": [
    "Since we're interested in budget data, let's check to see how many movies of the 16,100 total movies have budget data."
   ]
  },
  {
   "cell_type": "code",
   "execution_count": 51,
   "metadata": {
    "collapsed": false
   },
   "outputs": [
    {
     "data": {
      "text/plain": [
       "2874"
      ]
     },
     "execution_count": 51,
     "metadata": {},
     "output_type": "execute_result"
    }
   ],
   "source": [
    "all_movies.budget.count()"
   ]
  },
  {
   "cell_type": "markdown",
   "metadata": {},
   "source": [
    "Only 2,874 out of 16,100 movies have budget data. That's only 17.9% of the entire dataset! Let's take a closer look at movies with budget data."
   ]
  },
  {
   "cell_type": "code",
   "execution_count": 59,
   "metadata": {
    "collapsed": false
   },
   "outputs": [
    {
     "name": "stderr",
     "output_type": "stream",
     "text": [
      "/anaconda/lib/python2.7/site-packages/ipykernel/__main__.py:5: SettingWithCopyWarning: \n",
      "A value is trying to be set on a copy of a slice from a DataFrame.\n",
      "Try using .loc[row_indexer,col_indexer] = value instead\n",
      "\n",
      "See the caveats in the documentation: http://pandas.pydata.org/pandas-docs/stable/indexing.html#indexing-view-versus-copy\n",
      "/anaconda/lib/python2.7/site-packages/ipykernel/__main__.py:6: SettingWithCopyWarning: \n",
      "A value is trying to be set on a copy of a slice from a DataFrame.\n",
      "Try using .loc[row_indexer,col_indexer] = value instead\n",
      "\n",
      "See the caveats in the documentation: http://pandas.pydata.org/pandas-docs/stable/indexing.html#indexing-view-versus-copy\n"
     ]
    }
   ],
   "source": [
    "# drop movies without budget data \n",
    "only_budget = all_movies[pd.notnull(all_movies['budget'])]\n",
    "\n",
    "# add some roi calculations\n",
    "only_budget['dom_roi'] = only_budget['dom_total_gross'] / only_budget['budget']\n",
    "only_budget['intl_roi'] = only_budget['intl_total_gross'] / only_budget['budget']"
   ]
  },
  {
   "cell_type": "markdown",
   "metadata": {},
   "source": [
    "Let's look at only low budget films, which we're defining as films under $10m and evaluate the quality of the data."
   ]
  },
  {
   "cell_type": "code",
   "execution_count": 58,
   "metadata": {
    "collapsed": false
   },
   "outputs": [
    {
     "data": {
      "text/plain": [
       "1-title             469\n",
       "2-release_date      463\n",
       "3-closing_date      285\n",
       "actors              335\n",
       "budget              469\n",
       "director            252\n",
       "distributor         469\n",
       "dom_total_gross     442\n",
       "genre               469\n",
       "intl_total_gross    263\n",
       "oscar_noms          469\n",
       "oscar_wins          469\n",
       "producers           192\n",
       "rating              469\n",
       "runtime_(mins)      464\n",
       "theaters            401\n",
       "url                 469\n",
       "writers             175\n",
       "dtype: int64"
      ]
     },
     "execution_count": 58,
     "metadata": {},
     "output_type": "execute_result"
    }
   ],
   "source": [
    "# get only low budget (<$10m) films\n",
    "low_budget = only_budget[only_budget['budget'] < 10000000]\n",
    "low_budget.count()"
   ]
  },
  {
   "cell_type": "markdown",
   "metadata": {},
   "source": [
    "Looks like there are 469 total movies in our low budget films dataset."
   ]
  },
  {
   "cell_type": "code",
   "execution_count": null,
   "metadata": {
    "collapsed": true
   },
   "outputs": [],
   "source": []
  }
 ],
 "metadata": {
  "kernelspec": {
   "display_name": "Python 2",
   "language": "python",
   "name": "python2"
  },
  "language_info": {
   "codemirror_mode": {
    "name": "ipython",
    "version": 2
   },
   "file_extension": ".py",
   "mimetype": "text/x-python",
   "name": "python",
   "nbconvert_exporter": "python",
   "pygments_lexer": "ipython2",
   "version": "2.7.11"
  }
 },
 "nbformat": 4,
 "nbformat_minor": 0
}
